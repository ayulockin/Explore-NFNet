{
  "nbformat": 4,
  "nbformat_minor": 0,
  "metadata": {
    "accelerator": "GPU",
    "colab": {
      "name": "Train Basline Without Gradient Clipping And LR=0.01",
      "provenance": [],
      "collapsed_sections": [],
      "toc_visible": true,
      "authorship_tag": "ABX9TyPDutldzVELDKdKdlAcsQVI",
      "include_colab_link": true
    },
    "kernelspec": {
      "display_name": "Python 3",
      "name": "python3"
    },
    "widgets": {
      "application/vnd.jupyter.widget-state+json": {
        "264cda4fdd9a4be5adc4296b3d607b36": {
          "model_module": "@jupyter-widgets/controls",
          "model_name": "HBoxModel",
          "state": {
            "_view_name": "HBoxView",
            "_dom_classes": [],
            "_model_name": "HBoxModel",
            "_view_module": "@jupyter-widgets/controls",
            "_model_module_version": "1.5.0",
            "_view_count": null,
            "_view_module_version": "1.5.0",
            "box_style": "",
            "layout": "IPY_MODEL_b8477bd504344465975ed1ef713ddbc3",
            "_model_module": "@jupyter-widgets/controls",
            "children": [
              "IPY_MODEL_f0ce0991fc204ed3af71011026ccc79b",
              "IPY_MODEL_d9be76706dbd4f3b9396888bbae478b8"
            ]
          }
        },
        "b8477bd504344465975ed1ef713ddbc3": {
          "model_module": "@jupyter-widgets/base",
          "model_name": "LayoutModel",
          "state": {
            "_view_name": "LayoutView",
            "grid_template_rows": null,
            "right": null,
            "justify_content": null,
            "_view_module": "@jupyter-widgets/base",
            "overflow": null,
            "_model_module_version": "1.2.0",
            "_view_count": null,
            "flex_flow": null,
            "width": null,
            "min_width": null,
            "border": null,
            "align_items": null,
            "bottom": null,
            "_model_module": "@jupyter-widgets/base",
            "top": null,
            "grid_column": null,
            "overflow_y": null,
            "overflow_x": null,
            "grid_auto_flow": null,
            "grid_area": null,
            "grid_template_columns": null,
            "flex": null,
            "_model_name": "LayoutModel",
            "justify_items": null,
            "grid_row": null,
            "max_height": null,
            "align_content": null,
            "visibility": null,
            "align_self": null,
            "height": null,
            "min_height": null,
            "padding": null,
            "grid_auto_rows": null,
            "grid_gap": null,
            "max_width": null,
            "order": null,
            "_view_module_version": "1.2.0",
            "grid_template_areas": null,
            "object_position": null,
            "object_fit": null,
            "grid_auto_columns": null,
            "margin": null,
            "display": null,
            "left": null
          }
        },
        "f0ce0991fc204ed3af71011026ccc79b": {
          "model_module": "@jupyter-widgets/controls",
          "model_name": "FloatProgressModel",
          "state": {
            "_view_name": "ProgressView",
            "style": "IPY_MODEL_ecdff47ce20c4ac2a2a77065adcbab65",
            "_dom_classes": [],
            "description": "Dl Completed...: 100%",
            "_model_name": "FloatProgressModel",
            "bar_style": "success",
            "max": 1,
            "_view_module": "@jupyter-widgets/controls",
            "_model_module_version": "1.5.0",
            "value": 1,
            "_view_count": null,
            "_view_module_version": "1.5.0",
            "orientation": "horizontal",
            "min": 0,
            "description_tooltip": null,
            "_model_module": "@jupyter-widgets/controls",
            "layout": "IPY_MODEL_fac6d6da46b24331b9a43d59322dee1c"
          }
        },
        "d9be76706dbd4f3b9396888bbae478b8": {
          "model_module": "@jupyter-widgets/controls",
          "model_name": "HTMLModel",
          "state": {
            "_view_name": "HTMLView",
            "style": "IPY_MODEL_6859988f6f4b45b18d08adb5b7ba4a5d",
            "_dom_classes": [],
            "description": "",
            "_model_name": "HTMLModel",
            "placeholder": "​",
            "_view_module": "@jupyter-widgets/controls",
            "_model_module_version": "1.5.0",
            "value": " 1/1 [00:06&lt;00:00,  6.08s/ url]",
            "_view_count": null,
            "_view_module_version": "1.5.0",
            "description_tooltip": null,
            "_model_module": "@jupyter-widgets/controls",
            "layout": "IPY_MODEL_40389d1c0a9c4ec88faf5242168373ad"
          }
        },
        "ecdff47ce20c4ac2a2a77065adcbab65": {
          "model_module": "@jupyter-widgets/controls",
          "model_name": "ProgressStyleModel",
          "state": {
            "_view_name": "StyleView",
            "_model_name": "ProgressStyleModel",
            "description_width": "initial",
            "_view_module": "@jupyter-widgets/base",
            "_model_module_version": "1.5.0",
            "_view_count": null,
            "_view_module_version": "1.2.0",
            "bar_color": null,
            "_model_module": "@jupyter-widgets/controls"
          }
        },
        "fac6d6da46b24331b9a43d59322dee1c": {
          "model_module": "@jupyter-widgets/base",
          "model_name": "LayoutModel",
          "state": {
            "_view_name": "LayoutView",
            "grid_template_rows": null,
            "right": null,
            "justify_content": null,
            "_view_module": "@jupyter-widgets/base",
            "overflow": null,
            "_model_module_version": "1.2.0",
            "_view_count": null,
            "flex_flow": null,
            "width": null,
            "min_width": null,
            "border": null,
            "align_items": null,
            "bottom": null,
            "_model_module": "@jupyter-widgets/base",
            "top": null,
            "grid_column": null,
            "overflow_y": null,
            "overflow_x": null,
            "grid_auto_flow": null,
            "grid_area": null,
            "grid_template_columns": null,
            "flex": null,
            "_model_name": "LayoutModel",
            "justify_items": null,
            "grid_row": null,
            "max_height": null,
            "align_content": null,
            "visibility": null,
            "align_self": null,
            "height": null,
            "min_height": null,
            "padding": null,
            "grid_auto_rows": null,
            "grid_gap": null,
            "max_width": null,
            "order": null,
            "_view_module_version": "1.2.0",
            "grid_template_areas": null,
            "object_position": null,
            "object_fit": null,
            "grid_auto_columns": null,
            "margin": null,
            "display": null,
            "left": null
          }
        },
        "6859988f6f4b45b18d08adb5b7ba4a5d": {
          "model_module": "@jupyter-widgets/controls",
          "model_name": "DescriptionStyleModel",
          "state": {
            "_view_name": "StyleView",
            "_model_name": "DescriptionStyleModel",
            "description_width": "",
            "_view_module": "@jupyter-widgets/base",
            "_model_module_version": "1.5.0",
            "_view_count": null,
            "_view_module_version": "1.2.0",
            "_model_module": "@jupyter-widgets/controls"
          }
        },
        "40389d1c0a9c4ec88faf5242168373ad": {
          "model_module": "@jupyter-widgets/base",
          "model_name": "LayoutModel",
          "state": {
            "_view_name": "LayoutView",
            "grid_template_rows": null,
            "right": null,
            "justify_content": null,
            "_view_module": "@jupyter-widgets/base",
            "overflow": null,
            "_model_module_version": "1.2.0",
            "_view_count": null,
            "flex_flow": null,
            "width": null,
            "min_width": null,
            "border": null,
            "align_items": null,
            "bottom": null,
            "_model_module": "@jupyter-widgets/base",
            "top": null,
            "grid_column": null,
            "overflow_y": null,
            "overflow_x": null,
            "grid_auto_flow": null,
            "grid_area": null,
            "grid_template_columns": null,
            "flex": null,
            "_model_name": "LayoutModel",
            "justify_items": null,
            "grid_row": null,
            "max_height": null,
            "align_content": null,
            "visibility": null,
            "align_self": null,
            "height": null,
            "min_height": null,
            "padding": null,
            "grid_auto_rows": null,
            "grid_gap": null,
            "max_width": null,
            "order": null,
            "_view_module_version": "1.2.0",
            "grid_template_areas": null,
            "object_position": null,
            "object_fit": null,
            "grid_auto_columns": null,
            "margin": null,
            "display": null,
            "left": null
          }
        },
        "d9aa0c87abd348faabfca5336f518e0d": {
          "model_module": "@jupyter-widgets/controls",
          "model_name": "HBoxModel",
          "state": {
            "_view_name": "HBoxView",
            "_dom_classes": [],
            "_model_name": "HBoxModel",
            "_view_module": "@jupyter-widgets/controls",
            "_model_module_version": "1.5.0",
            "_view_count": null,
            "_view_module_version": "1.5.0",
            "box_style": "",
            "layout": "IPY_MODEL_f46f6dbb0cee4bf4aca3ea736b5d61fe",
            "_model_module": "@jupyter-widgets/controls",
            "children": [
              "IPY_MODEL_2fdaba2ddd204124a5d5f5534933afb6",
              "IPY_MODEL_bf6b0657ef1040a7b04a2153a0309007"
            ]
          }
        },
        "f46f6dbb0cee4bf4aca3ea736b5d61fe": {
          "model_module": "@jupyter-widgets/base",
          "model_name": "LayoutModel",
          "state": {
            "_view_name": "LayoutView",
            "grid_template_rows": null,
            "right": null,
            "justify_content": null,
            "_view_module": "@jupyter-widgets/base",
            "overflow": null,
            "_model_module_version": "1.2.0",
            "_view_count": null,
            "flex_flow": null,
            "width": null,
            "min_width": null,
            "border": null,
            "align_items": null,
            "bottom": null,
            "_model_module": "@jupyter-widgets/base",
            "top": null,
            "grid_column": null,
            "overflow_y": null,
            "overflow_x": null,
            "grid_auto_flow": null,
            "grid_area": null,
            "grid_template_columns": null,
            "flex": null,
            "_model_name": "LayoutModel",
            "justify_items": null,
            "grid_row": null,
            "max_height": null,
            "align_content": null,
            "visibility": null,
            "align_self": null,
            "height": null,
            "min_height": null,
            "padding": null,
            "grid_auto_rows": null,
            "grid_gap": null,
            "max_width": null,
            "order": null,
            "_view_module_version": "1.2.0",
            "grid_template_areas": null,
            "object_position": null,
            "object_fit": null,
            "grid_auto_columns": null,
            "margin": null,
            "display": null,
            "left": null
          }
        },
        "2fdaba2ddd204124a5d5f5534933afb6": {
          "model_module": "@jupyter-widgets/controls",
          "model_name": "FloatProgressModel",
          "state": {
            "_view_name": "ProgressView",
            "style": "IPY_MODEL_dba7272815c4494db52ddbac641e636b",
            "_dom_classes": [],
            "description": "Dl Size...: 100%",
            "_model_name": "FloatProgressModel",
            "bar_style": "success",
            "max": 1,
            "_view_module": "@jupyter-widgets/controls",
            "_model_module_version": "1.5.0",
            "value": 1,
            "_view_count": null,
            "_view_module_version": "1.5.0",
            "orientation": "horizontal",
            "min": 0,
            "description_tooltip": null,
            "_model_module": "@jupyter-widgets/controls",
            "layout": "IPY_MODEL_565643f625b3421994091696b3fc365e"
          }
        },
        "bf6b0657ef1040a7b04a2153a0309007": {
          "model_module": "@jupyter-widgets/controls",
          "model_name": "HTMLModel",
          "state": {
            "_view_name": "HTMLView",
            "style": "IPY_MODEL_86ce9eb1080c4f4cb679916c686b705d",
            "_dom_classes": [],
            "description": "",
            "_model_name": "HTMLModel",
            "placeholder": "​",
            "_view_module": "@jupyter-widgets/controls",
            "_model_module_version": "1.5.0",
            "value": " 162/162 [00:06&lt;00:00, 26.79 MiB/s]",
            "_view_count": null,
            "_view_module_version": "1.5.0",
            "description_tooltip": null,
            "_model_module": "@jupyter-widgets/controls",
            "layout": "IPY_MODEL_18e56210d2bb47bf84f1e9784058569f"
          }
        },
        "dba7272815c4494db52ddbac641e636b": {
          "model_module": "@jupyter-widgets/controls",
          "model_name": "ProgressStyleModel",
          "state": {
            "_view_name": "StyleView",
            "_model_name": "ProgressStyleModel",
            "description_width": "initial",
            "_view_module": "@jupyter-widgets/base",
            "_model_module_version": "1.5.0",
            "_view_count": null,
            "_view_module_version": "1.2.0",
            "bar_color": null,
            "_model_module": "@jupyter-widgets/controls"
          }
        },
        "565643f625b3421994091696b3fc365e": {
          "model_module": "@jupyter-widgets/base",
          "model_name": "LayoutModel",
          "state": {
            "_view_name": "LayoutView",
            "grid_template_rows": null,
            "right": null,
            "justify_content": null,
            "_view_module": "@jupyter-widgets/base",
            "overflow": null,
            "_model_module_version": "1.2.0",
            "_view_count": null,
            "flex_flow": null,
            "width": null,
            "min_width": null,
            "border": null,
            "align_items": null,
            "bottom": null,
            "_model_module": "@jupyter-widgets/base",
            "top": null,
            "grid_column": null,
            "overflow_y": null,
            "overflow_x": null,
            "grid_auto_flow": null,
            "grid_area": null,
            "grid_template_columns": null,
            "flex": null,
            "_model_name": "LayoutModel",
            "justify_items": null,
            "grid_row": null,
            "max_height": null,
            "align_content": null,
            "visibility": null,
            "align_self": null,
            "height": null,
            "min_height": null,
            "padding": null,
            "grid_auto_rows": null,
            "grid_gap": null,
            "max_width": null,
            "order": null,
            "_view_module_version": "1.2.0",
            "grid_template_areas": null,
            "object_position": null,
            "object_fit": null,
            "grid_auto_columns": null,
            "margin": null,
            "display": null,
            "left": null
          }
        },
        "86ce9eb1080c4f4cb679916c686b705d": {
          "model_module": "@jupyter-widgets/controls",
          "model_name": "DescriptionStyleModel",
          "state": {
            "_view_name": "StyleView",
            "_model_name": "DescriptionStyleModel",
            "description_width": "",
            "_view_module": "@jupyter-widgets/base",
            "_model_module_version": "1.5.0",
            "_view_count": null,
            "_view_module_version": "1.2.0",
            "_model_module": "@jupyter-widgets/controls"
          }
        },
        "18e56210d2bb47bf84f1e9784058569f": {
          "model_module": "@jupyter-widgets/base",
          "model_name": "LayoutModel",
          "state": {
            "_view_name": "LayoutView",
            "grid_template_rows": null,
            "right": null,
            "justify_content": null,
            "_view_module": "@jupyter-widgets/base",
            "overflow": null,
            "_model_module_version": "1.2.0",
            "_view_count": null,
            "flex_flow": null,
            "width": null,
            "min_width": null,
            "border": null,
            "align_items": null,
            "bottom": null,
            "_model_module": "@jupyter-widgets/base",
            "top": null,
            "grid_column": null,
            "overflow_y": null,
            "overflow_x": null,
            "grid_auto_flow": null,
            "grid_area": null,
            "grid_template_columns": null,
            "flex": null,
            "_model_name": "LayoutModel",
            "justify_items": null,
            "grid_row": null,
            "max_height": null,
            "align_content": null,
            "visibility": null,
            "align_self": null,
            "height": null,
            "min_height": null,
            "padding": null,
            "grid_auto_rows": null,
            "grid_gap": null,
            "max_width": null,
            "order": null,
            "_view_module_version": "1.2.0",
            "grid_template_areas": null,
            "object_position": null,
            "object_fit": null,
            "grid_auto_columns": null,
            "margin": null,
            "display": null,
            "left": null
          }
        },
        "559c92135420404d8dc3ad2ee25dcb79": {
          "model_module": "@jupyter-widgets/controls",
          "model_name": "HBoxModel",
          "state": {
            "_view_name": "HBoxView",
            "_dom_classes": [],
            "_model_name": "HBoxModel",
            "_view_module": "@jupyter-widgets/controls",
            "_model_module_version": "1.5.0",
            "_view_count": null,
            "_view_module_version": "1.5.0",
            "box_style": "",
            "layout": "IPY_MODEL_75c13d63a5ab4814a88e25cc51f7d483",
            "_model_module": "@jupyter-widgets/controls",
            "children": [
              "IPY_MODEL_a374ebbd19114667b43d5a8bf7b9e2ac",
              "IPY_MODEL_90c0f6de9334459187786ae41231a951"
            ]
          }
        },
        "75c13d63a5ab4814a88e25cc51f7d483": {
          "model_module": "@jupyter-widgets/base",
          "model_name": "LayoutModel",
          "state": {
            "_view_name": "LayoutView",
            "grid_template_rows": null,
            "right": null,
            "justify_content": null,
            "_view_module": "@jupyter-widgets/base",
            "overflow": null,
            "_model_module_version": "1.2.0",
            "_view_count": null,
            "flex_flow": null,
            "width": null,
            "min_width": null,
            "border": null,
            "align_items": null,
            "bottom": null,
            "_model_module": "@jupyter-widgets/base",
            "top": null,
            "grid_column": null,
            "overflow_y": null,
            "overflow_x": null,
            "grid_auto_flow": null,
            "grid_area": null,
            "grid_template_columns": null,
            "flex": null,
            "_model_name": "LayoutModel",
            "justify_items": null,
            "grid_row": null,
            "max_height": null,
            "align_content": null,
            "visibility": null,
            "align_self": null,
            "height": null,
            "min_height": null,
            "padding": null,
            "grid_auto_rows": null,
            "grid_gap": null,
            "max_width": null,
            "order": null,
            "_view_module_version": "1.2.0",
            "grid_template_areas": null,
            "object_position": null,
            "object_fit": null,
            "grid_auto_columns": null,
            "margin": null,
            "display": null,
            "left": null
          }
        },
        "a374ebbd19114667b43d5a8bf7b9e2ac": {
          "model_module": "@jupyter-widgets/controls",
          "model_name": "FloatProgressModel",
          "state": {
            "_view_name": "ProgressView",
            "style": "IPY_MODEL_53e14f53132c4537be3b71e473972af3",
            "_dom_classes": [],
            "description": "Extraction completed...: 100%",
            "_model_name": "FloatProgressModel",
            "bar_style": "success",
            "max": 1,
            "_view_module": "@jupyter-widgets/controls",
            "_model_module_version": "1.5.0",
            "value": 1,
            "_view_count": null,
            "_view_module_version": "1.5.0",
            "orientation": "horizontal",
            "min": 0,
            "description_tooltip": null,
            "_model_module": "@jupyter-widgets/controls",
            "layout": "IPY_MODEL_33e90669de044807814e69d2db8b08a9"
          }
        },
        "90c0f6de9334459187786ae41231a951": {
          "model_module": "@jupyter-widgets/controls",
          "model_name": "HTMLModel",
          "state": {
            "_view_name": "HTMLView",
            "style": "IPY_MODEL_37535f5646e6421b8784e0703a9b64dd",
            "_dom_classes": [],
            "description": "",
            "_model_name": "HTMLModel",
            "placeholder": "​",
            "_view_module": "@jupyter-widgets/controls",
            "_model_module_version": "1.5.0",
            "value": " 1/1 [00:06&lt;00:00,  6.01s/ file]",
            "_view_count": null,
            "_view_module_version": "1.5.0",
            "description_tooltip": null,
            "_model_module": "@jupyter-widgets/controls",
            "layout": "IPY_MODEL_6a16fa3355ce44ff99ae5d145df0a92b"
          }
        },
        "53e14f53132c4537be3b71e473972af3": {
          "model_module": "@jupyter-widgets/controls",
          "model_name": "ProgressStyleModel",
          "state": {
            "_view_name": "StyleView",
            "_model_name": "ProgressStyleModel",
            "description_width": "initial",
            "_view_module": "@jupyter-widgets/base",
            "_model_module_version": "1.5.0",
            "_view_count": null,
            "_view_module_version": "1.2.0",
            "bar_color": null,
            "_model_module": "@jupyter-widgets/controls"
          }
        },
        "33e90669de044807814e69d2db8b08a9": {
          "model_module": "@jupyter-widgets/base",
          "model_name": "LayoutModel",
          "state": {
            "_view_name": "LayoutView",
            "grid_template_rows": null,
            "right": null,
            "justify_content": null,
            "_view_module": "@jupyter-widgets/base",
            "overflow": null,
            "_model_module_version": "1.2.0",
            "_view_count": null,
            "flex_flow": null,
            "width": null,
            "min_width": null,
            "border": null,
            "align_items": null,
            "bottom": null,
            "_model_module": "@jupyter-widgets/base",
            "top": null,
            "grid_column": null,
            "overflow_y": null,
            "overflow_x": null,
            "grid_auto_flow": null,
            "grid_area": null,
            "grid_template_columns": null,
            "flex": null,
            "_model_name": "LayoutModel",
            "justify_items": null,
            "grid_row": null,
            "max_height": null,
            "align_content": null,
            "visibility": null,
            "align_self": null,
            "height": null,
            "min_height": null,
            "padding": null,
            "grid_auto_rows": null,
            "grid_gap": null,
            "max_width": null,
            "order": null,
            "_view_module_version": "1.2.0",
            "grid_template_areas": null,
            "object_position": null,
            "object_fit": null,
            "grid_auto_columns": null,
            "margin": null,
            "display": null,
            "left": null
          }
        },
        "37535f5646e6421b8784e0703a9b64dd": {
          "model_module": "@jupyter-widgets/controls",
          "model_name": "DescriptionStyleModel",
          "state": {
            "_view_name": "StyleView",
            "_model_name": "DescriptionStyleModel",
            "description_width": "",
            "_view_module": "@jupyter-widgets/base",
            "_model_module_version": "1.5.0",
            "_view_count": null,
            "_view_module_version": "1.2.0",
            "_model_module": "@jupyter-widgets/controls"
          }
        },
        "6a16fa3355ce44ff99ae5d145df0a92b": {
          "model_module": "@jupyter-widgets/base",
          "model_name": "LayoutModel",
          "state": {
            "_view_name": "LayoutView",
            "grid_template_rows": null,
            "right": null,
            "justify_content": null,
            "_view_module": "@jupyter-widgets/base",
            "overflow": null,
            "_model_module_version": "1.2.0",
            "_view_count": null,
            "flex_flow": null,
            "width": null,
            "min_width": null,
            "border": null,
            "align_items": null,
            "bottom": null,
            "_model_module": "@jupyter-widgets/base",
            "top": null,
            "grid_column": null,
            "overflow_y": null,
            "overflow_x": null,
            "grid_auto_flow": null,
            "grid_area": null,
            "grid_template_columns": null,
            "flex": null,
            "_model_name": "LayoutModel",
            "justify_items": null,
            "grid_row": null,
            "max_height": null,
            "align_content": null,
            "visibility": null,
            "align_self": null,
            "height": null,
            "min_height": null,
            "padding": null,
            "grid_auto_rows": null,
            "grid_gap": null,
            "max_width": null,
            "order": null,
            "_view_module_version": "1.2.0",
            "grid_template_areas": null,
            "object_position": null,
            "object_fit": null,
            "grid_auto_columns": null,
            "margin": null,
            "display": null,
            "left": null
          }
        },
        "4f274618c50c4519816459462ef6f9fa": {
          "model_module": "@jupyter-widgets/controls",
          "model_name": "HBoxModel",
          "state": {
            "_view_name": "HBoxView",
            "_dom_classes": [],
            "_model_name": "HBoxModel",
            "_view_module": "@jupyter-widgets/controls",
            "_model_module_version": "1.5.0",
            "_view_count": null,
            "_view_module_version": "1.5.0",
            "box_style": "",
            "layout": "IPY_MODEL_8da4899ea58d40a99ed3fe459994ac22",
            "_model_module": "@jupyter-widgets/controls",
            "children": [
              "IPY_MODEL_2c3f347764a14801bba81899bc319bbc",
              "IPY_MODEL_554074b0f7194a26b3a7886295eec4f5"
            ]
          }
        },
        "8da4899ea58d40a99ed3fe459994ac22": {
          "model_module": "@jupyter-widgets/base",
          "model_name": "LayoutModel",
          "state": {
            "_view_name": "LayoutView",
            "grid_template_rows": null,
            "right": null,
            "justify_content": null,
            "_view_module": "@jupyter-widgets/base",
            "overflow": null,
            "_model_module_version": "1.2.0",
            "_view_count": null,
            "flex_flow": null,
            "width": null,
            "min_width": null,
            "border": null,
            "align_items": null,
            "bottom": null,
            "_model_module": "@jupyter-widgets/base",
            "top": null,
            "grid_column": null,
            "overflow_y": null,
            "overflow_x": null,
            "grid_auto_flow": null,
            "grid_area": null,
            "grid_template_columns": null,
            "flex": null,
            "_model_name": "LayoutModel",
            "justify_items": null,
            "grid_row": null,
            "max_height": null,
            "align_content": null,
            "visibility": null,
            "align_self": null,
            "height": null,
            "min_height": null,
            "padding": null,
            "grid_auto_rows": null,
            "grid_gap": null,
            "max_width": null,
            "order": null,
            "_view_module_version": "1.2.0",
            "grid_template_areas": null,
            "object_position": null,
            "object_fit": null,
            "grid_auto_columns": null,
            "margin": null,
            "display": null,
            "left": null
          }
        },
        "2c3f347764a14801bba81899bc319bbc": {
          "model_module": "@jupyter-widgets/controls",
          "model_name": "FloatProgressModel",
          "state": {
            "_view_name": "ProgressView",
            "style": "IPY_MODEL_f78836f32d6d42ea873b17e7e76b68db",
            "_dom_classes": [],
            "description": "",
            "_model_name": "FloatProgressModel",
            "bar_style": "info",
            "max": 1,
            "_view_module": "@jupyter-widgets/controls",
            "_model_module_version": "1.5.0",
            "value": 1,
            "_view_count": null,
            "_view_module_version": "1.5.0",
            "orientation": "horizontal",
            "min": 0,
            "description_tooltip": null,
            "_model_module": "@jupyter-widgets/controls",
            "layout": "IPY_MODEL_dc34383137764216b13ed47a403379ac"
          }
        },
        "554074b0f7194a26b3a7886295eec4f5": {
          "model_module": "@jupyter-widgets/controls",
          "model_name": "HTMLModel",
          "state": {
            "_view_name": "HTMLView",
            "style": "IPY_MODEL_741e1d3db4da4e0c88bee0ef6d7b2e91",
            "_dom_classes": [],
            "description": "",
            "_model_name": "HTMLModel",
            "placeholder": "​",
            "_view_module": "@jupyter-widgets/controls",
            "_model_module_version": "1.5.0",
            "value": " 50000/0 [00:26&lt;00:00, 1913.35 examples/s]",
            "_view_count": null,
            "_view_module_version": "1.5.0",
            "description_tooltip": null,
            "_model_module": "@jupyter-widgets/controls",
            "layout": "IPY_MODEL_2b6b4601b77e4d93b0ee9400f593b9b3"
          }
        },
        "f78836f32d6d42ea873b17e7e76b68db": {
          "model_module": "@jupyter-widgets/controls",
          "model_name": "ProgressStyleModel",
          "state": {
            "_view_name": "StyleView",
            "_model_name": "ProgressStyleModel",
            "description_width": "initial",
            "_view_module": "@jupyter-widgets/base",
            "_model_module_version": "1.5.0",
            "_view_count": null,
            "_view_module_version": "1.2.0",
            "bar_color": null,
            "_model_module": "@jupyter-widgets/controls"
          }
        },
        "dc34383137764216b13ed47a403379ac": {
          "model_module": "@jupyter-widgets/base",
          "model_name": "LayoutModel",
          "state": {
            "_view_name": "LayoutView",
            "grid_template_rows": null,
            "right": null,
            "justify_content": null,
            "_view_module": "@jupyter-widgets/base",
            "overflow": null,
            "_model_module_version": "1.2.0",
            "_view_count": null,
            "flex_flow": null,
            "width": null,
            "min_width": null,
            "border": null,
            "align_items": null,
            "bottom": null,
            "_model_module": "@jupyter-widgets/base",
            "top": null,
            "grid_column": null,
            "overflow_y": null,
            "overflow_x": null,
            "grid_auto_flow": null,
            "grid_area": null,
            "grid_template_columns": null,
            "flex": null,
            "_model_name": "LayoutModel",
            "justify_items": null,
            "grid_row": null,
            "max_height": null,
            "align_content": null,
            "visibility": null,
            "align_self": null,
            "height": null,
            "min_height": null,
            "padding": null,
            "grid_auto_rows": null,
            "grid_gap": null,
            "max_width": null,
            "order": null,
            "_view_module_version": "1.2.0",
            "grid_template_areas": null,
            "object_position": null,
            "object_fit": null,
            "grid_auto_columns": null,
            "margin": null,
            "display": null,
            "left": null
          }
        },
        "741e1d3db4da4e0c88bee0ef6d7b2e91": {
          "model_module": "@jupyter-widgets/controls",
          "model_name": "DescriptionStyleModel",
          "state": {
            "_view_name": "StyleView",
            "_model_name": "DescriptionStyleModel",
            "description_width": "",
            "_view_module": "@jupyter-widgets/base",
            "_model_module_version": "1.5.0",
            "_view_count": null,
            "_view_module_version": "1.2.0",
            "_model_module": "@jupyter-widgets/controls"
          }
        },
        "2b6b4601b77e4d93b0ee9400f593b9b3": {
          "model_module": "@jupyter-widgets/base",
          "model_name": "LayoutModel",
          "state": {
            "_view_name": "LayoutView",
            "grid_template_rows": null,
            "right": null,
            "justify_content": null,
            "_view_module": "@jupyter-widgets/base",
            "overflow": null,
            "_model_module_version": "1.2.0",
            "_view_count": null,
            "flex_flow": null,
            "width": null,
            "min_width": null,
            "border": null,
            "align_items": null,
            "bottom": null,
            "_model_module": "@jupyter-widgets/base",
            "top": null,
            "grid_column": null,
            "overflow_y": null,
            "overflow_x": null,
            "grid_auto_flow": null,
            "grid_area": null,
            "grid_template_columns": null,
            "flex": null,
            "_model_name": "LayoutModel",
            "justify_items": null,
            "grid_row": null,
            "max_height": null,
            "align_content": null,
            "visibility": null,
            "align_self": null,
            "height": null,
            "min_height": null,
            "padding": null,
            "grid_auto_rows": null,
            "grid_gap": null,
            "max_width": null,
            "order": null,
            "_view_module_version": "1.2.0",
            "grid_template_areas": null,
            "object_position": null,
            "object_fit": null,
            "grid_auto_columns": null,
            "margin": null,
            "display": null,
            "left": null
          }
        },
        "e82aa15fc8d941d4bd57768e53be20aa": {
          "model_module": "@jupyter-widgets/controls",
          "model_name": "HBoxModel",
          "state": {
            "_view_name": "HBoxView",
            "_dom_classes": [],
            "_model_name": "HBoxModel",
            "_view_module": "@jupyter-widgets/controls",
            "_model_module_version": "1.5.0",
            "_view_count": null,
            "_view_module_version": "1.5.0",
            "box_style": "",
            "layout": "IPY_MODEL_3ccd8821514c4c5aa47a99aec9056bf6",
            "_model_module": "@jupyter-widgets/controls",
            "children": [
              "IPY_MODEL_d9b9d18290514b27b4f8dbefcb078530",
              "IPY_MODEL_4c7ab3e786924771bfb16d2715e84052"
            ]
          }
        },
        "3ccd8821514c4c5aa47a99aec9056bf6": {
          "model_module": "@jupyter-widgets/base",
          "model_name": "LayoutModel",
          "state": {
            "_view_name": "LayoutView",
            "grid_template_rows": null,
            "right": null,
            "justify_content": null,
            "_view_module": "@jupyter-widgets/base",
            "overflow": null,
            "_model_module_version": "1.2.0",
            "_view_count": null,
            "flex_flow": null,
            "width": null,
            "min_width": null,
            "border": null,
            "align_items": null,
            "bottom": null,
            "_model_module": "@jupyter-widgets/base",
            "top": null,
            "grid_column": null,
            "overflow_y": null,
            "overflow_x": null,
            "grid_auto_flow": null,
            "grid_area": null,
            "grid_template_columns": null,
            "flex": null,
            "_model_name": "LayoutModel",
            "justify_items": null,
            "grid_row": null,
            "max_height": null,
            "align_content": null,
            "visibility": null,
            "align_self": null,
            "height": null,
            "min_height": null,
            "padding": null,
            "grid_auto_rows": null,
            "grid_gap": null,
            "max_width": null,
            "order": null,
            "_view_module_version": "1.2.0",
            "grid_template_areas": null,
            "object_position": null,
            "object_fit": null,
            "grid_auto_columns": null,
            "margin": null,
            "display": null,
            "left": null
          }
        },
        "d9b9d18290514b27b4f8dbefcb078530": {
          "model_module": "@jupyter-widgets/controls",
          "model_name": "FloatProgressModel",
          "state": {
            "_view_name": "ProgressView",
            "style": "IPY_MODEL_a523aab306524a259dde39b7c0c35fb6",
            "_dom_classes": [],
            "description": " 57%",
            "_model_name": "FloatProgressModel",
            "bar_style": "danger",
            "max": 50000,
            "_view_module": "@jupyter-widgets/controls",
            "_model_module_version": "1.5.0",
            "value": 28526,
            "_view_count": null,
            "_view_module_version": "1.5.0",
            "orientation": "horizontal",
            "min": 0,
            "description_tooltip": null,
            "_model_module": "@jupyter-widgets/controls",
            "layout": "IPY_MODEL_b71b78ef963d4d7b913d5a90b615a5da"
          }
        },
        "4c7ab3e786924771bfb16d2715e84052": {
          "model_module": "@jupyter-widgets/controls",
          "model_name": "HTMLModel",
          "state": {
            "_view_name": "HTMLView",
            "style": "IPY_MODEL_301e0dd843fb4637a19ba5874f886a37",
            "_dom_classes": [],
            "description": "",
            "_model_name": "HTMLModel",
            "placeholder": "​",
            "_view_module": "@jupyter-widgets/controls",
            "_model_module_version": "1.5.0",
            "value": " 28526/50000 [00:00&lt;00:00, 92813.10 examples/s]",
            "_view_count": null,
            "_view_module_version": "1.5.0",
            "description_tooltip": null,
            "_model_module": "@jupyter-widgets/controls",
            "layout": "IPY_MODEL_34d9b49af6c040a1b6fd6afd399e2c7b"
          }
        },
        "a523aab306524a259dde39b7c0c35fb6": {
          "model_module": "@jupyter-widgets/controls",
          "model_name": "ProgressStyleModel",
          "state": {
            "_view_name": "StyleView",
            "_model_name": "ProgressStyleModel",
            "description_width": "initial",
            "_view_module": "@jupyter-widgets/base",
            "_model_module_version": "1.5.0",
            "_view_count": null,
            "_view_module_version": "1.2.0",
            "bar_color": null,
            "_model_module": "@jupyter-widgets/controls"
          }
        },
        "b71b78ef963d4d7b913d5a90b615a5da": {
          "model_module": "@jupyter-widgets/base",
          "model_name": "LayoutModel",
          "state": {
            "_view_name": "LayoutView",
            "grid_template_rows": null,
            "right": null,
            "justify_content": null,
            "_view_module": "@jupyter-widgets/base",
            "overflow": null,
            "_model_module_version": "1.2.0",
            "_view_count": null,
            "flex_flow": null,
            "width": null,
            "min_width": null,
            "border": null,
            "align_items": null,
            "bottom": null,
            "_model_module": "@jupyter-widgets/base",
            "top": null,
            "grid_column": null,
            "overflow_y": null,
            "overflow_x": null,
            "grid_auto_flow": null,
            "grid_area": null,
            "grid_template_columns": null,
            "flex": null,
            "_model_name": "LayoutModel",
            "justify_items": null,
            "grid_row": null,
            "max_height": null,
            "align_content": null,
            "visibility": null,
            "align_self": null,
            "height": null,
            "min_height": null,
            "padding": null,
            "grid_auto_rows": null,
            "grid_gap": null,
            "max_width": null,
            "order": null,
            "_view_module_version": "1.2.0",
            "grid_template_areas": null,
            "object_position": null,
            "object_fit": null,
            "grid_auto_columns": null,
            "margin": null,
            "display": null,
            "left": null
          }
        },
        "301e0dd843fb4637a19ba5874f886a37": {
          "model_module": "@jupyter-widgets/controls",
          "model_name": "DescriptionStyleModel",
          "state": {
            "_view_name": "StyleView",
            "_model_name": "DescriptionStyleModel",
            "description_width": "",
            "_view_module": "@jupyter-widgets/base",
            "_model_module_version": "1.5.0",
            "_view_count": null,
            "_view_module_version": "1.2.0",
            "_model_module": "@jupyter-widgets/controls"
          }
        },
        "34d9b49af6c040a1b6fd6afd399e2c7b": {
          "model_module": "@jupyter-widgets/base",
          "model_name": "LayoutModel",
          "state": {
            "_view_name": "LayoutView",
            "grid_template_rows": null,
            "right": null,
            "justify_content": null,
            "_view_module": "@jupyter-widgets/base",
            "overflow": null,
            "_model_module_version": "1.2.0",
            "_view_count": null,
            "flex_flow": null,
            "width": null,
            "min_width": null,
            "border": null,
            "align_items": null,
            "bottom": null,
            "_model_module": "@jupyter-widgets/base",
            "top": null,
            "grid_column": null,
            "overflow_y": null,
            "overflow_x": null,
            "grid_auto_flow": null,
            "grid_area": null,
            "grid_template_columns": null,
            "flex": null,
            "_model_name": "LayoutModel",
            "justify_items": null,
            "grid_row": null,
            "max_height": null,
            "align_content": null,
            "visibility": null,
            "align_self": null,
            "height": null,
            "min_height": null,
            "padding": null,
            "grid_auto_rows": null,
            "grid_gap": null,
            "max_width": null,
            "order": null,
            "_view_module_version": "1.2.0",
            "grid_template_areas": null,
            "object_position": null,
            "object_fit": null,
            "grid_auto_columns": null,
            "margin": null,
            "display": null,
            "left": null
          }
        },
        "33690847fd824d4fb0f3fbd8a71da246": {
          "model_module": "@jupyter-widgets/controls",
          "model_name": "HBoxModel",
          "state": {
            "_view_name": "HBoxView",
            "_dom_classes": [],
            "_model_name": "HBoxModel",
            "_view_module": "@jupyter-widgets/controls",
            "_model_module_version": "1.5.0",
            "_view_count": null,
            "_view_module_version": "1.5.0",
            "box_style": "",
            "layout": "IPY_MODEL_08b3d3fe3e234e0f94db9acafe37be16",
            "_model_module": "@jupyter-widgets/controls",
            "children": [
              "IPY_MODEL_22ff1dd6f0bd48b18217366efd53f1d5",
              "IPY_MODEL_1659f0a5c642474e9e20332b645f0250"
            ]
          }
        },
        "08b3d3fe3e234e0f94db9acafe37be16": {
          "model_module": "@jupyter-widgets/base",
          "model_name": "LayoutModel",
          "state": {
            "_view_name": "LayoutView",
            "grid_template_rows": null,
            "right": null,
            "justify_content": null,
            "_view_module": "@jupyter-widgets/base",
            "overflow": null,
            "_model_module_version": "1.2.0",
            "_view_count": null,
            "flex_flow": null,
            "width": null,
            "min_width": null,
            "border": null,
            "align_items": null,
            "bottom": null,
            "_model_module": "@jupyter-widgets/base",
            "top": null,
            "grid_column": null,
            "overflow_y": null,
            "overflow_x": null,
            "grid_auto_flow": null,
            "grid_area": null,
            "grid_template_columns": null,
            "flex": null,
            "_model_name": "LayoutModel",
            "justify_items": null,
            "grid_row": null,
            "max_height": null,
            "align_content": null,
            "visibility": null,
            "align_self": null,
            "height": null,
            "min_height": null,
            "padding": null,
            "grid_auto_rows": null,
            "grid_gap": null,
            "max_width": null,
            "order": null,
            "_view_module_version": "1.2.0",
            "grid_template_areas": null,
            "object_position": null,
            "object_fit": null,
            "grid_auto_columns": null,
            "margin": null,
            "display": null,
            "left": null
          }
        },
        "22ff1dd6f0bd48b18217366efd53f1d5": {
          "model_module": "@jupyter-widgets/controls",
          "model_name": "FloatProgressModel",
          "state": {
            "_view_name": "ProgressView",
            "style": "IPY_MODEL_fc6c5564a8684ad686301dd2b500dad4",
            "_dom_classes": [],
            "description": "",
            "_model_name": "FloatProgressModel",
            "bar_style": "info",
            "max": 1,
            "_view_module": "@jupyter-widgets/controls",
            "_model_module_version": "1.5.0",
            "value": 1,
            "_view_count": null,
            "_view_module_version": "1.5.0",
            "orientation": "horizontal",
            "min": 0,
            "description_tooltip": null,
            "_model_module": "@jupyter-widgets/controls",
            "layout": "IPY_MODEL_ea2216ce6c6e416cb0398d6013aa2094"
          }
        },
        "1659f0a5c642474e9e20332b645f0250": {
          "model_module": "@jupyter-widgets/controls",
          "model_name": "HTMLModel",
          "state": {
            "_view_name": "HTMLView",
            "style": "IPY_MODEL_a41ff55c53c841e99646641b2d1341f0",
            "_dom_classes": [],
            "description": "",
            "_model_name": "HTMLModel",
            "placeholder": "​",
            "_view_module": "@jupyter-widgets/controls",
            "_model_module_version": "1.5.0",
            "value": " 10000/0 [00:05&lt;00:00, 1864.97 examples/s]",
            "_view_count": null,
            "_view_module_version": "1.5.0",
            "description_tooltip": null,
            "_model_module": "@jupyter-widgets/controls",
            "layout": "IPY_MODEL_28dd43693d97441993a086223844d551"
          }
        },
        "fc6c5564a8684ad686301dd2b500dad4": {
          "model_module": "@jupyter-widgets/controls",
          "model_name": "ProgressStyleModel",
          "state": {
            "_view_name": "StyleView",
            "_model_name": "ProgressStyleModel",
            "description_width": "initial",
            "_view_module": "@jupyter-widgets/base",
            "_model_module_version": "1.5.0",
            "_view_count": null,
            "_view_module_version": "1.2.0",
            "bar_color": null,
            "_model_module": "@jupyter-widgets/controls"
          }
        },
        "ea2216ce6c6e416cb0398d6013aa2094": {
          "model_module": "@jupyter-widgets/base",
          "model_name": "LayoutModel",
          "state": {
            "_view_name": "LayoutView",
            "grid_template_rows": null,
            "right": null,
            "justify_content": null,
            "_view_module": "@jupyter-widgets/base",
            "overflow": null,
            "_model_module_version": "1.2.0",
            "_view_count": null,
            "flex_flow": null,
            "width": null,
            "min_width": null,
            "border": null,
            "align_items": null,
            "bottom": null,
            "_model_module": "@jupyter-widgets/base",
            "top": null,
            "grid_column": null,
            "overflow_y": null,
            "overflow_x": null,
            "grid_auto_flow": null,
            "grid_area": null,
            "grid_template_columns": null,
            "flex": null,
            "_model_name": "LayoutModel",
            "justify_items": null,
            "grid_row": null,
            "max_height": null,
            "align_content": null,
            "visibility": null,
            "align_self": null,
            "height": null,
            "min_height": null,
            "padding": null,
            "grid_auto_rows": null,
            "grid_gap": null,
            "max_width": null,
            "order": null,
            "_view_module_version": "1.2.0",
            "grid_template_areas": null,
            "object_position": null,
            "object_fit": null,
            "grid_auto_columns": null,
            "margin": null,
            "display": null,
            "left": null
          }
        },
        "a41ff55c53c841e99646641b2d1341f0": {
          "model_module": "@jupyter-widgets/controls",
          "model_name": "DescriptionStyleModel",
          "state": {
            "_view_name": "StyleView",
            "_model_name": "DescriptionStyleModel",
            "description_width": "",
            "_view_module": "@jupyter-widgets/base",
            "_model_module_version": "1.5.0",
            "_view_count": null,
            "_view_module_version": "1.2.0",
            "_model_module": "@jupyter-widgets/controls"
          }
        },
        "28dd43693d97441993a086223844d551": {
          "model_module": "@jupyter-widgets/base",
          "model_name": "LayoutModel",
          "state": {
            "_view_name": "LayoutView",
            "grid_template_rows": null,
            "right": null,
            "justify_content": null,
            "_view_module": "@jupyter-widgets/base",
            "overflow": null,
            "_model_module_version": "1.2.0",
            "_view_count": null,
            "flex_flow": null,
            "width": null,
            "min_width": null,
            "border": null,
            "align_items": null,
            "bottom": null,
            "_model_module": "@jupyter-widgets/base",
            "top": null,
            "grid_column": null,
            "overflow_y": null,
            "overflow_x": null,
            "grid_auto_flow": null,
            "grid_area": null,
            "grid_template_columns": null,
            "flex": null,
            "_model_name": "LayoutModel",
            "justify_items": null,
            "grid_row": null,
            "max_height": null,
            "align_content": null,
            "visibility": null,
            "align_self": null,
            "height": null,
            "min_height": null,
            "padding": null,
            "grid_auto_rows": null,
            "grid_gap": null,
            "max_width": null,
            "order": null,
            "_view_module_version": "1.2.0",
            "grid_template_areas": null,
            "object_position": null,
            "object_fit": null,
            "grid_auto_columns": null,
            "margin": null,
            "display": null,
            "left": null
          }
        },
        "551ca39d2a694720b20dc15d6500fb83": {
          "model_module": "@jupyter-widgets/controls",
          "model_name": "HBoxModel",
          "state": {
            "_view_name": "HBoxView",
            "_dom_classes": [],
            "_model_name": "HBoxModel",
            "_view_module": "@jupyter-widgets/controls",
            "_model_module_version": "1.5.0",
            "_view_count": null,
            "_view_module_version": "1.5.0",
            "box_style": "",
            "layout": "IPY_MODEL_f94e9dc6321c472e9d8f278ca39904cf",
            "_model_module": "@jupyter-widgets/controls",
            "children": [
              "IPY_MODEL_ffac53d48b474ee59c639d37736c24c1",
              "IPY_MODEL_4808a06ac6684f0982671e12f349d352"
            ]
          }
        },
        "f94e9dc6321c472e9d8f278ca39904cf": {
          "model_module": "@jupyter-widgets/base",
          "model_name": "LayoutModel",
          "state": {
            "_view_name": "LayoutView",
            "grid_template_rows": null,
            "right": null,
            "justify_content": null,
            "_view_module": "@jupyter-widgets/base",
            "overflow": null,
            "_model_module_version": "1.2.0",
            "_view_count": null,
            "flex_flow": null,
            "width": null,
            "min_width": null,
            "border": null,
            "align_items": null,
            "bottom": null,
            "_model_module": "@jupyter-widgets/base",
            "top": null,
            "grid_column": null,
            "overflow_y": null,
            "overflow_x": null,
            "grid_auto_flow": null,
            "grid_area": null,
            "grid_template_columns": null,
            "flex": null,
            "_model_name": "LayoutModel",
            "justify_items": null,
            "grid_row": null,
            "max_height": null,
            "align_content": null,
            "visibility": null,
            "align_self": null,
            "height": null,
            "min_height": null,
            "padding": null,
            "grid_auto_rows": null,
            "grid_gap": null,
            "max_width": null,
            "order": null,
            "_view_module_version": "1.2.0",
            "grid_template_areas": null,
            "object_position": null,
            "object_fit": null,
            "grid_auto_columns": null,
            "margin": null,
            "display": null,
            "left": null
          }
        },
        "ffac53d48b474ee59c639d37736c24c1": {
          "model_module": "@jupyter-widgets/controls",
          "model_name": "FloatProgressModel",
          "state": {
            "_view_name": "ProgressView",
            "style": "IPY_MODEL_191c8a9078ec4b9fbe21937975e2e659",
            "_dom_classes": [],
            "description": "  0%",
            "_model_name": "FloatProgressModel",
            "bar_style": "danger",
            "max": 10000,
            "_view_module": "@jupyter-widgets/controls",
            "_model_module_version": "1.5.0",
            "value": 0,
            "_view_count": null,
            "_view_module_version": "1.5.0",
            "orientation": "horizontal",
            "min": 0,
            "description_tooltip": null,
            "_model_module": "@jupyter-widgets/controls",
            "layout": "IPY_MODEL_5d64ececd40f4b4e94d774e2394c8617"
          }
        },
        "4808a06ac6684f0982671e12f349d352": {
          "model_module": "@jupyter-widgets/controls",
          "model_name": "HTMLModel",
          "state": {
            "_view_name": "HTMLView",
            "style": "IPY_MODEL_8c349d39d42843c7b29057a6760eb71f",
            "_dom_classes": [],
            "description": "",
            "_model_name": "HTMLModel",
            "placeholder": "​",
            "_view_module": "@jupyter-widgets/controls",
            "_model_module_version": "1.5.0",
            "value": " 0/10000 [00:00&lt;?, ? examples/s]",
            "_view_count": null,
            "_view_module_version": "1.5.0",
            "description_tooltip": null,
            "_model_module": "@jupyter-widgets/controls",
            "layout": "IPY_MODEL_dcafbddc48b441eea0888ec3da95fbc1"
          }
        },
        "191c8a9078ec4b9fbe21937975e2e659": {
          "model_module": "@jupyter-widgets/controls",
          "model_name": "ProgressStyleModel",
          "state": {
            "_view_name": "StyleView",
            "_model_name": "ProgressStyleModel",
            "description_width": "initial",
            "_view_module": "@jupyter-widgets/base",
            "_model_module_version": "1.5.0",
            "_view_count": null,
            "_view_module_version": "1.2.0",
            "bar_color": null,
            "_model_module": "@jupyter-widgets/controls"
          }
        },
        "5d64ececd40f4b4e94d774e2394c8617": {
          "model_module": "@jupyter-widgets/base",
          "model_name": "LayoutModel",
          "state": {
            "_view_name": "LayoutView",
            "grid_template_rows": null,
            "right": null,
            "justify_content": null,
            "_view_module": "@jupyter-widgets/base",
            "overflow": null,
            "_model_module_version": "1.2.0",
            "_view_count": null,
            "flex_flow": null,
            "width": null,
            "min_width": null,
            "border": null,
            "align_items": null,
            "bottom": null,
            "_model_module": "@jupyter-widgets/base",
            "top": null,
            "grid_column": null,
            "overflow_y": null,
            "overflow_x": null,
            "grid_auto_flow": null,
            "grid_area": null,
            "grid_template_columns": null,
            "flex": null,
            "_model_name": "LayoutModel",
            "justify_items": null,
            "grid_row": null,
            "max_height": null,
            "align_content": null,
            "visibility": null,
            "align_self": null,
            "height": null,
            "min_height": null,
            "padding": null,
            "grid_auto_rows": null,
            "grid_gap": null,
            "max_width": null,
            "order": null,
            "_view_module_version": "1.2.0",
            "grid_template_areas": null,
            "object_position": null,
            "object_fit": null,
            "grid_auto_columns": null,
            "margin": null,
            "display": null,
            "left": null
          }
        },
        "8c349d39d42843c7b29057a6760eb71f": {
          "model_module": "@jupyter-widgets/controls",
          "model_name": "DescriptionStyleModel",
          "state": {
            "_view_name": "StyleView",
            "_model_name": "DescriptionStyleModel",
            "description_width": "",
            "_view_module": "@jupyter-widgets/base",
            "_model_module_version": "1.5.0",
            "_view_count": null,
            "_view_module_version": "1.2.0",
            "_model_module": "@jupyter-widgets/controls"
          }
        },
        "dcafbddc48b441eea0888ec3da95fbc1": {
          "model_module": "@jupyter-widgets/base",
          "model_name": "LayoutModel",
          "state": {
            "_view_name": "LayoutView",
            "grid_template_rows": null,
            "right": null,
            "justify_content": null,
            "_view_module": "@jupyter-widgets/base",
            "overflow": null,
            "_model_module_version": "1.2.0",
            "_view_count": null,
            "flex_flow": null,
            "width": null,
            "min_width": null,
            "border": null,
            "align_items": null,
            "bottom": null,
            "_model_module": "@jupyter-widgets/base",
            "top": null,
            "grid_column": null,
            "overflow_y": null,
            "overflow_x": null,
            "grid_auto_flow": null,
            "grid_area": null,
            "grid_template_columns": null,
            "flex": null,
            "_model_name": "LayoutModel",
            "justify_items": null,
            "grid_row": null,
            "max_height": null,
            "align_content": null,
            "visibility": null,
            "align_self": null,
            "height": null,
            "min_height": null,
            "padding": null,
            "grid_auto_rows": null,
            "grid_gap": null,
            "max_width": null,
            "order": null,
            "_view_module_version": "1.2.0",
            "grid_template_areas": null,
            "object_position": null,
            "object_fit": null,
            "grid_auto_columns": null,
            "margin": null,
            "display": null,
            "left": null
          }
        },
        "5a31744785b947468ed3cbb492143607": {
          "model_module": "@jupyter-widgets/controls",
          "model_name": "VBoxModel",
          "state": {
            "_view_name": "VBoxView",
            "_dom_classes": [],
            "_model_name": "VBoxModel",
            "_view_module": "@jupyter-widgets/controls",
            "_model_module_version": "1.5.0",
            "_view_count": null,
            "_view_module_version": "1.5.0",
            "box_style": "",
            "layout": "IPY_MODEL_14df428a8323416ebf960bce4faa9a9f",
            "_model_module": "@jupyter-widgets/controls",
            "children": [
              "IPY_MODEL_83606418b57a4c26b711be3525ca2093",
              "IPY_MODEL_45c014d7c4944e2ab913614912a5b6ee"
            ]
          }
        },
        "14df428a8323416ebf960bce4faa9a9f": {
          "model_module": "@jupyter-widgets/base",
          "model_name": "LayoutModel",
          "state": {
            "_view_name": "LayoutView",
            "grid_template_rows": null,
            "right": null,
            "justify_content": null,
            "_view_module": "@jupyter-widgets/base",
            "overflow": null,
            "_model_module_version": "1.2.0",
            "_view_count": null,
            "flex_flow": null,
            "width": null,
            "min_width": null,
            "border": null,
            "align_items": null,
            "bottom": null,
            "_model_module": "@jupyter-widgets/base",
            "top": null,
            "grid_column": null,
            "overflow_y": null,
            "overflow_x": null,
            "grid_auto_flow": null,
            "grid_area": null,
            "grid_template_columns": null,
            "flex": null,
            "_model_name": "LayoutModel",
            "justify_items": null,
            "grid_row": null,
            "max_height": null,
            "align_content": null,
            "visibility": null,
            "align_self": null,
            "height": null,
            "min_height": null,
            "padding": null,
            "grid_auto_rows": null,
            "grid_gap": null,
            "max_width": null,
            "order": null,
            "_view_module_version": "1.2.0",
            "grid_template_areas": null,
            "object_position": null,
            "object_fit": null,
            "grid_auto_columns": null,
            "margin": null,
            "display": null,
            "left": null
          }
        },
        "83606418b57a4c26b711be3525ca2093": {
          "model_module": "@jupyter-widgets/controls",
          "model_name": "LabelModel",
          "state": {
            "_view_name": "LabelView",
            "style": "IPY_MODEL_3f0f973c8b3c479f9a876f115c3f34e0",
            "_dom_classes": [],
            "description": "",
            "_model_name": "LabelModel",
            "placeholder": "​",
            "_view_module": "@jupyter-widgets/controls",
            "_model_module_version": "1.5.0",
            "value": " 3.02MB of 3.02MB uploaded (0.00MB deduped)\r",
            "_view_count": null,
            "_view_module_version": "1.5.0",
            "description_tooltip": null,
            "_model_module": "@jupyter-widgets/controls",
            "layout": "IPY_MODEL_534d4d653ef6443e90e6b9fb8b3fc5bf"
          }
        },
        "45c014d7c4944e2ab913614912a5b6ee": {
          "model_module": "@jupyter-widgets/controls",
          "model_name": "FloatProgressModel",
          "state": {
            "_view_name": "ProgressView",
            "style": "IPY_MODEL_20b3e712347e436a994bcf300cccd2c4",
            "_dom_classes": [],
            "description": "",
            "_model_name": "FloatProgressModel",
            "bar_style": "",
            "max": 1,
            "_view_module": "@jupyter-widgets/controls",
            "_model_module_version": "1.5.0",
            "value": 1,
            "_view_count": null,
            "_view_module_version": "1.5.0",
            "orientation": "horizontal",
            "min": 0,
            "description_tooltip": null,
            "_model_module": "@jupyter-widgets/controls",
            "layout": "IPY_MODEL_a3e5e463f3a64262b4812480c35fe68d"
          }
        },
        "3f0f973c8b3c479f9a876f115c3f34e0": {
          "model_module": "@jupyter-widgets/controls",
          "model_name": "DescriptionStyleModel",
          "state": {
            "_view_name": "StyleView",
            "_model_name": "DescriptionStyleModel",
            "description_width": "",
            "_view_module": "@jupyter-widgets/base",
            "_model_module_version": "1.5.0",
            "_view_count": null,
            "_view_module_version": "1.2.0",
            "_model_module": "@jupyter-widgets/controls"
          }
        },
        "534d4d653ef6443e90e6b9fb8b3fc5bf": {
          "model_module": "@jupyter-widgets/base",
          "model_name": "LayoutModel",
          "state": {
            "_view_name": "LayoutView",
            "grid_template_rows": null,
            "right": null,
            "justify_content": null,
            "_view_module": "@jupyter-widgets/base",
            "overflow": null,
            "_model_module_version": "1.2.0",
            "_view_count": null,
            "flex_flow": null,
            "width": null,
            "min_width": null,
            "border": null,
            "align_items": null,
            "bottom": null,
            "_model_module": "@jupyter-widgets/base",
            "top": null,
            "grid_column": null,
            "overflow_y": null,
            "overflow_x": null,
            "grid_auto_flow": null,
            "grid_area": null,
            "grid_template_columns": null,
            "flex": null,
            "_model_name": "LayoutModel",
            "justify_items": null,
            "grid_row": null,
            "max_height": null,
            "align_content": null,
            "visibility": null,
            "align_self": null,
            "height": null,
            "min_height": null,
            "padding": null,
            "grid_auto_rows": null,
            "grid_gap": null,
            "max_width": null,
            "order": null,
            "_view_module_version": "1.2.0",
            "grid_template_areas": null,
            "object_position": null,
            "object_fit": null,
            "grid_auto_columns": null,
            "margin": null,
            "display": null,
            "left": null
          }
        },
        "20b3e712347e436a994bcf300cccd2c4": {
          "model_module": "@jupyter-widgets/controls",
          "model_name": "ProgressStyleModel",
          "state": {
            "_view_name": "StyleView",
            "_model_name": "ProgressStyleModel",
            "description_width": "",
            "_view_module": "@jupyter-widgets/base",
            "_model_module_version": "1.5.0",
            "_view_count": null,
            "_view_module_version": "1.2.0",
            "bar_color": null,
            "_model_module": "@jupyter-widgets/controls"
          }
        },
        "a3e5e463f3a64262b4812480c35fe68d": {
          "model_module": "@jupyter-widgets/base",
          "model_name": "LayoutModel",
          "state": {
            "_view_name": "LayoutView",
            "grid_template_rows": null,
            "right": null,
            "justify_content": null,
            "_view_module": "@jupyter-widgets/base",
            "overflow": null,
            "_model_module_version": "1.2.0",
            "_view_count": null,
            "flex_flow": null,
            "width": null,
            "min_width": null,
            "border": null,
            "align_items": null,
            "bottom": null,
            "_model_module": "@jupyter-widgets/base",
            "top": null,
            "grid_column": null,
            "overflow_y": null,
            "overflow_x": null,
            "grid_auto_flow": null,
            "grid_area": null,
            "grid_template_columns": null,
            "flex": null,
            "_model_name": "LayoutModel",
            "justify_items": null,
            "grid_row": null,
            "max_height": null,
            "align_content": null,
            "visibility": null,
            "align_self": null,
            "height": null,
            "min_height": null,
            "padding": null,
            "grid_auto_rows": null,
            "grid_gap": null,
            "max_width": null,
            "order": null,
            "_view_module_version": "1.2.0",
            "grid_template_areas": null,
            "object_position": null,
            "object_fit": null,
            "grid_auto_columns": null,
            "margin": null,
            "display": null,
            "left": null
          }
        }
      }
    }
  },
  "cells": [
    {
      "cell_type": "markdown",
      "metadata": {
        "id": "view-in-github",
        "colab_type": "text"
      },
      "source": [
        "<a href=\"https://colab.research.google.com/github/ayulockin/Explore-NFNet/blob/main/Train_Basline_Without_Gradient_Clipping_And_LR%3D0_01.ipynb\" target=\"_parent\"><img src=\"https://colab.research.google.com/assets/colab-badge.svg\" alt=\"Open In Colab\"/></a>"
      ]
    },
    {
      "cell_type": "markdown",
      "metadata": {
        "id": "Z8i6DNHr94le"
      },
      "source": [
        "# 🧰 Setups, Installations and Imports"
      ]
    },
    {
      "cell_type": "code",
      "metadata": {
        "id": "gEoLE6VB9oWm"
      },
      "source": [
        "%%capture\r\n",
        "!pip install wandb --upgrade\r\n",
        "!pip install albumentations"
      ],
      "execution_count": null,
      "outputs": []
    },
    {
      "cell_type": "code",
      "metadata": {
        "colab": {
          "base_uri": "https://localhost:8080/"
        },
        "id": "xl9NB7qu-RGa",
        "outputId": "e148c07f-d0e4-4300-cda5-0189664db9fc"
      },
      "source": [
        "!git clone https://github.com/ayulockin/Explore-NFNet"
      ],
      "execution_count": null,
      "outputs": [
        {
          "output_type": "stream",
          "text": [
            "Cloning into 'Explore-NFNet'...\n",
            "remote: Enumerating objects: 51, done.\u001b[K\n",
            "remote: Counting objects: 100% (51/51), done.\u001b[K\n",
            "remote: Compressing objects: 100% (45/45), done.\u001b[K\n",
            "remote: Total 51 (delta 18), reused 16 (delta 4), pack-reused 0\u001b[K\n",
            "Unpacking objects: 100% (51/51), done.\n"
          ],
          "name": "stdout"
        }
      ]
    },
    {
      "cell_type": "code",
      "metadata": {
        "colab": {
          "base_uri": "https://localhost:8080/"
        },
        "id": "3L-K1KWP--ew",
        "outputId": "6cff414f-ab18-4615-80fc-e35ffc8b444a"
      },
      "source": [
        "import tensorflow as tf\r\n",
        "print(tf.__version__)\r\n",
        "\r\n",
        "import tensorflow_datasets as tfds\r\n",
        "\r\n",
        "import sys\r\n",
        "sys.path.append(\"Explore-NFNet\")\r\n",
        "import os\r\n",
        "import cv2\r\n",
        "import numpy as np\r\n",
        "from functools import partial\r\n",
        "import matplotlib.pyplot as plt\r\n",
        "\r\n",
        "# Imports from the cloned repository\r\n",
        "from models.resnet import resnet_v1 \r\n",
        "from models.mini_vgg import get_mini_vgg\r\n",
        "\r\n",
        "# Augmentation related imports\r\n",
        "import albumentations as A\r\n",
        "\r\n",
        "# Seed everything for reproducibility\r\n",
        "def seed_everything():\r\n",
        "    # Set the random seeds\r\n",
        "    os.environ['TF_CUDNN_DETERMINISTIC'] = '1' \r\n",
        "    np.random.seed(hash(\"improves reproducibility\") % 2**32 - 1)\r\n",
        "    tf.random.set_seed(hash(\"by removing stochasticity\") % 2**32 - 1)\r\n",
        "\r\n",
        "seed_everything()\r\n",
        "\r\n",
        "# Avoid TensorFlow to allocate all the GPU at once. \r\n",
        "# Ref: https://www.tensorflow.org/guide/gpu\r\n",
        "gpus = tf.config.experimental.list_physical_devices('GPU')\r\n",
        "if gpus:\r\n",
        "  try:\r\n",
        "    # Currently, memory growth needs to be the same across GPUs\r\n",
        "    for gpu in gpus:\r\n",
        "      tf.config.experimental.set_memory_growth(gpu, True)\r\n",
        "    logical_gpus = tf.config.experimental.list_logical_devices('GPU')\r\n",
        "    print(len(gpus), \"Physical GPUs,\", len(logical_gpus), \"Logical GPUs\")\r\n",
        "  except RuntimeError as e:\r\n",
        "    # Memory growth must be set before GPUs have been initialized\r\n",
        "    print(e)"
      ],
      "execution_count": null,
      "outputs": [
        {
          "output_type": "stream",
          "text": [
            "2.4.1\n",
            "1 Physical GPUs, 1 Logical GPUs\n"
          ],
          "name": "stdout"
        }
      ]
    },
    {
      "cell_type": "code",
      "metadata": {
        "colab": {
          "base_uri": "https://localhost:8080/",
          "height": 72
        },
        "id": "f4l3n2nUCTXZ",
        "outputId": "8c040b1f-8e4b-41d6-96aa-0b34444c5fb6"
      },
      "source": [
        "import wandb\r\n",
        "from wandb.keras import WandbCallback\r\n",
        "\r\n",
        "wandb.login()"
      ],
      "execution_count": null,
      "outputs": [
        {
          "output_type": "display_data",
          "data": {
            "application/javascript": [
              "\n",
              "        window._wandbApiKey = new Promise((resolve, reject) => {\n",
              "            function loadScript(url) {\n",
              "            return new Promise(function(resolve, reject) {\n",
              "                let newScript = document.createElement(\"script\");\n",
              "                newScript.onerror = reject;\n",
              "                newScript.onload = resolve;\n",
              "                document.body.appendChild(newScript);\n",
              "                newScript.src = url;\n",
              "            });\n",
              "            }\n",
              "            loadScript(\"https://cdn.jsdelivr.net/npm/postmate/build/postmate.min.js\").then(() => {\n",
              "            const iframe = document.createElement('iframe')\n",
              "            iframe.style.cssText = \"width:0;height:0;border:none\"\n",
              "            document.body.appendChild(iframe)\n",
              "            const handshake = new Postmate({\n",
              "                container: iframe,\n",
              "                url: 'https://wandb.ai/authorize'\n",
              "            });\n",
              "            const timeout = setTimeout(() => reject(\"Couldn't auto authenticate\"), 5000)\n",
              "            handshake.then(function(child) {\n",
              "                child.on('authorize', data => {\n",
              "                    clearTimeout(timeout)\n",
              "                    resolve(data)\n",
              "                });\n",
              "            });\n",
              "            })\n",
              "        });\n",
              "    "
            ],
            "text/plain": [
              "<IPython.core.display.Javascript object>"
            ]
          },
          "metadata": {
            "tags": []
          }
        },
        {
          "output_type": "stream",
          "text": [
            "\u001b[34m\u001b[1mwandb\u001b[0m: Appending key for api.wandb.ai to your netrc file: /root/.netrc\n"
          ],
          "name": "stderr"
        },
        {
          "output_type": "execute_result",
          "data": {
            "text/plain": [
              "True"
            ]
          },
          "metadata": {
            "tags": []
          },
          "execution_count": 4
        }
      ]
    },
    {
      "cell_type": "code",
      "metadata": {
        "colab": {
          "base_uri": "https://localhost:8080/"
        },
        "id": "pznR5VjyIcXa",
        "outputId": "b378fa0d-c12e-4fdf-bc1d-6e1bfb9bda40"
      },
      "source": [
        "DATASET_NAME = 'cifar10'\r\n",
        "IMG_HEIGHT = 32\r\n",
        "IMG_WIDTH = 32\r\n",
        "NUM_CLASSES = 10\r\n",
        "SHUFFLE_BUFFER = 1024\r\n",
        "BATCH_SIZE = 256\r\n",
        "EPOCHS = 100\r\n",
        "\r\n",
        "AUTOTUNE = tf.data.experimental.AUTOTUNE\r\n",
        "\r\n",
        "print(f'Global batch size is: {BATCH_SIZE}')"
      ],
      "execution_count": null,
      "outputs": [
        {
          "output_type": "stream",
          "text": [
            "Global batch size is: 256\n"
          ],
          "name": "stdout"
        }
      ]
    },
    {
      "cell_type": "markdown",
      "metadata": {
        "id": "O0hNZfPXDK6s"
      },
      "source": [
        "# ⛄ Download and Prepare Dataset"
      ]
    },
    {
      "cell_type": "code",
      "metadata": {
        "id": "PSxPal9ECQEO",
        "colab": {
          "base_uri": "https://localhost:8080/",
          "height": 384,
          "referenced_widgets": [
            "264cda4fdd9a4be5adc4296b3d607b36",
            "b8477bd504344465975ed1ef713ddbc3",
            "f0ce0991fc204ed3af71011026ccc79b",
            "d9be76706dbd4f3b9396888bbae478b8",
            "ecdff47ce20c4ac2a2a77065adcbab65",
            "fac6d6da46b24331b9a43d59322dee1c",
            "6859988f6f4b45b18d08adb5b7ba4a5d",
            "40389d1c0a9c4ec88faf5242168373ad",
            "d9aa0c87abd348faabfca5336f518e0d",
            "f46f6dbb0cee4bf4aca3ea736b5d61fe",
            "2fdaba2ddd204124a5d5f5534933afb6",
            "bf6b0657ef1040a7b04a2153a0309007",
            "dba7272815c4494db52ddbac641e636b",
            "565643f625b3421994091696b3fc365e",
            "86ce9eb1080c4f4cb679916c686b705d",
            "18e56210d2bb47bf84f1e9784058569f",
            "559c92135420404d8dc3ad2ee25dcb79",
            "75c13d63a5ab4814a88e25cc51f7d483",
            "a374ebbd19114667b43d5a8bf7b9e2ac",
            "90c0f6de9334459187786ae41231a951",
            "53e14f53132c4537be3b71e473972af3",
            "33e90669de044807814e69d2db8b08a9",
            "37535f5646e6421b8784e0703a9b64dd",
            "6a16fa3355ce44ff99ae5d145df0a92b",
            "4f274618c50c4519816459462ef6f9fa",
            "8da4899ea58d40a99ed3fe459994ac22",
            "2c3f347764a14801bba81899bc319bbc",
            "554074b0f7194a26b3a7886295eec4f5",
            "f78836f32d6d42ea873b17e7e76b68db",
            "dc34383137764216b13ed47a403379ac",
            "741e1d3db4da4e0c88bee0ef6d7b2e91",
            "2b6b4601b77e4d93b0ee9400f593b9b3",
            "e82aa15fc8d941d4bd57768e53be20aa",
            "3ccd8821514c4c5aa47a99aec9056bf6",
            "d9b9d18290514b27b4f8dbefcb078530",
            "4c7ab3e786924771bfb16d2715e84052",
            "a523aab306524a259dde39b7c0c35fb6",
            "b71b78ef963d4d7b913d5a90b615a5da",
            "301e0dd843fb4637a19ba5874f886a37",
            "34d9b49af6c040a1b6fd6afd399e2c7b",
            "33690847fd824d4fb0f3fbd8a71da246",
            "08b3d3fe3e234e0f94db9acafe37be16",
            "22ff1dd6f0bd48b18217366efd53f1d5",
            "1659f0a5c642474e9e20332b645f0250",
            "fc6c5564a8684ad686301dd2b500dad4",
            "ea2216ce6c6e416cb0398d6013aa2094",
            "a41ff55c53c841e99646641b2d1341f0",
            "28dd43693d97441993a086223844d551",
            "551ca39d2a694720b20dc15d6500fb83",
            "f94e9dc6321c472e9d8f278ca39904cf",
            "ffac53d48b474ee59c639d37736c24c1",
            "4808a06ac6684f0982671e12f349d352",
            "191c8a9078ec4b9fbe21937975e2e659",
            "5d64ececd40f4b4e94d774e2394c8617",
            "8c349d39d42843c7b29057a6760eb71f",
            "dcafbddc48b441eea0888ec3da95fbc1"
          ]
        },
        "outputId": "546ac49b-e41f-4722-ce0c-8509fe604355"
      },
      "source": [
        "(train_ds, val_ds, test_ds), info = tfds.load(name=DATASET_NAME, \r\n",
        "                          split=[\"train[:85%]\", \"train[85%:]\", \"test\"], \r\n",
        "                          with_info=True,\r\n",
        "                          as_supervised=True)"
      ],
      "execution_count": null,
      "outputs": [
        {
          "output_type": "stream",
          "text": [
            "\u001b[1mDownloading and preparing dataset cifar10/3.0.2 (download: 162.17 MiB, generated: 132.40 MiB, total: 294.58 MiB) to /root/tensorflow_datasets/cifar10/3.0.2...\u001b[0m\n"
          ],
          "name": "stdout"
        },
        {
          "output_type": "display_data",
          "data": {
            "application/vnd.jupyter.widget-view+json": {
              "model_id": "264cda4fdd9a4be5adc4296b3d607b36",
              "version_minor": 0,
              "version_major": 2
            },
            "text/plain": [
              "HBox(children=(FloatProgress(value=1.0, bar_style='info', description='Dl Completed...', max=1.0, style=Progre…"
            ]
          },
          "metadata": {
            "tags": []
          }
        },
        {
          "output_type": "display_data",
          "data": {
            "application/vnd.jupyter.widget-view+json": {
              "model_id": "d9aa0c87abd348faabfca5336f518e0d",
              "version_minor": 0,
              "version_major": 2
            },
            "text/plain": [
              "HBox(children=(FloatProgress(value=1.0, bar_style='info', description='Dl Size...', max=1.0, style=ProgressSty…"
            ]
          },
          "metadata": {
            "tags": []
          }
        },
        {
          "output_type": "display_data",
          "data": {
            "application/vnd.jupyter.widget-view+json": {
              "model_id": "559c92135420404d8dc3ad2ee25dcb79",
              "version_minor": 0,
              "version_major": 2
            },
            "text/plain": [
              "HBox(children=(FloatProgress(value=1.0, bar_style='info', description='Extraction completed...', max=1.0, styl…"
            ]
          },
          "metadata": {
            "tags": []
          }
        },
        {
          "output_type": "stream",
          "text": [
            "\n",
            "\n",
            "\n",
            "\n",
            "\n",
            "\n"
          ],
          "name": "stdout"
        },
        {
          "output_type": "display_data",
          "data": {
            "application/vnd.jupyter.widget-view+json": {
              "model_id": "4f274618c50c4519816459462ef6f9fa",
              "version_minor": 0,
              "version_major": 2
            },
            "text/plain": [
              "HBox(children=(FloatProgress(value=1.0, bar_style='info', max=1.0), HTML(value='')))"
            ]
          },
          "metadata": {
            "tags": []
          }
        },
        {
          "output_type": "stream",
          "text": [
            "\rShuffling and writing examples to /root/tensorflow_datasets/cifar10/3.0.2.incompleteH2K1CW/cifar10-train.tfrecord\n"
          ],
          "name": "stdout"
        },
        {
          "output_type": "display_data",
          "data": {
            "application/vnd.jupyter.widget-view+json": {
              "model_id": "e82aa15fc8d941d4bd57768e53be20aa",
              "version_minor": 0,
              "version_major": 2
            },
            "text/plain": [
              "HBox(children=(FloatProgress(value=0.0, max=50000.0), HTML(value='')))"
            ]
          },
          "metadata": {
            "tags": []
          }
        },
        {
          "output_type": "stream",
          "text": [
            "\r"
          ],
          "name": "stdout"
        },
        {
          "output_type": "display_data",
          "data": {
            "application/vnd.jupyter.widget-view+json": {
              "model_id": "33690847fd824d4fb0f3fbd8a71da246",
              "version_minor": 0,
              "version_major": 2
            },
            "text/plain": [
              "HBox(children=(FloatProgress(value=1.0, bar_style='info', max=1.0), HTML(value='')))"
            ]
          },
          "metadata": {
            "tags": []
          }
        },
        {
          "output_type": "stream",
          "text": [
            "\rShuffling and writing examples to /root/tensorflow_datasets/cifar10/3.0.2.incompleteH2K1CW/cifar10-test.tfrecord\n"
          ],
          "name": "stdout"
        },
        {
          "output_type": "display_data",
          "data": {
            "application/vnd.jupyter.widget-view+json": {
              "model_id": "551ca39d2a694720b20dc15d6500fb83",
              "version_minor": 0,
              "version_major": 2
            },
            "text/plain": [
              "HBox(children=(FloatProgress(value=0.0, max=10000.0), HTML(value='')))"
            ]
          },
          "metadata": {
            "tags": []
          }
        },
        {
          "output_type": "stream",
          "text": [
            "\u001b[1mDataset cifar10 downloaded and prepared to /root/tensorflow_datasets/cifar10/3.0.2. Subsequent calls will reuse this data.\u001b[0m\n",
            "\r"
          ],
          "name": "stdout"
        }
      ]
    },
    {
      "cell_type": "code",
      "metadata": {
        "id": "-9-yRafkGWIk"
      },
      "source": [
        "@tf.function\r\n",
        "def preprocess(image, label):\r\n",
        "    # preprocess image\r\n",
        "    image = tf.cast(image, tf.float32)\r\n",
        "    image = image/255.0\r\n",
        "\r\n",
        "    return image, label\r\n",
        "\r\n",
        "# Define the augmentation policies. Note that they are applied sequentially with some probability p.\r\n",
        "transforms = A.Compose([\r\n",
        "                A.HorizontalFlip(p=0.7),\r\n",
        "                A.Rotate(limit=30, p=0.7)\r\n",
        "        ])\r\n",
        "\r\n",
        "# Apply augmentation policies.\r\n",
        "def aug_fn(image):\r\n",
        "    data = {\"image\":image}\r\n",
        "    aug_data = transforms(**data)\r\n",
        "    aug_img = aug_data[\"image\"]\r\n",
        "\r\n",
        "    return aug_img\r\n",
        "\r\n",
        "@tf.function\r\n",
        "def apply_augmentation(image, label):\r\n",
        "    aug_img = tf.numpy_function(func=aug_fn, inp=[image], Tout=tf.float32)\r\n",
        "    aug_img.set_shape((IMG_HEIGHT, IMG_WIDTH, 3))\r\n",
        "    \r\n",
        "    return aug_img, label\r\n",
        "\r\n",
        "train_ds = (\r\n",
        "    train_ds\r\n",
        "    .shuffle(SHUFFLE_BUFFER)\r\n",
        "    .map(preprocess, num_parallel_calls=AUTOTUNE)\r\n",
        "    .map(apply_augmentation, num_parallel_calls=AUTOTUNE)\r\n",
        "    .batch(BATCH_SIZE)\r\n",
        "    .prefetch(AUTOTUNE)\r\n",
        ")\r\n",
        "\r\n",
        "val_ds = (\r\n",
        "    val_ds\r\n",
        "    .map(preprocess, num_parallel_calls=AUTOTUNE)\r\n",
        "    .batch(BATCH_SIZE)\r\n",
        "    .prefetch(AUTOTUNE)\r\n",
        ")\r\n",
        "\r\n",
        "test_ds = (\r\n",
        "    test_ds\r\n",
        "    .map(preprocess, num_parallel_calls=AUTOTUNE)\r\n",
        "    .batch(BATCH_SIZE)\r\n",
        "    .prefetch(AUTOTUNE)\r\n",
        ")"
      ],
      "execution_count": null,
      "outputs": []
    },
    {
      "cell_type": "code",
      "metadata": {
        "colab": {
          "base_uri": "https://localhost:8080/",
          "height": 610
        },
        "id": "uzWkS_AZGbdW",
        "outputId": "eb7df956-89cd-4f1b-cfa7-e035ad5a33e7"
      },
      "source": [
        "def show_batch(image_batch, label_batch):\r\n",
        "  plt.figure(figsize=(10,10))\r\n",
        "  for n in range(25):\r\n",
        "      ax = plt.subplot(5,5,n+1)\r\n",
        "      plt.imshow(image_batch[n])\r\n",
        "      # plt.title(f'{np.argmax(label_batch[n].numpy())}')\r\n",
        "      plt.title(f'{label_batch[n].numpy()}')\r\n",
        "      plt.axis('off')\r\n",
        "  \r\n",
        "image_batch, label_batch = next(iter(train_ds))\r\n",
        "show_batch(image_batch, label_batch)\r\n",
        "\r\n",
        "print(image_batch.shape, label_batch.shape)"
      ],
      "execution_count": null,
      "outputs": [
        {
          "output_type": "stream",
          "text": [
            "(256, 32, 32, 3) (256,)\n"
          ],
          "name": "stdout"
        },
        {
          "output_type": "display_data",
          "data": {
            "image/png": "[encoded data removed]",
            "text/plain": [
              "<Figure size 720x720 with 25 Axes>"
            ]
          },
          "metadata": {
            "tags": [],
            "needs_background": "light"
          }
        }
      ]
    },
    {
      "cell_type": "markdown",
      "metadata": {
        "id": "wcDd118WJpmf"
      },
      "source": [
        "# 🐤 Model"
      ]
    },
    {
      "cell_type": "code",
      "metadata": {
        "colab": {
          "base_uri": "https://localhost:8080/"
        },
        "id": "jmaYHGFYJMQU",
        "outputId": "c2ee17ea-6b85-4432-c5ca-c29c6b2ef653"
      },
      "source": [
        "class ResNetModel(tf.keras.Model):\r\n",
        "    def __init__(self, resnet):\r\n",
        "        super(ResNetModel, self).__init__()\r\n",
        "        self.resnet = resnet\r\n",
        "    \r\n",
        "    def train_step(self, data):\r\n",
        "        images, labels = data\r\n",
        "\r\n",
        "        with tf.GradientTape() as tape:\r\n",
        "            predictions = self.resnet(images)\r\n",
        "            loss = self.compiled_loss(labels, predictions)\r\n",
        "\r\n",
        "        trainable_params = self.resnet.trainable_variables\r\n",
        "        gradients = tape.gradient(loss, trainable_params)  \r\n",
        "        gradients_clipped =  [tf.clip_by_norm(g, 0.01) for g in gradients] # clippling threshold = 0.01\r\n",
        "\r\n",
        "        self.optimizer.apply_gradients(zip(gradients_clipped, trainable_params))\r\n",
        "\r\n",
        "        self.compiled_metrics.update_state(labels, predictions)\r\n",
        "        return {m.name: m.result() for m in self.metrics}\r\n",
        "\r\n",
        "    def test_step(self, data):\r\n",
        "        images, labels = data\r\n",
        "        predictions = self.resnet(images, training=False)\r\n",
        "        loss = self.compiled_loss(labels, predictions)\r\n",
        "        self.compiled_metrics.update_state(labels, predictions)\r\n",
        "        return {m.name: m.result() for m in self.metrics}\r\n",
        "\r\n",
        "    def save_weights(self, filepath):\r\n",
        "        self.resnet.save_weights(filepath=filepath, save_format=\"tf\")\r\n",
        "\r\n",
        "    def call(self, inputs, *args, **kwargs):\r\n",
        "        return self.resnet(inputs)\r\n",
        "\r\n",
        "tf.keras.backend.clear_session()\r\n",
        "test_model = ResNetModel(resnet_v1((IMG_HEIGHT, IMG_WIDTH, 3), 20, num_classes=NUM_CLASSES, use_bn=False))\r\n",
        "test_model.build((1, IMG_HEIGHT, IMG_WIDTH, 3))\r\n",
        "test_model.summary()\r\n",
        "print(f\"Total learnable parameters: {test_model.count_params()/1e6} M\")"
      ],
      "execution_count": null,
      "outputs": [
        {
          "output_type": "stream",
          "text": [
            "Model: \"res_net_model\"\n",
            "_________________________________________________________________\n",
            "Layer (type)                 Output Shape              Param #   \n",
            "=================================================================\n",
            "model (Functional)           (None, 10)                271754    \n",
            "=================================================================\n",
            "Total params: 271,754\n",
            "Trainable params: 271,722\n",
            "Non-trainable params: 32\n",
            "_________________________________________________________________\n",
            "Total learnable parameters: 0.271754 M\n"
          ],
          "name": "stdout"
        }
      ]
    },
    {
      "cell_type": "markdown",
      "metadata": {
        "id": "uNy-hWunM_k0"
      },
      "source": [
        "# 📲 Callbacks"
      ]
    },
    {
      "cell_type": "code",
      "metadata": {
        "id": "DUnXLPW5NBUs"
      },
      "source": [
        "earlystopper = tf.keras.callbacks.EarlyStopping(\r\n",
        "    monitor='val_loss', patience=10, verbose=0, mode='auto',\r\n",
        "    restore_best_weights=True\r\n",
        ")\r\n",
        "\r\n",
        "reducelronplateau = tf.keras.callbacks.ReduceLROnPlateau(\r\n",
        "    monitor=\"val_loss\", factor=0.5,\r\n",
        "    patience=3, verbose=1\r\n",
        ")"
      ],
      "execution_count": null,
      "outputs": []
    },
    {
      "cell_type": "markdown",
      "metadata": {
        "id": "nfKxHzU1M9Bx"
      },
      "source": [
        "# 🚋 Train with W&B"
      ]
    },
    {
      "cell_type": "code",
      "metadata": {
        "colab": {
          "base_uri": "https://localhost:8080/",
          "height": 1000,
          "referenced_widgets": [
            "5a31744785b947468ed3cbb492143607",
            "14df428a8323416ebf960bce4faa9a9f",
            "83606418b57a4c26b711be3525ca2093",
            "45c014d7c4944e2ab913614912a5b6ee",
            "3f0f973c8b3c479f9a876f115c3f34e0",
            "534d4d653ef6443e90e6b9fb8b3fc5bf",
            "20b3e712347e436a994bcf300cccd2c4",
            "a3e5e463f3a64262b4812480c35fe68d"
          ]
        },
        "id": "VyhPXxd9MvLL",
        "outputId": "92f02862-c428-449e-f0e5-6db92964b510"
      },
      "source": [
        "tf.keras.backend.clear_session()\r\n",
        "# Intialize model\r\n",
        "model = ResNetModel(resnet_v1((IMG_HEIGHT, IMG_WIDTH, 3), 20, num_classes=NUM_CLASSES, use_bn=False))\r\n",
        "opt = tf.keras.optimizers.Adam(learning_rate=0.01)\r\n",
        "model.compile(opt, 'sparse_categorical_crossentropy', metrics=['acc'])\r\n",
        "\r\n",
        "# Intialize W&B run\r\n",
        "run = wandb.init(project='nfnet', job_type='train-grad-clip')\r\n",
        "\r\n",
        "# Train model\r\n",
        "model.fit(train_ds,\r\n",
        "          epochs=EPOCHS,\r\n",
        "          validation_data=val_ds,\r\n",
        "          callbacks=[WandbCallback(),\r\n",
        "                     reducelronplateau,\r\n",
        "                     earlystopper])  \r\n",
        "\r\n",
        "# Evaluate model on test set\r\n",
        "loss, acc = model.evaluate(test_ds)\r\n",
        "wandb.log({'Test Accuracy': round(acc, 3)})\r\n",
        "\r\n",
        "# Close W&B run\r\n",
        "run.finish()"
      ],
      "execution_count": null,
      "outputs": [
        {
          "output_type": "display_data",
          "data": {
            "text/html": [
              "\n",
              "                Tracking run with wandb version 0.10.21<br/>\n",
              "                Syncing run <strong style=\"color:#cdcd00\">polished-silence-98</strong> to <a href=\"https://wandb.ai\" target=\"_blank\">Weights & Biases</a> <a href=\"https://docs.wandb.com/integrations/jupyter.html\" target=\"_blank\">(Documentation)</a>.<br/>\n",
              "                Project page: <a href=\"https://wandb.ai/ayush-thakur/nfnet\" target=\"_blank\">https://wandb.ai/ayush-thakur/nfnet</a><br/>\n",
              "                Run page: <a href=\"https://wandb.ai/ayush-thakur/nfnet/runs/3m810nhd\" target=\"_blank\">https://wandb.ai/ayush-thakur/nfnet/runs/3m810nhd</a><br/>\n",
              "                Run data is saved locally in <code>/content/wandb/run-20210308_145450-3m810nhd</code><br/><br/>\n",
              "            "
            ],
            "text/plain": [
              "<IPython.core.display.HTML object>"
            ]
          },
          "metadata": {
            "tags": []
          }
        },
        {
          "output_type": "stream",
          "text": [
            "Epoch 1/100\n",
            "  6/167 [>.............................] - ETA: 11s - loss: 58.2011 - acc: 0.0920WARNING:tensorflow:Callback method `on_train_batch_end` is slow compared to the batch time (batch time: 0.0290s vs `on_train_batch_end` time: 0.0418s). Check your callbacks.\n"
          ],
          "name": "stdout"
        },
        {
          "output_type": "stream",
          "text": [
            "WARNING:tensorflow:Callback method `on_train_batch_end` is slow compared to the batch time (batch time: 0.0290s vs `on_train_batch_end` time: 0.0418s). Check your callbacks.\n"
          ],
          "name": "stderr"
        },
        {
          "output_type": "stream",
          "text": [
            "167/167 [==============================] - 13s 66ms/step - loss: 7.9775 - acc: 0.1278 - val_loss: 1.9481 - val_acc: 0.2517\n"
          ],
          "name": "stdout"
        },
        {
          "output_type": "stream",
          "text": [
            "\u001b[34m\u001b[1mwandb\u001b[0m: \u001b[32m\u001b[41mERROR\u001b[0m Can't save model, h5py returned error: Saving the model to HDF5 format requires the model to be a Functional model or a Sequential model. It does not work for subclassed models, because such models are defined via the body of a Python method, which isn't safely serializable. Consider saving to the Tensorflow SavedModel format (by setting save_format=\"tf\") or using `save_weights`.\n"
          ],
          "name": "stderr"
        },
        {
          "output_type": "stream",
          "text": [
            "Epoch 2/100\n",
            "167/167 [==============================] - 12s 69ms/step - loss: 2.0070 - acc: 0.2399 - val_loss: 2.1884 - val_acc: 0.2549\n",
            "Epoch 3/100\n",
            "167/167 [==============================] - 12s 69ms/step - loss: 1.9169 - acc: 0.2793 - val_loss: 1.8189 - val_acc: 0.3077\n",
            "Epoch 4/100\n",
            "167/167 [==============================] - 12s 69ms/step - loss: 1.8536 - acc: 0.3012 - val_loss: 1.7263 - val_acc: 0.3428\n",
            "Epoch 5/100\n",
            "167/167 [==============================] - 12s 69ms/step - loss: 1.7534 - acc: 0.3358 - val_loss: 1.6977 - val_acc: 0.3503\n",
            "Epoch 6/100\n",
            "167/167 [==============================] - 12s 69ms/step - loss: 1.7452 - acc: 0.3510 - val_loss: 2.1337 - val_acc: 0.3144\n",
            "Epoch 7/100\n",
            "167/167 [==============================] - 11s 68ms/step - loss: 1.7181 - acc: 0.3694 - val_loss: 1.5968 - val_acc: 0.3964\n",
            "Epoch 8/100\n",
            "167/167 [==============================] - 12s 69ms/step - loss: 1.6367 - acc: 0.3876 - val_loss: 1.5647 - val_acc: 0.4087\n",
            "Epoch 9/100\n",
            "167/167 [==============================] - 12s 69ms/step - loss: 1.6096 - acc: 0.4068 - val_loss: 1.7657 - val_acc: 0.3823\n",
            "Epoch 10/100\n",
            "167/167 [==============================] - 12s 69ms/step - loss: 1.5955 - acc: 0.4122 - val_loss: 1.5495 - val_acc: 0.4291\n",
            "Epoch 11/100\n",
            "167/167 [==============================] - 12s 69ms/step - loss: 1.5682 - acc: 0.4219 - val_loss: 1.4874 - val_acc: 0.4401\n",
            "Epoch 12/100\n",
            "167/167 [==============================] - 11s 68ms/step - loss: 1.5733 - acc: 0.4286 - val_loss: 1.6293 - val_acc: 0.4203\n",
            "Epoch 13/100\n",
            "167/167 [==============================] - 11s 68ms/step - loss: 1.5250 - acc: 0.4436 - val_loss: 1.5087 - val_acc: 0.4389\n",
            "Epoch 14/100\n",
            "167/167 [==============================] - 11s 68ms/step - loss: 1.5272 - acc: 0.4439 - val_loss: 1.4532 - val_acc: 0.4669\n",
            "Epoch 15/100\n",
            "167/167 [==============================] - 11s 68ms/step - loss: 1.4980 - acc: 0.4573 - val_loss: 1.5043 - val_acc: 0.4547\n",
            "Epoch 16/100\n",
            "167/167 [==============================] - 11s 68ms/step - loss: 1.4692 - acc: 0.4670 - val_loss: 1.3984 - val_acc: 0.4959\n",
            "Epoch 17/100\n",
            "167/167 [==============================] - 11s 68ms/step - loss: 1.4663 - acc: 0.4709 - val_loss: 1.3904 - val_acc: 0.4904\n",
            "Epoch 18/100\n",
            "167/167 [==============================] - 11s 68ms/step - loss: 1.4836 - acc: 0.4637 - val_loss: 1.3799 - val_acc: 0.4987\n",
            "Epoch 19/100\n",
            "167/167 [==============================] - 12s 69ms/step - loss: 1.4902 - acc: 0.4651 - val_loss: 1.4610 - val_acc: 0.4727\n",
            "Epoch 20/100\n",
            "167/167 [==============================] - 12s 69ms/step - loss: 1.4698 - acc: 0.4677 - val_loss: 1.4523 - val_acc: 0.4843\n",
            "Epoch 21/100\n",
            "167/167 [==============================] - 12s 69ms/step - loss: 1.4322 - acc: 0.4822 - val_loss: 1.4956 - val_acc: 0.4801\n",
            "\n",
            "Epoch 00021: ReduceLROnPlateau reducing learning rate to 0.004999999888241291.\n",
            "Epoch 22/100\n",
            "167/167 [==============================] - 11s 68ms/step - loss: 1.3766 - acc: 0.5074 - val_loss: 1.3181 - val_acc: 0.5240\n",
            "Epoch 23/100\n",
            "167/167 [==============================] - 11s 68ms/step - loss: 1.3360 - acc: 0.5188 - val_loss: 1.2798 - val_acc: 0.5347\n",
            "Epoch 24/100\n",
            "167/167 [==============================] - 12s 69ms/step - loss: 1.3189 - acc: 0.5270 - val_loss: 1.3423 - val_acc: 0.5216\n",
            "Epoch 25/100\n",
            "167/167 [==============================] - 12s 70ms/step - loss: 1.3139 - acc: 0.5277 - val_loss: 1.2931 - val_acc: 0.5332\n",
            "Epoch 26/100\n",
            "167/167 [==============================] - 12s 70ms/step - loss: 1.2962 - acc: 0.5354 - val_loss: 1.2865 - val_acc: 0.5435\n",
            "\n",
            "Epoch 00026: ReduceLROnPlateau reducing learning rate to 0.0024999999441206455.\n",
            "Epoch 27/100\n",
            "167/167 [==============================] - 11s 68ms/step - loss: 1.2646 - acc: 0.5471 - val_loss: 1.1972 - val_acc: 0.5784\n",
            "Epoch 28/100\n",
            "167/167 [==============================] - 11s 68ms/step - loss: 1.2396 - acc: 0.5547 - val_loss: 1.1954 - val_acc: 0.5661\n",
            "Epoch 29/100\n",
            "167/167 [==============================] - 11s 68ms/step - loss: 1.2323 - acc: 0.5592 - val_loss: 1.2090 - val_acc: 0.5675\n",
            "Epoch 30/100\n",
            "167/167 [==============================] - 11s 68ms/step - loss: 1.2216 - acc: 0.5647 - val_loss: 1.2240 - val_acc: 0.5648\n",
            "Epoch 31/100\n",
            "167/167 [==============================] - 11s 68ms/step - loss: 1.2232 - acc: 0.5680 - val_loss: 1.1744 - val_acc: 0.5791\n",
            "Epoch 32/100\n",
            "167/167 [==============================] - 12s 68ms/step - loss: 1.2145 - acc: 0.5664 - val_loss: 1.1635 - val_acc: 0.5891\n",
            "Epoch 33/100\n",
            "167/167 [==============================] - 11s 68ms/step - loss: 1.2027 - acc: 0.5727 - val_loss: 1.1448 - val_acc: 0.5919\n",
            "Epoch 34/100\n",
            "167/167 [==============================] - 12s 69ms/step - loss: 1.1935 - acc: 0.5736 - val_loss: 1.1676 - val_acc: 0.5819\n",
            "Epoch 35/100\n",
            "167/167 [==============================] - 11s 68ms/step - loss: 1.1969 - acc: 0.5745 - val_loss: 1.1465 - val_acc: 0.5840\n",
            "Epoch 36/100\n",
            "167/167 [==============================] - 11s 68ms/step - loss: 1.1841 - acc: 0.5769 - val_loss: 1.1396 - val_acc: 0.5905\n",
            "Epoch 37/100\n",
            "167/167 [==============================] - 11s 68ms/step - loss: 1.1884 - acc: 0.5761 - val_loss: 1.1831 - val_acc: 0.5843\n",
            "Epoch 38/100\n",
            "167/167 [==============================] - 11s 68ms/step - loss: 1.1759 - acc: 0.5810 - val_loss: 1.1242 - val_acc: 0.6005\n",
            "Epoch 39/100\n",
            "167/167 [==============================] - 11s 68ms/step - loss: 1.1640 - acc: 0.5835 - val_loss: 1.1276 - val_acc: 0.5995\n",
            "Epoch 40/100\n",
            "167/167 [==============================] - 12s 69ms/step - loss: 1.1583 - acc: 0.5874 - val_loss: 1.1289 - val_acc: 0.5923\n",
            "Epoch 41/100\n",
            "167/167 [==============================] - 11s 68ms/step - loss: 1.1553 - acc: 0.5906 - val_loss: 1.0976 - val_acc: 0.6108\n",
            "Epoch 42/100\n",
            "167/167 [==============================] - 11s 68ms/step - loss: 1.1574 - acc: 0.5899 - val_loss: 1.1044 - val_acc: 0.6091\n",
            "Epoch 43/100\n",
            "167/167 [==============================] - 11s 68ms/step - loss: 1.1480 - acc: 0.5934 - val_loss: 1.1107 - val_acc: 0.6035\n",
            "Epoch 44/100\n",
            "167/167 [==============================] - 11s 68ms/step - loss: 1.1410 - acc: 0.5937 - val_loss: 1.1097 - val_acc: 0.6068\n",
            "\n",
            "Epoch 00044: ReduceLROnPlateau reducing learning rate to 0.0012499999720603228.\n",
            "Epoch 45/100\n",
            "167/167 [==============================] - 12s 68ms/step - loss: 1.1211 - acc: 0.6021 - val_loss: 1.0772 - val_acc: 0.6151\n",
            "Epoch 46/100\n",
            "167/167 [==============================] - 11s 68ms/step - loss: 1.1075 - acc: 0.6085 - val_loss: 1.0856 - val_acc: 0.6212\n",
            "Epoch 47/100\n",
            "167/167 [==============================] - 11s 68ms/step - loss: 1.1005 - acc: 0.6076 - val_loss: 1.0779 - val_acc: 0.6211\n",
            "Epoch 48/100\n",
            "167/167 [==============================] - 11s 68ms/step - loss: 1.0996 - acc: 0.6088 - val_loss: 1.0696 - val_acc: 0.6243\n",
            "Epoch 49/100\n",
            "167/167 [==============================] - 11s 68ms/step - loss: 1.0967 - acc: 0.6093 - val_loss: 1.1117 - val_acc: 0.6056\n",
            "Epoch 50/100\n",
            "167/167 [==============================] - 11s 68ms/step - loss: 1.0997 - acc: 0.6125 - val_loss: 1.0692 - val_acc: 0.6208\n",
            "Epoch 51/100\n",
            "167/167 [==============================] - 12s 69ms/step - loss: 1.0914 - acc: 0.6127 - val_loss: 1.0675 - val_acc: 0.6189\n",
            "Epoch 52/100\n",
            "167/167 [==============================] - 12s 69ms/step - loss: 1.0855 - acc: 0.6148 - val_loss: 1.0714 - val_acc: 0.6213\n",
            "Epoch 53/100\n",
            "167/167 [==============================] - 11s 68ms/step - loss: 1.0793 - acc: 0.6172 - val_loss: 1.0749 - val_acc: 0.6197\n",
            "Epoch 54/100\n",
            "167/167 [==============================] - 11s 68ms/step - loss: 1.0748 - acc: 0.6220 - val_loss: 1.0583 - val_acc: 0.6252\n",
            "Epoch 55/100\n",
            "167/167 [==============================] - 11s 68ms/step - loss: 1.0738 - acc: 0.6178 - val_loss: 1.0601 - val_acc: 0.6257\n",
            "Epoch 56/100\n",
            "167/167 [==============================] - 11s 68ms/step - loss: 1.0764 - acc: 0.6188 - val_loss: 1.0633 - val_acc: 0.6248\n",
            "Epoch 57/100\n",
            "167/167 [==============================] - 11s 68ms/step - loss: 1.0703 - acc: 0.6235 - val_loss: 1.0692 - val_acc: 0.6196\n",
            "\n",
            "Epoch 00057: ReduceLROnPlateau reducing learning rate to 0.0006249999860301614.\n",
            "Epoch 58/100\n",
            "167/167 [==============================] - 12s 69ms/step - loss: 1.0550 - acc: 0.6275 - val_loss: 1.0437 - val_acc: 0.6308\n",
            "Epoch 59/100\n",
            "167/167 [==============================] - 12s 69ms/step - loss: 1.0552 - acc: 0.6287 - val_loss: 1.0430 - val_acc: 0.6311\n",
            "Epoch 60/100\n",
            "167/167 [==============================] - 12s 68ms/step - loss: 1.0452 - acc: 0.6324 - val_loss: 1.0403 - val_acc: 0.6340\n",
            "Epoch 61/100\n",
            "167/167 [==============================] - 12s 69ms/step - loss: 1.0453 - acc: 0.6295 - val_loss: 1.0441 - val_acc: 0.6344\n",
            "Epoch 62/100\n",
            "167/167 [==============================] - 11s 68ms/step - loss: 1.0442 - acc: 0.6322 - val_loss: 1.0452 - val_acc: 0.6329\n",
            "Epoch 63/100\n",
            "167/167 [==============================] - 11s 68ms/step - loss: 1.0396 - acc: 0.6326 - val_loss: 1.0434 - val_acc: 0.6328\n",
            "\n",
            "Epoch 00063: ReduceLROnPlateau reducing learning rate to 0.0003124999930150807.\n",
            "Epoch 64/100\n",
            "167/167 [==============================] - 11s 67ms/step - loss: 1.0417 - acc: 0.6335 - val_loss: 1.0500 - val_acc: 0.6289\n",
            "Epoch 65/100\n",
            "167/167 [==============================] - 11s 68ms/step - loss: 1.0394 - acc: 0.6364 - val_loss: 1.0529 - val_acc: 0.6308\n",
            "Epoch 66/100\n",
            "167/167 [==============================] - 11s 68ms/step - loss: 1.0342 - acc: 0.6385 - val_loss: 1.0475 - val_acc: 0.6308\n",
            "\n",
            "Epoch 00066: ReduceLROnPlateau reducing learning rate to 0.00015624999650754035.\n",
            "Epoch 67/100\n",
            "167/167 [==============================] - 11s 68ms/step - loss: 1.0328 - acc: 0.6356 - val_loss: 1.0345 - val_acc: 0.6355\n",
            "Epoch 68/100\n",
            "167/167 [==============================] - 11s 68ms/step - loss: 1.0277 - acc: 0.6370 - val_loss: 1.0355 - val_acc: 0.6352\n",
            "Epoch 69/100\n",
            "167/167 [==============================] - 11s 67ms/step - loss: 1.0318 - acc: 0.6342 - val_loss: 1.0396 - val_acc: 0.6343\n",
            "Epoch 70/100\n",
            "167/167 [==============================] - 11s 68ms/step - loss: 1.0263 - acc: 0.6363 - val_loss: 1.0342 - val_acc: 0.6349\n",
            "Epoch 71/100\n",
            "167/167 [==============================] - 11s 68ms/step - loss: 1.0253 - acc: 0.6366 - val_loss: 1.0385 - val_acc: 0.6329\n",
            "Epoch 72/100\n",
            "167/167 [==============================] - 11s 68ms/step - loss: 1.0263 - acc: 0.6398 - val_loss: 1.0348 - val_acc: 0.6372\n",
            "Epoch 73/100\n",
            "167/167 [==============================] - 11s 68ms/step - loss: 1.0184 - acc: 0.6406 - val_loss: 1.0300 - val_acc: 0.6373\n",
            "Epoch 74/100\n",
            "167/167 [==============================] - 12s 69ms/step - loss: 1.0308 - acc: 0.6380 - val_loss: 1.0317 - val_acc: 0.6385\n",
            "Epoch 75/100\n",
            "167/167 [==============================] - 12s 69ms/step - loss: 1.0248 - acc: 0.6376 - val_loss: 1.0320 - val_acc: 0.6360\n",
            "Epoch 76/100\n",
            "167/167 [==============================] - 11s 68ms/step - loss: 1.0274 - acc: 0.6345 - val_loss: 1.0274 - val_acc: 0.6389\n",
            "Epoch 77/100\n",
            "167/167 [==============================] - 12s 69ms/step - loss: 1.0302 - acc: 0.6371 - val_loss: 1.0288 - val_acc: 0.6359\n",
            "Epoch 78/100\n",
            "167/167 [==============================] - 11s 68ms/step - loss: 1.0117 - acc: 0.6439 - val_loss: 1.0311 - val_acc: 0.6368\n",
            "Epoch 79/100\n",
            "167/167 [==============================] - 12s 69ms/step - loss: 1.0236 - acc: 0.6389 - val_loss: 1.0292 - val_acc: 0.6357\n",
            "\n",
            "Epoch 00079: ReduceLROnPlateau reducing learning rate to 7.812499825377017e-05.\n",
            "Epoch 80/100\n",
            "167/167 [==============================] - 12s 69ms/step - loss: 1.0261 - acc: 0.6334 - val_loss: 1.0255 - val_acc: 0.6391\n",
            "Epoch 81/100\n",
            "167/167 [==============================] - 12s 69ms/step - loss: 1.0259 - acc: 0.6436 - val_loss: 1.0265 - val_acc: 0.6379\n",
            "Epoch 82/100\n",
            "167/167 [==============================] - 12s 69ms/step - loss: 1.0204 - acc: 0.6404 - val_loss: 1.0275 - val_acc: 0.6372\n",
            "Epoch 83/100\n",
            "167/167 [==============================] - 12s 69ms/step - loss: 1.0153 - acc: 0.6420 - val_loss: 1.0257 - val_acc: 0.6384\n",
            "\n",
            "Epoch 00083: ReduceLROnPlateau reducing learning rate to 3.9062499126885086e-05.\n",
            "Epoch 84/100\n",
            "167/167 [==============================] - 12s 69ms/step - loss: 1.0205 - acc: 0.6366 - val_loss: 1.0259 - val_acc: 0.6387\n",
            "Epoch 85/100\n",
            "167/167 [==============================] - 12s 69ms/step - loss: 1.0231 - acc: 0.6380 - val_loss: 1.0228 - val_acc: 0.6401\n",
            "Epoch 86/100\n",
            "167/167 [==============================] - 12s 69ms/step - loss: 1.0176 - acc: 0.6391 - val_loss: 1.0240 - val_acc: 0.6395\n",
            "Epoch 87/100\n",
            "167/167 [==============================] - 12s 69ms/step - loss: 1.0154 - acc: 0.6417 - val_loss: 1.0236 - val_acc: 0.6393\n",
            "Epoch 88/100\n",
            "167/167 [==============================] - 12s 70ms/step - loss: 1.0215 - acc: 0.6384 - val_loss: 1.0259 - val_acc: 0.6380\n",
            "\n",
            "Epoch 00088: ReduceLROnPlateau reducing learning rate to 1.9531249563442543e-05.\n",
            "Epoch 89/100\n",
            "167/167 [==============================] - 12s 69ms/step - loss: 1.0163 - acc: 0.6467 - val_loss: 1.0235 - val_acc: 0.6395\n",
            "Epoch 90/100\n",
            "167/167 [==============================] - 12s 69ms/step - loss: 1.0141 - acc: 0.6424 - val_loss: 1.0228 - val_acc: 0.6395\n",
            "Epoch 91/100\n",
            "167/167 [==============================] - 12s 69ms/step - loss: 1.0141 - acc: 0.6420 - val_loss: 1.0226 - val_acc: 0.6391\n",
            "Epoch 92/100\n",
            "167/167 [==============================] - 12s 69ms/step - loss: 1.0118 - acc: 0.6401 - val_loss: 1.0223 - val_acc: 0.6395\n",
            "Epoch 93/100\n",
            "167/167 [==============================] - 12s 69ms/step - loss: 1.0163 - acc: 0.6420 - val_loss: 1.0233 - val_acc: 0.6385\n",
            "Epoch 94/100\n",
            "167/167 [==============================] - 12s 70ms/step - loss: 1.0200 - acc: 0.6396 - val_loss: 1.0238 - val_acc: 0.6383\n",
            "Epoch 95/100\n",
            "167/167 [==============================] - 12s 69ms/step - loss: 1.0245 - acc: 0.6388 - val_loss: 1.0249 - val_acc: 0.6380\n",
            "\n",
            "Epoch 00095: ReduceLROnPlateau reducing learning rate to 9.765624781721272e-06.\n",
            "Epoch 96/100\n",
            "167/167 [==============================] - 12s 70ms/step - loss: 1.0151 - acc: 0.6446 - val_loss: 1.0232 - val_acc: 0.6385\n",
            "Epoch 97/100\n",
            "167/167 [==============================] - 12s 69ms/step - loss: 1.0152 - acc: 0.6396 - val_loss: 1.0235 - val_acc: 0.6384\n",
            "Epoch 98/100\n",
            "167/167 [==============================] - 12s 69ms/step - loss: 1.0151 - acc: 0.6439 - val_loss: 1.0224 - val_acc: 0.6391\n",
            "\n",
            "Epoch 00098: ReduceLROnPlateau reducing learning rate to 4.882812390860636e-06.\n",
            "Epoch 99/100\n",
            "167/167 [==============================] - 12s 70ms/step - loss: 1.0108 - acc: 0.6428 - val_loss: 1.0235 - val_acc: 0.6383\n",
            "Epoch 100/100\n",
            "167/167 [==============================] - 12s 69ms/step - loss: 1.0162 - acc: 0.6425 - val_loss: 1.0236 - val_acc: 0.6383\n",
            "40/40 [==============================] - 1s 12ms/step - loss: 1.0013 - acc: 0.6439\n"
          ],
          "name": "stdout"
        },
        {
          "output_type": "display_data",
          "data": {
            "text/html": [
              "<br/>Waiting for W&B process to finish, PID 664<br/>Program ended successfully."
            ],
            "text/plain": [
              "<IPython.core.display.HTML object>"
            ]
          },
          "metadata": {
            "tags": []
          }
        },
        {
          "output_type": "display_data",
          "data": {
            "application/vnd.jupyter.widget-view+json": {
              "model_id": "5a31744785b947468ed3cbb492143607",
              "version_minor": 0,
              "version_major": 2
            },
            "text/plain": [
              "VBox(children=(Label(value=' 0.46MB of 0.46MB uploaded (0.00MB deduped)\\r'), FloatProgress(value=1.0, max=1.0)…"
            ]
          },
          "metadata": {
            "tags": []
          }
        },
        {
          "output_type": "display_data",
          "data": {
            "text/html": [
              "Find user logs for this run at: <code>/content/wandb/run-20210308_145450-3m810nhd/logs/debug.log</code>"
            ],
            "text/plain": [
              "<IPython.core.display.HTML object>"
            ]
          },
          "metadata": {
            "tags": []
          }
        },
        {
          "output_type": "display_data",
          "data": {
            "text/html": [
              "Find internal logs for this run at: <code>/content/wandb/run-20210308_145450-3m810nhd/logs/debug-internal.log</code>"
            ],
            "text/plain": [
              "<IPython.core.display.HTML object>"
            ]
          },
          "metadata": {
            "tags": []
          }
        },
        {
          "output_type": "display_data",
          "data": {
            "text/html": [
              "<h3>Run summary:</h3><br/><style>\n",
              "    table.wandb td:nth-child(1) { padding: 0 10px; text-align: right }\n",
              "    </style><table class=\"wandb\">\n",
              "<tr><td>epoch</td><td>99</td></tr><tr><td>loss</td><td>1.00752</td></tr><tr><td>acc</td><td>0.6448</td></tr><tr><td>val_loss</td><td>1.0236</td></tr><tr><td>val_acc</td><td>0.63827</td></tr><tr><td>_runtime</td><td>1158</td></tr><tr><td>_timestamp</td><td>1615216449</td></tr><tr><td>_step</td><td>100</td></tr><tr><td>best_val_loss</td><td>1.02228</td></tr><tr><td>best_epoch</td><td>91</td></tr><tr><td>Test Accuracy</td><td>0.644</td></tr></table>"
            ],
            "text/plain": [
              "<IPython.core.display.HTML object>"
            ]
          },
          "metadata": {
            "tags": []
          }
        },
        {
          "output_type": "display_data",
          "data": {
            "text/html": [
              "<h3>Run history:</h3><br/><style>\n",
              "    table.wandb td:nth-child(1) { padding: 0 10px; text-align: right }\n",
              "    </style><table class=\"wandb\">\n",
              "<tr><td>epoch</td><td>▁▁▁▁▂▂▂▂▂▃▃▃▃▃▃▄▄▄▄▄▅▅▅▅▅▅▆▆▆▆▆▇▇▇▇▇▇███</td></tr><tr><td>loss</td><td>█▄▃▃▃▂▂▂▂▂▂▂▂▂▁▁▁▁▁▁▁▁▁▁▁▁▁▁▁▁▁▁▁▁▁▁▁▁▁▁</td></tr><tr><td>acc</td><td>▁▃▄▄▅▅▅▅▆▆▆▇▇▇▇▇▇▇▇█████████████████████</td></tr><tr><td>val_loss</td><td>▇▆█▄▄▄▃▃▄▃▃▂▂▂▂▂▁▂▁▂▁▁▁▁▁▁▁▁▁▁▁▁▁▁▁▁▁▁▁▁</td></tr><tr><td>val_acc</td><td>▁▂▂▄▄▄▅▅▅▆▆▇▇▇▇▇▇▇█▇████████████████████</td></tr><tr><td>_runtime</td><td>▁▁▁▁▂▂▂▂▂▃▃▃▃▃▃▄▄▄▄▄▅▅▅▅▅▆▆▆▆▆▆▇▇▇▇▇▇███</td></tr><tr><td>_timestamp</td><td>▁▁▁▁▂▂▂▂▂▃▃▃▃▃▃▄▄▄▄▄▅▅▅▅▅▆▆▆▆▆▆▇▇▇▇▇▇███</td></tr><tr><td>_step</td><td>▁▁▁▁▂▂▂▂▂▃▃▃▃▃▃▄▄▄▄▄▅▅▅▅▅▅▆▆▆▆▆▇▇▇▇▇▇███</td></tr><tr><td>Test Accuracy</td><td>▁</td></tr></table><br/>"
            ],
            "text/plain": [
              "<IPython.core.display.HTML object>"
            ]
          },
          "metadata": {
            "tags": []
          }
        },
        {
          "output_type": "display_data",
          "data": {
            "text/html": [
              "Synced 5 W&B file(s), 1 media file(s), 2 artifact file(s) and 1 other file(s)"
            ],
            "text/plain": [
              "<IPython.core.display.HTML object>"
            ]
          },
          "metadata": {
            "tags": []
          }
        },
        {
          "output_type": "display_data",
          "data": {
            "text/html": [
              "\n",
              "                    <br/>Synced <strong style=\"color:#cdcd00\">polished-silence-98</strong>: <a href=\"https://wandb.ai/ayush-thakur/nfnet/runs/3m810nhd\" target=\"_blank\">https://wandb.ai/ayush-thakur/nfnet/runs/3m810nhd</a><br/>\n",
              "                "
            ],
            "text/plain": [
              "<IPython.core.display.HTML object>"
            ]
          },
          "metadata": {
            "tags": []
          }
        }
      ]
    }
  ]
}