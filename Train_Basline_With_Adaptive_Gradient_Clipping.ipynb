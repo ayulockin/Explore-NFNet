{
  "nbformat": 4,
  "nbformat_minor": 0,
  "metadata": {
    "accelerator": "GPU",
    "colab": {
      "name": "Train Basline With Adaptive Gradient Clipping",
      "provenance": [],
      "collapsed_sections": [],
      "authorship_tag": "ABX9TyPrO94stG4T78Hr5eBy+JcI",
      "include_colab_link": true
    },
    "kernelspec": {
      "display_name": "Python 3",
      "name": "python3"
    },
    "widgets": {
      "application/vnd.jupyter.widget-state+json": {
        "3d73934c53674aec8ae383aef05363d8": {
          "model_module": "@jupyter-widgets/controls",
          "model_name": "HBoxModel",
          "state": {
            "_view_name": "HBoxView",
            "_dom_classes": [],
            "_model_name": "HBoxModel",
            "_view_module": "@jupyter-widgets/controls",
            "_model_module_version": "1.5.0",
            "_view_count": null,
            "_view_module_version": "1.5.0",
            "box_style": "",
            "layout": "IPY_MODEL_71edb5cc7ba34414a061b82766e8a7ee",
            "_model_module": "@jupyter-widgets/controls",
            "children": [
              "IPY_MODEL_abaa013713234624809a4794aaa26a7d",
              "IPY_MODEL_25ba5b30f13c42b291c44909cee8398d"
            ]
          }
        },
        "71edb5cc7ba34414a061b82766e8a7ee": {
          "model_module": "@jupyter-widgets/base",
          "model_name": "LayoutModel",
          "state": {
            "_view_name": "LayoutView",
            "grid_template_rows": null,
            "right": null,
            "justify_content": null,
            "_view_module": "@jupyter-widgets/base",
            "overflow": null,
            "_model_module_version": "1.2.0",
            "_view_count": null,
            "flex_flow": null,
            "width": null,
            "min_width": null,
            "border": null,
            "align_items": null,
            "bottom": null,
            "_model_module": "@jupyter-widgets/base",
            "top": null,
            "grid_column": null,
            "overflow_y": null,
            "overflow_x": null,
            "grid_auto_flow": null,
            "grid_area": null,
            "grid_template_columns": null,
            "flex": null,
            "_model_name": "LayoutModel",
            "justify_items": null,
            "grid_row": null,
            "max_height": null,
            "align_content": null,
            "visibility": null,
            "align_self": null,
            "height": null,
            "min_height": null,
            "padding": null,
            "grid_auto_rows": null,
            "grid_gap": null,
            "max_width": null,
            "order": null,
            "_view_module_version": "1.2.0",
            "grid_template_areas": null,
            "object_position": null,
            "object_fit": null,
            "grid_auto_columns": null,
            "margin": null,
            "display": null,
            "left": null
          }
        },
        "abaa013713234624809a4794aaa26a7d": {
          "model_module": "@jupyter-widgets/controls",
          "model_name": "FloatProgressModel",
          "state": {
            "_view_name": "ProgressView",
            "style": "IPY_MODEL_1f5678ba237a49c681a7182e30d6757c",
            "_dom_classes": [],
            "description": "Dl Completed...: 100%",
            "_model_name": "FloatProgressModel",
            "bar_style": "success",
            "max": 1,
            "_view_module": "@jupyter-widgets/controls",
            "_model_module_version": "1.5.0",
            "value": 1,
            "_view_count": null,
            "_view_module_version": "1.5.0",
            "orientation": "horizontal",
            "min": 0,
            "description_tooltip": null,
            "_model_module": "@jupyter-widgets/controls",
            "layout": "IPY_MODEL_b9b12be4e8464ff1b174a9b9ebd57d3e"
          }
        },
        "25ba5b30f13c42b291c44909cee8398d": {
          "model_module": "@jupyter-widgets/controls",
          "model_name": "HTMLModel",
          "state": {
            "_view_name": "HTMLView",
            "style": "IPY_MODEL_feb0c62c6b724c358ada23f6b04e3bf4",
            "_dom_classes": [],
            "description": "",
            "_model_name": "HTMLModel",
            "placeholder": "​",
            "_view_module": "@jupyter-widgets/controls",
            "_model_module_version": "1.5.0",
            "value": " 1/1 [00:05&lt;00:00,  5.75s/ url]",
            "_view_count": null,
            "_view_module_version": "1.5.0",
            "description_tooltip": null,
            "_model_module": "@jupyter-widgets/controls",
            "layout": "IPY_MODEL_2ad9cb9469ae4fb5b4d33aee33f0f1c4"
          }
        },
        "1f5678ba237a49c681a7182e30d6757c": {
          "model_module": "@jupyter-widgets/controls",
          "model_name": "ProgressStyleModel",
          "state": {
            "_view_name": "StyleView",
            "_model_name": "ProgressStyleModel",
            "description_width": "initial",
            "_view_module": "@jupyter-widgets/base",
            "_model_module_version": "1.5.0",
            "_view_count": null,
            "_view_module_version": "1.2.0",
            "bar_color": null,
            "_model_module": "@jupyter-widgets/controls"
          }
        },
        "b9b12be4e8464ff1b174a9b9ebd57d3e": {
          "model_module": "@jupyter-widgets/base",
          "model_name": "LayoutModel",
          "state": {
            "_view_name": "LayoutView",
            "grid_template_rows": null,
            "right": null,
            "justify_content": null,
            "_view_module": "@jupyter-widgets/base",
            "overflow": null,
            "_model_module_version": "1.2.0",
            "_view_count": null,
            "flex_flow": null,
            "width": null,
            "min_width": null,
            "border": null,
            "align_items": null,
            "bottom": null,
            "_model_module": "@jupyter-widgets/base",
            "top": null,
            "grid_column": null,
            "overflow_y": null,
            "overflow_x": null,
            "grid_auto_flow": null,
            "grid_area": null,
            "grid_template_columns": null,
            "flex": null,
            "_model_name": "LayoutModel",
            "justify_items": null,
            "grid_row": null,
            "max_height": null,
            "align_content": null,
            "visibility": null,
            "align_self": null,
            "height": null,
            "min_height": null,
            "padding": null,
            "grid_auto_rows": null,
            "grid_gap": null,
            "max_width": null,
            "order": null,
            "_view_module_version": "1.2.0",
            "grid_template_areas": null,
            "object_position": null,
            "object_fit": null,
            "grid_auto_columns": null,
            "margin": null,
            "display": null,
            "left": null
          }
        },
        "feb0c62c6b724c358ada23f6b04e3bf4": {
          "model_module": "@jupyter-widgets/controls",
          "model_name": "DescriptionStyleModel",
          "state": {
            "_view_name": "StyleView",
            "_model_name": "DescriptionStyleModel",
            "description_width": "",
            "_view_module": "@jupyter-widgets/base",
            "_model_module_version": "1.5.0",
            "_view_count": null,
            "_view_module_version": "1.2.0",
            "_model_module": "@jupyter-widgets/controls"
          }
        },
        "2ad9cb9469ae4fb5b4d33aee33f0f1c4": {
          "model_module": "@jupyter-widgets/base",
          "model_name": "LayoutModel",
          "state": {
            "_view_name": "LayoutView",
            "grid_template_rows": null,
            "right": null,
            "justify_content": null,
            "_view_module": "@jupyter-widgets/base",
            "overflow": null,
            "_model_module_version": "1.2.0",
            "_view_count": null,
            "flex_flow": null,
            "width": null,
            "min_width": null,
            "border": null,
            "align_items": null,
            "bottom": null,
            "_model_module": "@jupyter-widgets/base",
            "top": null,
            "grid_column": null,
            "overflow_y": null,
            "overflow_x": null,
            "grid_auto_flow": null,
            "grid_area": null,
            "grid_template_columns": null,
            "flex": null,
            "_model_name": "LayoutModel",
            "justify_items": null,
            "grid_row": null,
            "max_height": null,
            "align_content": null,
            "visibility": null,
            "align_self": null,
            "height": null,
            "min_height": null,
            "padding": null,
            "grid_auto_rows": null,
            "grid_gap": null,
            "max_width": null,
            "order": null,
            "_view_module_version": "1.2.0",
            "grid_template_areas": null,
            "object_position": null,
            "object_fit": null,
            "grid_auto_columns": null,
            "margin": null,
            "display": null,
            "left": null
          }
        },
        "f1f580c3bcb74e11ba3ff6b036bbfc77": {
          "model_module": "@jupyter-widgets/controls",
          "model_name": "HBoxModel",
          "state": {
            "_view_name": "HBoxView",
            "_dom_classes": [],
            "_model_name": "HBoxModel",
            "_view_module": "@jupyter-widgets/controls",
            "_model_module_version": "1.5.0",
            "_view_count": null,
            "_view_module_version": "1.5.0",
            "box_style": "",
            "layout": "IPY_MODEL_a12fc2cb3dca4b8c81c45be4da441d2a",
            "_model_module": "@jupyter-widgets/controls",
            "children": [
              "IPY_MODEL_46204221a56f46f59a5859c9446c76e4",
              "IPY_MODEL_ba6f3f66334746ff9a8b9e11a9c386f5"
            ]
          }
        },
        "a12fc2cb3dca4b8c81c45be4da441d2a": {
          "model_module": "@jupyter-widgets/base",
          "model_name": "LayoutModel",
          "state": {
            "_view_name": "LayoutView",
            "grid_template_rows": null,
            "right": null,
            "justify_content": null,
            "_view_module": "@jupyter-widgets/base",
            "overflow": null,
            "_model_module_version": "1.2.0",
            "_view_count": null,
            "flex_flow": null,
            "width": null,
            "min_width": null,
            "border": null,
            "align_items": null,
            "bottom": null,
            "_model_module": "@jupyter-widgets/base",
            "top": null,
            "grid_column": null,
            "overflow_y": null,
            "overflow_x": null,
            "grid_auto_flow": null,
            "grid_area": null,
            "grid_template_columns": null,
            "flex": null,
            "_model_name": "LayoutModel",
            "justify_items": null,
            "grid_row": null,
            "max_height": null,
            "align_content": null,
            "visibility": null,
            "align_self": null,
            "height": null,
            "min_height": null,
            "padding": null,
            "grid_auto_rows": null,
            "grid_gap": null,
            "max_width": null,
            "order": null,
            "_view_module_version": "1.2.0",
            "grid_template_areas": null,
            "object_position": null,
            "object_fit": null,
            "grid_auto_columns": null,
            "margin": null,
            "display": null,
            "left": null
          }
        },
        "46204221a56f46f59a5859c9446c76e4": {
          "model_module": "@jupyter-widgets/controls",
          "model_name": "FloatProgressModel",
          "state": {
            "_view_name": "ProgressView",
            "style": "IPY_MODEL_47c987f1da3846f1b5256392588bee81",
            "_dom_classes": [],
            "description": "Dl Size...: 100%",
            "_model_name": "FloatProgressModel",
            "bar_style": "success",
            "max": 1,
            "_view_module": "@jupyter-widgets/controls",
            "_model_module_version": "1.5.0",
            "value": 1,
            "_view_count": null,
            "_view_module_version": "1.5.0",
            "orientation": "horizontal",
            "min": 0,
            "description_tooltip": null,
            "_model_module": "@jupyter-widgets/controls",
            "layout": "IPY_MODEL_81ecf1fcacd14d1c8aea12e6842c4018"
          }
        },
        "ba6f3f66334746ff9a8b9e11a9c386f5": {
          "model_module": "@jupyter-widgets/controls",
          "model_name": "HTMLModel",
          "state": {
            "_view_name": "HTMLView",
            "style": "IPY_MODEL_169efbbf3ad24064b5c626d6f3e9ddc5",
            "_dom_classes": [],
            "description": "",
            "_model_name": "HTMLModel",
            "placeholder": "​",
            "_view_module": "@jupyter-widgets/controls",
            "_model_module_version": "1.5.0",
            "value": " 162/162 [00:05&lt;00:00, 28.48 MiB/s]",
            "_view_count": null,
            "_view_module_version": "1.5.0",
            "description_tooltip": null,
            "_model_module": "@jupyter-widgets/controls",
            "layout": "IPY_MODEL_3dba302f7e544fb081b6c74f634946b2"
          }
        },
        "47c987f1da3846f1b5256392588bee81": {
          "model_module": "@jupyter-widgets/controls",
          "model_name": "ProgressStyleModel",
          "state": {
            "_view_name": "StyleView",
            "_model_name": "ProgressStyleModel",
            "description_width": "initial",
            "_view_module": "@jupyter-widgets/base",
            "_model_module_version": "1.5.0",
            "_view_count": null,
            "_view_module_version": "1.2.0",
            "bar_color": null,
            "_model_module": "@jupyter-widgets/controls"
          }
        },
        "81ecf1fcacd14d1c8aea12e6842c4018": {
          "model_module": "@jupyter-widgets/base",
          "model_name": "LayoutModel",
          "state": {
            "_view_name": "LayoutView",
            "grid_template_rows": null,
            "right": null,
            "justify_content": null,
            "_view_module": "@jupyter-widgets/base",
            "overflow": null,
            "_model_module_version": "1.2.0",
            "_view_count": null,
            "flex_flow": null,
            "width": null,
            "min_width": null,
            "border": null,
            "align_items": null,
            "bottom": null,
            "_model_module": "@jupyter-widgets/base",
            "top": null,
            "grid_column": null,
            "overflow_y": null,
            "overflow_x": null,
            "grid_auto_flow": null,
            "grid_area": null,
            "grid_template_columns": null,
            "flex": null,
            "_model_name": "LayoutModel",
            "justify_items": null,
            "grid_row": null,
            "max_height": null,
            "align_content": null,
            "visibility": null,
            "align_self": null,
            "height": null,
            "min_height": null,
            "padding": null,
            "grid_auto_rows": null,
            "grid_gap": null,
            "max_width": null,
            "order": null,
            "_view_module_version": "1.2.0",
            "grid_template_areas": null,
            "object_position": null,
            "object_fit": null,
            "grid_auto_columns": null,
            "margin": null,
            "display": null,
            "left": null
          }
        },
        "169efbbf3ad24064b5c626d6f3e9ddc5": {
          "model_module": "@jupyter-widgets/controls",
          "model_name": "DescriptionStyleModel",
          "state": {
            "_view_name": "StyleView",
            "_model_name": "DescriptionStyleModel",
            "description_width": "",
            "_view_module": "@jupyter-widgets/base",
            "_model_module_version": "1.5.0",
            "_view_count": null,
            "_view_module_version": "1.2.0",
            "_model_module": "@jupyter-widgets/controls"
          }
        },
        "3dba302f7e544fb081b6c74f634946b2": {
          "model_module": "@jupyter-widgets/base",
          "model_name": "LayoutModel",
          "state": {
            "_view_name": "LayoutView",
            "grid_template_rows": null,
            "right": null,
            "justify_content": null,
            "_view_module": "@jupyter-widgets/base",
            "overflow": null,
            "_model_module_version": "1.2.0",
            "_view_count": null,
            "flex_flow": null,
            "width": null,
            "min_width": null,
            "border": null,
            "align_items": null,
            "bottom": null,
            "_model_module": "@jupyter-widgets/base",
            "top": null,
            "grid_column": null,
            "overflow_y": null,
            "overflow_x": null,
            "grid_auto_flow": null,
            "grid_area": null,
            "grid_template_columns": null,
            "flex": null,
            "_model_name": "LayoutModel",
            "justify_items": null,
            "grid_row": null,
            "max_height": null,
            "align_content": null,
            "visibility": null,
            "align_self": null,
            "height": null,
            "min_height": null,
            "padding": null,
            "grid_auto_rows": null,
            "grid_gap": null,
            "max_width": null,
            "order": null,
            "_view_module_version": "1.2.0",
            "grid_template_areas": null,
            "object_position": null,
            "object_fit": null,
            "grid_auto_columns": null,
            "margin": null,
            "display": null,
            "left": null
          }
        },
        "c0bd622c835844619416e29ebf24d5d5": {
          "model_module": "@jupyter-widgets/controls",
          "model_name": "HBoxModel",
          "state": {
            "_view_name": "HBoxView",
            "_dom_classes": [],
            "_model_name": "HBoxModel",
            "_view_module": "@jupyter-widgets/controls",
            "_model_module_version": "1.5.0",
            "_view_count": null,
            "_view_module_version": "1.5.0",
            "box_style": "",
            "layout": "IPY_MODEL_18c4e7b63ab84a499197d6dd7d07e945",
            "_model_module": "@jupyter-widgets/controls",
            "children": [
              "IPY_MODEL_9db4e87f1def44aebdb76798e32284f8",
              "IPY_MODEL_9fa57bd3c0c047d7aeb0b29d4597492c"
            ]
          }
        },
        "18c4e7b63ab84a499197d6dd7d07e945": {
          "model_module": "@jupyter-widgets/base",
          "model_name": "LayoutModel",
          "state": {
            "_view_name": "LayoutView",
            "grid_template_rows": null,
            "right": null,
            "justify_content": null,
            "_view_module": "@jupyter-widgets/base",
            "overflow": null,
            "_model_module_version": "1.2.0",
            "_view_count": null,
            "flex_flow": null,
            "width": null,
            "min_width": null,
            "border": null,
            "align_items": null,
            "bottom": null,
            "_model_module": "@jupyter-widgets/base",
            "top": null,
            "grid_column": null,
            "overflow_y": null,
            "overflow_x": null,
            "grid_auto_flow": null,
            "grid_area": null,
            "grid_template_columns": null,
            "flex": null,
            "_model_name": "LayoutModel",
            "justify_items": null,
            "grid_row": null,
            "max_height": null,
            "align_content": null,
            "visibility": null,
            "align_self": null,
            "height": null,
            "min_height": null,
            "padding": null,
            "grid_auto_rows": null,
            "grid_gap": null,
            "max_width": null,
            "order": null,
            "_view_module_version": "1.2.0",
            "grid_template_areas": null,
            "object_position": null,
            "object_fit": null,
            "grid_auto_columns": null,
            "margin": null,
            "display": null,
            "left": null
          }
        },
        "9db4e87f1def44aebdb76798e32284f8": {
          "model_module": "@jupyter-widgets/controls",
          "model_name": "FloatProgressModel",
          "state": {
            "_view_name": "ProgressView",
            "style": "IPY_MODEL_452d6e22a4594885a07cc8f2945ad24c",
            "_dom_classes": [],
            "description": "Extraction completed...: 100%",
            "_model_name": "FloatProgressModel",
            "bar_style": "success",
            "max": 1,
            "_view_module": "@jupyter-widgets/controls",
            "_model_module_version": "1.5.0",
            "value": 1,
            "_view_count": null,
            "_view_module_version": "1.5.0",
            "orientation": "horizontal",
            "min": 0,
            "description_tooltip": null,
            "_model_module": "@jupyter-widgets/controls",
            "layout": "IPY_MODEL_2061b19677504dd4b9415634d37ee8c5"
          }
        },
        "9fa57bd3c0c047d7aeb0b29d4597492c": {
          "model_module": "@jupyter-widgets/controls",
          "model_name": "HTMLModel",
          "state": {
            "_view_name": "HTMLView",
            "style": "IPY_MODEL_660a97fdbe5b4d758c28e73d035e51a1",
            "_dom_classes": [],
            "description": "",
            "_model_name": "HTMLModel",
            "placeholder": "​",
            "_view_module": "@jupyter-widgets/controls",
            "_model_module_version": "1.5.0",
            "value": " 1/1 [00:05&lt;00:00,  5.65s/ file]",
            "_view_count": null,
            "_view_module_version": "1.5.0",
            "description_tooltip": null,
            "_model_module": "@jupyter-widgets/controls",
            "layout": "IPY_MODEL_fd10c6b2fb044dee9b444b63206c47e1"
          }
        },
        "452d6e22a4594885a07cc8f2945ad24c": {
          "model_module": "@jupyter-widgets/controls",
          "model_name": "ProgressStyleModel",
          "state": {
            "_view_name": "StyleView",
            "_model_name": "ProgressStyleModel",
            "description_width": "initial",
            "_view_module": "@jupyter-widgets/base",
            "_model_module_version": "1.5.0",
            "_view_count": null,
            "_view_module_version": "1.2.0",
            "bar_color": null,
            "_model_module": "@jupyter-widgets/controls"
          }
        },
        "2061b19677504dd4b9415634d37ee8c5": {
          "model_module": "@jupyter-widgets/base",
          "model_name": "LayoutModel",
          "state": {
            "_view_name": "LayoutView",
            "grid_template_rows": null,
            "right": null,
            "justify_content": null,
            "_view_module": "@jupyter-widgets/base",
            "overflow": null,
            "_model_module_version": "1.2.0",
            "_view_count": null,
            "flex_flow": null,
            "width": null,
            "min_width": null,
            "border": null,
            "align_items": null,
            "bottom": null,
            "_model_module": "@jupyter-widgets/base",
            "top": null,
            "grid_column": null,
            "overflow_y": null,
            "overflow_x": null,
            "grid_auto_flow": null,
            "grid_area": null,
            "grid_template_columns": null,
            "flex": null,
            "_model_name": "LayoutModel",
            "justify_items": null,
            "grid_row": null,
            "max_height": null,
            "align_content": null,
            "visibility": null,
            "align_self": null,
            "height": null,
            "min_height": null,
            "padding": null,
            "grid_auto_rows": null,
            "grid_gap": null,
            "max_width": null,
            "order": null,
            "_view_module_version": "1.2.0",
            "grid_template_areas": null,
            "object_position": null,
            "object_fit": null,
            "grid_auto_columns": null,
            "margin": null,
            "display": null,
            "left": null
          }
        },
        "660a97fdbe5b4d758c28e73d035e51a1": {
          "model_module": "@jupyter-widgets/controls",
          "model_name": "DescriptionStyleModel",
          "state": {
            "_view_name": "StyleView",
            "_model_name": "DescriptionStyleModel",
            "description_width": "",
            "_view_module": "@jupyter-widgets/base",
            "_model_module_version": "1.5.0",
            "_view_count": null,
            "_view_module_version": "1.2.0",
            "_model_module": "@jupyter-widgets/controls"
          }
        },
        "fd10c6b2fb044dee9b444b63206c47e1": {
          "model_module": "@jupyter-widgets/base",
          "model_name": "LayoutModel",
          "state": {
            "_view_name": "LayoutView",
            "grid_template_rows": null,
            "right": null,
            "justify_content": null,
            "_view_module": "@jupyter-widgets/base",
            "overflow": null,
            "_model_module_version": "1.2.0",
            "_view_count": null,
            "flex_flow": null,
            "width": null,
            "min_width": null,
            "border": null,
            "align_items": null,
            "bottom": null,
            "_model_module": "@jupyter-widgets/base",
            "top": null,
            "grid_column": null,
            "overflow_y": null,
            "overflow_x": null,
            "grid_auto_flow": null,
            "grid_area": null,
            "grid_template_columns": null,
            "flex": null,
            "_model_name": "LayoutModel",
            "justify_items": null,
            "grid_row": null,
            "max_height": null,
            "align_content": null,
            "visibility": null,
            "align_self": null,
            "height": null,
            "min_height": null,
            "padding": null,
            "grid_auto_rows": null,
            "grid_gap": null,
            "max_width": null,
            "order": null,
            "_view_module_version": "1.2.0",
            "grid_template_areas": null,
            "object_position": null,
            "object_fit": null,
            "grid_auto_columns": null,
            "margin": null,
            "display": null,
            "left": null
          }
        },
        "74f84643fbf14c11b69777337cdb0e9c": {
          "model_module": "@jupyter-widgets/controls",
          "model_name": "HBoxModel",
          "state": {
            "_view_name": "HBoxView",
            "_dom_classes": [],
            "_model_name": "HBoxModel",
            "_view_module": "@jupyter-widgets/controls",
            "_model_module_version": "1.5.0",
            "_view_count": null,
            "_view_module_version": "1.5.0",
            "box_style": "",
            "layout": "IPY_MODEL_b6f133ed687f4846a19fa9a6e29ef289",
            "_model_module": "@jupyter-widgets/controls",
            "children": [
              "IPY_MODEL_8b1d7868e8a04cd9bd657ed908bacd3e",
              "IPY_MODEL_3910867b6fc84bbdbf908b14994cc4d3"
            ]
          }
        },
        "b6f133ed687f4846a19fa9a6e29ef289": {
          "model_module": "@jupyter-widgets/base",
          "model_name": "LayoutModel",
          "state": {
            "_view_name": "LayoutView",
            "grid_template_rows": null,
            "right": null,
            "justify_content": null,
            "_view_module": "@jupyter-widgets/base",
            "overflow": null,
            "_model_module_version": "1.2.0",
            "_view_count": null,
            "flex_flow": null,
            "width": null,
            "min_width": null,
            "border": null,
            "align_items": null,
            "bottom": null,
            "_model_module": "@jupyter-widgets/base",
            "top": null,
            "grid_column": null,
            "overflow_y": null,
            "overflow_x": null,
            "grid_auto_flow": null,
            "grid_area": null,
            "grid_template_columns": null,
            "flex": null,
            "_model_name": "LayoutModel",
            "justify_items": null,
            "grid_row": null,
            "max_height": null,
            "align_content": null,
            "visibility": null,
            "align_self": null,
            "height": null,
            "min_height": null,
            "padding": null,
            "grid_auto_rows": null,
            "grid_gap": null,
            "max_width": null,
            "order": null,
            "_view_module_version": "1.2.0",
            "grid_template_areas": null,
            "object_position": null,
            "object_fit": null,
            "grid_auto_columns": null,
            "margin": null,
            "display": null,
            "left": null
          }
        },
        "8b1d7868e8a04cd9bd657ed908bacd3e": {
          "model_module": "@jupyter-widgets/controls",
          "model_name": "FloatProgressModel",
          "state": {
            "_view_name": "ProgressView",
            "style": "IPY_MODEL_9b8824e949ed4e0e8f82c5aaf252aaa6",
            "_dom_classes": [],
            "description": "",
            "_model_name": "FloatProgressModel",
            "bar_style": "info",
            "max": 1,
            "_view_module": "@jupyter-widgets/controls",
            "_model_module_version": "1.5.0",
            "value": 1,
            "_view_count": null,
            "_view_module_version": "1.5.0",
            "orientation": "horizontal",
            "min": 0,
            "description_tooltip": null,
            "_model_module": "@jupyter-widgets/controls",
            "layout": "IPY_MODEL_2c77f9e81f034f4292c061bba942bcec"
          }
        },
        "3910867b6fc84bbdbf908b14994cc4d3": {
          "model_module": "@jupyter-widgets/controls",
          "model_name": "HTMLModel",
          "state": {
            "_view_name": "HTMLView",
            "style": "IPY_MODEL_90e35ee475fb41658369e390a141a6c5",
            "_dom_classes": [],
            "description": "",
            "_model_name": "HTMLModel",
            "placeholder": "​",
            "_view_module": "@jupyter-widgets/controls",
            "_model_module_version": "1.5.0",
            "value": " 50000/0 [00:28&lt;00:00, 1795.81 examples/s]",
            "_view_count": null,
            "_view_module_version": "1.5.0",
            "description_tooltip": null,
            "_model_module": "@jupyter-widgets/controls",
            "layout": "IPY_MODEL_49a0448ec85a47bf92518c2c6197f840"
          }
        },
        "9b8824e949ed4e0e8f82c5aaf252aaa6": {
          "model_module": "@jupyter-widgets/controls",
          "model_name": "ProgressStyleModel",
          "state": {
            "_view_name": "StyleView",
            "_model_name": "ProgressStyleModel",
            "description_width": "initial",
            "_view_module": "@jupyter-widgets/base",
            "_model_module_version": "1.5.0",
            "_view_count": null,
            "_view_module_version": "1.2.0",
            "bar_color": null,
            "_model_module": "@jupyter-widgets/controls"
          }
        },
        "2c77f9e81f034f4292c061bba942bcec": {
          "model_module": "@jupyter-widgets/base",
          "model_name": "LayoutModel",
          "state": {
            "_view_name": "LayoutView",
            "grid_template_rows": null,
            "right": null,
            "justify_content": null,
            "_view_module": "@jupyter-widgets/base",
            "overflow": null,
            "_model_module_version": "1.2.0",
            "_view_count": null,
            "flex_flow": null,
            "width": null,
            "min_width": null,
            "border": null,
            "align_items": null,
            "bottom": null,
            "_model_module": "@jupyter-widgets/base",
            "top": null,
            "grid_column": null,
            "overflow_y": null,
            "overflow_x": null,
            "grid_auto_flow": null,
            "grid_area": null,
            "grid_template_columns": null,
            "flex": null,
            "_model_name": "LayoutModel",
            "justify_items": null,
            "grid_row": null,
            "max_height": null,
            "align_content": null,
            "visibility": null,
            "align_self": null,
            "height": null,
            "min_height": null,
            "padding": null,
            "grid_auto_rows": null,
            "grid_gap": null,
            "max_width": null,
            "order": null,
            "_view_module_version": "1.2.0",
            "grid_template_areas": null,
            "object_position": null,
            "object_fit": null,
            "grid_auto_columns": null,
            "margin": null,
            "display": null,
            "left": null
          }
        },
        "90e35ee475fb41658369e390a141a6c5": {
          "model_module": "@jupyter-widgets/controls",
          "model_name": "DescriptionStyleModel",
          "state": {
            "_view_name": "StyleView",
            "_model_name": "DescriptionStyleModel",
            "description_width": "",
            "_view_module": "@jupyter-widgets/base",
            "_model_module_version": "1.5.0",
            "_view_count": null,
            "_view_module_version": "1.2.0",
            "_model_module": "@jupyter-widgets/controls"
          }
        },
        "49a0448ec85a47bf92518c2c6197f840": {
          "model_module": "@jupyter-widgets/base",
          "model_name": "LayoutModel",
          "state": {
            "_view_name": "LayoutView",
            "grid_template_rows": null,
            "right": null,
            "justify_content": null,
            "_view_module": "@jupyter-widgets/base",
            "overflow": null,
            "_model_module_version": "1.2.0",
            "_view_count": null,
            "flex_flow": null,
            "width": null,
            "min_width": null,
            "border": null,
            "align_items": null,
            "bottom": null,
            "_model_module": "@jupyter-widgets/base",
            "top": null,
            "grid_column": null,
            "overflow_y": null,
            "overflow_x": null,
            "grid_auto_flow": null,
            "grid_area": null,
            "grid_template_columns": null,
            "flex": null,
            "_model_name": "LayoutModel",
            "justify_items": null,
            "grid_row": null,
            "max_height": null,
            "align_content": null,
            "visibility": null,
            "align_self": null,
            "height": null,
            "min_height": null,
            "padding": null,
            "grid_auto_rows": null,
            "grid_gap": null,
            "max_width": null,
            "order": null,
            "_view_module_version": "1.2.0",
            "grid_template_areas": null,
            "object_position": null,
            "object_fit": null,
            "grid_auto_columns": null,
            "margin": null,
            "display": null,
            "left": null
          }
        },
        "1534596a12f0480084bce1da8b43122e": {
          "model_module": "@jupyter-widgets/controls",
          "model_name": "HBoxModel",
          "state": {
            "_view_name": "HBoxView",
            "_dom_classes": [],
            "_model_name": "HBoxModel",
            "_view_module": "@jupyter-widgets/controls",
            "_model_module_version": "1.5.0",
            "_view_count": null,
            "_view_module_version": "1.5.0",
            "box_style": "",
            "layout": "IPY_MODEL_1e7ce866a5bf42b7828827e1e4b21227",
            "_model_module": "@jupyter-widgets/controls",
            "children": [
              "IPY_MODEL_2cdb8a59ad9b4cf39a10958685dcac5b",
              "IPY_MODEL_9ccfa93cb62d44bba05d266d97d7ab02"
            ]
          }
        },
        "1e7ce866a5bf42b7828827e1e4b21227": {
          "model_module": "@jupyter-widgets/base",
          "model_name": "LayoutModel",
          "state": {
            "_view_name": "LayoutView",
            "grid_template_rows": null,
            "right": null,
            "justify_content": null,
            "_view_module": "@jupyter-widgets/base",
            "overflow": null,
            "_model_module_version": "1.2.0",
            "_view_count": null,
            "flex_flow": null,
            "width": null,
            "min_width": null,
            "border": null,
            "align_items": null,
            "bottom": null,
            "_model_module": "@jupyter-widgets/base",
            "top": null,
            "grid_column": null,
            "overflow_y": null,
            "overflow_x": null,
            "grid_auto_flow": null,
            "grid_area": null,
            "grid_template_columns": null,
            "flex": null,
            "_model_name": "LayoutModel",
            "justify_items": null,
            "grid_row": null,
            "max_height": null,
            "align_content": null,
            "visibility": null,
            "align_self": null,
            "height": null,
            "min_height": null,
            "padding": null,
            "grid_auto_rows": null,
            "grid_gap": null,
            "max_width": null,
            "order": null,
            "_view_module_version": "1.2.0",
            "grid_template_areas": null,
            "object_position": null,
            "object_fit": null,
            "grid_auto_columns": null,
            "margin": null,
            "display": null,
            "left": null
          }
        },
        "2cdb8a59ad9b4cf39a10958685dcac5b": {
          "model_module": "@jupyter-widgets/controls",
          "model_name": "FloatProgressModel",
          "state": {
            "_view_name": "ProgressView",
            "style": "IPY_MODEL_0b0d808a02764b52b8c368ff3651d8e6",
            "_dom_classes": [],
            "description": " 87%",
            "_model_name": "FloatProgressModel",
            "bar_style": "danger",
            "max": 50000,
            "_view_module": "@jupyter-widgets/controls",
            "_model_module_version": "1.5.0",
            "value": 43384,
            "_view_count": null,
            "_view_module_version": "1.5.0",
            "orientation": "horizontal",
            "min": 0,
            "description_tooltip": null,
            "_model_module": "@jupyter-widgets/controls",
            "layout": "IPY_MODEL_144f9d60e99a413f89560bedde85f140"
          }
        },
        "9ccfa93cb62d44bba05d266d97d7ab02": {
          "model_module": "@jupyter-widgets/controls",
          "model_name": "HTMLModel",
          "state": {
            "_view_name": "HTMLView",
            "style": "IPY_MODEL_1be84d9d05f14edca627e46d7bbbd553",
            "_dom_classes": [],
            "description": "",
            "_model_name": "HTMLModel",
            "placeholder": "​",
            "_view_module": "@jupyter-widgets/controls",
            "_model_module_version": "1.5.0",
            "value": " 43384/50000 [00:00&lt;00:00, 57546.51 examples/s]",
            "_view_count": null,
            "_view_module_version": "1.5.0",
            "description_tooltip": null,
            "_model_module": "@jupyter-widgets/controls",
            "layout": "IPY_MODEL_d501b7b99bdc46e8a1c95f8fb8505ec5"
          }
        },
        "0b0d808a02764b52b8c368ff3651d8e6": {
          "model_module": "@jupyter-widgets/controls",
          "model_name": "ProgressStyleModel",
          "state": {
            "_view_name": "StyleView",
            "_model_name": "ProgressStyleModel",
            "description_width": "initial",
            "_view_module": "@jupyter-widgets/base",
            "_model_module_version": "1.5.0",
            "_view_count": null,
            "_view_module_version": "1.2.0",
            "bar_color": null,
            "_model_module": "@jupyter-widgets/controls"
          }
        },
        "144f9d60e99a413f89560bedde85f140": {
          "model_module": "@jupyter-widgets/base",
          "model_name": "LayoutModel",
          "state": {
            "_view_name": "LayoutView",
            "grid_template_rows": null,
            "right": null,
            "justify_content": null,
            "_view_module": "@jupyter-widgets/base",
            "overflow": null,
            "_model_module_version": "1.2.0",
            "_view_count": null,
            "flex_flow": null,
            "width": null,
            "min_width": null,
            "border": null,
            "align_items": null,
            "bottom": null,
            "_model_module": "@jupyter-widgets/base",
            "top": null,
            "grid_column": null,
            "overflow_y": null,
            "overflow_x": null,
            "grid_auto_flow": null,
            "grid_area": null,
            "grid_template_columns": null,
            "flex": null,
            "_model_name": "LayoutModel",
            "justify_items": null,
            "grid_row": null,
            "max_height": null,
            "align_content": null,
            "visibility": null,
            "align_self": null,
            "height": null,
            "min_height": null,
            "padding": null,
            "grid_auto_rows": null,
            "grid_gap": null,
            "max_width": null,
            "order": null,
            "_view_module_version": "1.2.0",
            "grid_template_areas": null,
            "object_position": null,
            "object_fit": null,
            "grid_auto_columns": null,
            "margin": null,
            "display": null,
            "left": null
          }
        },
        "1be84d9d05f14edca627e46d7bbbd553": {
          "model_module": "@jupyter-widgets/controls",
          "model_name": "DescriptionStyleModel",
          "state": {
            "_view_name": "StyleView",
            "_model_name": "DescriptionStyleModel",
            "description_width": "",
            "_view_module": "@jupyter-widgets/base",
            "_model_module_version": "1.5.0",
            "_view_count": null,
            "_view_module_version": "1.2.0",
            "_model_module": "@jupyter-widgets/controls"
          }
        },
        "d501b7b99bdc46e8a1c95f8fb8505ec5": {
          "model_module": "@jupyter-widgets/base",
          "model_name": "LayoutModel",
          "state": {
            "_view_name": "LayoutView",
            "grid_template_rows": null,
            "right": null,
            "justify_content": null,
            "_view_module": "@jupyter-widgets/base",
            "overflow": null,
            "_model_module_version": "1.2.0",
            "_view_count": null,
            "flex_flow": null,
            "width": null,
            "min_width": null,
            "border": null,
            "align_items": null,
            "bottom": null,
            "_model_module": "@jupyter-widgets/base",
            "top": null,
            "grid_column": null,
            "overflow_y": null,
            "overflow_x": null,
            "grid_auto_flow": null,
            "grid_area": null,
            "grid_template_columns": null,
            "flex": null,
            "_model_name": "LayoutModel",
            "justify_items": null,
            "grid_row": null,
            "max_height": null,
            "align_content": null,
            "visibility": null,
            "align_self": null,
            "height": null,
            "min_height": null,
            "padding": null,
            "grid_auto_rows": null,
            "grid_gap": null,
            "max_width": null,
            "order": null,
            "_view_module_version": "1.2.0",
            "grid_template_areas": null,
            "object_position": null,
            "object_fit": null,
            "grid_auto_columns": null,
            "margin": null,
            "display": null,
            "left": null
          }
        },
        "eec7461e15fc4be295f37e4f1a8ea343": {
          "model_module": "@jupyter-widgets/controls",
          "model_name": "HBoxModel",
          "state": {
            "_view_name": "HBoxView",
            "_dom_classes": [],
            "_model_name": "HBoxModel",
            "_view_module": "@jupyter-widgets/controls",
            "_model_module_version": "1.5.0",
            "_view_count": null,
            "_view_module_version": "1.5.0",
            "box_style": "",
            "layout": "IPY_MODEL_9701216194724443ad0c1bb353186b98",
            "_model_module": "@jupyter-widgets/controls",
            "children": [
              "IPY_MODEL_65834346c35d400a8d60322b0802edb7",
              "IPY_MODEL_4721a4144ab64a0a9c45416afe7a8911"
            ]
          }
        },
        "9701216194724443ad0c1bb353186b98": {
          "model_module": "@jupyter-widgets/base",
          "model_name": "LayoutModel",
          "state": {
            "_view_name": "LayoutView",
            "grid_template_rows": null,
            "right": null,
            "justify_content": null,
            "_view_module": "@jupyter-widgets/base",
            "overflow": null,
            "_model_module_version": "1.2.0",
            "_view_count": null,
            "flex_flow": null,
            "width": null,
            "min_width": null,
            "border": null,
            "align_items": null,
            "bottom": null,
            "_model_module": "@jupyter-widgets/base",
            "top": null,
            "grid_column": null,
            "overflow_y": null,
            "overflow_x": null,
            "grid_auto_flow": null,
            "grid_area": null,
            "grid_template_columns": null,
            "flex": null,
            "_model_name": "LayoutModel",
            "justify_items": null,
            "grid_row": null,
            "max_height": null,
            "align_content": null,
            "visibility": null,
            "align_self": null,
            "height": null,
            "min_height": null,
            "padding": null,
            "grid_auto_rows": null,
            "grid_gap": null,
            "max_width": null,
            "order": null,
            "_view_module_version": "1.2.0",
            "grid_template_areas": null,
            "object_position": null,
            "object_fit": null,
            "grid_auto_columns": null,
            "margin": null,
            "display": null,
            "left": null
          }
        },
        "65834346c35d400a8d60322b0802edb7": {
          "model_module": "@jupyter-widgets/controls",
          "model_name": "FloatProgressModel",
          "state": {
            "_view_name": "ProgressView",
            "style": "IPY_MODEL_68defe8fdb044215b692ebdaadbb918a",
            "_dom_classes": [],
            "description": "",
            "_model_name": "FloatProgressModel",
            "bar_style": "info",
            "max": 1,
            "_view_module": "@jupyter-widgets/controls",
            "_model_module_version": "1.5.0",
            "value": 1,
            "_view_count": null,
            "_view_module_version": "1.5.0",
            "orientation": "horizontal",
            "min": 0,
            "description_tooltip": null,
            "_model_module": "@jupyter-widgets/controls",
            "layout": "IPY_MODEL_91e2a9aeabb244f58e14766967672d4c"
          }
        },
        "4721a4144ab64a0a9c45416afe7a8911": {
          "model_module": "@jupyter-widgets/controls",
          "model_name": "HTMLModel",
          "state": {
            "_view_name": "HTMLView",
            "style": "IPY_MODEL_4775f4c4eb2d41d0886a6d320fc902a3",
            "_dom_classes": [],
            "description": "",
            "_model_name": "HTMLModel",
            "placeholder": "​",
            "_view_module": "@jupyter-widgets/controls",
            "_model_module_version": "1.5.0",
            "value": " 10000/0 [00:05&lt;00:00, 1747.13 examples/s]",
            "_view_count": null,
            "_view_module_version": "1.5.0",
            "description_tooltip": null,
            "_model_module": "@jupyter-widgets/controls",
            "layout": "IPY_MODEL_6448567d0e6844a98e8f414803767897"
          }
        },
        "68defe8fdb044215b692ebdaadbb918a": {
          "model_module": "@jupyter-widgets/controls",
          "model_name": "ProgressStyleModel",
          "state": {
            "_view_name": "StyleView",
            "_model_name": "ProgressStyleModel",
            "description_width": "initial",
            "_view_module": "@jupyter-widgets/base",
            "_model_module_version": "1.5.0",
            "_view_count": null,
            "_view_module_version": "1.2.0",
            "bar_color": null,
            "_model_module": "@jupyter-widgets/controls"
          }
        },
        "91e2a9aeabb244f58e14766967672d4c": {
          "model_module": "@jupyter-widgets/base",
          "model_name": "LayoutModel",
          "state": {
            "_view_name": "LayoutView",
            "grid_template_rows": null,
            "right": null,
            "justify_content": null,
            "_view_module": "@jupyter-widgets/base",
            "overflow": null,
            "_model_module_version": "1.2.0",
            "_view_count": null,
            "flex_flow": null,
            "width": null,
            "min_width": null,
            "border": null,
            "align_items": null,
            "bottom": null,
            "_model_module": "@jupyter-widgets/base",
            "top": null,
            "grid_column": null,
            "overflow_y": null,
            "overflow_x": null,
            "grid_auto_flow": null,
            "grid_area": null,
            "grid_template_columns": null,
            "flex": null,
            "_model_name": "LayoutModel",
            "justify_items": null,
            "grid_row": null,
            "max_height": null,
            "align_content": null,
            "visibility": null,
            "align_self": null,
            "height": null,
            "min_height": null,
            "padding": null,
            "grid_auto_rows": null,
            "grid_gap": null,
            "max_width": null,
            "order": null,
            "_view_module_version": "1.2.0",
            "grid_template_areas": null,
            "object_position": null,
            "object_fit": null,
            "grid_auto_columns": null,
            "margin": null,
            "display": null,
            "left": null
          }
        },
        "4775f4c4eb2d41d0886a6d320fc902a3": {
          "model_module": "@jupyter-widgets/controls",
          "model_name": "DescriptionStyleModel",
          "state": {
            "_view_name": "StyleView",
            "_model_name": "DescriptionStyleModel",
            "description_width": "",
            "_view_module": "@jupyter-widgets/base",
            "_model_module_version": "1.5.0",
            "_view_count": null,
            "_view_module_version": "1.2.0",
            "_model_module": "@jupyter-widgets/controls"
          }
        },
        "6448567d0e6844a98e8f414803767897": {
          "model_module": "@jupyter-widgets/base",
          "model_name": "LayoutModel",
          "state": {
            "_view_name": "LayoutView",
            "grid_template_rows": null,
            "right": null,
            "justify_content": null,
            "_view_module": "@jupyter-widgets/base",
            "overflow": null,
            "_model_module_version": "1.2.0",
            "_view_count": null,
            "flex_flow": null,
            "width": null,
            "min_width": null,
            "border": null,
            "align_items": null,
            "bottom": null,
            "_model_module": "@jupyter-widgets/base",
            "top": null,
            "grid_column": null,
            "overflow_y": null,
            "overflow_x": null,
            "grid_auto_flow": null,
            "grid_area": null,
            "grid_template_columns": null,
            "flex": null,
            "_model_name": "LayoutModel",
            "justify_items": null,
            "grid_row": null,
            "max_height": null,
            "align_content": null,
            "visibility": null,
            "align_self": null,
            "height": null,
            "min_height": null,
            "padding": null,
            "grid_auto_rows": null,
            "grid_gap": null,
            "max_width": null,
            "order": null,
            "_view_module_version": "1.2.0",
            "grid_template_areas": null,
            "object_position": null,
            "object_fit": null,
            "grid_auto_columns": null,
            "margin": null,
            "display": null,
            "left": null
          }
        },
        "0312280c22324872a9ef3dce05a068a8": {
          "model_module": "@jupyter-widgets/controls",
          "model_name": "HBoxModel",
          "state": {
            "_view_name": "HBoxView",
            "_dom_classes": [],
            "_model_name": "HBoxModel",
            "_view_module": "@jupyter-widgets/controls",
            "_model_module_version": "1.5.0",
            "_view_count": null,
            "_view_module_version": "1.5.0",
            "box_style": "",
            "layout": "IPY_MODEL_f36b5a033e924f4f8187b5794ff93597",
            "_model_module": "@jupyter-widgets/controls",
            "children": [
              "IPY_MODEL_8e75cba427dc439cba255c1c95f6bcc5",
              "IPY_MODEL_aa317b68b2e54bce94a3c7943d2f5665"
            ]
          }
        },
        "f36b5a033e924f4f8187b5794ff93597": {
          "model_module": "@jupyter-widgets/base",
          "model_name": "LayoutModel",
          "state": {
            "_view_name": "LayoutView",
            "grid_template_rows": null,
            "right": null,
            "justify_content": null,
            "_view_module": "@jupyter-widgets/base",
            "overflow": null,
            "_model_module_version": "1.2.0",
            "_view_count": null,
            "flex_flow": null,
            "width": null,
            "min_width": null,
            "border": null,
            "align_items": null,
            "bottom": null,
            "_model_module": "@jupyter-widgets/base",
            "top": null,
            "grid_column": null,
            "overflow_y": null,
            "overflow_x": null,
            "grid_auto_flow": null,
            "grid_area": null,
            "grid_template_columns": null,
            "flex": null,
            "_model_name": "LayoutModel",
            "justify_items": null,
            "grid_row": null,
            "max_height": null,
            "align_content": null,
            "visibility": null,
            "align_self": null,
            "height": null,
            "min_height": null,
            "padding": null,
            "grid_auto_rows": null,
            "grid_gap": null,
            "max_width": null,
            "order": null,
            "_view_module_version": "1.2.0",
            "grid_template_areas": null,
            "object_position": null,
            "object_fit": null,
            "grid_auto_columns": null,
            "margin": null,
            "display": null,
            "left": null
          }
        },
        "8e75cba427dc439cba255c1c95f6bcc5": {
          "model_module": "@jupyter-widgets/controls",
          "model_name": "FloatProgressModel",
          "state": {
            "_view_name": "ProgressView",
            "style": "IPY_MODEL_307eff6636614c00826138f60ab971aa",
            "_dom_classes": [],
            "description": "  0%",
            "_model_name": "FloatProgressModel",
            "bar_style": "danger",
            "max": 10000,
            "_view_module": "@jupyter-widgets/controls",
            "_model_module_version": "1.5.0",
            "value": 0,
            "_view_count": null,
            "_view_module_version": "1.5.0",
            "orientation": "horizontal",
            "min": 0,
            "description_tooltip": null,
            "_model_module": "@jupyter-widgets/controls",
            "layout": "IPY_MODEL_5a9fe9abc8984554a4f6cc2e3102add9"
          }
        },
        "aa317b68b2e54bce94a3c7943d2f5665": {
          "model_module": "@jupyter-widgets/controls",
          "model_name": "HTMLModel",
          "state": {
            "_view_name": "HTMLView",
            "style": "IPY_MODEL_903269a513924016ac605eea647d57fc",
            "_dom_classes": [],
            "description": "",
            "_model_name": "HTMLModel",
            "placeholder": "​",
            "_view_module": "@jupyter-widgets/controls",
            "_model_module_version": "1.5.0",
            "value": " 0/10000 [00:00&lt;?, ? examples/s]",
            "_view_count": null,
            "_view_module_version": "1.5.0",
            "description_tooltip": null,
            "_model_module": "@jupyter-widgets/controls",
            "layout": "IPY_MODEL_82e0439e46d549cd9e53991a0c9a5ebb"
          }
        },
        "307eff6636614c00826138f60ab971aa": {
          "model_module": "@jupyter-widgets/controls",
          "model_name": "ProgressStyleModel",
          "state": {
            "_view_name": "StyleView",
            "_model_name": "ProgressStyleModel",
            "description_width": "initial",
            "_view_module": "@jupyter-widgets/base",
            "_model_module_version": "1.5.0",
            "_view_count": null,
            "_view_module_version": "1.2.0",
            "bar_color": null,
            "_model_module": "@jupyter-widgets/controls"
          }
        },
        "5a9fe9abc8984554a4f6cc2e3102add9": {
          "model_module": "@jupyter-widgets/base",
          "model_name": "LayoutModel",
          "state": {
            "_view_name": "LayoutView",
            "grid_template_rows": null,
            "right": null,
            "justify_content": null,
            "_view_module": "@jupyter-widgets/base",
            "overflow": null,
            "_model_module_version": "1.2.0",
            "_view_count": null,
            "flex_flow": null,
            "width": null,
            "min_width": null,
            "border": null,
            "align_items": null,
            "bottom": null,
            "_model_module": "@jupyter-widgets/base",
            "top": null,
            "grid_column": null,
            "overflow_y": null,
            "overflow_x": null,
            "grid_auto_flow": null,
            "grid_area": null,
            "grid_template_columns": null,
            "flex": null,
            "_model_name": "LayoutModel",
            "justify_items": null,
            "grid_row": null,
            "max_height": null,
            "align_content": null,
            "visibility": null,
            "align_self": null,
            "height": null,
            "min_height": null,
            "padding": null,
            "grid_auto_rows": null,
            "grid_gap": null,
            "max_width": null,
            "order": null,
            "_view_module_version": "1.2.0",
            "grid_template_areas": null,
            "object_position": null,
            "object_fit": null,
            "grid_auto_columns": null,
            "margin": null,
            "display": null,
            "left": null
          }
        },
        "903269a513924016ac605eea647d57fc": {
          "model_module": "@jupyter-widgets/controls",
          "model_name": "DescriptionStyleModel",
          "state": {
            "_view_name": "StyleView",
            "_model_name": "DescriptionStyleModel",
            "description_width": "",
            "_view_module": "@jupyter-widgets/base",
            "_model_module_version": "1.5.0",
            "_view_count": null,
            "_view_module_version": "1.2.0",
            "_model_module": "@jupyter-widgets/controls"
          }
        },
        "82e0439e46d549cd9e53991a0c9a5ebb": {
          "model_module": "@jupyter-widgets/base",
          "model_name": "LayoutModel",
          "state": {
            "_view_name": "LayoutView",
            "grid_template_rows": null,
            "right": null,
            "justify_content": null,
            "_view_module": "@jupyter-widgets/base",
            "overflow": null,
            "_model_module_version": "1.2.0",
            "_view_count": null,
            "flex_flow": null,
            "width": null,
            "min_width": null,
            "border": null,
            "align_items": null,
            "bottom": null,
            "_model_module": "@jupyter-widgets/base",
            "top": null,
            "grid_column": null,
            "overflow_y": null,
            "overflow_x": null,
            "grid_auto_flow": null,
            "grid_area": null,
            "grid_template_columns": null,
            "flex": null,
            "_model_name": "LayoutModel",
            "justify_items": null,
            "grid_row": null,
            "max_height": null,
            "align_content": null,
            "visibility": null,
            "align_self": null,
            "height": null,
            "min_height": null,
            "padding": null,
            "grid_auto_rows": null,
            "grid_gap": null,
            "max_width": null,
            "order": null,
            "_view_module_version": "1.2.0",
            "grid_template_areas": null,
            "object_position": null,
            "object_fit": null,
            "grid_auto_columns": null,
            "margin": null,
            "display": null,
            "left": null
          }
        },
        "141f61060e6a4a86a78f1e1a56f4bb7a": {
          "model_module": "@jupyter-widgets/controls",
          "model_name": "VBoxModel",
          "state": {
            "_view_name": "VBoxView",
            "_dom_classes": [],
            "_model_name": "VBoxModel",
            "_view_module": "@jupyter-widgets/controls",
            "_model_module_version": "1.5.0",
            "_view_count": null,
            "_view_module_version": "1.5.0",
            "box_style": "",
            "layout": "IPY_MODEL_ad21f43f174d4eb1ba7f28061f610ff5",
            "_model_module": "@jupyter-widgets/controls",
            "children": [
              "IPY_MODEL_31a446e0c2384f5c8e6d621f533288d3",
              "IPY_MODEL_2001ea7ad953474397015af46d7c87bd"
            ]
          }
        },
        "ad21f43f174d4eb1ba7f28061f610ff5": {
          "model_module": "@jupyter-widgets/base",
          "model_name": "LayoutModel",
          "state": {
            "_view_name": "LayoutView",
            "grid_template_rows": null,
            "right": null,
            "justify_content": null,
            "_view_module": "@jupyter-widgets/base",
            "overflow": null,
            "_model_module_version": "1.2.0",
            "_view_count": null,
            "flex_flow": null,
            "width": null,
            "min_width": null,
            "border": null,
            "align_items": null,
            "bottom": null,
            "_model_module": "@jupyter-widgets/base",
            "top": null,
            "grid_column": null,
            "overflow_y": null,
            "overflow_x": null,
            "grid_auto_flow": null,
            "grid_area": null,
            "grid_template_columns": null,
            "flex": null,
            "_model_name": "LayoutModel",
            "justify_items": null,
            "grid_row": null,
            "max_height": null,
            "align_content": null,
            "visibility": null,
            "align_self": null,
            "height": null,
            "min_height": null,
            "padding": null,
            "grid_auto_rows": null,
            "grid_gap": null,
            "max_width": null,
            "order": null,
            "_view_module_version": "1.2.0",
            "grid_template_areas": null,
            "object_position": null,
            "object_fit": null,
            "grid_auto_columns": null,
            "margin": null,
            "display": null,
            "left": null
          }
        },
        "31a446e0c2384f5c8e6d621f533288d3": {
          "model_module": "@jupyter-widgets/controls",
          "model_name": "LabelModel",
          "state": {
            "_view_name": "LabelView",
            "style": "IPY_MODEL_634efae393414dcc8ac4c66732f4b5d9",
            "_dom_classes": [],
            "description": "",
            "_model_name": "LabelModel",
            "placeholder": "​",
            "_view_module": "@jupyter-widgets/controls",
            "_model_module_version": "1.5.0",
            "value": " 1.15MB of 1.15MB uploaded (0.00MB deduped)\r",
            "_view_count": null,
            "_view_module_version": "1.5.0",
            "description_tooltip": null,
            "_model_module": "@jupyter-widgets/controls",
            "layout": "IPY_MODEL_6f2e2b3de78d4eb1991268bbe32ea024"
          }
        },
        "2001ea7ad953474397015af46d7c87bd": {
          "model_module": "@jupyter-widgets/controls",
          "model_name": "FloatProgressModel",
          "state": {
            "_view_name": "ProgressView",
            "style": "IPY_MODEL_76dee5f214fa453899105252d9bf6c6a",
            "_dom_classes": [],
            "description": "",
            "_model_name": "FloatProgressModel",
            "bar_style": "",
            "max": 1,
            "_view_module": "@jupyter-widgets/controls",
            "_model_module_version": "1.5.0",
            "value": 1,
            "_view_count": null,
            "_view_module_version": "1.5.0",
            "orientation": "horizontal",
            "min": 0,
            "description_tooltip": null,
            "_model_module": "@jupyter-widgets/controls",
            "layout": "IPY_MODEL_2b722d40d6bf45b5957e4a38c7d60b26"
          }
        },
        "634efae393414dcc8ac4c66732f4b5d9": {
          "model_module": "@jupyter-widgets/controls",
          "model_name": "DescriptionStyleModel",
          "state": {
            "_view_name": "StyleView",
            "_model_name": "DescriptionStyleModel",
            "description_width": "",
            "_view_module": "@jupyter-widgets/base",
            "_model_module_version": "1.5.0",
            "_view_count": null,
            "_view_module_version": "1.2.0",
            "_model_module": "@jupyter-widgets/controls"
          }
        },
        "6f2e2b3de78d4eb1991268bbe32ea024": {
          "model_module": "@jupyter-widgets/base",
          "model_name": "LayoutModel",
          "state": {
            "_view_name": "LayoutView",
            "grid_template_rows": null,
            "right": null,
            "justify_content": null,
            "_view_module": "@jupyter-widgets/base",
            "overflow": null,
            "_model_module_version": "1.2.0",
            "_view_count": null,
            "flex_flow": null,
            "width": null,
            "min_width": null,
            "border": null,
            "align_items": null,
            "bottom": null,
            "_model_module": "@jupyter-widgets/base",
            "top": null,
            "grid_column": null,
            "overflow_y": null,
            "overflow_x": null,
            "grid_auto_flow": null,
            "grid_area": null,
            "grid_template_columns": null,
            "flex": null,
            "_model_name": "LayoutModel",
            "justify_items": null,
            "grid_row": null,
            "max_height": null,
            "align_content": null,
            "visibility": null,
            "align_self": null,
            "height": null,
            "min_height": null,
            "padding": null,
            "grid_auto_rows": null,
            "grid_gap": null,
            "max_width": null,
            "order": null,
            "_view_module_version": "1.2.0",
            "grid_template_areas": null,
            "object_position": null,
            "object_fit": null,
            "grid_auto_columns": null,
            "margin": null,
            "display": null,
            "left": null
          }
        },
        "76dee5f214fa453899105252d9bf6c6a": {
          "model_module": "@jupyter-widgets/controls",
          "model_name": "ProgressStyleModel",
          "state": {
            "_view_name": "StyleView",
            "_model_name": "ProgressStyleModel",
            "description_width": "",
            "_view_module": "@jupyter-widgets/base",
            "_model_module_version": "1.5.0",
            "_view_count": null,
            "_view_module_version": "1.2.0",
            "bar_color": null,
            "_model_module": "@jupyter-widgets/controls"
          }
        },
        "2b722d40d6bf45b5957e4a38c7d60b26": {
          "model_module": "@jupyter-widgets/base",
          "model_name": "LayoutModel",
          "state": {
            "_view_name": "LayoutView",
            "grid_template_rows": null,
            "right": null,
            "justify_content": null,
            "_view_module": "@jupyter-widgets/base",
            "overflow": null,
            "_model_module_version": "1.2.0",
            "_view_count": null,
            "flex_flow": null,
            "width": null,
            "min_width": null,
            "border": null,
            "align_items": null,
            "bottom": null,
            "_model_module": "@jupyter-widgets/base",
            "top": null,
            "grid_column": null,
            "overflow_y": null,
            "overflow_x": null,
            "grid_auto_flow": null,
            "grid_area": null,
            "grid_template_columns": null,
            "flex": null,
            "_model_name": "LayoutModel",
            "justify_items": null,
            "grid_row": null,
            "max_height": null,
            "align_content": null,
            "visibility": null,
            "align_self": null,
            "height": null,
            "min_height": null,
            "padding": null,
            "grid_auto_rows": null,
            "grid_gap": null,
            "max_width": null,
            "order": null,
            "_view_module_version": "1.2.0",
            "grid_template_areas": null,
            "object_position": null,
            "object_fit": null,
            "grid_auto_columns": null,
            "margin": null,
            "display": null,
            "left": null
          }
        }
      }
    }
  },
  "cells": [
    {
      "cell_type": "markdown",
      "metadata": {
        "id": "view-in-github",
        "colab_type": "text"
      },
      "source": [
        "<a href=\"https://colab.research.google.com/github/ayulockin/Explore-NFNet/blob/main/Train_Basline_With_Adaptive_Gradient_Clipping.ipynb\" target=\"_parent\"><img src=\"https://colab.research.google.com/assets/colab-badge.svg\" alt=\"Open In Colab\"/></a>"
      ]
    },
    {
      "cell_type": "markdown",
      "metadata": {
        "id": "Z8i6DNHr94le"
      },
      "source": [
        "# 🧰 Setups, Installations and Imports"
      ]
    },
    {
      "cell_type": "code",
      "metadata": {
        "id": "gEoLE6VB9oWm"
      },
      "source": [
        "%%capture\r\n",
        "!pip install wandb --upgrade\r\n",
        "!pip install albumentations"
      ],
      "execution_count": null,
      "outputs": []
    },
    {
      "cell_type": "code",
      "metadata": {
        "colab": {
          "base_uri": "https://localhost:8080/"
        },
        "id": "xl9NB7qu-RGa",
        "outputId": "879b6944-7d43-43b3-f64c-b583d0095e6c"
      },
      "source": [
        "!git clone https://github.com/ayulockin/Explore-NFNet"
      ],
      "execution_count": null,
      "outputs": [
        {
          "output_type": "stream",
          "text": [
            "Cloning into 'Explore-NFNet'...\n",
            "remote: Enumerating objects: 57, done.\u001b[K\n",
            "remote: Counting objects: 100% (57/57), done.\u001b[K\n",
            "remote: Compressing objects: 100% (51/51), done.\u001b[K\n",
            "remote: Total 57 (delta 21), reused 16 (delta 4), pack-reused 0\u001b[K\n",
            "Unpacking objects: 100% (57/57), done.\n"
          ],
          "name": "stdout"
        }
      ]
    },
    {
      "cell_type": "code",
      "metadata": {
        "colab": {
          "base_uri": "https://localhost:8080/"
        },
        "id": "3L-K1KWP--ew",
        "outputId": "2a9a8fb1-2c5f-4824-f402-cf977ee8a6aa"
      },
      "source": [
        "import tensorflow as tf\r\n",
        "print(tf.__version__)\r\n",
        "\r\n",
        "import tensorflow_datasets as tfds\r\n",
        "\r\n",
        "import sys\r\n",
        "sys.path.append(\"Explore-NFNet\")\r\n",
        "import os\r\n",
        "import cv2\r\n",
        "import numpy as np\r\n",
        "from functools import partial\r\n",
        "import matplotlib.pyplot as plt\r\n",
        "\r\n",
        "# Imports from the cloned repository\r\n",
        "import agc\r\n",
        "from models.resnet import resnet_v1 \r\n",
        "from models.mini_vgg import get_mini_vgg\r\n",
        "\r\n",
        "# Augmentation related imports\r\n",
        "import albumentations as A\r\n",
        "\r\n",
        "# Seed everything for reproducibility\r\n",
        "def seed_everything():\r\n",
        "    # Set the random seeds\r\n",
        "    os.environ['TF_CUDNN_DETERMINISTIC'] = '1' \r\n",
        "    np.random.seed(hash(\"improves reproducibility\") % 2**32 - 1)\r\n",
        "    tf.random.set_seed(hash(\"by removing stochasticity\") % 2**32 - 1)\r\n",
        "\r\n",
        "seed_everything()\r\n",
        "\r\n",
        "# Avoid TensorFlow to allocate all the GPU at once. \r\n",
        "# Ref: https://www.tensorflow.org/guide/gpu\r\n",
        "gpus = tf.config.experimental.list_physical_devices('GPU')\r\n",
        "if gpus:\r\n",
        "  try:\r\n",
        "    # Currently, memory growth needs to be the same across GPUs\r\n",
        "    for gpu in gpus:\r\n",
        "      tf.config.experimental.set_memory_growth(gpu, True)\r\n",
        "    logical_gpus = tf.config.experimental.list_logical_devices('GPU')\r\n",
        "    print(len(gpus), \"Physical GPUs,\", len(logical_gpus), \"Logical GPUs\")\r\n",
        "  except RuntimeError as e:\r\n",
        "    # Memory growth must be set before GPUs have been initialized\r\n",
        "    print(e)"
      ],
      "execution_count": null,
      "outputs": [
        {
          "output_type": "stream",
          "text": [
            "2.4.1\n",
            "1 Physical GPUs, 1 Logical GPUs\n"
          ],
          "name": "stdout"
        }
      ]
    },
    {
      "cell_type": "code",
      "metadata": {
        "colab": {
          "base_uri": "https://localhost:8080/",
          "height": 72
        },
        "id": "f4l3n2nUCTXZ",
        "outputId": "27d9e489-88b4-4cde-c3de-63a1fe8601c7"
      },
      "source": [
        "import wandb\r\n",
        "from wandb.keras import WandbCallback\r\n",
        "\r\n",
        "wandb.login()"
      ],
      "execution_count": null,
      "outputs": [
        {
          "output_type": "display_data",
          "data": {
            "application/javascript": [
              "\n",
              "        window._wandbApiKey = new Promise((resolve, reject) => {\n",
              "            function loadScript(url) {\n",
              "            return new Promise(function(resolve, reject) {\n",
              "                let newScript = document.createElement(\"script\");\n",
              "                newScript.onerror = reject;\n",
              "                newScript.onload = resolve;\n",
              "                document.body.appendChild(newScript);\n",
              "                newScript.src = url;\n",
              "            });\n",
              "            }\n",
              "            loadScript(\"https://cdn.jsdelivr.net/npm/postmate/build/postmate.min.js\").then(() => {\n",
              "            const iframe = document.createElement('iframe')\n",
              "            iframe.style.cssText = \"width:0;height:0;border:none\"\n",
              "            document.body.appendChild(iframe)\n",
              "            const handshake = new Postmate({\n",
              "                container: iframe,\n",
              "                url: 'https://wandb.ai/authorize'\n",
              "            });\n",
              "            const timeout = setTimeout(() => reject(\"Couldn't auto authenticate\"), 5000)\n",
              "            handshake.then(function(child) {\n",
              "                child.on('authorize', data => {\n",
              "                    clearTimeout(timeout)\n",
              "                    resolve(data)\n",
              "                });\n",
              "            });\n",
              "            })\n",
              "        });\n",
              "    "
            ],
            "text/plain": [
              "<IPython.core.display.Javascript object>"
            ]
          },
          "metadata": {
            "tags": []
          }
        },
        {
          "output_type": "stream",
          "text": [
            "\u001b[34m\u001b[1mwandb\u001b[0m: Appending key for api.wandb.ai to your netrc file: /root/.netrc\n"
          ],
          "name": "stderr"
        },
        {
          "output_type": "execute_result",
          "data": {
            "text/plain": [
              "True"
            ]
          },
          "metadata": {
            "tags": []
          },
          "execution_count": 4
        }
      ]
    },
    {
      "cell_type": "code",
      "metadata": {
        "colab": {
          "base_uri": "https://localhost:8080/"
        },
        "id": "pznR5VjyIcXa",
        "outputId": "2ac35c72-fd9d-4e0d-a357-de9e9e015659"
      },
      "source": [
        "DATASET_NAME = 'cifar10'\r\n",
        "IMG_HEIGHT = 32\r\n",
        "IMG_WIDTH = 32\r\n",
        "NUM_CLASSES = 10\r\n",
        "SHUFFLE_BUFFER = 1024\r\n",
        "BATCH_SIZE = 1024\r\n",
        "EPOCHS = 100\r\n",
        "\r\n",
        "AUTOTUNE = tf.data.experimental.AUTOTUNE\r\n",
        "\r\n",
        "print(f'Global batch size is: {BATCH_SIZE}')"
      ],
      "execution_count": null,
      "outputs": [
        {
          "output_type": "stream",
          "text": [
            "Global batch size is: 1024\n"
          ],
          "name": "stdout"
        }
      ]
    },
    {
      "cell_type": "markdown",
      "metadata": {
        "id": "O0hNZfPXDK6s"
      },
      "source": [
        "# ⛄ Download and Prepare Dataset"
      ]
    },
    {
      "cell_type": "code",
      "metadata": {
        "id": "PSxPal9ECQEO",
        "colab": {
          "base_uri": "https://localhost:8080/",
          "height": 384,
          "referenced_widgets": [
            "3d73934c53674aec8ae383aef05363d8",
            "71edb5cc7ba34414a061b82766e8a7ee",
            "abaa013713234624809a4794aaa26a7d",
            "25ba5b30f13c42b291c44909cee8398d",
            "1f5678ba237a49c681a7182e30d6757c",
            "b9b12be4e8464ff1b174a9b9ebd57d3e",
            "feb0c62c6b724c358ada23f6b04e3bf4",
            "2ad9cb9469ae4fb5b4d33aee33f0f1c4",
            "f1f580c3bcb74e11ba3ff6b036bbfc77",
            "a12fc2cb3dca4b8c81c45be4da441d2a",
            "46204221a56f46f59a5859c9446c76e4",
            "ba6f3f66334746ff9a8b9e11a9c386f5",
            "47c987f1da3846f1b5256392588bee81",
            "81ecf1fcacd14d1c8aea12e6842c4018",
            "169efbbf3ad24064b5c626d6f3e9ddc5",
            "3dba302f7e544fb081b6c74f634946b2",
            "c0bd622c835844619416e29ebf24d5d5",
            "18c4e7b63ab84a499197d6dd7d07e945",
            "9db4e87f1def44aebdb76798e32284f8",
            "9fa57bd3c0c047d7aeb0b29d4597492c",
            "452d6e22a4594885a07cc8f2945ad24c",
            "2061b19677504dd4b9415634d37ee8c5",
            "660a97fdbe5b4d758c28e73d035e51a1",
            "fd10c6b2fb044dee9b444b63206c47e1",
            "74f84643fbf14c11b69777337cdb0e9c",
            "b6f133ed687f4846a19fa9a6e29ef289",
            "8b1d7868e8a04cd9bd657ed908bacd3e",
            "3910867b6fc84bbdbf908b14994cc4d3",
            "9b8824e949ed4e0e8f82c5aaf252aaa6",
            "2c77f9e81f034f4292c061bba942bcec",
            "90e35ee475fb41658369e390a141a6c5",
            "49a0448ec85a47bf92518c2c6197f840",
            "1534596a12f0480084bce1da8b43122e",
            "1e7ce866a5bf42b7828827e1e4b21227",
            "2cdb8a59ad9b4cf39a10958685dcac5b",
            "9ccfa93cb62d44bba05d266d97d7ab02",
            "0b0d808a02764b52b8c368ff3651d8e6",
            "144f9d60e99a413f89560bedde85f140",
            "1be84d9d05f14edca627e46d7bbbd553",
            "d501b7b99bdc46e8a1c95f8fb8505ec5",
            "eec7461e15fc4be295f37e4f1a8ea343",
            "9701216194724443ad0c1bb353186b98",
            "65834346c35d400a8d60322b0802edb7",
            "4721a4144ab64a0a9c45416afe7a8911",
            "68defe8fdb044215b692ebdaadbb918a",
            "91e2a9aeabb244f58e14766967672d4c",
            "4775f4c4eb2d41d0886a6d320fc902a3",
            "6448567d0e6844a98e8f414803767897",
            "0312280c22324872a9ef3dce05a068a8",
            "f36b5a033e924f4f8187b5794ff93597",
            "8e75cba427dc439cba255c1c95f6bcc5",
            "aa317b68b2e54bce94a3c7943d2f5665",
            "307eff6636614c00826138f60ab971aa",
            "5a9fe9abc8984554a4f6cc2e3102add9",
            "903269a513924016ac605eea647d57fc",
            "82e0439e46d549cd9e53991a0c9a5ebb"
          ]
        },
        "outputId": "52392c83-cafe-4ec2-9a5b-ae526bd1b3da"
      },
      "source": [
        "(train_ds, val_ds, test_ds), info = tfds.load(name=DATASET_NAME, \r\n",
        "                          split=[\"train[:85%]\", \"train[85%:]\", \"test\"], \r\n",
        "                          with_info=True,\r\n",
        "                          as_supervised=True)"
      ],
      "execution_count": null,
      "outputs": [
        {
          "output_type": "stream",
          "text": [
            "\u001b[1mDownloading and preparing dataset cifar10/3.0.2 (download: 162.17 MiB, generated: 132.40 MiB, total: 294.58 MiB) to /root/tensorflow_datasets/cifar10/3.0.2...\u001b[0m\n"
          ],
          "name": "stdout"
        },
        {
          "output_type": "display_data",
          "data": {
            "application/vnd.jupyter.widget-view+json": {
              "model_id": "3d73934c53674aec8ae383aef05363d8",
              "version_minor": 0,
              "version_major": 2
            },
            "text/plain": [
              "HBox(children=(FloatProgress(value=1.0, bar_style='info', description='Dl Completed...', max=1.0, style=Progre…"
            ]
          },
          "metadata": {
            "tags": []
          }
        },
        {
          "output_type": "display_data",
          "data": {
            "application/vnd.jupyter.widget-view+json": {
              "model_id": "f1f580c3bcb74e11ba3ff6b036bbfc77",
              "version_minor": 0,
              "version_major": 2
            },
            "text/plain": [
              "HBox(children=(FloatProgress(value=1.0, bar_style='info', description='Dl Size...', max=1.0, style=ProgressSty…"
            ]
          },
          "metadata": {
            "tags": []
          }
        },
        {
          "output_type": "display_data",
          "data": {
            "application/vnd.jupyter.widget-view+json": {
              "model_id": "c0bd622c835844619416e29ebf24d5d5",
              "version_minor": 0,
              "version_major": 2
            },
            "text/plain": [
              "HBox(children=(FloatProgress(value=1.0, bar_style='info', description='Extraction completed...', max=1.0, styl…"
            ]
          },
          "metadata": {
            "tags": []
          }
        },
        {
          "output_type": "stream",
          "text": [
            "\n",
            "\n",
            "\n",
            "\n",
            "\n",
            "\n"
          ],
          "name": "stdout"
        },
        {
          "output_type": "display_data",
          "data": {
            "application/vnd.jupyter.widget-view+json": {
              "model_id": "74f84643fbf14c11b69777337cdb0e9c",
              "version_minor": 0,
              "version_major": 2
            },
            "text/plain": [
              "HBox(children=(FloatProgress(value=1.0, bar_style='info', max=1.0), HTML(value='')))"
            ]
          },
          "metadata": {
            "tags": []
          }
        },
        {
          "output_type": "stream",
          "text": [
            "\rShuffling and writing examples to /root/tensorflow_datasets/cifar10/3.0.2.incomplete815EWZ/cifar10-train.tfrecord\n"
          ],
          "name": "stdout"
        },
        {
          "output_type": "display_data",
          "data": {
            "application/vnd.jupyter.widget-view+json": {
              "model_id": "1534596a12f0480084bce1da8b43122e",
              "version_minor": 0,
              "version_major": 2
            },
            "text/plain": [
              "HBox(children=(FloatProgress(value=0.0, max=50000.0), HTML(value='')))"
            ]
          },
          "metadata": {
            "tags": []
          }
        },
        {
          "output_type": "stream",
          "text": [
            "\r"
          ],
          "name": "stdout"
        },
        {
          "output_type": "display_data",
          "data": {
            "application/vnd.jupyter.widget-view+json": {
              "model_id": "eec7461e15fc4be295f37e4f1a8ea343",
              "version_minor": 0,
              "version_major": 2
            },
            "text/plain": [
              "HBox(children=(FloatProgress(value=1.0, bar_style='info', max=1.0), HTML(value='')))"
            ]
          },
          "metadata": {
            "tags": []
          }
        },
        {
          "output_type": "stream",
          "text": [
            "\rShuffling and writing examples to /root/tensorflow_datasets/cifar10/3.0.2.incomplete815EWZ/cifar10-test.tfrecord\n"
          ],
          "name": "stdout"
        },
        {
          "output_type": "display_data",
          "data": {
            "application/vnd.jupyter.widget-view+json": {
              "model_id": "0312280c22324872a9ef3dce05a068a8",
              "version_minor": 0,
              "version_major": 2
            },
            "text/plain": [
              "HBox(children=(FloatProgress(value=0.0, max=10000.0), HTML(value='')))"
            ]
          },
          "metadata": {
            "tags": []
          }
        },
        {
          "output_type": "stream",
          "text": [
            "\u001b[1mDataset cifar10 downloaded and prepared to /root/tensorflow_datasets/cifar10/3.0.2. Subsequent calls will reuse this data.\u001b[0m\n",
            "\r"
          ],
          "name": "stdout"
        }
      ]
    },
    {
      "cell_type": "code",
      "metadata": {
        "id": "-9-yRafkGWIk"
      },
      "source": [
        "@tf.function\r\n",
        "def preprocess(image, label):\r\n",
        "    # preprocess image\r\n",
        "    image = tf.cast(image, tf.float32)\r\n",
        "    image = image/255.0\r\n",
        "\r\n",
        "    return image, label\r\n",
        "\r\n",
        "# Define the augmentation policies. Note that they are applied sequentially with some probability p.\r\n",
        "transforms = A.Compose([\r\n",
        "                A.HorizontalFlip(p=0.7),\r\n",
        "                A.Rotate(limit=30, p=0.7)\r\n",
        "        ])\r\n",
        "\r\n",
        "# Apply augmentation policies.\r\n",
        "def aug_fn(image):\r\n",
        "    data = {\"image\":image}\r\n",
        "    aug_data = transforms(**data)\r\n",
        "    aug_img = aug_data[\"image\"]\r\n",
        "\r\n",
        "    return aug_img\r\n",
        "\r\n",
        "@tf.function\r\n",
        "def apply_augmentation(image, label):\r\n",
        "    aug_img = tf.numpy_function(func=aug_fn, inp=[image], Tout=tf.float32)\r\n",
        "    aug_img.set_shape((IMG_HEIGHT, IMG_WIDTH, 3))\r\n",
        "    \r\n",
        "    return aug_img, label\r\n",
        "\r\n",
        "train_ds = (\r\n",
        "    train_ds\r\n",
        "    .shuffle(SHUFFLE_BUFFER)\r\n",
        "    .map(preprocess, num_parallel_calls=AUTOTUNE)\r\n",
        "    .map(apply_augmentation, num_parallel_calls=AUTOTUNE)\r\n",
        "    .batch(BATCH_SIZE)\r\n",
        "    .prefetch(AUTOTUNE)\r\n",
        ")\r\n",
        "\r\n",
        "val_ds = (\r\n",
        "    val_ds\r\n",
        "    .map(preprocess, num_parallel_calls=AUTOTUNE)\r\n",
        "    .batch(BATCH_SIZE)\r\n",
        "    .prefetch(AUTOTUNE)\r\n",
        ")\r\n",
        "\r\n",
        "test_ds = (\r\n",
        "    test_ds\r\n",
        "    .map(preprocess, num_parallel_calls=AUTOTUNE)\r\n",
        "    .batch(BATCH_SIZE)\r\n",
        "    .prefetch(AUTOTUNE)\r\n",
        ")"
      ],
      "execution_count": null,
      "outputs": []
    },
    {
      "cell_type": "code",
      "metadata": {
        "colab": {
          "base_uri": "https://localhost:8080/",
          "height": 610
        },
        "id": "uzWkS_AZGbdW",
        "outputId": "5d06cc6d-9093-4fd0-88e8-639056b3f764"
      },
      "source": [
        "def show_batch(image_batch, label_batch):\r\n",
        "  plt.figure(figsize=(10,10))\r\n",
        "  for n in range(25):\r\n",
        "      ax = plt.subplot(5,5,n+1)\r\n",
        "      plt.imshow(image_batch[n])\r\n",
        "      # plt.title(f'{np.argmax(label_batch[n].numpy())}')\r\n",
        "      plt.title(f'{label_batch[n].numpy()}')\r\n",
        "      plt.axis('off')\r\n",
        "  \r\n",
        "image_batch, label_batch = next(iter(train_ds))\r\n",
        "show_batch(image_batch, label_batch)\r\n",
        "\r\n",
        "print(image_batch.shape, label_batch.shape)"
      ],
      "execution_count": null,
      "outputs": [
        {
          "output_type": "stream",
          "text": [
            "(1024, 32, 32, 3) (1024,)\n"
          ],
          "name": "stdout"
        },
        {
          "output_type": "display_data",
          "data": {
            "image/png": "[encoded data removed]",
            "text/plain": [
              "<Figure size 720x720 with 25 Axes>"
            ]
          },
          "metadata": {
            "tags": [],
            "needs_background": "light"
          }
        }
      ]
    },
    {
      "cell_type": "markdown",
      "metadata": {
        "id": "wcDd118WJpmf"
      },
      "source": [
        "# 🐤 Model"
      ]
    },
    {
      "cell_type": "code",
      "metadata": {
        "colab": {
          "base_uri": "https://localhost:8080/"
        },
        "id": "jmaYHGFYJMQU",
        "outputId": "a0dd8546-4e9d-40e2-ca2d-a8133ff33c7d"
      },
      "source": [
        "class ResNetModel(tf.keras.Model):\r\n",
        "    def __init__(self, resnet, clip_factor=0.01, eps=1e-3):\r\n",
        "        super(ResNetModel, self).__init__()\r\n",
        "        self.resnet = resnet\r\n",
        "        self.clip_factor = clip_factor\r\n",
        "        self.eps = eps\r\n",
        "    \r\n",
        "    def train_step(self, data):\r\n",
        "        images, labels = data\r\n",
        "\r\n",
        "        with tf.GradientTape() as tape:\r\n",
        "            predictions = self.resnet(images)\r\n",
        "            loss = self.compiled_loss(labels, predictions)\r\n",
        "\r\n",
        "        trainable_params = self.resnet.trainable_variables\r\n",
        "        gradients = tape.gradient(loss, trainable_params)  \r\n",
        "        agc_gradients = agc.adaptive_clip_grad(trainable_params, gradients, \r\n",
        "                                               clip_factor=self.clip_factor, eps=self.eps)\r\n",
        "\r\n",
        "        self.optimizer.apply_gradients(zip(agc_gradients, trainable_params))\r\n",
        "\r\n",
        "        self.compiled_metrics.update_state(labels, predictions)\r\n",
        "        return {m.name: m.result() for m in self.metrics}\r\n",
        "\r\n",
        "    def test_step(self, data):\r\n",
        "        images, labels = data\r\n",
        "        predictions = self.resnet(images, training=False)\r\n",
        "        loss = self.compiled_loss(labels, predictions)\r\n",
        "        self.compiled_metrics.update_state(labels, predictions)\r\n",
        "        return {m.name: m.result() for m in self.metrics}\r\n",
        "\r\n",
        "    def save_weights(self, filepath):\r\n",
        "        self.resnet.save_weights(filepath=filepath, save_format=\"tf\")\r\n",
        "\r\n",
        "    def call(self, inputs, *args, **kwargs):\r\n",
        "        return self.resnet(inputs)\r\n",
        "\r\n",
        "tf.keras.backend.clear_session()\r\n",
        "test_model = ResNetModel(resnet_v1((IMG_HEIGHT, IMG_WIDTH, 3), 20, num_classes=NUM_CLASSES, use_bn=False))\r\n",
        "test_model.build((1, IMG_HEIGHT, IMG_WIDTH, 3))\r\n",
        "test_model.summary()\r\n",
        "print(f\"Total learnable parameters: {test_model.count_params()/1e6} M\")"
      ],
      "execution_count": null,
      "outputs": [
        {
          "output_type": "stream",
          "text": [
            "Model: \"res_net_model\"\n",
            "_________________________________________________________________\n",
            "Layer (type)                 Output Shape              Param #   \n",
            "=================================================================\n",
            "model (Functional)           (None, 10)                271754    \n",
            "=================================================================\n",
            "Total params: 271,754\n",
            "Trainable params: 271,722\n",
            "Non-trainable params: 32\n",
            "_________________________________________________________________\n",
            "Total learnable parameters: 0.271754 M\n"
          ],
          "name": "stdout"
        }
      ]
    },
    {
      "cell_type": "markdown",
      "metadata": {
        "id": "uNy-hWunM_k0"
      },
      "source": [
        "# 📲 Callbacks"
      ]
    },
    {
      "cell_type": "code",
      "metadata": {
        "id": "DUnXLPW5NBUs"
      },
      "source": [
        "earlystopper = tf.keras.callbacks.EarlyStopping(\r\n",
        "    monitor='val_loss', patience=10, verbose=0, mode='auto',\r\n",
        "    restore_best_weights=True\r\n",
        ")\r\n",
        "\r\n",
        "reducelronplateau = tf.keras.callbacks.ReduceLROnPlateau(\r\n",
        "    monitor=\"val_loss\", factor=0.5,\r\n",
        "    patience=3, verbose=1\r\n",
        ")"
      ],
      "execution_count": null,
      "outputs": []
    },
    {
      "cell_type": "markdown",
      "metadata": {
        "id": "nfKxHzU1M9Bx"
      },
      "source": [
        "# 🚋 Train with W&B"
      ]
    },
    {
      "cell_type": "code",
      "metadata": {
        "colab": {
          "base_uri": "https://localhost:8080/",
          "height": 1000,
          "referenced_widgets": [
            "141f61060e6a4a86a78f1e1a56f4bb7a",
            "ad21f43f174d4eb1ba7f28061f610ff5",
            "31a446e0c2384f5c8e6d621f533288d3",
            "2001ea7ad953474397015af46d7c87bd",
            "634efae393414dcc8ac4c66732f4b5d9",
            "6f2e2b3de78d4eb1991268bbe32ea024",
            "76dee5f214fa453899105252d9bf6c6a",
            "2b722d40d6bf45b5957e4a38c7d60b26"
          ]
        },
        "id": "VyhPXxd9MvLL",
        "outputId": "678299ad-696d-48aa-c109-4dda56e7e86c"
      },
      "source": [
        "tf.keras.backend.clear_session()\r\n",
        "# Intialize model\r\n",
        "model = ResNetModel(resnet_v1((IMG_HEIGHT, IMG_WIDTH, 3), 20, num_classes=NUM_CLASSES, use_bn=False))\r\n",
        "model.compile('adam', 'sparse_categorical_crossentropy', metrics=['acc'])\r\n",
        "\r\n",
        "# Intialize W&B run\r\n",
        "run = wandb.init(entity='ayush-thakur', project='nfnet', job_type='train-agc')\r\n",
        "\r\n",
        "# Train model\r\n",
        "model.fit(train_ds,\r\n",
        "          epochs=EPOCHS,\r\n",
        "          validation_data=val_ds,\r\n",
        "          callbacks=[WandbCallback(),\r\n",
        "                     reducelronplateau,\r\n",
        "                     earlystopper])  \r\n",
        "\r\n",
        "# Evaluate model on test set\r\n",
        "loss, acc = model.evaluate(test_ds)\r\n",
        "wandb.log({'Test Accuracy': round(acc, 3)})\r\n",
        "\r\n",
        "# Close W&B run\r\n",
        "run.finish()"
      ],
      "execution_count": null,
      "outputs": [
        {
          "output_type": "stream",
          "text": [
            "\u001b[34m\u001b[1mwandb\u001b[0m: Currently logged in as: \u001b[33mayush-thakur\u001b[0m (use `wandb login --relogin` to force relogin)\n"
          ],
          "name": "stderr"
        },
        {
          "output_type": "display_data",
          "data": {
            "text/html": [
              "\n",
              "                Tracking run with wandb version 0.10.21<br/>\n",
              "                Syncing run <strong style=\"color:#cdcd00\">daily-totem-101</strong> to <a href=\"https://wandb.ai\" target=\"_blank\">Weights & Biases</a> <a href=\"https://docs.wandb.com/integrations/jupyter.html\" target=\"_blank\">(Documentation)</a>.<br/>\n",
              "                Project page: <a href=\"https://wandb.ai/ayush-thakur/nfnet\" target=\"_blank\">https://wandb.ai/ayush-thakur/nfnet</a><br/>\n",
              "                Run page: <a href=\"https://wandb.ai/ayush-thakur/nfnet/runs/7t3fs0p3\" target=\"_blank\">https://wandb.ai/ayush-thakur/nfnet/runs/7t3fs0p3</a><br/>\n",
              "                Run data is saved locally in <code>/content/wandb/run-20210308_221232-7t3fs0p3</code><br/><br/>\n",
              "            "
            ],
            "text/plain": [
              "<IPython.core.display.HTML object>"
            ]
          },
          "metadata": {
            "tags": []
          }
        },
        {
          "output_type": "stream",
          "text": [
            "Epoch 1/100\n",
            " 6/42 [===>..........................] - ETA: 8s - loss: 7.9452 - acc: 0.0975WARNING:tensorflow:Callback method `on_train_batch_end` is slow compared to the batch time (batch time: 0.0907s vs `on_train_batch_end` time: 0.1247s). Check your callbacks.\n"
          ],
          "name": "stdout"
        },
        {
          "output_type": "stream",
          "text": [
            "WARNING:tensorflow:Callback method `on_train_batch_end` is slow compared to the batch time (batch time: 0.0907s vs `on_train_batch_end` time: 0.1247s). Check your callbacks.\n"
          ],
          "name": "stderr"
        },
        {
          "output_type": "stream",
          "text": [
            "42/42 [==============================] - 52s 403ms/step - loss: 3.6373 - acc: 0.1609 - val_loss: 1.8225 - val_acc: 0.3236\n"
          ],
          "name": "stdout"
        },
        {
          "output_type": "stream",
          "text": [
            "\u001b[34m\u001b[1mwandb\u001b[0m: \u001b[32m\u001b[41mERROR\u001b[0m Can't save model, h5py returned error: Saving the model to HDF5 format requires the model to be a Functional model or a Sequential model. It does not work for subclassed models, because such models are defined via the body of a Python method, which isn't safely serializable. Consider saving to the Tensorflow SavedModel format (by setting save_format=\"tf\") or using `save_weights`.\n"
          ],
          "name": "stderr"
        },
        {
          "output_type": "stream",
          "text": [
            "Epoch 2/100\n",
            "42/42 [==============================] - 11s 260ms/step - loss: 1.8350 - acc: 0.3237 - val_loss: 1.6614 - val_acc: 0.3891\n",
            "Epoch 3/100\n",
            "42/42 [==============================] - 11s 266ms/step - loss: 1.6940 - acc: 0.3727 - val_loss: 1.5979 - val_acc: 0.4055\n",
            "Epoch 4/100\n",
            "42/42 [==============================] - 11s 261ms/step - loss: 1.6330 - acc: 0.4000 - val_loss: 1.5381 - val_acc: 0.4396\n",
            "Epoch 5/100\n",
            "42/42 [==============================] - 11s 262ms/step - loss: 1.5572 - acc: 0.4310 - val_loss: 1.4742 - val_acc: 0.4512\n",
            "Epoch 6/100\n",
            "42/42 [==============================] - 11s 266ms/step - loss: 1.5257 - acc: 0.4446 - val_loss: 1.5978 - val_acc: 0.4148\n",
            "Epoch 7/100\n",
            "42/42 [==============================] - 11s 266ms/step - loss: 1.5138 - acc: 0.4476 - val_loss: 1.4077 - val_acc: 0.4744\n",
            "Epoch 8/100\n",
            "42/42 [==============================] - 12s 269ms/step - loss: 1.4643 - acc: 0.4662 - val_loss: 1.3936 - val_acc: 0.4880\n",
            "Epoch 9/100\n",
            "42/42 [==============================] - 12s 271ms/step - loss: 1.4564 - acc: 0.4797 - val_loss: 1.3374 - val_acc: 0.5097\n",
            "Epoch 10/100\n",
            "42/42 [==============================] - 12s 270ms/step - loss: 1.3967 - acc: 0.4932 - val_loss: 1.3649 - val_acc: 0.5103\n",
            "Epoch 11/100\n",
            "42/42 [==============================] - 11s 266ms/step - loss: 1.4233 - acc: 0.4840 - val_loss: 1.3705 - val_acc: 0.5007\n",
            "Epoch 12/100\n",
            "42/42 [==============================] - 11s 265ms/step - loss: 1.3873 - acc: 0.5044 - val_loss: 1.3551 - val_acc: 0.5181\n",
            "\n",
            "Epoch 00012: ReduceLROnPlateau reducing learning rate to 0.0005000000237487257.\n",
            "Epoch 13/100\n",
            "42/42 [==============================] - 11s 264ms/step - loss: 1.2949 - acc: 0.5328 - val_loss: 1.2082 - val_acc: 0.5515\n",
            "Epoch 14/100\n",
            "42/42 [==============================] - 11s 266ms/step - loss: 1.2376 - acc: 0.5521 - val_loss: 1.2317 - val_acc: 0.5475\n",
            "Epoch 15/100\n",
            "42/42 [==============================] - 11s 268ms/step - loss: 1.2170 - acc: 0.5615 - val_loss: 1.2214 - val_acc: 0.5557\n",
            "Epoch 16/100\n",
            "42/42 [==============================] - 11s 268ms/step - loss: 1.2055 - acc: 0.5664 - val_loss: 1.1498 - val_acc: 0.5765\n",
            "Epoch 17/100\n",
            "42/42 [==============================] - 11s 265ms/step - loss: 1.1839 - acc: 0.5728 - val_loss: 1.2257 - val_acc: 0.5639\n",
            "Epoch 18/100\n",
            "42/42 [==============================] - 11s 265ms/step - loss: 1.1621 - acc: 0.5825 - val_loss: 1.1536 - val_acc: 0.5764\n",
            "Epoch 19/100\n",
            "42/42 [==============================] - 11s 267ms/step - loss: 1.1617 - acc: 0.5805 - val_loss: 1.1097 - val_acc: 0.5933\n",
            "Epoch 20/100\n",
            "42/42 [==============================] - 11s 266ms/step - loss: 1.1256 - acc: 0.5957 - val_loss: 1.0899 - val_acc: 0.6091\n",
            "Epoch 21/100\n",
            "42/42 [==============================] - 11s 267ms/step - loss: 1.1182 - acc: 0.5979 - val_loss: 1.0757 - val_acc: 0.6165\n",
            "Epoch 22/100\n",
            "42/42 [==============================] - 11s 268ms/step - loss: 1.1248 - acc: 0.5982 - val_loss: 1.1123 - val_acc: 0.6007\n",
            "Epoch 23/100\n",
            "42/42 [==============================] - 11s 267ms/step - loss: 1.1003 - acc: 0.6042 - val_loss: 1.1445 - val_acc: 0.6027\n",
            "Epoch 24/100\n",
            "42/42 [==============================] - 11s 267ms/step - loss: 1.0945 - acc: 0.6095 - val_loss: 1.0707 - val_acc: 0.6219\n",
            "Epoch 25/100\n",
            "42/42 [==============================] - 11s 266ms/step - loss: 1.0786 - acc: 0.6153 - val_loss: 1.0501 - val_acc: 0.6271\n",
            "Epoch 26/100\n",
            "42/42 [==============================] - 11s 267ms/step - loss: 1.0668 - acc: 0.6171 - val_loss: 1.0674 - val_acc: 0.6188\n",
            "Epoch 27/100\n",
            "42/42 [==============================] - 11s 267ms/step - loss: 1.0625 - acc: 0.6220 - val_loss: 1.0397 - val_acc: 0.6320\n",
            "Epoch 28/100\n",
            "42/42 [==============================] - 11s 266ms/step - loss: 1.0542 - acc: 0.6233 - val_loss: 1.0106 - val_acc: 0.6395\n",
            "Epoch 29/100\n",
            "42/42 [==============================] - 11s 266ms/step - loss: 1.0431 - acc: 0.6256 - val_loss: 1.0089 - val_acc: 0.6409\n",
            "Epoch 30/100\n",
            "42/42 [==============================] - 11s 264ms/step - loss: 1.0216 - acc: 0.6401 - val_loss: 1.0114 - val_acc: 0.6420\n",
            "Epoch 31/100\n",
            "42/42 [==============================] - 11s 266ms/step - loss: 1.0156 - acc: 0.6391 - val_loss: 1.0447 - val_acc: 0.6289\n",
            "Epoch 32/100\n",
            "42/42 [==============================] - 11s 266ms/step - loss: 1.0424 - acc: 0.6337 - val_loss: 0.9895 - val_acc: 0.6471\n",
            "Epoch 33/100\n",
            "42/42 [==============================] - 11s 267ms/step - loss: 1.0044 - acc: 0.6462 - val_loss: 1.0688 - val_acc: 0.6235\n",
            "Epoch 34/100\n",
            "42/42 [==============================] - 11s 265ms/step - loss: 1.0323 - acc: 0.6338 - val_loss: 1.0732 - val_acc: 0.6241\n",
            "Epoch 35/100\n",
            "42/42 [==============================] - 11s 267ms/step - loss: 0.9933 - acc: 0.6469 - val_loss: 0.9956 - val_acc: 0.6479\n",
            "\n",
            "Epoch 00035: ReduceLROnPlateau reducing learning rate to 0.0002500000118743628.\n",
            "Epoch 36/100\n",
            "42/42 [==============================] - 11s 265ms/step - loss: 0.9673 - acc: 0.6521 - val_loss: 0.9469 - val_acc: 0.6672\n",
            "Epoch 37/100\n",
            "42/42 [==============================] - 11s 267ms/step - loss: 0.9518 - acc: 0.6616 - val_loss: 0.9459 - val_acc: 0.6684\n",
            "Epoch 38/100\n",
            "42/42 [==============================] - 11s 266ms/step - loss: 0.9438 - acc: 0.6645 - val_loss: 0.9666 - val_acc: 0.6616\n",
            "Epoch 39/100\n",
            "42/42 [==============================] - 11s 266ms/step - loss: 0.9403 - acc: 0.6658 - val_loss: 0.9385 - val_acc: 0.6748\n",
            "Epoch 40/100\n",
            "42/42 [==============================] - 11s 265ms/step - loss: 0.9265 - acc: 0.6714 - val_loss: 0.9439 - val_acc: 0.6668\n",
            "Epoch 41/100\n",
            "42/42 [==============================] - 11s 267ms/step - loss: 0.9283 - acc: 0.6702 - val_loss: 0.9147 - val_acc: 0.6769\n",
            "Epoch 42/100\n",
            "42/42 [==============================] - 11s 266ms/step - loss: 0.9080 - acc: 0.6769 - val_loss: 0.9240 - val_acc: 0.6784\n",
            "Epoch 43/100\n",
            "42/42 [==============================] - 11s 267ms/step - loss: 0.9110 - acc: 0.6776 - val_loss: 0.9396 - val_acc: 0.6695\n",
            "Epoch 44/100\n",
            "42/42 [==============================] - 11s 267ms/step - loss: 0.9073 - acc: 0.6799 - val_loss: 0.9093 - val_acc: 0.6819\n",
            "Epoch 45/100\n",
            "42/42 [==============================] - 11s 265ms/step - loss: 0.8952 - acc: 0.6809 - val_loss: 0.9178 - val_acc: 0.6800\n",
            "Epoch 46/100\n",
            "42/42 [==============================] - 11s 267ms/step - loss: 0.9097 - acc: 0.6791 - val_loss: 0.9223 - val_acc: 0.6760\n",
            "Epoch 47/100\n",
            "42/42 [==============================] - 11s 267ms/step - loss: 0.8968 - acc: 0.6841 - val_loss: 0.9216 - val_acc: 0.6795\n",
            "\n",
            "Epoch 00047: ReduceLROnPlateau reducing learning rate to 0.0001250000059371814.\n",
            "Epoch 48/100\n",
            "42/42 [==============================] - 11s 268ms/step - loss: 0.8699 - acc: 0.6890 - val_loss: 0.8949 - val_acc: 0.6843\n",
            "Epoch 49/100\n",
            "42/42 [==============================] - 11s 267ms/step - loss: 0.8643 - acc: 0.6922 - val_loss: 0.8852 - val_acc: 0.6856\n",
            "Epoch 50/100\n",
            "42/42 [==============================] - 11s 267ms/step - loss: 0.8710 - acc: 0.6890 - val_loss: 0.9049 - val_acc: 0.6840\n",
            "Epoch 51/100\n",
            "42/42 [==============================] - 11s 267ms/step - loss: 0.8687 - acc: 0.6924 - val_loss: 0.8621 - val_acc: 0.6964\n",
            "Epoch 52/100\n",
            "42/42 [==============================] - 11s 266ms/step - loss: 0.8500 - acc: 0.6991 - val_loss: 0.8667 - val_acc: 0.6955\n",
            "Epoch 53/100\n",
            "42/42 [==============================] - 11s 266ms/step - loss: 0.8535 - acc: 0.6951 - val_loss: 0.8690 - val_acc: 0.6969\n",
            "Epoch 54/100\n",
            "42/42 [==============================] - 11s 266ms/step - loss: 0.8516 - acc: 0.6959 - val_loss: 0.8598 - val_acc: 0.6951\n",
            "Epoch 55/100\n",
            "42/42 [==============================] - 11s 267ms/step - loss: 0.8419 - acc: 0.7037 - val_loss: 0.8616 - val_acc: 0.6975\n",
            "Epoch 56/100\n",
            "42/42 [==============================] - 11s 267ms/step - loss: 0.8361 - acc: 0.7027 - val_loss: 0.8567 - val_acc: 0.7007\n",
            "Epoch 57/100\n",
            "42/42 [==============================] - 11s 265ms/step - loss: 0.8375 - acc: 0.7059 - val_loss: 0.8885 - val_acc: 0.6889\n",
            "Epoch 58/100\n",
            "42/42 [==============================] - 11s 265ms/step - loss: 0.8310 - acc: 0.7060 - val_loss: 0.8646 - val_acc: 0.6945\n",
            "Epoch 59/100\n",
            "42/42 [==============================] - 11s 265ms/step - loss: 0.8272 - acc: 0.7090 - val_loss: 0.8543 - val_acc: 0.6989\n",
            "Epoch 60/100\n",
            "42/42 [==============================] - 11s 265ms/step - loss: 0.8280 - acc: 0.7060 - val_loss: 0.8478 - val_acc: 0.7043\n",
            "Epoch 61/100\n",
            "42/42 [==============================] - 11s 267ms/step - loss: 0.8260 - acc: 0.7092 - val_loss: 0.8806 - val_acc: 0.6965\n",
            "Epoch 62/100\n",
            "42/42 [==============================] - 11s 267ms/step - loss: 0.8204 - acc: 0.7108 - val_loss: 0.8580 - val_acc: 0.7008\n",
            "Epoch 63/100\n",
            "42/42 [==============================] - 11s 267ms/step - loss: 0.8186 - acc: 0.7098 - val_loss: 0.8472 - val_acc: 0.7041\n",
            "Epoch 64/100\n",
            "42/42 [==============================] - 11s 267ms/step - loss: 0.8154 - acc: 0.7108 - val_loss: 0.8564 - val_acc: 0.7016\n",
            "Epoch 65/100\n",
            "42/42 [==============================] - 12s 269ms/step - loss: 0.8181 - acc: 0.7092 - val_loss: 0.8422 - val_acc: 0.7068\n",
            "Epoch 66/100\n",
            "42/42 [==============================] - 11s 267ms/step - loss: 0.8035 - acc: 0.7150 - val_loss: 0.8519 - val_acc: 0.7028\n",
            "Epoch 67/100\n",
            "42/42 [==============================] - 11s 266ms/step - loss: 0.8170 - acc: 0.7076 - val_loss: 0.8510 - val_acc: 0.7047\n",
            "Epoch 68/100\n",
            "42/42 [==============================] - 11s 266ms/step - loss: 0.8062 - acc: 0.7171 - val_loss: 0.8423 - val_acc: 0.7092\n",
            "\n",
            "Epoch 00068: ReduceLROnPlateau reducing learning rate to 6.25000029685907e-05.\n",
            "Epoch 69/100\n",
            "42/42 [==============================] - 11s 265ms/step - loss: 0.7955 - acc: 0.7172 - val_loss: 0.8236 - val_acc: 0.7117\n",
            "Epoch 70/100\n",
            "42/42 [==============================] - 11s 265ms/step - loss: 0.7952 - acc: 0.7194 - val_loss: 0.8138 - val_acc: 0.7157\n",
            "Epoch 71/100\n",
            "42/42 [==============================] - 11s 266ms/step - loss: 0.7902 - acc: 0.7194 - val_loss: 0.8125 - val_acc: 0.7152\n",
            "Epoch 72/100\n",
            "42/42 [==============================] - 11s 266ms/step - loss: 0.7890 - acc: 0.7184 - val_loss: 0.8134 - val_acc: 0.7144\n",
            "Epoch 73/100\n",
            "42/42 [==============================] - 11s 266ms/step - loss: 0.7870 - acc: 0.7219 - val_loss: 0.8078 - val_acc: 0.7163\n",
            "Epoch 74/100\n",
            "42/42 [==============================] - 11s 265ms/step - loss: 0.7822 - acc: 0.7241 - val_loss: 0.8162 - val_acc: 0.7156\n",
            "Epoch 75/100\n",
            "42/42 [==============================] - 11s 266ms/step - loss: 0.7762 - acc: 0.7254 - val_loss: 0.8211 - val_acc: 0.7127\n",
            "Epoch 76/100\n",
            "42/42 [==============================] - 11s 266ms/step - loss: 0.7852 - acc: 0.7241 - val_loss: 0.8132 - val_acc: 0.7172\n",
            "\n",
            "Epoch 00076: ReduceLROnPlateau reducing learning rate to 3.125000148429535e-05.\n",
            "Epoch 77/100\n",
            "42/42 [==============================] - 11s 266ms/step - loss: 0.7785 - acc: 0.7248 - val_loss: 0.8165 - val_acc: 0.7135\n",
            "Epoch 78/100\n",
            "42/42 [==============================] - 11s 267ms/step - loss: 0.7724 - acc: 0.7284 - val_loss: 0.8072 - val_acc: 0.7168\n",
            "Epoch 79/100\n",
            "42/42 [==============================] - 11s 268ms/step - loss: 0.7689 - acc: 0.7295 - val_loss: 0.8112 - val_acc: 0.7160\n",
            "Epoch 80/100\n",
            "42/42 [==============================] - 11s 267ms/step - loss: 0.7732 - acc: 0.7262 - val_loss: 0.8107 - val_acc: 0.7164\n",
            "Epoch 81/100\n",
            "42/42 [==============================] - 11s 267ms/step - loss: 0.7732 - acc: 0.7276 - val_loss: 0.8113 - val_acc: 0.7183\n",
            "\n",
            "Epoch 00081: ReduceLROnPlateau reducing learning rate to 1.5625000742147677e-05.\n",
            "Epoch 82/100\n",
            "42/42 [==============================] - 11s 266ms/step - loss: 0.7639 - acc: 0.7277 - val_loss: 0.8135 - val_acc: 0.7140\n",
            "Epoch 83/100\n",
            "42/42 [==============================] - 11s 266ms/step - loss: 0.7616 - acc: 0.7299 - val_loss: 0.8110 - val_acc: 0.7180\n",
            "Epoch 84/100\n",
            "42/42 [==============================] - 11s 267ms/step - loss: 0.7651 - acc: 0.7314 - val_loss: 0.8096 - val_acc: 0.7176\n",
            "\n",
            "Epoch 00084: ReduceLROnPlateau reducing learning rate to 7.812500371073838e-06.\n",
            "Epoch 85/100\n",
            "42/42 [==============================] - 11s 267ms/step - loss: 0.7639 - acc: 0.7308 - val_loss: 0.8032 - val_acc: 0.7200\n",
            "Epoch 86/100\n",
            "42/42 [==============================] - 11s 266ms/step - loss: 0.7653 - acc: 0.7299 - val_loss: 0.8049 - val_acc: 0.7193\n",
            "Epoch 87/100\n",
            "42/42 [==============================] - 11s 266ms/step - loss: 0.7634 - acc: 0.7309 - val_loss: 0.8040 - val_acc: 0.7195\n",
            "Epoch 88/100\n",
            "42/42 [==============================] - 11s 264ms/step - loss: 0.7630 - acc: 0.7294 - val_loss: 0.8017 - val_acc: 0.7208\n",
            "Epoch 89/100\n",
            "42/42 [==============================] - 11s 265ms/step - loss: 0.7594 - acc: 0.7329 - val_loss: 0.8039 - val_acc: 0.7204\n",
            "Epoch 90/100\n",
            "42/42 [==============================] - 11s 266ms/step - loss: 0.7644 - acc: 0.7316 - val_loss: 0.8020 - val_acc: 0.7201\n",
            "Epoch 91/100\n",
            "42/42 [==============================] - 11s 267ms/step - loss: 0.7640 - acc: 0.7316 - val_loss: 0.8020 - val_acc: 0.7196\n",
            "\n",
            "Epoch 00091: ReduceLROnPlateau reducing learning rate to 3.906250185536919e-06.\n",
            "Epoch 92/100\n",
            "42/42 [==============================] - 11s 268ms/step - loss: 0.7593 - acc: 0.7334 - val_loss: 0.8017 - val_acc: 0.7204\n",
            "Epoch 93/100\n",
            "42/42 [==============================] - 11s 266ms/step - loss: 0.7630 - acc: 0.7289 - val_loss: 0.8011 - val_acc: 0.7205\n",
            "Epoch 94/100\n",
            "42/42 [==============================] - 11s 265ms/step - loss: 0.7627 - acc: 0.7327 - val_loss: 0.8035 - val_acc: 0.7192\n",
            "Epoch 95/100\n",
            "42/42 [==============================] - 11s 266ms/step - loss: 0.7642 - acc: 0.7311 - val_loss: 0.8011 - val_acc: 0.7215\n",
            "Epoch 96/100\n",
            "42/42 [==============================] - 11s 266ms/step - loss: 0.7612 - acc: 0.7307 - val_loss: 0.8008 - val_acc: 0.7204\n",
            "Epoch 97/100\n",
            "42/42 [==============================] - 11s 265ms/step - loss: 0.7551 - acc: 0.7313 - val_loss: 0.8027 - val_acc: 0.7196\n",
            "Epoch 98/100\n",
            "42/42 [==============================] - 11s 264ms/step - loss: 0.7579 - acc: 0.7354 - val_loss: 0.8019 - val_acc: 0.7217\n",
            "Epoch 99/100\n",
            "42/42 [==============================] - 11s 266ms/step - loss: 0.7654 - acc: 0.7296 - val_loss: 0.8001 - val_acc: 0.7208\n",
            "Epoch 100/100\n",
            "42/42 [==============================] - 11s 267ms/step - loss: 0.7585 - acc: 0.7317 - val_loss: 0.8011 - val_acc: 0.7199\n",
            "10/10 [==============================] - 2s 194ms/step - loss: 0.8013 - acc: 0.7215\n"
          ],
          "name": "stdout"
        },
        {
          "output_type": "display_data",
          "data": {
            "text/html": [
              "<br/>Waiting for W&B process to finish, PID 276<br/>Program ended successfully."
            ],
            "text/plain": [
              "<IPython.core.display.HTML object>"
            ]
          },
          "metadata": {
            "tags": []
          }
        },
        {
          "output_type": "display_data",
          "data": {
            "application/vnd.jupyter.widget-view+json": {
              "model_id": "141f61060e6a4a86a78f1e1a56f4bb7a",
              "version_minor": 0,
              "version_major": 2
            },
            "text/plain": [
              "VBox(children=(Label(value=' 0.49MB of 0.49MB uploaded (0.00MB deduped)\\r'), FloatProgress(value=1.0, max=1.0)…"
            ]
          },
          "metadata": {
            "tags": []
          }
        },
        {
          "output_type": "display_data",
          "data": {
            "text/html": [
              "Find user logs for this run at: <code>/content/wandb/run-20210308_221232-7t3fs0p3/logs/debug.log</code>"
            ],
            "text/plain": [
              "<IPython.core.display.HTML object>"
            ]
          },
          "metadata": {
            "tags": []
          }
        },
        {
          "output_type": "display_data",
          "data": {
            "text/html": [
              "Find internal logs for this run at: <code>/content/wandb/run-20210308_221232-7t3fs0p3/logs/debug-internal.log</code>"
            ],
            "text/plain": [
              "<IPython.core.display.HTML object>"
            ]
          },
          "metadata": {
            "tags": []
          }
        },
        {
          "output_type": "display_data",
          "data": {
            "text/html": [
              "<h3>Run summary:</h3><br/><style>\n",
              "    table.wandb td:nth-child(1) { padding: 0 10px; text-align: right }\n",
              "    </style><table class=\"wandb\">\n",
              "<tr><td>epoch</td><td>99</td></tr><tr><td>loss</td><td>0.75683</td></tr><tr><td>acc</td><td>0.73306</td></tr><tr><td>val_loss</td><td>0.80107</td></tr><tr><td>val_acc</td><td>0.71987</td></tr><tr><td>_runtime</td><td>1190</td></tr><tr><td>_timestamp</td><td>1615242742</td></tr><tr><td>_step</td><td>100</td></tr><tr><td>best_val_loss</td><td>0.80013</td></tr><tr><td>best_epoch</td><td>98</td></tr><tr><td>Test Accuracy</td><td>0.721</td></tr></table>"
            ],
            "text/plain": [
              "<IPython.core.display.HTML object>"
            ]
          },
          "metadata": {
            "tags": []
          }
        },
        {
          "output_type": "display_data",
          "data": {
            "text/html": [
              "<h3>Run history:</h3><br/><style>\n",
              "    table.wandb td:nth-child(1) { padding: 0 10px; text-align: right }\n",
              "    </style><table class=\"wandb\">\n",
              "<tr><td>epoch</td><td>▁▁▁▁▂▂▂▂▂▃▃▃▃▃▃▄▄▄▄▄▅▅▅▅▅▅▆▆▆▆▆▇▇▇▇▇▇███</td></tr><tr><td>loss</td><td>█▅▄▄▄▃▃▃▂▂▂▂▂▂▂▂▂▂▂▁▁▁▁▁▁▁▁▁▁▁▁▁▁▁▁▁▁▁▁▁</td></tr><tr><td>acc</td><td>▁▃▄▄▅▅▆▆▆▆▆▇▇▇▇▇▇▇▇▇▇███████████████████</td></tr><tr><td>val_loss</td><td>█▆▆▅▅▄▃▃▃▃▃▂▃▃▂▂▂▂▂▂▁▁▁▁▂▁▁▁▁▁▁▁▁▁▁▁▁▁▁▁</td></tr><tr><td>val_acc</td><td>▁▂▃▄▄▅▅▅▆▆▆▇▆▆▇▇▇▇▇▇████████████████████</td></tr><tr><td>_runtime</td><td>▁▁▁▁▂▂▂▂▂▃▃▃▃▃▃▄▄▄▄▄▅▅▅▅▅▆▆▆▆▆▆▇▇▇▇▇▇███</td></tr><tr><td>_timestamp</td><td>▁▁▁▁▂▂▂▂▂▃▃▃▃▃▃▄▄▄▄▄▅▅▅▅▅▆▆▆▆▆▆▇▇▇▇▇▇███</td></tr><tr><td>_step</td><td>▁▁▁▁▂▂▂▂▂▃▃▃▃▃▃▄▄▄▄▄▅▅▅▅▅▅▆▆▆▆▆▇▇▇▇▇▇███</td></tr><tr><td>Test Accuracy</td><td>▁</td></tr></table><br/>"
            ],
            "text/plain": [
              "<IPython.core.display.HTML object>"
            ]
          },
          "metadata": {
            "tags": []
          }
        },
        {
          "output_type": "display_data",
          "data": {
            "text/html": [
              "Synced 5 W&B file(s), 1 media file(s), 2 artifact file(s) and 1 other file(s)"
            ],
            "text/plain": [
              "<IPython.core.display.HTML object>"
            ]
          },
          "metadata": {
            "tags": []
          }
        },
        {
          "output_type": "display_data",
          "data": {
            "text/html": [
              "\n",
              "                    <br/>Synced <strong style=\"color:#cdcd00\">daily-totem-101</strong>: <a href=\"https://wandb.ai/ayush-thakur/nfnet/runs/7t3fs0p3\" target=\"_blank\">https://wandb.ai/ayush-thakur/nfnet/runs/7t3fs0p3</a><br/>\n",
              "                "
            ],
            "text/plain": [
              "<IPython.core.display.HTML object>"
            ]
          },
          "metadata": {
            "tags": []
          }
        }
      ]
    }
  ]
}