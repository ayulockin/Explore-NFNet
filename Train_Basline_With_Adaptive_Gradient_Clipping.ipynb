{
  "nbformat": 4,
  "nbformat_minor": 0,
  "metadata": {
    "accelerator": "GPU",
    "colab": {
      "name": "Train Basline With Adaptive Gradient Clipping",
      "provenance": [],
      "collapsed_sections": [],
      "authorship_tag": "ABX9TyMD/TH7Ph4YR1YUum2GV1qe",
      "include_colab_link": true
    },
    "kernelspec": {
      "display_name": "Python 3",
      "name": "python3"
    },
    "widgets": {
      "application/vnd.jupyter.widget-state+json": {
        "ee3b72c0d3b74197b558a7d06c9c3a4f": {
          "model_module": "@jupyter-widgets/controls",
          "model_name": "HBoxModel",
          "state": {
            "_view_name": "HBoxView",
            "_dom_classes": [],
            "_model_name": "HBoxModel",
            "_view_module": "@jupyter-widgets/controls",
            "_model_module_version": "1.5.0",
            "_view_count": null,
            "_view_module_version": "1.5.0",
            "box_style": "",
            "layout": "IPY_MODEL_bc61419ded614402bb56c6969b2f3f1f",
            "_model_module": "@jupyter-widgets/controls",
            "children": [
              "IPY_MODEL_11c04e4530a2446199020d3f16569f14",
              "IPY_MODEL_501eaf241de64606af95d6c92fcb89ee"
            ]
          }
        },
        "bc61419ded614402bb56c6969b2f3f1f": {
          "model_module": "@jupyter-widgets/base",
          "model_name": "LayoutModel",
          "state": {
            "_view_name": "LayoutView",
            "grid_template_rows": null,
            "right": null,
            "justify_content": null,
            "_view_module": "@jupyter-widgets/base",
            "overflow": null,
            "_model_module_version": "1.2.0",
            "_view_count": null,
            "flex_flow": null,
            "width": null,
            "min_width": null,
            "border": null,
            "align_items": null,
            "bottom": null,
            "_model_module": "@jupyter-widgets/base",
            "top": null,
            "grid_column": null,
            "overflow_y": null,
            "overflow_x": null,
            "grid_auto_flow": null,
            "grid_area": null,
            "grid_template_columns": null,
            "flex": null,
            "_model_name": "LayoutModel",
            "justify_items": null,
            "grid_row": null,
            "max_height": null,
            "align_content": null,
            "visibility": null,
            "align_self": null,
            "height": null,
            "min_height": null,
            "padding": null,
            "grid_auto_rows": null,
            "grid_gap": null,
            "max_width": null,
            "order": null,
            "_view_module_version": "1.2.0",
            "grid_template_areas": null,
            "object_position": null,
            "object_fit": null,
            "grid_auto_columns": null,
            "margin": null,
            "display": null,
            "left": null
          }
        },
        "11c04e4530a2446199020d3f16569f14": {
          "model_module": "@jupyter-widgets/controls",
          "model_name": "FloatProgressModel",
          "state": {
            "_view_name": "ProgressView",
            "style": "IPY_MODEL_f86ae65ced0d4e708777a54fdbe8de54",
            "_dom_classes": [],
            "description": "Dl Completed...: 100%",
            "_model_name": "FloatProgressModel",
            "bar_style": "success",
            "max": 1,
            "_view_module": "@jupyter-widgets/controls",
            "_model_module_version": "1.5.0",
            "value": 1,
            "_view_count": null,
            "_view_module_version": "1.5.0",
            "orientation": "horizontal",
            "min": 0,
            "description_tooltip": null,
            "_model_module": "@jupyter-widgets/controls",
            "layout": "IPY_MODEL_1b256786734f4b9a89aacee272d974f8"
          }
        },
        "501eaf241de64606af95d6c92fcb89ee": {
          "model_module": "@jupyter-widgets/controls",
          "model_name": "HTMLModel",
          "state": {
            "_view_name": "HTMLView",
            "style": "IPY_MODEL_0ca5bd2202b84e60a7cce16eb81361e5",
            "_dom_classes": [],
            "description": "",
            "_model_name": "HTMLModel",
            "placeholder": "​",
            "_view_module": "@jupyter-widgets/controls",
            "_model_module_version": "1.5.0",
            "value": " 1/1 [00:09&lt;00:00,  9.45s/ url]",
            "_view_count": null,
            "_view_module_version": "1.5.0",
            "description_tooltip": null,
            "_model_module": "@jupyter-widgets/controls",
            "layout": "IPY_MODEL_b6a81b3d36754328be9532dc36e382ed"
          }
        },
        "f86ae65ced0d4e708777a54fdbe8de54": {
          "model_module": "@jupyter-widgets/controls",
          "model_name": "ProgressStyleModel",
          "state": {
            "_view_name": "StyleView",
            "_model_name": "ProgressStyleModel",
            "description_width": "initial",
            "_view_module": "@jupyter-widgets/base",
            "_model_module_version": "1.5.0",
            "_view_count": null,
            "_view_module_version": "1.2.0",
            "bar_color": null,
            "_model_module": "@jupyter-widgets/controls"
          }
        },
        "1b256786734f4b9a89aacee272d974f8": {
          "model_module": "@jupyter-widgets/base",
          "model_name": "LayoutModel",
          "state": {
            "_view_name": "LayoutView",
            "grid_template_rows": null,
            "right": null,
            "justify_content": null,
            "_view_module": "@jupyter-widgets/base",
            "overflow": null,
            "_model_module_version": "1.2.0",
            "_view_count": null,
            "flex_flow": null,
            "width": null,
            "min_width": null,
            "border": null,
            "align_items": null,
            "bottom": null,
            "_model_module": "@jupyter-widgets/base",
            "top": null,
            "grid_column": null,
            "overflow_y": null,
            "overflow_x": null,
            "grid_auto_flow": null,
            "grid_area": null,
            "grid_template_columns": null,
            "flex": null,
            "_model_name": "LayoutModel",
            "justify_items": null,
            "grid_row": null,
            "max_height": null,
            "align_content": null,
            "visibility": null,
            "align_self": null,
            "height": null,
            "min_height": null,
            "padding": null,
            "grid_auto_rows": null,
            "grid_gap": null,
            "max_width": null,
            "order": null,
            "_view_module_version": "1.2.0",
            "grid_template_areas": null,
            "object_position": null,
            "object_fit": null,
            "grid_auto_columns": null,
            "margin": null,
            "display": null,
            "left": null
          }
        },
        "0ca5bd2202b84e60a7cce16eb81361e5": {
          "model_module": "@jupyter-widgets/controls",
          "model_name": "DescriptionStyleModel",
          "state": {
            "_view_name": "StyleView",
            "_model_name": "DescriptionStyleModel",
            "description_width": "",
            "_view_module": "@jupyter-widgets/base",
            "_model_module_version": "1.5.0",
            "_view_count": null,
            "_view_module_version": "1.2.0",
            "_model_module": "@jupyter-widgets/controls"
          }
        },
        "b6a81b3d36754328be9532dc36e382ed": {
          "model_module": "@jupyter-widgets/base",
          "model_name": "LayoutModel",
          "state": {
            "_view_name": "LayoutView",
            "grid_template_rows": null,
            "right": null,
            "justify_content": null,
            "_view_module": "@jupyter-widgets/base",
            "overflow": null,
            "_model_module_version": "1.2.0",
            "_view_count": null,
            "flex_flow": null,
            "width": null,
            "min_width": null,
            "border": null,
            "align_items": null,
            "bottom": null,
            "_model_module": "@jupyter-widgets/base",
            "top": null,
            "grid_column": null,
            "overflow_y": null,
            "overflow_x": null,
            "grid_auto_flow": null,
            "grid_area": null,
            "grid_template_columns": null,
            "flex": null,
            "_model_name": "LayoutModel",
            "justify_items": null,
            "grid_row": null,
            "max_height": null,
            "align_content": null,
            "visibility": null,
            "align_self": null,
            "height": null,
            "min_height": null,
            "padding": null,
            "grid_auto_rows": null,
            "grid_gap": null,
            "max_width": null,
            "order": null,
            "_view_module_version": "1.2.0",
            "grid_template_areas": null,
            "object_position": null,
            "object_fit": null,
            "grid_auto_columns": null,
            "margin": null,
            "display": null,
            "left": null
          }
        },
        "393de89f88974827a82b6874274329ae": {
          "model_module": "@jupyter-widgets/controls",
          "model_name": "HBoxModel",
          "state": {
            "_view_name": "HBoxView",
            "_dom_classes": [],
            "_model_name": "HBoxModel",
            "_view_module": "@jupyter-widgets/controls",
            "_model_module_version": "1.5.0",
            "_view_count": null,
            "_view_module_version": "1.5.0",
            "box_style": "",
            "layout": "IPY_MODEL_bb5dd8a9ba664d0bb63f7451c33f423c",
            "_model_module": "@jupyter-widgets/controls",
            "children": [
              "IPY_MODEL_cbdf5922f85243a8a7dc278dccae66e9",
              "IPY_MODEL_486dbc6d9c9446bba6b3407459ce3c79"
            ]
          }
        },
        "bb5dd8a9ba664d0bb63f7451c33f423c": {
          "model_module": "@jupyter-widgets/base",
          "model_name": "LayoutModel",
          "state": {
            "_view_name": "LayoutView",
            "grid_template_rows": null,
            "right": null,
            "justify_content": null,
            "_view_module": "@jupyter-widgets/base",
            "overflow": null,
            "_model_module_version": "1.2.0",
            "_view_count": null,
            "flex_flow": null,
            "width": null,
            "min_width": null,
            "border": null,
            "align_items": null,
            "bottom": null,
            "_model_module": "@jupyter-widgets/base",
            "top": null,
            "grid_column": null,
            "overflow_y": null,
            "overflow_x": null,
            "grid_auto_flow": null,
            "grid_area": null,
            "grid_template_columns": null,
            "flex": null,
            "_model_name": "LayoutModel",
            "justify_items": null,
            "grid_row": null,
            "max_height": null,
            "align_content": null,
            "visibility": null,
            "align_self": null,
            "height": null,
            "min_height": null,
            "padding": null,
            "grid_auto_rows": null,
            "grid_gap": null,
            "max_width": null,
            "order": null,
            "_view_module_version": "1.2.0",
            "grid_template_areas": null,
            "object_position": null,
            "object_fit": null,
            "grid_auto_columns": null,
            "margin": null,
            "display": null,
            "left": null
          }
        },
        "cbdf5922f85243a8a7dc278dccae66e9": {
          "model_module": "@jupyter-widgets/controls",
          "model_name": "FloatProgressModel",
          "state": {
            "_view_name": "ProgressView",
            "style": "IPY_MODEL_95b510c7a9dc45c5b084cf423dd8ed7c",
            "_dom_classes": [],
            "description": "Dl Size...: 100%",
            "_model_name": "FloatProgressModel",
            "bar_style": "success",
            "max": 1,
            "_view_module": "@jupyter-widgets/controls",
            "_model_module_version": "1.5.0",
            "value": 1,
            "_view_count": null,
            "_view_module_version": "1.5.0",
            "orientation": "horizontal",
            "min": 0,
            "description_tooltip": null,
            "_model_module": "@jupyter-widgets/controls",
            "layout": "IPY_MODEL_c0b54841d76b4a4fad412f98d242960e"
          }
        },
        "486dbc6d9c9446bba6b3407459ce3c79": {
          "model_module": "@jupyter-widgets/controls",
          "model_name": "HTMLModel",
          "state": {
            "_view_name": "HTMLView",
            "style": "IPY_MODEL_fd807c540336485987026657f7e9dff0",
            "_dom_classes": [],
            "description": "",
            "_model_name": "HTMLModel",
            "placeholder": "​",
            "_view_module": "@jupyter-widgets/controls",
            "_model_module_version": "1.5.0",
            "value": " 162/162 [00:09&lt;00:00, 17.20 MiB/s]",
            "_view_count": null,
            "_view_module_version": "1.5.0",
            "description_tooltip": null,
            "_model_module": "@jupyter-widgets/controls",
            "layout": "IPY_MODEL_dd59006ea1ef4bccbe4f19c29646d59a"
          }
        },
        "95b510c7a9dc45c5b084cf423dd8ed7c": {
          "model_module": "@jupyter-widgets/controls",
          "model_name": "ProgressStyleModel",
          "state": {
            "_view_name": "StyleView",
            "_model_name": "ProgressStyleModel",
            "description_width": "initial",
            "_view_module": "@jupyter-widgets/base",
            "_model_module_version": "1.5.0",
            "_view_count": null,
            "_view_module_version": "1.2.0",
            "bar_color": null,
            "_model_module": "@jupyter-widgets/controls"
          }
        },
        "c0b54841d76b4a4fad412f98d242960e": {
          "model_module": "@jupyter-widgets/base",
          "model_name": "LayoutModel",
          "state": {
            "_view_name": "LayoutView",
            "grid_template_rows": null,
            "right": null,
            "justify_content": null,
            "_view_module": "@jupyter-widgets/base",
            "overflow": null,
            "_model_module_version": "1.2.0",
            "_view_count": null,
            "flex_flow": null,
            "width": null,
            "min_width": null,
            "border": null,
            "align_items": null,
            "bottom": null,
            "_model_module": "@jupyter-widgets/base",
            "top": null,
            "grid_column": null,
            "overflow_y": null,
            "overflow_x": null,
            "grid_auto_flow": null,
            "grid_area": null,
            "grid_template_columns": null,
            "flex": null,
            "_model_name": "LayoutModel",
            "justify_items": null,
            "grid_row": null,
            "max_height": null,
            "align_content": null,
            "visibility": null,
            "align_self": null,
            "height": null,
            "min_height": null,
            "padding": null,
            "grid_auto_rows": null,
            "grid_gap": null,
            "max_width": null,
            "order": null,
            "_view_module_version": "1.2.0",
            "grid_template_areas": null,
            "object_position": null,
            "object_fit": null,
            "grid_auto_columns": null,
            "margin": null,
            "display": null,
            "left": null
          }
        },
        "fd807c540336485987026657f7e9dff0": {
          "model_module": "@jupyter-widgets/controls",
          "model_name": "DescriptionStyleModel",
          "state": {
            "_view_name": "StyleView",
            "_model_name": "DescriptionStyleModel",
            "description_width": "",
            "_view_module": "@jupyter-widgets/base",
            "_model_module_version": "1.5.0",
            "_view_count": null,
            "_view_module_version": "1.2.0",
            "_model_module": "@jupyter-widgets/controls"
          }
        },
        "dd59006ea1ef4bccbe4f19c29646d59a": {
          "model_module": "@jupyter-widgets/base",
          "model_name": "LayoutModel",
          "state": {
            "_view_name": "LayoutView",
            "grid_template_rows": null,
            "right": null,
            "justify_content": null,
            "_view_module": "@jupyter-widgets/base",
            "overflow": null,
            "_model_module_version": "1.2.0",
            "_view_count": null,
            "flex_flow": null,
            "width": null,
            "min_width": null,
            "border": null,
            "align_items": null,
            "bottom": null,
            "_model_module": "@jupyter-widgets/base",
            "top": null,
            "grid_column": null,
            "overflow_y": null,
            "overflow_x": null,
            "grid_auto_flow": null,
            "grid_area": null,
            "grid_template_columns": null,
            "flex": null,
            "_model_name": "LayoutModel",
            "justify_items": null,
            "grid_row": null,
            "max_height": null,
            "align_content": null,
            "visibility": null,
            "align_self": null,
            "height": null,
            "min_height": null,
            "padding": null,
            "grid_auto_rows": null,
            "grid_gap": null,
            "max_width": null,
            "order": null,
            "_view_module_version": "1.2.0",
            "grid_template_areas": null,
            "object_position": null,
            "object_fit": null,
            "grid_auto_columns": null,
            "margin": null,
            "display": null,
            "left": null
          }
        },
        "ef3165e249274840859ac7781a181e4c": {
          "model_module": "@jupyter-widgets/controls",
          "model_name": "HBoxModel",
          "state": {
            "_view_name": "HBoxView",
            "_dom_classes": [],
            "_model_name": "HBoxModel",
            "_view_module": "@jupyter-widgets/controls",
            "_model_module_version": "1.5.0",
            "_view_count": null,
            "_view_module_version": "1.5.0",
            "box_style": "",
            "layout": "IPY_MODEL_26e4df3a32154ead9b484014b70c2d1e",
            "_model_module": "@jupyter-widgets/controls",
            "children": [
              "IPY_MODEL_fd443c5b409e48b08a63eeac7f55409d",
              "IPY_MODEL_288b4bbe07f9456a951f32718c747f6e"
            ]
          }
        },
        "26e4df3a32154ead9b484014b70c2d1e": {
          "model_module": "@jupyter-widgets/base",
          "model_name": "LayoutModel",
          "state": {
            "_view_name": "LayoutView",
            "grid_template_rows": null,
            "right": null,
            "justify_content": null,
            "_view_module": "@jupyter-widgets/base",
            "overflow": null,
            "_model_module_version": "1.2.0",
            "_view_count": null,
            "flex_flow": null,
            "width": null,
            "min_width": null,
            "border": null,
            "align_items": null,
            "bottom": null,
            "_model_module": "@jupyter-widgets/base",
            "top": null,
            "grid_column": null,
            "overflow_y": null,
            "overflow_x": null,
            "grid_auto_flow": null,
            "grid_area": null,
            "grid_template_columns": null,
            "flex": null,
            "_model_name": "LayoutModel",
            "justify_items": null,
            "grid_row": null,
            "max_height": null,
            "align_content": null,
            "visibility": null,
            "align_self": null,
            "height": null,
            "min_height": null,
            "padding": null,
            "grid_auto_rows": null,
            "grid_gap": null,
            "max_width": null,
            "order": null,
            "_view_module_version": "1.2.0",
            "grid_template_areas": null,
            "object_position": null,
            "object_fit": null,
            "grid_auto_columns": null,
            "margin": null,
            "display": null,
            "left": null
          }
        },
        "fd443c5b409e48b08a63eeac7f55409d": {
          "model_module": "@jupyter-widgets/controls",
          "model_name": "FloatProgressModel",
          "state": {
            "_view_name": "ProgressView",
            "style": "IPY_MODEL_8f3adfed7497431b8ce85d12ce91d0e1",
            "_dom_classes": [],
            "description": "Extraction completed...: 100%",
            "_model_name": "FloatProgressModel",
            "bar_style": "success",
            "max": 1,
            "_view_module": "@jupyter-widgets/controls",
            "_model_module_version": "1.5.0",
            "value": 1,
            "_view_count": null,
            "_view_module_version": "1.5.0",
            "orientation": "horizontal",
            "min": 0,
            "description_tooltip": null,
            "_model_module": "@jupyter-widgets/controls",
            "layout": "IPY_MODEL_3007891b549d4c109b0dbfc2d0998bbe"
          }
        },
        "288b4bbe07f9456a951f32718c747f6e": {
          "model_module": "@jupyter-widgets/controls",
          "model_name": "HTMLModel",
          "state": {
            "_view_name": "HTMLView",
            "style": "IPY_MODEL_2bc8996244dc4955a8a77497db74b787",
            "_dom_classes": [],
            "description": "",
            "_model_name": "HTMLModel",
            "placeholder": "​",
            "_view_module": "@jupyter-widgets/controls",
            "_model_module_version": "1.5.0",
            "value": " 1/1 [00:09&lt;00:00,  9.36s/ file]",
            "_view_count": null,
            "_view_module_version": "1.5.0",
            "description_tooltip": null,
            "_model_module": "@jupyter-widgets/controls",
            "layout": "IPY_MODEL_da262336209c49449d285eed98584ac5"
          }
        },
        "8f3adfed7497431b8ce85d12ce91d0e1": {
          "model_module": "@jupyter-widgets/controls",
          "model_name": "ProgressStyleModel",
          "state": {
            "_view_name": "StyleView",
            "_model_name": "ProgressStyleModel",
            "description_width": "initial",
            "_view_module": "@jupyter-widgets/base",
            "_model_module_version": "1.5.0",
            "_view_count": null,
            "_view_module_version": "1.2.0",
            "bar_color": null,
            "_model_module": "@jupyter-widgets/controls"
          }
        },
        "3007891b549d4c109b0dbfc2d0998bbe": {
          "model_module": "@jupyter-widgets/base",
          "model_name": "LayoutModel",
          "state": {
            "_view_name": "LayoutView",
            "grid_template_rows": null,
            "right": null,
            "justify_content": null,
            "_view_module": "@jupyter-widgets/base",
            "overflow": null,
            "_model_module_version": "1.2.0",
            "_view_count": null,
            "flex_flow": null,
            "width": null,
            "min_width": null,
            "border": null,
            "align_items": null,
            "bottom": null,
            "_model_module": "@jupyter-widgets/base",
            "top": null,
            "grid_column": null,
            "overflow_y": null,
            "overflow_x": null,
            "grid_auto_flow": null,
            "grid_area": null,
            "grid_template_columns": null,
            "flex": null,
            "_model_name": "LayoutModel",
            "justify_items": null,
            "grid_row": null,
            "max_height": null,
            "align_content": null,
            "visibility": null,
            "align_self": null,
            "height": null,
            "min_height": null,
            "padding": null,
            "grid_auto_rows": null,
            "grid_gap": null,
            "max_width": null,
            "order": null,
            "_view_module_version": "1.2.0",
            "grid_template_areas": null,
            "object_position": null,
            "object_fit": null,
            "grid_auto_columns": null,
            "margin": null,
            "display": null,
            "left": null
          }
        },
        "2bc8996244dc4955a8a77497db74b787": {
          "model_module": "@jupyter-widgets/controls",
          "model_name": "DescriptionStyleModel",
          "state": {
            "_view_name": "StyleView",
            "_model_name": "DescriptionStyleModel",
            "description_width": "",
            "_view_module": "@jupyter-widgets/base",
            "_model_module_version": "1.5.0",
            "_view_count": null,
            "_view_module_version": "1.2.0",
            "_model_module": "@jupyter-widgets/controls"
          }
        },
        "da262336209c49449d285eed98584ac5": {
          "model_module": "@jupyter-widgets/base",
          "model_name": "LayoutModel",
          "state": {
            "_view_name": "LayoutView",
            "grid_template_rows": null,
            "right": null,
            "justify_content": null,
            "_view_module": "@jupyter-widgets/base",
            "overflow": null,
            "_model_module_version": "1.2.0",
            "_view_count": null,
            "flex_flow": null,
            "width": null,
            "min_width": null,
            "border": null,
            "align_items": null,
            "bottom": null,
            "_model_module": "@jupyter-widgets/base",
            "top": null,
            "grid_column": null,
            "overflow_y": null,
            "overflow_x": null,
            "grid_auto_flow": null,
            "grid_area": null,
            "grid_template_columns": null,
            "flex": null,
            "_model_name": "LayoutModel",
            "justify_items": null,
            "grid_row": null,
            "max_height": null,
            "align_content": null,
            "visibility": null,
            "align_self": null,
            "height": null,
            "min_height": null,
            "padding": null,
            "grid_auto_rows": null,
            "grid_gap": null,
            "max_width": null,
            "order": null,
            "_view_module_version": "1.2.0",
            "grid_template_areas": null,
            "object_position": null,
            "object_fit": null,
            "grid_auto_columns": null,
            "margin": null,
            "display": null,
            "left": null
          }
        },
        "4cdea3cd62c8457794ca13c58e86bcaa": {
          "model_module": "@jupyter-widgets/controls",
          "model_name": "HBoxModel",
          "state": {
            "_view_name": "HBoxView",
            "_dom_classes": [],
            "_model_name": "HBoxModel",
            "_view_module": "@jupyter-widgets/controls",
            "_model_module_version": "1.5.0",
            "_view_count": null,
            "_view_module_version": "1.5.0",
            "box_style": "",
            "layout": "IPY_MODEL_86e1c6a2e6074f2a948c590d40a74d3d",
            "_model_module": "@jupyter-widgets/controls",
            "children": [
              "IPY_MODEL_52097a679de04ded9a7c563f5fc8c3df",
              "IPY_MODEL_0c7173ea8b6a423681eecdcfb9ee47b6"
            ]
          }
        },
        "86e1c6a2e6074f2a948c590d40a74d3d": {
          "model_module": "@jupyter-widgets/base",
          "model_name": "LayoutModel",
          "state": {
            "_view_name": "LayoutView",
            "grid_template_rows": null,
            "right": null,
            "justify_content": null,
            "_view_module": "@jupyter-widgets/base",
            "overflow": null,
            "_model_module_version": "1.2.0",
            "_view_count": null,
            "flex_flow": null,
            "width": null,
            "min_width": null,
            "border": null,
            "align_items": null,
            "bottom": null,
            "_model_module": "@jupyter-widgets/base",
            "top": null,
            "grid_column": null,
            "overflow_y": null,
            "overflow_x": null,
            "grid_auto_flow": null,
            "grid_area": null,
            "grid_template_columns": null,
            "flex": null,
            "_model_name": "LayoutModel",
            "justify_items": null,
            "grid_row": null,
            "max_height": null,
            "align_content": null,
            "visibility": null,
            "align_self": null,
            "height": null,
            "min_height": null,
            "padding": null,
            "grid_auto_rows": null,
            "grid_gap": null,
            "max_width": null,
            "order": null,
            "_view_module_version": "1.2.0",
            "grid_template_areas": null,
            "object_position": null,
            "object_fit": null,
            "grid_auto_columns": null,
            "margin": null,
            "display": null,
            "left": null
          }
        },
        "52097a679de04ded9a7c563f5fc8c3df": {
          "model_module": "@jupyter-widgets/controls",
          "model_name": "FloatProgressModel",
          "state": {
            "_view_name": "ProgressView",
            "style": "IPY_MODEL_bd996b2e67f54f3db39f966802f4cd0b",
            "_dom_classes": [],
            "description": "",
            "_model_name": "FloatProgressModel",
            "bar_style": "info",
            "max": 1,
            "_view_module": "@jupyter-widgets/controls",
            "_model_module_version": "1.5.0",
            "value": 1,
            "_view_count": null,
            "_view_module_version": "1.5.0",
            "orientation": "horizontal",
            "min": 0,
            "description_tooltip": null,
            "_model_module": "@jupyter-widgets/controls",
            "layout": "IPY_MODEL_4d262b82c54c4101b5440c320105f2c7"
          }
        },
        "0c7173ea8b6a423681eecdcfb9ee47b6": {
          "model_module": "@jupyter-widgets/controls",
          "model_name": "HTMLModel",
          "state": {
            "_view_name": "HTMLView",
            "style": "IPY_MODEL_3cdf2185d6074a4498eb8f2c9a0b670b",
            "_dom_classes": [],
            "description": "",
            "_model_name": "HTMLModel",
            "placeholder": "​",
            "_view_module": "@jupyter-widgets/controls",
            "_model_module_version": "1.5.0",
            "value": " 50000/0 [00:35&lt;00:00, 1447.16 examples/s]",
            "_view_count": null,
            "_view_module_version": "1.5.0",
            "description_tooltip": null,
            "_model_module": "@jupyter-widgets/controls",
            "layout": "IPY_MODEL_5d9922e057c248aebe487c5af326a2e8"
          }
        },
        "bd996b2e67f54f3db39f966802f4cd0b": {
          "model_module": "@jupyter-widgets/controls",
          "model_name": "ProgressStyleModel",
          "state": {
            "_view_name": "StyleView",
            "_model_name": "ProgressStyleModel",
            "description_width": "initial",
            "_view_module": "@jupyter-widgets/base",
            "_model_module_version": "1.5.0",
            "_view_count": null,
            "_view_module_version": "1.2.0",
            "bar_color": null,
            "_model_module": "@jupyter-widgets/controls"
          }
        },
        "4d262b82c54c4101b5440c320105f2c7": {
          "model_module": "@jupyter-widgets/base",
          "model_name": "LayoutModel",
          "state": {
            "_view_name": "LayoutView",
            "grid_template_rows": null,
            "right": null,
            "justify_content": null,
            "_view_module": "@jupyter-widgets/base",
            "overflow": null,
            "_model_module_version": "1.2.0",
            "_view_count": null,
            "flex_flow": null,
            "width": null,
            "min_width": null,
            "border": null,
            "align_items": null,
            "bottom": null,
            "_model_module": "@jupyter-widgets/base",
            "top": null,
            "grid_column": null,
            "overflow_y": null,
            "overflow_x": null,
            "grid_auto_flow": null,
            "grid_area": null,
            "grid_template_columns": null,
            "flex": null,
            "_model_name": "LayoutModel",
            "justify_items": null,
            "grid_row": null,
            "max_height": null,
            "align_content": null,
            "visibility": null,
            "align_self": null,
            "height": null,
            "min_height": null,
            "padding": null,
            "grid_auto_rows": null,
            "grid_gap": null,
            "max_width": null,
            "order": null,
            "_view_module_version": "1.2.0",
            "grid_template_areas": null,
            "object_position": null,
            "object_fit": null,
            "grid_auto_columns": null,
            "margin": null,
            "display": null,
            "left": null
          }
        },
        "3cdf2185d6074a4498eb8f2c9a0b670b": {
          "model_module": "@jupyter-widgets/controls",
          "model_name": "DescriptionStyleModel",
          "state": {
            "_view_name": "StyleView",
            "_model_name": "DescriptionStyleModel",
            "description_width": "",
            "_view_module": "@jupyter-widgets/base",
            "_model_module_version": "1.5.0",
            "_view_count": null,
            "_view_module_version": "1.2.0",
            "_model_module": "@jupyter-widgets/controls"
          }
        },
        "5d9922e057c248aebe487c5af326a2e8": {
          "model_module": "@jupyter-widgets/base",
          "model_name": "LayoutModel",
          "state": {
            "_view_name": "LayoutView",
            "grid_template_rows": null,
            "right": null,
            "justify_content": null,
            "_view_module": "@jupyter-widgets/base",
            "overflow": null,
            "_model_module_version": "1.2.0",
            "_view_count": null,
            "flex_flow": null,
            "width": null,
            "min_width": null,
            "border": null,
            "align_items": null,
            "bottom": null,
            "_model_module": "@jupyter-widgets/base",
            "top": null,
            "grid_column": null,
            "overflow_y": null,
            "overflow_x": null,
            "grid_auto_flow": null,
            "grid_area": null,
            "grid_template_columns": null,
            "flex": null,
            "_model_name": "LayoutModel",
            "justify_items": null,
            "grid_row": null,
            "max_height": null,
            "align_content": null,
            "visibility": null,
            "align_self": null,
            "height": null,
            "min_height": null,
            "padding": null,
            "grid_auto_rows": null,
            "grid_gap": null,
            "max_width": null,
            "order": null,
            "_view_module_version": "1.2.0",
            "grid_template_areas": null,
            "object_position": null,
            "object_fit": null,
            "grid_auto_columns": null,
            "margin": null,
            "display": null,
            "left": null
          }
        },
        "05b970b00e6945eea3bbf8293ff1a140": {
          "model_module": "@jupyter-widgets/controls",
          "model_name": "HBoxModel",
          "state": {
            "_view_name": "HBoxView",
            "_dom_classes": [],
            "_model_name": "HBoxModel",
            "_view_module": "@jupyter-widgets/controls",
            "_model_module_version": "1.5.0",
            "_view_count": null,
            "_view_module_version": "1.5.0",
            "box_style": "",
            "layout": "IPY_MODEL_26d2f06610b740878ebe232d61524ae6",
            "_model_module": "@jupyter-widgets/controls",
            "children": [
              "IPY_MODEL_176bc13b2dea4055a726d72c8f7c23c2",
              "IPY_MODEL_8e47e9983d2c4c5b8657128659ba66aa"
            ]
          }
        },
        "26d2f06610b740878ebe232d61524ae6": {
          "model_module": "@jupyter-widgets/base",
          "model_name": "LayoutModel",
          "state": {
            "_view_name": "LayoutView",
            "grid_template_rows": null,
            "right": null,
            "justify_content": null,
            "_view_module": "@jupyter-widgets/base",
            "overflow": null,
            "_model_module_version": "1.2.0",
            "_view_count": null,
            "flex_flow": null,
            "width": null,
            "min_width": null,
            "border": null,
            "align_items": null,
            "bottom": null,
            "_model_module": "@jupyter-widgets/base",
            "top": null,
            "grid_column": null,
            "overflow_y": null,
            "overflow_x": null,
            "grid_auto_flow": null,
            "grid_area": null,
            "grid_template_columns": null,
            "flex": null,
            "_model_name": "LayoutModel",
            "justify_items": null,
            "grid_row": null,
            "max_height": null,
            "align_content": null,
            "visibility": null,
            "align_self": null,
            "height": null,
            "min_height": null,
            "padding": null,
            "grid_auto_rows": null,
            "grid_gap": null,
            "max_width": null,
            "order": null,
            "_view_module_version": "1.2.0",
            "grid_template_areas": null,
            "object_position": null,
            "object_fit": null,
            "grid_auto_columns": null,
            "margin": null,
            "display": null,
            "left": null
          }
        },
        "176bc13b2dea4055a726d72c8f7c23c2": {
          "model_module": "@jupyter-widgets/controls",
          "model_name": "FloatProgressModel",
          "state": {
            "_view_name": "ProgressView",
            "style": "IPY_MODEL_e91766b493d842dab334460a6c73cd29",
            "_dom_classes": [],
            "description": " 75%",
            "_model_name": "FloatProgressModel",
            "bar_style": "danger",
            "max": 50000,
            "_view_module": "@jupyter-widgets/controls",
            "_model_module_version": "1.5.0",
            "value": 37736,
            "_view_count": null,
            "_view_module_version": "1.5.0",
            "orientation": "horizontal",
            "min": 0,
            "description_tooltip": null,
            "_model_module": "@jupyter-widgets/controls",
            "layout": "IPY_MODEL_fd590449851a483e8c43dfac0bfdc25c"
          }
        },
        "8e47e9983d2c4c5b8657128659ba66aa": {
          "model_module": "@jupyter-widgets/controls",
          "model_name": "HTMLModel",
          "state": {
            "_view_name": "HTMLView",
            "style": "IPY_MODEL_c334741df4814356967e192713db083d",
            "_dom_classes": [],
            "description": "",
            "_model_name": "HTMLModel",
            "placeholder": "​",
            "_view_module": "@jupyter-widgets/controls",
            "_model_module_version": "1.5.0",
            "value": " 37736/50000 [00:00&lt;00:00, 12366.26 examples/s]",
            "_view_count": null,
            "_view_module_version": "1.5.0",
            "description_tooltip": null,
            "_model_module": "@jupyter-widgets/controls",
            "layout": "IPY_MODEL_d2ae7c01285d4f4c93df021935fd2912"
          }
        },
        "e91766b493d842dab334460a6c73cd29": {
          "model_module": "@jupyter-widgets/controls",
          "model_name": "ProgressStyleModel",
          "state": {
            "_view_name": "StyleView",
            "_model_name": "ProgressStyleModel",
            "description_width": "initial",
            "_view_module": "@jupyter-widgets/base",
            "_model_module_version": "1.5.0",
            "_view_count": null,
            "_view_module_version": "1.2.0",
            "bar_color": null,
            "_model_module": "@jupyter-widgets/controls"
          }
        },
        "fd590449851a483e8c43dfac0bfdc25c": {
          "model_module": "@jupyter-widgets/base",
          "model_name": "LayoutModel",
          "state": {
            "_view_name": "LayoutView",
            "grid_template_rows": null,
            "right": null,
            "justify_content": null,
            "_view_module": "@jupyter-widgets/base",
            "overflow": null,
            "_model_module_version": "1.2.0",
            "_view_count": null,
            "flex_flow": null,
            "width": null,
            "min_width": null,
            "border": null,
            "align_items": null,
            "bottom": null,
            "_model_module": "@jupyter-widgets/base",
            "top": null,
            "grid_column": null,
            "overflow_y": null,
            "overflow_x": null,
            "grid_auto_flow": null,
            "grid_area": null,
            "grid_template_columns": null,
            "flex": null,
            "_model_name": "LayoutModel",
            "justify_items": null,
            "grid_row": null,
            "max_height": null,
            "align_content": null,
            "visibility": null,
            "align_self": null,
            "height": null,
            "min_height": null,
            "padding": null,
            "grid_auto_rows": null,
            "grid_gap": null,
            "max_width": null,
            "order": null,
            "_view_module_version": "1.2.0",
            "grid_template_areas": null,
            "object_position": null,
            "object_fit": null,
            "grid_auto_columns": null,
            "margin": null,
            "display": null,
            "left": null
          }
        },
        "c334741df4814356967e192713db083d": {
          "model_module": "@jupyter-widgets/controls",
          "model_name": "DescriptionStyleModel",
          "state": {
            "_view_name": "StyleView",
            "_model_name": "DescriptionStyleModel",
            "description_width": "",
            "_view_module": "@jupyter-widgets/base",
            "_model_module_version": "1.5.0",
            "_view_count": null,
            "_view_module_version": "1.2.0",
            "_model_module": "@jupyter-widgets/controls"
          }
        },
        "d2ae7c01285d4f4c93df021935fd2912": {
          "model_module": "@jupyter-widgets/base",
          "model_name": "LayoutModel",
          "state": {
            "_view_name": "LayoutView",
            "grid_template_rows": null,
            "right": null,
            "justify_content": null,
            "_view_module": "@jupyter-widgets/base",
            "overflow": null,
            "_model_module_version": "1.2.0",
            "_view_count": null,
            "flex_flow": null,
            "width": null,
            "min_width": null,
            "border": null,
            "align_items": null,
            "bottom": null,
            "_model_module": "@jupyter-widgets/base",
            "top": null,
            "grid_column": null,
            "overflow_y": null,
            "overflow_x": null,
            "grid_auto_flow": null,
            "grid_area": null,
            "grid_template_columns": null,
            "flex": null,
            "_model_name": "LayoutModel",
            "justify_items": null,
            "grid_row": null,
            "max_height": null,
            "align_content": null,
            "visibility": null,
            "align_self": null,
            "height": null,
            "min_height": null,
            "padding": null,
            "grid_auto_rows": null,
            "grid_gap": null,
            "max_width": null,
            "order": null,
            "_view_module_version": "1.2.0",
            "grid_template_areas": null,
            "object_position": null,
            "object_fit": null,
            "grid_auto_columns": null,
            "margin": null,
            "display": null,
            "left": null
          }
        },
        "3d032968a3e24d06ac301f2ba6a71903": {
          "model_module": "@jupyter-widgets/controls",
          "model_name": "HBoxModel",
          "state": {
            "_view_name": "HBoxView",
            "_dom_classes": [],
            "_model_name": "HBoxModel",
            "_view_module": "@jupyter-widgets/controls",
            "_model_module_version": "1.5.0",
            "_view_count": null,
            "_view_module_version": "1.5.0",
            "box_style": "",
            "layout": "IPY_MODEL_5e9c193835b24727a49a080a09f554d5",
            "_model_module": "@jupyter-widgets/controls",
            "children": [
              "IPY_MODEL_5636ea19656847d58b588b3bf16eaa53",
              "IPY_MODEL_ac2779bf315541a0bcbe3fcb4d4210fc"
            ]
          }
        },
        "5e9c193835b24727a49a080a09f554d5": {
          "model_module": "@jupyter-widgets/base",
          "model_name": "LayoutModel",
          "state": {
            "_view_name": "LayoutView",
            "grid_template_rows": null,
            "right": null,
            "justify_content": null,
            "_view_module": "@jupyter-widgets/base",
            "overflow": null,
            "_model_module_version": "1.2.0",
            "_view_count": null,
            "flex_flow": null,
            "width": null,
            "min_width": null,
            "border": null,
            "align_items": null,
            "bottom": null,
            "_model_module": "@jupyter-widgets/base",
            "top": null,
            "grid_column": null,
            "overflow_y": null,
            "overflow_x": null,
            "grid_auto_flow": null,
            "grid_area": null,
            "grid_template_columns": null,
            "flex": null,
            "_model_name": "LayoutModel",
            "justify_items": null,
            "grid_row": null,
            "max_height": null,
            "align_content": null,
            "visibility": null,
            "align_self": null,
            "height": null,
            "min_height": null,
            "padding": null,
            "grid_auto_rows": null,
            "grid_gap": null,
            "max_width": null,
            "order": null,
            "_view_module_version": "1.2.0",
            "grid_template_areas": null,
            "object_position": null,
            "object_fit": null,
            "grid_auto_columns": null,
            "margin": null,
            "display": null,
            "left": null
          }
        },
        "5636ea19656847d58b588b3bf16eaa53": {
          "model_module": "@jupyter-widgets/controls",
          "model_name": "FloatProgressModel",
          "state": {
            "_view_name": "ProgressView",
            "style": "IPY_MODEL_12c06178340949e3ac252edfa21039c6",
            "_dom_classes": [],
            "description": "",
            "_model_name": "FloatProgressModel",
            "bar_style": "info",
            "max": 1,
            "_view_module": "@jupyter-widgets/controls",
            "_model_module_version": "1.5.0",
            "value": 1,
            "_view_count": null,
            "_view_module_version": "1.5.0",
            "orientation": "horizontal",
            "min": 0,
            "description_tooltip": null,
            "_model_module": "@jupyter-widgets/controls",
            "layout": "IPY_MODEL_b2ea0e564a324aceb820d30d0ca9d024"
          }
        },
        "ac2779bf315541a0bcbe3fcb4d4210fc": {
          "model_module": "@jupyter-widgets/controls",
          "model_name": "HTMLModel",
          "state": {
            "_view_name": "HTMLView",
            "style": "IPY_MODEL_a46988f75f604f31876982b1c4edd4e7",
            "_dom_classes": [],
            "description": "",
            "_model_name": "HTMLModel",
            "placeholder": "​",
            "_view_module": "@jupyter-widgets/controls",
            "_model_module_version": "1.5.0",
            "value": " 10000/0 [00:07&lt;00:00, 1412.24 examples/s]",
            "_view_count": null,
            "_view_module_version": "1.5.0",
            "description_tooltip": null,
            "_model_module": "@jupyter-widgets/controls",
            "layout": "IPY_MODEL_5b9da4976251468db350de01b80c85bd"
          }
        },
        "12c06178340949e3ac252edfa21039c6": {
          "model_module": "@jupyter-widgets/controls",
          "model_name": "ProgressStyleModel",
          "state": {
            "_view_name": "StyleView",
            "_model_name": "ProgressStyleModel",
            "description_width": "initial",
            "_view_module": "@jupyter-widgets/base",
            "_model_module_version": "1.5.0",
            "_view_count": null,
            "_view_module_version": "1.2.0",
            "bar_color": null,
            "_model_module": "@jupyter-widgets/controls"
          }
        },
        "b2ea0e564a324aceb820d30d0ca9d024": {
          "model_module": "@jupyter-widgets/base",
          "model_name": "LayoutModel",
          "state": {
            "_view_name": "LayoutView",
            "grid_template_rows": null,
            "right": null,
            "justify_content": null,
            "_view_module": "@jupyter-widgets/base",
            "overflow": null,
            "_model_module_version": "1.2.0",
            "_view_count": null,
            "flex_flow": null,
            "width": null,
            "min_width": null,
            "border": null,
            "align_items": null,
            "bottom": null,
            "_model_module": "@jupyter-widgets/base",
            "top": null,
            "grid_column": null,
            "overflow_y": null,
            "overflow_x": null,
            "grid_auto_flow": null,
            "grid_area": null,
            "grid_template_columns": null,
            "flex": null,
            "_model_name": "LayoutModel",
            "justify_items": null,
            "grid_row": null,
            "max_height": null,
            "align_content": null,
            "visibility": null,
            "align_self": null,
            "height": null,
            "min_height": null,
            "padding": null,
            "grid_auto_rows": null,
            "grid_gap": null,
            "max_width": null,
            "order": null,
            "_view_module_version": "1.2.0",
            "grid_template_areas": null,
            "object_position": null,
            "object_fit": null,
            "grid_auto_columns": null,
            "margin": null,
            "display": null,
            "left": null
          }
        },
        "a46988f75f604f31876982b1c4edd4e7": {
          "model_module": "@jupyter-widgets/controls",
          "model_name": "DescriptionStyleModel",
          "state": {
            "_view_name": "StyleView",
            "_model_name": "DescriptionStyleModel",
            "description_width": "",
            "_view_module": "@jupyter-widgets/base",
            "_model_module_version": "1.5.0",
            "_view_count": null,
            "_view_module_version": "1.2.0",
            "_model_module": "@jupyter-widgets/controls"
          }
        },
        "5b9da4976251468db350de01b80c85bd": {
          "model_module": "@jupyter-widgets/base",
          "model_name": "LayoutModel",
          "state": {
            "_view_name": "LayoutView",
            "grid_template_rows": null,
            "right": null,
            "justify_content": null,
            "_view_module": "@jupyter-widgets/base",
            "overflow": null,
            "_model_module_version": "1.2.0",
            "_view_count": null,
            "flex_flow": null,
            "width": null,
            "min_width": null,
            "border": null,
            "align_items": null,
            "bottom": null,
            "_model_module": "@jupyter-widgets/base",
            "top": null,
            "grid_column": null,
            "overflow_y": null,
            "overflow_x": null,
            "grid_auto_flow": null,
            "grid_area": null,
            "grid_template_columns": null,
            "flex": null,
            "_model_name": "LayoutModel",
            "justify_items": null,
            "grid_row": null,
            "max_height": null,
            "align_content": null,
            "visibility": null,
            "align_self": null,
            "height": null,
            "min_height": null,
            "padding": null,
            "grid_auto_rows": null,
            "grid_gap": null,
            "max_width": null,
            "order": null,
            "_view_module_version": "1.2.0",
            "grid_template_areas": null,
            "object_position": null,
            "object_fit": null,
            "grid_auto_columns": null,
            "margin": null,
            "display": null,
            "left": null
          }
        },
        "735339dada194bd79e921329b82cd602": {
          "model_module": "@jupyter-widgets/controls",
          "model_name": "HBoxModel",
          "state": {
            "_view_name": "HBoxView",
            "_dom_classes": [],
            "_model_name": "HBoxModel",
            "_view_module": "@jupyter-widgets/controls",
            "_model_module_version": "1.5.0",
            "_view_count": null,
            "_view_module_version": "1.5.0",
            "box_style": "",
            "layout": "IPY_MODEL_0e7bd6345b9b406eba247fa8b46b3737",
            "_model_module": "@jupyter-widgets/controls",
            "children": [
              "IPY_MODEL_eebcbb3536c24424beae3860a5d030c3",
              "IPY_MODEL_1d38e5e3f84a4ae5965041796b5f3eb6"
            ]
          }
        },
        "0e7bd6345b9b406eba247fa8b46b3737": {
          "model_module": "@jupyter-widgets/base",
          "model_name": "LayoutModel",
          "state": {
            "_view_name": "LayoutView",
            "grid_template_rows": null,
            "right": null,
            "justify_content": null,
            "_view_module": "@jupyter-widgets/base",
            "overflow": null,
            "_model_module_version": "1.2.0",
            "_view_count": null,
            "flex_flow": null,
            "width": null,
            "min_width": null,
            "border": null,
            "align_items": null,
            "bottom": null,
            "_model_module": "@jupyter-widgets/base",
            "top": null,
            "grid_column": null,
            "overflow_y": null,
            "overflow_x": null,
            "grid_auto_flow": null,
            "grid_area": null,
            "grid_template_columns": null,
            "flex": null,
            "_model_name": "LayoutModel",
            "justify_items": null,
            "grid_row": null,
            "max_height": null,
            "align_content": null,
            "visibility": null,
            "align_self": null,
            "height": null,
            "min_height": null,
            "padding": null,
            "grid_auto_rows": null,
            "grid_gap": null,
            "max_width": null,
            "order": null,
            "_view_module_version": "1.2.0",
            "grid_template_areas": null,
            "object_position": null,
            "object_fit": null,
            "grid_auto_columns": null,
            "margin": null,
            "display": null,
            "left": null
          }
        },
        "eebcbb3536c24424beae3860a5d030c3": {
          "model_module": "@jupyter-widgets/controls",
          "model_name": "FloatProgressModel",
          "state": {
            "_view_name": "ProgressView",
            "style": "IPY_MODEL_f451e66fcd2241279e5311d86b3bfb1b",
            "_dom_classes": [],
            "description": " 45%",
            "_model_name": "FloatProgressModel",
            "bar_style": "danger",
            "max": 10000,
            "_view_module": "@jupyter-widgets/controls",
            "_model_module_version": "1.5.0",
            "value": 4460,
            "_view_count": null,
            "_view_module_version": "1.5.0",
            "orientation": "horizontal",
            "min": 0,
            "description_tooltip": null,
            "_model_module": "@jupyter-widgets/controls",
            "layout": "IPY_MODEL_8a636541b5cb4973971f67471b1ce254"
          }
        },
        "1d38e5e3f84a4ae5965041796b5f3eb6": {
          "model_module": "@jupyter-widgets/controls",
          "model_name": "HTMLModel",
          "state": {
            "_view_name": "HTMLView",
            "style": "IPY_MODEL_dc419c66f9404912a2eccb6046be6475",
            "_dom_classes": [],
            "description": "",
            "_model_name": "HTMLModel",
            "placeholder": "​",
            "_view_module": "@jupyter-widgets/controls",
            "_model_module_version": "1.5.0",
            "value": " 4460/10000 [00:00&lt;00:00, 44596.96 examples/s]",
            "_view_count": null,
            "_view_module_version": "1.5.0",
            "description_tooltip": null,
            "_model_module": "@jupyter-widgets/controls",
            "layout": "IPY_MODEL_85e1b3a3e66f4c988c4ce6ccf77a2b47"
          }
        },
        "f451e66fcd2241279e5311d86b3bfb1b": {
          "model_module": "@jupyter-widgets/controls",
          "model_name": "ProgressStyleModel",
          "state": {
            "_view_name": "StyleView",
            "_model_name": "ProgressStyleModel",
            "description_width": "initial",
            "_view_module": "@jupyter-widgets/base",
            "_model_module_version": "1.5.0",
            "_view_count": null,
            "_view_module_version": "1.2.0",
            "bar_color": null,
            "_model_module": "@jupyter-widgets/controls"
          }
        },
        "8a636541b5cb4973971f67471b1ce254": {
          "model_module": "@jupyter-widgets/base",
          "model_name": "LayoutModel",
          "state": {
            "_view_name": "LayoutView",
            "grid_template_rows": null,
            "right": null,
            "justify_content": null,
            "_view_module": "@jupyter-widgets/base",
            "overflow": null,
            "_model_module_version": "1.2.0",
            "_view_count": null,
            "flex_flow": null,
            "width": null,
            "min_width": null,
            "border": null,
            "align_items": null,
            "bottom": null,
            "_model_module": "@jupyter-widgets/base",
            "top": null,
            "grid_column": null,
            "overflow_y": null,
            "overflow_x": null,
            "grid_auto_flow": null,
            "grid_area": null,
            "grid_template_columns": null,
            "flex": null,
            "_model_name": "LayoutModel",
            "justify_items": null,
            "grid_row": null,
            "max_height": null,
            "align_content": null,
            "visibility": null,
            "align_self": null,
            "height": null,
            "min_height": null,
            "padding": null,
            "grid_auto_rows": null,
            "grid_gap": null,
            "max_width": null,
            "order": null,
            "_view_module_version": "1.2.0",
            "grid_template_areas": null,
            "object_position": null,
            "object_fit": null,
            "grid_auto_columns": null,
            "margin": null,
            "display": null,
            "left": null
          }
        },
        "dc419c66f9404912a2eccb6046be6475": {
          "model_module": "@jupyter-widgets/controls",
          "model_name": "DescriptionStyleModel",
          "state": {
            "_view_name": "StyleView",
            "_model_name": "DescriptionStyleModel",
            "description_width": "",
            "_view_module": "@jupyter-widgets/base",
            "_model_module_version": "1.5.0",
            "_view_count": null,
            "_view_module_version": "1.2.0",
            "_model_module": "@jupyter-widgets/controls"
          }
        },
        "85e1b3a3e66f4c988c4ce6ccf77a2b47": {
          "model_module": "@jupyter-widgets/base",
          "model_name": "LayoutModel",
          "state": {
            "_view_name": "LayoutView",
            "grid_template_rows": null,
            "right": null,
            "justify_content": null,
            "_view_module": "@jupyter-widgets/base",
            "overflow": null,
            "_model_module_version": "1.2.0",
            "_view_count": null,
            "flex_flow": null,
            "width": null,
            "min_width": null,
            "border": null,
            "align_items": null,
            "bottom": null,
            "_model_module": "@jupyter-widgets/base",
            "top": null,
            "grid_column": null,
            "overflow_y": null,
            "overflow_x": null,
            "grid_auto_flow": null,
            "grid_area": null,
            "grid_template_columns": null,
            "flex": null,
            "_model_name": "LayoutModel",
            "justify_items": null,
            "grid_row": null,
            "max_height": null,
            "align_content": null,
            "visibility": null,
            "align_self": null,
            "height": null,
            "min_height": null,
            "padding": null,
            "grid_auto_rows": null,
            "grid_gap": null,
            "max_width": null,
            "order": null,
            "_view_module_version": "1.2.0",
            "grid_template_areas": null,
            "object_position": null,
            "object_fit": null,
            "grid_auto_columns": null,
            "margin": null,
            "display": null,
            "left": null
          }
        },
        "8bd1f107209d43e49898bf9f463402e0": {
          "model_module": "@jupyter-widgets/controls",
          "model_name": "VBoxModel",
          "state": {
            "_view_name": "VBoxView",
            "_dom_classes": [],
            "_model_name": "VBoxModel",
            "_view_module": "@jupyter-widgets/controls",
            "_model_module_version": "1.5.0",
            "_view_count": null,
            "_view_module_version": "1.5.0",
            "box_style": "",
            "layout": "IPY_MODEL_54f49113b1634eab936bae76a889245b",
            "_model_module": "@jupyter-widgets/controls",
            "children": [
              "IPY_MODEL_ea3013cd93d54699908a6e0f6c4f4667",
              "IPY_MODEL_d67700e087384dd8abafa182c16ce637"
            ]
          }
        },
        "54f49113b1634eab936bae76a889245b": {
          "model_module": "@jupyter-widgets/base",
          "model_name": "LayoutModel",
          "state": {
            "_view_name": "LayoutView",
            "grid_template_rows": null,
            "right": null,
            "justify_content": null,
            "_view_module": "@jupyter-widgets/base",
            "overflow": null,
            "_model_module_version": "1.2.0",
            "_view_count": null,
            "flex_flow": null,
            "width": null,
            "min_width": null,
            "border": null,
            "align_items": null,
            "bottom": null,
            "_model_module": "@jupyter-widgets/base",
            "top": null,
            "grid_column": null,
            "overflow_y": null,
            "overflow_x": null,
            "grid_auto_flow": null,
            "grid_area": null,
            "grid_template_columns": null,
            "flex": null,
            "_model_name": "LayoutModel",
            "justify_items": null,
            "grid_row": null,
            "max_height": null,
            "align_content": null,
            "visibility": null,
            "align_self": null,
            "height": null,
            "min_height": null,
            "padding": null,
            "grid_auto_rows": null,
            "grid_gap": null,
            "max_width": null,
            "order": null,
            "_view_module_version": "1.2.0",
            "grid_template_areas": null,
            "object_position": null,
            "object_fit": null,
            "grid_auto_columns": null,
            "margin": null,
            "display": null,
            "left": null
          }
        },
        "ea3013cd93d54699908a6e0f6c4f4667": {
          "model_module": "@jupyter-widgets/controls",
          "model_name": "LabelModel",
          "state": {
            "_view_name": "LabelView",
            "style": "IPY_MODEL_32957ef02e9d4fc5a0aea65dfe458d35",
            "_dom_classes": [],
            "description": "",
            "_model_name": "LabelModel",
            "placeholder": "​",
            "_view_module": "@jupyter-widgets/controls",
            "_model_module_version": "1.5.0",
            "value": " 2.19MB of 2.19MB uploaded (0.00MB deduped)\r",
            "_view_count": null,
            "_view_module_version": "1.5.0",
            "description_tooltip": null,
            "_model_module": "@jupyter-widgets/controls",
            "layout": "IPY_MODEL_b4badec1416744749e23d1edab86d893"
          }
        },
        "d67700e087384dd8abafa182c16ce637": {
          "model_module": "@jupyter-widgets/controls",
          "model_name": "FloatProgressModel",
          "state": {
            "_view_name": "ProgressView",
            "style": "IPY_MODEL_51fedd2f42a24c8b951563e085d6d91e",
            "_dom_classes": [],
            "description": "",
            "_model_name": "FloatProgressModel",
            "bar_style": "",
            "max": 1,
            "_view_module": "@jupyter-widgets/controls",
            "_model_module_version": "1.5.0",
            "value": 1,
            "_view_count": null,
            "_view_module_version": "1.5.0",
            "orientation": "horizontal",
            "min": 0,
            "description_tooltip": null,
            "_model_module": "@jupyter-widgets/controls",
            "layout": "IPY_MODEL_1f2466d83dd34f84bdfd8034154376c9"
          }
        },
        "32957ef02e9d4fc5a0aea65dfe458d35": {
          "model_module": "@jupyter-widgets/controls",
          "model_name": "DescriptionStyleModel",
          "state": {
            "_view_name": "StyleView",
            "_model_name": "DescriptionStyleModel",
            "description_width": "",
            "_view_module": "@jupyter-widgets/base",
            "_model_module_version": "1.5.0",
            "_view_count": null,
            "_view_module_version": "1.2.0",
            "_model_module": "@jupyter-widgets/controls"
          }
        },
        "b4badec1416744749e23d1edab86d893": {
          "model_module": "@jupyter-widgets/base",
          "model_name": "LayoutModel",
          "state": {
            "_view_name": "LayoutView",
            "grid_template_rows": null,
            "right": null,
            "justify_content": null,
            "_view_module": "@jupyter-widgets/base",
            "overflow": null,
            "_model_module_version": "1.2.0",
            "_view_count": null,
            "flex_flow": null,
            "width": null,
            "min_width": null,
            "border": null,
            "align_items": null,
            "bottom": null,
            "_model_module": "@jupyter-widgets/base",
            "top": null,
            "grid_column": null,
            "overflow_y": null,
            "overflow_x": null,
            "grid_auto_flow": null,
            "grid_area": null,
            "grid_template_columns": null,
            "flex": null,
            "_model_name": "LayoutModel",
            "justify_items": null,
            "grid_row": null,
            "max_height": null,
            "align_content": null,
            "visibility": null,
            "align_self": null,
            "height": null,
            "min_height": null,
            "padding": null,
            "grid_auto_rows": null,
            "grid_gap": null,
            "max_width": null,
            "order": null,
            "_view_module_version": "1.2.0",
            "grid_template_areas": null,
            "object_position": null,
            "object_fit": null,
            "grid_auto_columns": null,
            "margin": null,
            "display": null,
            "left": null
          }
        },
        "51fedd2f42a24c8b951563e085d6d91e": {
          "model_module": "@jupyter-widgets/controls",
          "model_name": "ProgressStyleModel",
          "state": {
            "_view_name": "StyleView",
            "_model_name": "ProgressStyleModel",
            "description_width": "",
            "_view_module": "@jupyter-widgets/base",
            "_model_module_version": "1.5.0",
            "_view_count": null,
            "_view_module_version": "1.2.0",
            "bar_color": null,
            "_model_module": "@jupyter-widgets/controls"
          }
        },
        "1f2466d83dd34f84bdfd8034154376c9": {
          "model_module": "@jupyter-widgets/base",
          "model_name": "LayoutModel",
          "state": {
            "_view_name": "LayoutView",
            "grid_template_rows": null,
            "right": null,
            "justify_content": null,
            "_view_module": "@jupyter-widgets/base",
            "overflow": null,
            "_model_module_version": "1.2.0",
            "_view_count": null,
            "flex_flow": null,
            "width": null,
            "min_width": null,
            "border": null,
            "align_items": null,
            "bottom": null,
            "_model_module": "@jupyter-widgets/base",
            "top": null,
            "grid_column": null,
            "overflow_y": null,
            "overflow_x": null,
            "grid_auto_flow": null,
            "grid_area": null,
            "grid_template_columns": null,
            "flex": null,
            "_model_name": "LayoutModel",
            "justify_items": null,
            "grid_row": null,
            "max_height": null,
            "align_content": null,
            "visibility": null,
            "align_self": null,
            "height": null,
            "min_height": null,
            "padding": null,
            "grid_auto_rows": null,
            "grid_gap": null,
            "max_width": null,
            "order": null,
            "_view_module_version": "1.2.0",
            "grid_template_areas": null,
            "object_position": null,
            "object_fit": null,
            "grid_auto_columns": null,
            "margin": null,
            "display": null,
            "left": null
          }
        }
      }
    }
  },
  "cells": [
    {
      "cell_type": "markdown",
      "metadata": {
        "id": "view-in-github",
        "colab_type": "text"
      },
      "source": [
        "<a href=\"https://colab.research.google.com/github/ayulockin/Explore-NFNet/blob/main/Train_Basline_With_Adaptive_Gradient_Clipping.ipynb\" target=\"_parent\"><img src=\"https://colab.research.google.com/assets/colab-badge.svg\" alt=\"Open In Colab\"/></a>"
      ]
    },
    {
      "cell_type": "markdown",
      "metadata": {
        "id": "Z8i6DNHr94le"
      },
      "source": [
        "# 🧰 Setups, Installations and Imports"
      ]
    },
    {
      "cell_type": "code",
      "metadata": {
        "id": "gEoLE6VB9oWm"
      },
      "source": [
        "%%capture\r\n",
        "!pip install wandb --upgrade\r\n",
        "!pip install albumentations"
      ],
      "execution_count": null,
      "outputs": []
    },
    {
      "cell_type": "code",
      "metadata": {
        "colab": {
          "base_uri": "https://localhost:8080/"
        },
        "id": "xl9NB7qu-RGa",
        "outputId": "90605d94-a258-4e05-dbf9-d0adcee6a2bd"
      },
      "source": [
        "!git clone https://github.com/ayulockin/Explore-NFNet"
      ],
      "execution_count": null,
      "outputs": [
        {
          "output_type": "stream",
          "text": [
            "Cloning into 'Explore-NFNet'...\n",
            "remote: Enumerating objects: 36, done.\u001b[K\n",
            "remote: Counting objects: 100% (36/36), done.\u001b[K\n",
            "remote: Compressing objects: 100% (30/30), done.\u001b[K\n",
            "remote: Total 36 (delta 11), reused 17 (delta 4), pack-reused 0\u001b[K\n",
            "Unpacking objects: 100% (36/36), done.\n"
          ],
          "name": "stdout"
        }
      ]
    },
    {
      "cell_type": "code",
      "metadata": {
        "colab": {
          "base_uri": "https://localhost:8080/"
        },
        "id": "3L-K1KWP--ew",
        "outputId": "47dbddb3-85f7-4171-c471-5ae0b2c3c4d6"
      },
      "source": [
        "import tensorflow as tf\r\n",
        "print(tf.__version__)\r\n",
        "\r\n",
        "import tensorflow_datasets as tfds\r\n",
        "\r\n",
        "import sys\r\n",
        "sys.path.append(\"Explore-NFNet\")\r\n",
        "import os\r\n",
        "import cv2\r\n",
        "import numpy as np\r\n",
        "from functools import partial\r\n",
        "import matplotlib.pyplot as plt\r\n",
        "\r\n",
        "# Imports from the cloned repository\r\n",
        "import agc\r\n",
        "from models.resnet import resnet_v1 \r\n",
        "from models.mini_vgg import get_mini_vgg\r\n",
        "\r\n",
        "# Augmentation related imports\r\n",
        "import albumentations as A\r\n",
        "\r\n",
        "# Seed everything for reproducibility\r\n",
        "def seed_everything():\r\n",
        "    # Set the random seeds\r\n",
        "    os.environ['TF_CUDNN_DETERMINISTIC'] = '1' \r\n",
        "    np.random.seed(hash(\"improves reproducibility\") % 2**32 - 1)\r\n",
        "    tf.random.set_seed(hash(\"by removing stochasticity\") % 2**32 - 1)\r\n",
        "\r\n",
        "seed_everything()\r\n",
        "\r\n",
        "# Avoid TensorFlow to allocate all the GPU at once. \r\n",
        "# Ref: https://www.tensorflow.org/guide/gpu\r\n",
        "gpus = tf.config.experimental.list_physical_devices('GPU')\r\n",
        "if gpus:\r\n",
        "  try:\r\n",
        "    # Currently, memory growth needs to be the same across GPUs\r\n",
        "    for gpu in gpus:\r\n",
        "      tf.config.experimental.set_memory_growth(gpu, True)\r\n",
        "    logical_gpus = tf.config.experimental.list_logical_devices('GPU')\r\n",
        "    print(len(gpus), \"Physical GPUs,\", len(logical_gpus), \"Logical GPUs\")\r\n",
        "  except RuntimeError as e:\r\n",
        "    # Memory growth must be set before GPUs have been initialized\r\n",
        "    print(e)"
      ],
      "execution_count": null,
      "outputs": [
        {
          "output_type": "stream",
          "text": [
            "2.4.1\n",
            "1 Physical GPUs, 1 Logical GPUs\n"
          ],
          "name": "stdout"
        }
      ]
    },
    {
      "cell_type": "code",
      "metadata": {
        "colab": {
          "base_uri": "https://localhost:8080/",
          "height": 71
        },
        "id": "f4l3n2nUCTXZ",
        "outputId": "4f41a2b5-7e1a-487f-8b82-336aeeb9c2c5"
      },
      "source": [
        "import wandb\r\n",
        "from wandb.keras import WandbCallback\r\n",
        "\r\n",
        "wandb.login()"
      ],
      "execution_count": null,
      "outputs": [
        {
          "output_type": "display_data",
          "data": {
            "application/javascript": [
              "\n",
              "        window._wandbApiKey = new Promise((resolve, reject) => {\n",
              "            function loadScript(url) {\n",
              "            return new Promise(function(resolve, reject) {\n",
              "                let newScript = document.createElement(\"script\");\n",
              "                newScript.onerror = reject;\n",
              "                newScript.onload = resolve;\n",
              "                document.body.appendChild(newScript);\n",
              "                newScript.src = url;\n",
              "            });\n",
              "            }\n",
              "            loadScript(\"https://cdn.jsdelivr.net/npm/postmate/build/postmate.min.js\").then(() => {\n",
              "            const iframe = document.createElement('iframe')\n",
              "            iframe.style.cssText = \"width:0;height:0;border:none\"\n",
              "            document.body.appendChild(iframe)\n",
              "            const handshake = new Postmate({\n",
              "                container: iframe,\n",
              "                url: 'https://wandb.ai/authorize'\n",
              "            });\n",
              "            const timeout = setTimeout(() => reject(\"Couldn't auto authenticate\"), 5000)\n",
              "            handshake.then(function(child) {\n",
              "                child.on('authorize', data => {\n",
              "                    clearTimeout(timeout)\n",
              "                    resolve(data)\n",
              "                });\n",
              "            });\n",
              "            })\n",
              "        });\n",
              "    "
            ],
            "text/plain": [
              "<IPython.core.display.Javascript object>"
            ]
          },
          "metadata": {
            "tags": []
          }
        },
        {
          "output_type": "stream",
          "text": [
            "\u001b[34m\u001b[1mwandb\u001b[0m: Appending key for api.wandb.ai to your netrc file: /root/.netrc\n"
          ],
          "name": "stderr"
        },
        {
          "output_type": "execute_result",
          "data": {
            "text/plain": [
              "True"
            ]
          },
          "metadata": {
            "tags": []
          },
          "execution_count": 4
        }
      ]
    },
    {
      "cell_type": "code",
      "metadata": {
        "colab": {
          "base_uri": "https://localhost:8080/"
        },
        "id": "pznR5VjyIcXa",
        "outputId": "743fe0ee-8b4a-4231-cf4d-f78aaa1aa121"
      },
      "source": [
        "DATASET_NAME = 'cifar10'\r\n",
        "IMG_HEIGHT = 32\r\n",
        "IMG_WIDTH = 32\r\n",
        "NUM_CLASSES = 10\r\n",
        "SHUFFLE_BUFFER = 1024\r\n",
        "BATCH_SIZE = 256\r\n",
        "EPOCHS = 100\r\n",
        "\r\n",
        "AUTOTUNE = tf.data.experimental.AUTOTUNE\r\n",
        "\r\n",
        "print(f'Global batch size is: {BATCH_SIZE}')"
      ],
      "execution_count": null,
      "outputs": [
        {
          "output_type": "stream",
          "text": [
            "Global batch size is: 256\n"
          ],
          "name": "stdout"
        }
      ]
    },
    {
      "cell_type": "markdown",
      "metadata": {
        "id": "O0hNZfPXDK6s"
      },
      "source": [
        "# ⛄ Download and Prepare Dataset"
      ]
    },
    {
      "cell_type": "code",
      "metadata": {
        "id": "PSxPal9ECQEO",
        "colab": {
          "base_uri": "https://localhost:8080/",
          "height": 361,
          "referenced_widgets": [
            "ee3b72c0d3b74197b558a7d06c9c3a4f",
            "bc61419ded614402bb56c6969b2f3f1f",
            "11c04e4530a2446199020d3f16569f14",
            "501eaf241de64606af95d6c92fcb89ee",
            "f86ae65ced0d4e708777a54fdbe8de54",
            "1b256786734f4b9a89aacee272d974f8",
            "0ca5bd2202b84e60a7cce16eb81361e5",
            "b6a81b3d36754328be9532dc36e382ed",
            "393de89f88974827a82b6874274329ae",
            "bb5dd8a9ba664d0bb63f7451c33f423c",
            "cbdf5922f85243a8a7dc278dccae66e9",
            "486dbc6d9c9446bba6b3407459ce3c79",
            "95b510c7a9dc45c5b084cf423dd8ed7c",
            "c0b54841d76b4a4fad412f98d242960e",
            "fd807c540336485987026657f7e9dff0",
            "dd59006ea1ef4bccbe4f19c29646d59a",
            "ef3165e249274840859ac7781a181e4c",
            "26e4df3a32154ead9b484014b70c2d1e",
            "fd443c5b409e48b08a63eeac7f55409d",
            "288b4bbe07f9456a951f32718c747f6e",
            "8f3adfed7497431b8ce85d12ce91d0e1",
            "3007891b549d4c109b0dbfc2d0998bbe",
            "2bc8996244dc4955a8a77497db74b787",
            "da262336209c49449d285eed98584ac5",
            "4cdea3cd62c8457794ca13c58e86bcaa",
            "86e1c6a2e6074f2a948c590d40a74d3d",
            "52097a679de04ded9a7c563f5fc8c3df",
            "0c7173ea8b6a423681eecdcfb9ee47b6",
            "bd996b2e67f54f3db39f966802f4cd0b",
            "4d262b82c54c4101b5440c320105f2c7",
            "3cdf2185d6074a4498eb8f2c9a0b670b",
            "5d9922e057c248aebe487c5af326a2e8",
            "05b970b00e6945eea3bbf8293ff1a140",
            "26d2f06610b740878ebe232d61524ae6",
            "176bc13b2dea4055a726d72c8f7c23c2",
            "8e47e9983d2c4c5b8657128659ba66aa",
            "e91766b493d842dab334460a6c73cd29",
            "fd590449851a483e8c43dfac0bfdc25c",
            "c334741df4814356967e192713db083d",
            "d2ae7c01285d4f4c93df021935fd2912",
            "3d032968a3e24d06ac301f2ba6a71903",
            "5e9c193835b24727a49a080a09f554d5",
            "5636ea19656847d58b588b3bf16eaa53",
            "ac2779bf315541a0bcbe3fcb4d4210fc",
            "12c06178340949e3ac252edfa21039c6",
            "b2ea0e564a324aceb820d30d0ca9d024",
            "a46988f75f604f31876982b1c4edd4e7",
            "5b9da4976251468db350de01b80c85bd",
            "735339dada194bd79e921329b82cd602",
            "0e7bd6345b9b406eba247fa8b46b3737",
            "eebcbb3536c24424beae3860a5d030c3",
            "1d38e5e3f84a4ae5965041796b5f3eb6",
            "f451e66fcd2241279e5311d86b3bfb1b",
            "8a636541b5cb4973971f67471b1ce254",
            "dc419c66f9404912a2eccb6046be6475",
            "85e1b3a3e66f4c988c4ce6ccf77a2b47"
          ]
        },
        "outputId": "2c8c4fa8-d782-4365-acb9-82ea640d78ad"
      },
      "source": [
        "(train_ds, val_ds, test_ds), info = tfds.load(name=DATASET_NAME, \r\n",
        "                          split=[\"train[:85%]\", \"train[85%:]\", \"test\"], \r\n",
        "                          with_info=True,\r\n",
        "                          as_supervised=True)"
      ],
      "execution_count": null,
      "outputs": [
        {
          "output_type": "stream",
          "text": [
            "\u001b[1mDownloading and preparing dataset cifar10/3.0.2 (download: 162.17 MiB, generated: 132.40 MiB, total: 294.58 MiB) to /root/tensorflow_datasets/cifar10/3.0.2...\u001b[0m\n"
          ],
          "name": "stdout"
        },
        {
          "output_type": "display_data",
          "data": {
            "application/vnd.jupyter.widget-view+json": {
              "model_id": "ee3b72c0d3b74197b558a7d06c9c3a4f",
              "version_minor": 0,
              "version_major": 2
            },
            "text/plain": [
              "HBox(children=(FloatProgress(value=1.0, bar_style='info', description='Dl Completed...', max=1.0, style=Progre…"
            ]
          },
          "metadata": {
            "tags": []
          }
        },
        {
          "output_type": "display_data",
          "data": {
            "application/vnd.jupyter.widget-view+json": {
              "model_id": "393de89f88974827a82b6874274329ae",
              "version_minor": 0,
              "version_major": 2
            },
            "text/plain": [
              "HBox(children=(FloatProgress(value=1.0, bar_style='info', description='Dl Size...', max=1.0, style=ProgressSty…"
            ]
          },
          "metadata": {
            "tags": []
          }
        },
        {
          "output_type": "display_data",
          "data": {
            "application/vnd.jupyter.widget-view+json": {
              "model_id": "ef3165e249274840859ac7781a181e4c",
              "version_minor": 0,
              "version_major": 2
            },
            "text/plain": [
              "HBox(children=(FloatProgress(value=1.0, bar_style='info', description='Extraction completed...', max=1.0, styl…"
            ]
          },
          "metadata": {
            "tags": []
          }
        },
        {
          "output_type": "stream",
          "text": [
            "\n",
            "\n",
            "\n",
            "\n",
            "\n",
            "\n"
          ],
          "name": "stdout"
        },
        {
          "output_type": "display_data",
          "data": {
            "application/vnd.jupyter.widget-view+json": {
              "model_id": "4cdea3cd62c8457794ca13c58e86bcaa",
              "version_minor": 0,
              "version_major": 2
            },
            "text/plain": [
              "HBox(children=(FloatProgress(value=1.0, bar_style='info', max=1.0), HTML(value='')))"
            ]
          },
          "metadata": {
            "tags": []
          }
        },
        {
          "output_type": "stream",
          "text": [
            "\rShuffling and writing examples to /root/tensorflow_datasets/cifar10/3.0.2.incompleteMU0UKC/cifar10-train.tfrecord\n"
          ],
          "name": "stdout"
        },
        {
          "output_type": "display_data",
          "data": {
            "application/vnd.jupyter.widget-view+json": {
              "model_id": "05b970b00e6945eea3bbf8293ff1a140",
              "version_minor": 0,
              "version_major": 2
            },
            "text/plain": [
              "HBox(children=(FloatProgress(value=0.0, max=50000.0), HTML(value='')))"
            ]
          },
          "metadata": {
            "tags": []
          }
        },
        {
          "output_type": "stream",
          "text": [
            "\r"
          ],
          "name": "stdout"
        },
        {
          "output_type": "display_data",
          "data": {
            "application/vnd.jupyter.widget-view+json": {
              "model_id": "3d032968a3e24d06ac301f2ba6a71903",
              "version_minor": 0,
              "version_major": 2
            },
            "text/plain": [
              "HBox(children=(FloatProgress(value=1.0, bar_style='info', max=1.0), HTML(value='')))"
            ]
          },
          "metadata": {
            "tags": []
          }
        },
        {
          "output_type": "stream",
          "text": [
            "\rShuffling and writing examples to /root/tensorflow_datasets/cifar10/3.0.2.incompleteMU0UKC/cifar10-test.tfrecord\n"
          ],
          "name": "stdout"
        },
        {
          "output_type": "display_data",
          "data": {
            "application/vnd.jupyter.widget-view+json": {
              "model_id": "735339dada194bd79e921329b82cd602",
              "version_minor": 0,
              "version_major": 2
            },
            "text/plain": [
              "HBox(children=(FloatProgress(value=0.0, max=10000.0), HTML(value='')))"
            ]
          },
          "metadata": {
            "tags": []
          }
        },
        {
          "output_type": "stream",
          "text": [
            "\r\u001b[1mDataset cifar10 downloaded and prepared to /root/tensorflow_datasets/cifar10/3.0.2. Subsequent calls will reuse this data.\u001b[0m\n"
          ],
          "name": "stdout"
        }
      ]
    },
    {
      "cell_type": "code",
      "metadata": {
        "id": "-9-yRafkGWIk"
      },
      "source": [
        "@tf.function\r\n",
        "def preprocess(image, label):\r\n",
        "    # preprocess image\r\n",
        "    image = tf.cast(image, tf.float32)\r\n",
        "    image = image/255.0\r\n",
        "\r\n",
        "    return image, label\r\n",
        "\r\n",
        "# Define the augmentation policies. Note that they are applied sequentially with some probability p.\r\n",
        "transforms = A.Compose([\r\n",
        "                A.HorizontalFlip(p=0.7),\r\n",
        "                A.Rotate(limit=30, p=0.7)\r\n",
        "        ])\r\n",
        "\r\n",
        "# Apply augmentation policies.\r\n",
        "def aug_fn(image):\r\n",
        "    data = {\"image\":image}\r\n",
        "    aug_data = transforms(**data)\r\n",
        "    aug_img = aug_data[\"image\"]\r\n",
        "\r\n",
        "    return aug_img\r\n",
        "\r\n",
        "@tf.function\r\n",
        "def apply_augmentation(image, label):\r\n",
        "    aug_img = tf.numpy_function(func=aug_fn, inp=[image], Tout=tf.float32)\r\n",
        "    aug_img.set_shape((IMG_HEIGHT, IMG_WIDTH, 3))\r\n",
        "    \r\n",
        "    return aug_img, label\r\n",
        "\r\n",
        "train_ds = (\r\n",
        "    train_ds\r\n",
        "    .shuffle(SHUFFLE_BUFFER)\r\n",
        "    .map(preprocess, num_parallel_calls=AUTOTUNE)\r\n",
        "    .map(apply_augmentation, num_parallel_calls=AUTOTUNE)\r\n",
        "    .batch(BATCH_SIZE)\r\n",
        "    .prefetch(AUTOTUNE)\r\n",
        ")\r\n",
        "\r\n",
        "val_ds = (\r\n",
        "    val_ds\r\n",
        "    .map(preprocess, num_parallel_calls=AUTOTUNE)\r\n",
        "    .batch(BATCH_SIZE)\r\n",
        "    .prefetch(AUTOTUNE)\r\n",
        ")\r\n",
        "\r\n",
        "test_ds = (\r\n",
        "    test_ds\r\n",
        "    .map(preprocess, num_parallel_calls=AUTOTUNE)\r\n",
        "    .batch(BATCH_SIZE)\r\n",
        "    .prefetch(AUTOTUNE)\r\n",
        ")"
      ],
      "execution_count": null,
      "outputs": []
    },
    {
      "cell_type": "code",
      "metadata": {
        "colab": {
          "base_uri": "https://localhost:8080/",
          "height": 609
        },
        "id": "uzWkS_AZGbdW",
        "outputId": "52525cd9-ce3a-4fc2-c9fc-c4fcb0564eda"
      },
      "source": [
        "def show_batch(image_batch, label_batch):\r\n",
        "  plt.figure(figsize=(10,10))\r\n",
        "  for n in range(25):\r\n",
        "      ax = plt.subplot(5,5,n+1)\r\n",
        "      plt.imshow(image_batch[n])\r\n",
        "      # plt.title(f'{np.argmax(label_batch[n].numpy())}')\r\n",
        "      plt.title(f'{label_batch[n].numpy()}')\r\n",
        "      plt.axis('off')\r\n",
        "  \r\n",
        "image_batch, label_batch = next(iter(train_ds))\r\n",
        "show_batch(image_batch, label_batch)\r\n",
        "\r\n",
        "print(image_batch.shape, label_batch.shape)"
      ],
      "execution_count": null,
      "outputs": [
        {
          "output_type": "stream",
          "text": [
            "(256, 32, 32, 3) (256,)\n"
          ],
          "name": "stdout"
        },
        {
          "output_type": "display_data",
          "data": {
            "image/png": "[encoded data removed]",
            "text/plain": [
              "<Figure size 720x720 with 25 Axes>"
            ]
          },
          "metadata": {
            "tags": [],
            "needs_background": "light"
          }
        }
      ]
    },
    {
      "cell_type": "markdown",
      "metadata": {
        "id": "wcDd118WJpmf"
      },
      "source": [
        "# 🐤 Model"
      ]
    },
    {
      "cell_type": "code",
      "metadata": {
        "colab": {
          "base_uri": "https://localhost:8080/"
        },
        "id": "jmaYHGFYJMQU",
        "outputId": "5b715537-9487-43e9-e856-f570ea1105f6"
      },
      "source": [
        "class ResNetModel(tf.keras.Model):\r\n",
        "    def __init__(self, resnet, clip_factor=0.01, eps=1e-3):\r\n",
        "        super(ResNetModel, self).__init__()\r\n",
        "        self.resnet = resnet\r\n",
        "        self.clip_factor = clip_factor\r\n",
        "        self.eps = eps\r\n",
        "    \r\n",
        "    def train_step(self, data):\r\n",
        "        images, labels = data\r\n",
        "\r\n",
        "        with tf.GradientTape() as tape:\r\n",
        "            predictions = self.resnet(images)\r\n",
        "            loss = self.compiled_loss(labels, predictions)\r\n",
        "\r\n",
        "        trainable_params = self.resnet.trainable_variables\r\n",
        "        gradients = tape.gradient(loss, trainable_params)  \r\n",
        "        agc_gradients = agc.adaptive_clip_grad(trainable_params, gradients, \r\n",
        "                                               clip_factor=self.clip_factor, eps=self.eps)\r\n",
        "\r\n",
        "        self.optimizer.apply_gradients(zip(agc_gradients, trainable_params))\r\n",
        "\r\n",
        "        self.compiled_metrics.update_state(labels, predictions)\r\n",
        "        return {m.name: m.result() for m in self.metrics}\r\n",
        "\r\n",
        "    def test_step(self, data):\r\n",
        "        images, labels = data\r\n",
        "        predictions = self.resnet(images, training=False)\r\n",
        "        loss = self.compiled_loss(labels, predictions)\r\n",
        "        self.compiled_metrics.update_state(labels, predictions)\r\n",
        "        return {m.name: m.result() for m in self.metrics}\r\n",
        "\r\n",
        "    def save_weights(self, filepath):\r\n",
        "        self.resnet.save_weights(filepath=filepath, save_format=\"tf\")\r\n",
        "\r\n",
        "    def call(self, inputs, *args, **kwargs):\r\n",
        "        return self.resnet(inputs)\r\n",
        "\r\n",
        "tf.keras.backend.clear_session()\r\n",
        "test_model = ResNetModel(resnet_v1((IMG_HEIGHT, IMG_WIDTH, 3), 20, num_classes=NUM_CLASSES, use_bn=False))\r\n",
        "test_model.build((1, IMG_HEIGHT, IMG_WIDTH, 3))\r\n",
        "test_model.summary()\r\n",
        "print(f\"Total learnable parameters: {test_model.count_params()/1e6} M\")"
      ],
      "execution_count": null,
      "outputs": [
        {
          "output_type": "stream",
          "text": [
            "Model: \"res_net_model\"\n",
            "_________________________________________________________________\n",
            "Layer (type)                 Output Shape              Param #   \n",
            "=================================================================\n",
            "model (Functional)           (None, 10)                271754    \n",
            "=================================================================\n",
            "Total params: 271,754\n",
            "Trainable params: 271,722\n",
            "Non-trainable params: 32\n",
            "_________________________________________________________________\n",
            "Total learnable parameters: 0.271754 M\n"
          ],
          "name": "stdout"
        }
      ]
    },
    {
      "cell_type": "markdown",
      "metadata": {
        "id": "uNy-hWunM_k0"
      },
      "source": [
        "# 📲 Callbacks"
      ]
    },
    {
      "cell_type": "code",
      "metadata": {
        "id": "DUnXLPW5NBUs"
      },
      "source": [
        "earlystopper = tf.keras.callbacks.EarlyStopping(\r\n",
        "    monitor='val_loss', patience=10, verbose=0, mode='auto',\r\n",
        "    restore_best_weights=True\r\n",
        ")\r\n",
        "\r\n",
        "reducelronplateau = tf.keras.callbacks.ReduceLROnPlateau(\r\n",
        "    monitor=\"val_loss\", factor=0.5,\r\n",
        "    patience=3, verbose=1\r\n",
        ")"
      ],
      "execution_count": null,
      "outputs": []
    },
    {
      "cell_type": "markdown",
      "metadata": {
        "id": "nfKxHzU1M9Bx"
      },
      "source": [
        "# 🚋 Train with W&B"
      ]
    },
    {
      "cell_type": "code",
      "metadata": {
        "colab": {
          "base_uri": "https://localhost:8080/",
          "height": 1000,
          "referenced_widgets": [
            "8bd1f107209d43e49898bf9f463402e0",
            "54f49113b1634eab936bae76a889245b",
            "ea3013cd93d54699908a6e0f6c4f4667",
            "d67700e087384dd8abafa182c16ce637",
            "32957ef02e9d4fc5a0aea65dfe458d35",
            "b4badec1416744749e23d1edab86d893",
            "51fedd2f42a24c8b951563e085d6d91e",
            "1f2466d83dd34f84bdfd8034154376c9"
          ]
        },
        "id": "VyhPXxd9MvLL",
        "outputId": "8742965f-448b-4b0e-bf35-77138f5a8e7d"
      },
      "source": [
        "tf.keras.backend.clear_session()\r\n",
        "# Intialize model\r\n",
        "model = ResNetModel(resnet_v1((IMG_HEIGHT, IMG_WIDTH, 3), 20, num_classes=NUM_CLASSES, use_bn=False))\r\n",
        "model.compile('adam', 'sparse_categorical_crossentropy', metrics=['acc'])\r\n",
        "\r\n",
        "# Intialize W&B run\r\n",
        "run = wandb.init(entity='ayush-thakur', project='nfnet', job_type='train-agc')\r\n",
        "\r\n",
        "# Train model\r\n",
        "model.fit(train_ds,\r\n",
        "          epochs=EPOCHS,\r\n",
        "          validation_data=val_ds,\r\n",
        "          callbacks=[WandbCallback(),\r\n",
        "                     reducelronplateau,\r\n",
        "                     earlystopper])  \r\n",
        "\r\n",
        "# Evaluate model on test set\r\n",
        "loss, acc = model.evaluate(test_ds)\r\n",
        "wandb.log({'Test Accuracy': round(acc, 3)})\r\n",
        "\r\n",
        "# Close W&B run\r\n",
        "run.finish()"
      ],
      "execution_count": null,
      "outputs": [
        {
          "output_type": "stream",
          "text": [
            "\u001b[34m\u001b[1mwandb\u001b[0m: Currently logged in as: \u001b[33mayush-thakur\u001b[0m (use `wandb login --relogin` to force relogin)\n"
          ],
          "name": "stderr"
        },
        {
          "output_type": "display_data",
          "data": {
            "text/html": [
              "\n",
              "                Tracking run with wandb version 0.10.21<br/>\n",
              "                Syncing run <strong style=\"color:#cdcd00\">sage-butterfly-24</strong> to <a href=\"https://wandb.ai\" target=\"_blank\">Weights & Biases</a> <a href=\"https://docs.wandb.com/integrations/jupyter.html\" target=\"_blank\">(Documentation)</a>.<br/>\n",
              "                Project page: <a href=\"https://wandb.ai/ayush-thakur/nfnet\" target=\"_blank\">https://wandb.ai/ayush-thakur/nfnet</a><br/>\n",
              "                Run page: <a href=\"https://wandb.ai/ayush-thakur/nfnet/runs/37xd85y8\" target=\"_blank\">https://wandb.ai/ayush-thakur/nfnet/runs/37xd85y8</a><br/>\n",
              "                Run data is saved locally in <code>/content/wandb/run-20210304_174730-37xd85y8</code><br/><br/>\n",
              "            "
            ],
            "text/plain": [
              "<IPython.core.display.HTML object>"
            ]
          },
          "metadata": {
            "tags": []
          }
        },
        {
          "output_type": "stream",
          "text": [
            "Epoch 1/100\n",
            "167/167 [==============================] - 56s 140ms/step - loss: 3.6829 - acc: 0.2235 - val_loss: 2.0757 - val_acc: 0.2901\n"
          ],
          "name": "stdout"
        },
        {
          "output_type": "stream",
          "text": [
            "\u001b[34m\u001b[1mwandb\u001b[0m: \u001b[32m\u001b[41mERROR\u001b[0m Can't save model, h5py returned error: Saving the model to HDF5 format requires the model to be a Functional model or a Sequential model. It does not work for subclassed models, because such models are defined via the body of a Python method, which isn't safely serializable. Consider saving to the Tensorflow SavedModel format (by setting save_format=\"tf\") or using `save_weights`.\n"
          ],
          "name": "stderr"
        },
        {
          "output_type": "stream",
          "text": [
            "Epoch 2/100\n",
            "167/167 [==============================] - 17s 99ms/step - loss: 1.7095 - acc: 0.3699 - val_loss: 1.5174 - val_acc: 0.4532\n",
            "Epoch 3/100\n",
            "167/167 [==============================] - 17s 99ms/step - loss: 1.5322 - acc: 0.4408 - val_loss: 1.5464 - val_acc: 0.4491\n",
            "Epoch 4/100\n",
            "167/167 [==============================] - 17s 100ms/step - loss: 1.4545 - acc: 0.4741 - val_loss: 1.4383 - val_acc: 0.4817\n",
            "Epoch 5/100\n",
            "167/167 [==============================] - 17s 98ms/step - loss: 1.4420 - acc: 0.4810 - val_loss: 1.5834 - val_acc: 0.4657\n",
            "Epoch 6/100\n",
            "167/167 [==============================] - 17s 99ms/step - loss: 1.3677 - acc: 0.5094 - val_loss: 1.3655 - val_acc: 0.5104\n",
            "Epoch 7/100\n",
            "167/167 [==============================] - 17s 100ms/step - loss: 1.3449 - acc: 0.5166 - val_loss: 1.5188 - val_acc: 0.4763\n",
            "Epoch 8/100\n",
            "167/167 [==============================] - 16s 98ms/step - loss: 1.3884 - acc: 0.5106 - val_loss: 1.2971 - val_acc: 0.5483\n",
            "Epoch 9/100\n",
            "167/167 [==============================] - 17s 99ms/step - loss: 1.3188 - acc: 0.5314 - val_loss: 1.2292 - val_acc: 0.5635\n",
            "Epoch 10/100\n",
            "167/167 [==============================] - 17s 98ms/step - loss: 1.2777 - acc: 0.5437 - val_loss: 1.2378 - val_acc: 0.5524\n",
            "Epoch 11/100\n",
            "167/167 [==============================] - 17s 99ms/step - loss: 1.2726 - acc: 0.5442 - val_loss: 1.3036 - val_acc: 0.5400\n",
            "Epoch 12/100\n",
            "167/167 [==============================] - 17s 100ms/step - loss: 1.2513 - acc: 0.5526 - val_loss: 1.2395 - val_acc: 0.5651\n",
            "\n",
            "Epoch 00012: ReduceLROnPlateau reducing learning rate to 0.0005000000237487257.\n",
            "Epoch 13/100\n",
            "167/167 [==============================] - 17s 99ms/step - loss: 1.1804 - acc: 0.5804 - val_loss: 1.1914 - val_acc: 0.5915\n",
            "Epoch 14/100\n",
            "167/167 [==============================] - 17s 100ms/step - loss: 1.1260 - acc: 0.6009 - val_loss: 1.1275 - val_acc: 0.6056\n",
            "Epoch 15/100\n",
            "167/167 [==============================] - 17s 99ms/step - loss: 1.1134 - acc: 0.6042 - val_loss: 1.1531 - val_acc: 0.5981\n",
            "Epoch 16/100\n",
            "167/167 [==============================] - 17s 100ms/step - loss: 1.0874 - acc: 0.6103 - val_loss: 1.0749 - val_acc: 0.6129\n",
            "Epoch 17/100\n",
            "167/167 [==============================] - 17s 99ms/step - loss: 1.0788 - acc: 0.6153 - val_loss: 1.0727 - val_acc: 0.6200\n",
            "Epoch 18/100\n",
            "167/167 [==============================] - 17s 99ms/step - loss: 1.0638 - acc: 0.6186 - val_loss: 1.0582 - val_acc: 0.6288\n",
            "Epoch 19/100\n",
            "167/167 [==============================] - 17s 99ms/step - loss: 1.0409 - acc: 0.6360 - val_loss: 0.9731 - val_acc: 0.6500\n",
            "Epoch 20/100\n",
            "167/167 [==============================] - 17s 101ms/step - loss: 1.0232 - acc: 0.6359 - val_loss: 1.0116 - val_acc: 0.6479\n",
            "Epoch 21/100\n",
            "167/167 [==============================] - 17s 100ms/step - loss: 1.0085 - acc: 0.6410 - val_loss: 1.0025 - val_acc: 0.6480\n",
            "Epoch 22/100\n",
            "167/167 [==============================] - 17s 100ms/step - loss: 1.0038 - acc: 0.6476 - val_loss: 1.0360 - val_acc: 0.6331\n",
            "\n",
            "Epoch 00022: ReduceLROnPlateau reducing learning rate to 0.0002500000118743628.\n",
            "Epoch 23/100\n",
            "167/167 [==============================] - 17s 100ms/step - loss: 0.9736 - acc: 0.6585 - val_loss: 0.9586 - val_acc: 0.6632\n",
            "Epoch 24/100\n",
            "167/167 [==============================] - 17s 99ms/step - loss: 0.9313 - acc: 0.6701 - val_loss: 0.9288 - val_acc: 0.6675\n",
            "Epoch 25/100\n",
            "167/167 [==============================] - 17s 101ms/step - loss: 0.9292 - acc: 0.6731 - val_loss: 0.9430 - val_acc: 0.6681\n",
            "Epoch 26/100\n",
            "167/167 [==============================] - 17s 100ms/step - loss: 0.9108 - acc: 0.6775 - val_loss: 0.9529 - val_acc: 0.6681\n",
            "Epoch 27/100\n",
            "167/167 [==============================] - 17s 99ms/step - loss: 0.9108 - acc: 0.6762 - val_loss: 0.9015 - val_acc: 0.6807\n",
            "Epoch 28/100\n",
            "167/167 [==============================] - 17s 99ms/step - loss: 0.9069 - acc: 0.6794 - val_loss: 0.9243 - val_acc: 0.6796\n",
            "Epoch 29/100\n",
            "167/167 [==============================] - 17s 99ms/step - loss: 0.8899 - acc: 0.6832 - val_loss: 0.9684 - val_acc: 0.6668\n",
            "Epoch 30/100\n",
            "167/167 [==============================] - 17s 100ms/step - loss: 0.8894 - acc: 0.6853 - val_loss: 0.9343 - val_acc: 0.6783\n",
            "\n",
            "Epoch 00030: ReduceLROnPlateau reducing learning rate to 0.0001250000059371814.\n",
            "Epoch 31/100\n",
            "167/167 [==============================] - 16s 98ms/step - loss: 0.8565 - acc: 0.6952 - val_loss: 0.8989 - val_acc: 0.6879\n",
            "Epoch 32/100\n",
            "167/167 [==============================] - 17s 99ms/step - loss: 0.8443 - acc: 0.7002 - val_loss: 0.8867 - val_acc: 0.6887\n",
            "Epoch 33/100\n",
            "167/167 [==============================] - 17s 99ms/step - loss: 0.8381 - acc: 0.7066 - val_loss: 0.8730 - val_acc: 0.6949\n",
            "Epoch 34/100\n",
            "167/167 [==============================] - 17s 99ms/step - loss: 0.8251 - acc: 0.7061 - val_loss: 0.8500 - val_acc: 0.7016\n",
            "Epoch 35/100\n",
            "167/167 [==============================] - 17s 99ms/step - loss: 0.8341 - acc: 0.7089 - val_loss: 0.8653 - val_acc: 0.7001\n",
            "Epoch 36/100\n",
            "167/167 [==============================] - 17s 98ms/step - loss: 0.8256 - acc: 0.7098 - val_loss: 0.8645 - val_acc: 0.6975\n",
            "Epoch 37/100\n",
            "167/167 [==============================] - 17s 99ms/step - loss: 0.8151 - acc: 0.7086 - val_loss: 0.8592 - val_acc: 0.6947\n",
            "\n",
            "Epoch 00037: ReduceLROnPlateau reducing learning rate to 6.25000029685907e-05.\n",
            "Epoch 38/100\n",
            "167/167 [==============================] - 17s 99ms/step - loss: 0.8010 - acc: 0.7183 - val_loss: 0.8501 - val_acc: 0.7033\n",
            "Epoch 39/100\n",
            "167/167 [==============================] - 17s 99ms/step - loss: 0.7939 - acc: 0.7195 - val_loss: 0.8347 - val_acc: 0.7073\n",
            "Epoch 40/100\n",
            "167/167 [==============================] - 16s 98ms/step - loss: 0.7876 - acc: 0.7211 - val_loss: 0.8312 - val_acc: 0.7073\n",
            "Epoch 41/100\n",
            "167/167 [==============================] - 16s 98ms/step - loss: 0.7905 - acc: 0.7187 - val_loss: 0.8483 - val_acc: 0.7053\n",
            "Epoch 42/100\n",
            "167/167 [==============================] - 17s 99ms/step - loss: 0.7890 - acc: 0.7223 - val_loss: 0.8333 - val_acc: 0.7073\n",
            "Epoch 43/100\n",
            "167/167 [==============================] - 17s 99ms/step - loss: 0.7887 - acc: 0.7226 - val_loss: 0.8225 - val_acc: 0.7095\n",
            "Epoch 44/100\n",
            "167/167 [==============================] - 17s 101ms/step - loss: 0.7791 - acc: 0.7254 - val_loss: 0.8401 - val_acc: 0.7051\n",
            "Epoch 45/100\n",
            "167/167 [==============================] - 17s 99ms/step - loss: 0.7788 - acc: 0.7272 - val_loss: 0.8316 - val_acc: 0.7076\n",
            "Epoch 46/100\n",
            "167/167 [==============================] - 17s 99ms/step - loss: 0.7784 - acc: 0.7256 - val_loss: 0.8458 - val_acc: 0.7049\n",
            "\n",
            "Epoch 00046: ReduceLROnPlateau reducing learning rate to 3.125000148429535e-05.\n",
            "Epoch 47/100\n",
            "167/167 [==============================] - 17s 99ms/step - loss: 0.7704 - acc: 0.7272 - val_loss: 0.8220 - val_acc: 0.7081\n",
            "Epoch 48/100\n",
            "167/167 [==============================] - 16s 98ms/step - loss: 0.7652 - acc: 0.7297 - val_loss: 0.8350 - val_acc: 0.7067\n",
            "Epoch 49/100\n",
            "167/167 [==============================] - 17s 99ms/step - loss: 0.7622 - acc: 0.7282 - val_loss: 0.8183 - val_acc: 0.7107\n",
            "Epoch 50/100\n",
            "167/167 [==============================] - 17s 99ms/step - loss: 0.7642 - acc: 0.7286 - val_loss: 0.8209 - val_acc: 0.7132\n",
            "Epoch 51/100\n",
            "167/167 [==============================] - 17s 99ms/step - loss: 0.7613 - acc: 0.7306 - val_loss: 0.8158 - val_acc: 0.7140\n",
            "Epoch 52/100\n",
            "167/167 [==============================] - 17s 99ms/step - loss: 0.7652 - acc: 0.7297 - val_loss: 0.8269 - val_acc: 0.7108\n",
            "Epoch 53/100\n",
            "167/167 [==============================] - 17s 99ms/step - loss: 0.7639 - acc: 0.7304 - val_loss: 0.8154 - val_acc: 0.7123\n",
            "Epoch 54/100\n",
            "167/167 [==============================] - 17s 99ms/step - loss: 0.7563 - acc: 0.7319 - val_loss: 0.8122 - val_acc: 0.7125\n",
            "Epoch 55/100\n",
            "167/167 [==============================] - 17s 99ms/step - loss: 0.7529 - acc: 0.7314 - val_loss: 0.8169 - val_acc: 0.7141\n",
            "Epoch 56/100\n",
            "167/167 [==============================] - 17s 99ms/step - loss: 0.7631 - acc: 0.7293 - val_loss: 0.8145 - val_acc: 0.7123\n",
            "Epoch 57/100\n",
            "167/167 [==============================] - 17s 99ms/step - loss: 0.7495 - acc: 0.7347 - val_loss: 0.8127 - val_acc: 0.7137\n",
            "\n",
            "Epoch 00057: ReduceLROnPlateau reducing learning rate to 1.5625000742147677e-05.\n",
            "Epoch 58/100\n",
            "167/167 [==============================] - 17s 99ms/step - loss: 0.7493 - acc: 0.7361 - val_loss: 0.8073 - val_acc: 0.7145\n",
            "Epoch 59/100\n",
            "167/167 [==============================] - 16s 98ms/step - loss: 0.7439 - acc: 0.7400 - val_loss: 0.8041 - val_acc: 0.7159\n",
            "Epoch 60/100\n",
            "167/167 [==============================] - 17s 99ms/step - loss: 0.7489 - acc: 0.7325 - val_loss: 0.8042 - val_acc: 0.7143\n",
            "Epoch 61/100\n",
            "167/167 [==============================] - 17s 99ms/step - loss: 0.7517 - acc: 0.7341 - val_loss: 0.8064 - val_acc: 0.7144\n",
            "Epoch 62/100\n",
            "167/167 [==============================] - 17s 99ms/step - loss: 0.7426 - acc: 0.7401 - val_loss: 0.8052 - val_acc: 0.7179\n",
            "\n",
            "Epoch 00062: ReduceLROnPlateau reducing learning rate to 7.812500371073838e-06.\n",
            "Epoch 63/100\n",
            "167/167 [==============================] - 17s 99ms/step - loss: 0.7417 - acc: 0.7375 - val_loss: 0.8048 - val_acc: 0.7151\n",
            "Epoch 64/100\n",
            "167/167 [==============================] - 17s 99ms/step - loss: 0.7458 - acc: 0.7363 - val_loss: 0.8047 - val_acc: 0.7171\n",
            "Epoch 65/100\n",
            "167/167 [==============================] - 17s 99ms/step - loss: 0.7425 - acc: 0.7360 - val_loss: 0.8068 - val_acc: 0.7160\n",
            "\n",
            "Epoch 00065: ReduceLROnPlateau reducing learning rate to 3.906250185536919e-06.\n",
            "Epoch 66/100\n",
            "167/167 [==============================] - 17s 99ms/step - loss: 0.7370 - acc: 0.7397 - val_loss: 0.8036 - val_acc: 0.7165\n",
            "Epoch 67/100\n",
            "167/167 [==============================] - 16s 98ms/step - loss: 0.7388 - acc: 0.7372 - val_loss: 0.8063 - val_acc: 0.7173\n",
            "Epoch 68/100\n",
            "167/167 [==============================] - 16s 98ms/step - loss: 0.7417 - acc: 0.7354 - val_loss: 0.8048 - val_acc: 0.7175\n",
            "Epoch 69/100\n",
            "167/167 [==============================] - 17s 100ms/step - loss: 0.7369 - acc: 0.7370 - val_loss: 0.8042 - val_acc: 0.7169\n",
            "\n",
            "Epoch 00069: ReduceLROnPlateau reducing learning rate to 1.9531250927684596e-06.\n",
            "Epoch 70/100\n",
            "167/167 [==============================] - 16s 98ms/step - loss: 0.7403 - acc: 0.7393 - val_loss: 0.8055 - val_acc: 0.7163\n",
            "Epoch 71/100\n",
            "167/167 [==============================] - 16s 98ms/step - loss: 0.7307 - acc: 0.7423 - val_loss: 0.8039 - val_acc: 0.7168\n",
            "Epoch 72/100\n",
            "167/167 [==============================] - 17s 99ms/step - loss: 0.7382 - acc: 0.7385 - val_loss: 0.8051 - val_acc: 0.7171\n",
            "\n",
            "Epoch 00072: ReduceLROnPlateau reducing learning rate to 9.765625463842298e-07.\n",
            "Epoch 73/100\n",
            "167/167 [==============================] - 17s 99ms/step - loss: 0.7317 - acc: 0.7436 - val_loss: 0.8045 - val_acc: 0.7173\n",
            "Epoch 74/100\n",
            "167/167 [==============================] - 17s 99ms/step - loss: 0.7410 - acc: 0.7365 - val_loss: 0.8032 - val_acc: 0.7180\n",
            "Epoch 75/100\n",
            "167/167 [==============================] - 17s 100ms/step - loss: 0.7333 - acc: 0.7420 - val_loss: 0.8026 - val_acc: 0.7169\n",
            "Epoch 76/100\n",
            "167/167 [==============================] - 17s 99ms/step - loss: 0.7412 - acc: 0.7370 - val_loss: 0.8027 - val_acc: 0.7167\n",
            "Epoch 77/100\n",
            "167/167 [==============================] - 17s 100ms/step - loss: 0.7420 - acc: 0.7353 - val_loss: 0.8035 - val_acc: 0.7165\n",
            "Epoch 78/100\n",
            "167/167 [==============================] - 17s 99ms/step - loss: 0.7363 - acc: 0.7419 - val_loss: 0.8042 - val_acc: 0.7163\n",
            "\n",
            "Epoch 00078: ReduceLROnPlateau reducing learning rate to 4.882812731921149e-07.\n",
            "Epoch 79/100\n",
            "167/167 [==============================] - 17s 99ms/step - loss: 0.7423 - acc: 0.7393 - val_loss: 0.8043 - val_acc: 0.7165\n",
            "Epoch 80/100\n",
            "167/167 [==============================] - 17s 99ms/step - loss: 0.7382 - acc: 0.7396 - val_loss: 0.8038 - val_acc: 0.7161\n",
            "Epoch 81/100\n",
            "167/167 [==============================] - 17s 101ms/step - loss: 0.7345 - acc: 0.7408 - val_loss: 0.8033 - val_acc: 0.7164\n",
            "\n",
            "Epoch 00081: ReduceLROnPlateau reducing learning rate to 2.4414063659605745e-07.\n",
            "Epoch 82/100\n",
            "167/167 [==============================] - 17s 99ms/step - loss: 0.7368 - acc: 0.7422 - val_loss: 0.8035 - val_acc: 0.7161\n",
            "Epoch 83/100\n",
            "167/167 [==============================] - 17s 99ms/step - loss: 0.7389 - acc: 0.7387 - val_loss: 0.8034 - val_acc: 0.7164\n",
            "Epoch 84/100\n",
            "167/167 [==============================] - 17s 99ms/step - loss: 0.7407 - acc: 0.7359 - val_loss: 0.8038 - val_acc: 0.7161\n",
            "\n",
            "Epoch 00084: ReduceLROnPlateau reducing learning rate to 1.2207031829802872e-07.\n",
            "Epoch 85/100\n",
            "167/167 [==============================] - 17s 99ms/step - loss: 0.7411 - acc: 0.7380 - val_loss: 0.8038 - val_acc: 0.7160\n",
            "40/40 [==============================] - 2s 55ms/step - loss: 0.8021 - acc: 0.7271\n"
          ],
          "name": "stdout"
        },
        {
          "output_type": "display_data",
          "data": {
            "text/html": [
              "<br/>Waiting for W&B process to finish, PID 274<br/>Program ended successfully."
            ],
            "text/plain": [
              "<IPython.core.display.HTML object>"
            ]
          },
          "metadata": {
            "tags": []
          }
        },
        {
          "output_type": "display_data",
          "data": {
            "application/vnd.jupyter.widget-view+json": {
              "model_id": "8bd1f107209d43e49898bf9f463402e0",
              "version_minor": 0,
              "version_major": 2
            },
            "text/plain": [
              "VBox(children=(Label(value=' 0.00MB of 0.00MB uploaded (0.00MB deduped)\\r'), FloatProgress(value=1.0, max=1.0)…"
            ]
          },
          "metadata": {
            "tags": []
          }
        },
        {
          "output_type": "display_data",
          "data": {
            "text/html": [
              "Find user logs for this run at: <code>/content/wandb/run-20210304_174730-37xd85y8/logs/debug.log</code>"
            ],
            "text/plain": [
              "<IPython.core.display.HTML object>"
            ]
          },
          "metadata": {
            "tags": []
          }
        },
        {
          "output_type": "display_data",
          "data": {
            "text/html": [
              "Find internal logs for this run at: <code>/content/wandb/run-20210304_174730-37xd85y8/logs/debug-internal.log</code>"
            ],
            "text/plain": [
              "<IPython.core.display.HTML object>"
            ]
          },
          "metadata": {
            "tags": []
          }
        },
        {
          "output_type": "display_data",
          "data": {
            "text/html": [
              "<h3>Run summary:</h3><br/><style>\n",
              "    table.wandb td:nth-child(1) { padding: 0 10px; text-align: right }\n",
              "    </style><table class=\"wandb\">\n",
              "<tr><td>epoch</td><td>84</td></tr><tr><td>loss</td><td>0.73494</td></tr><tr><td>acc</td><td>0.74012</td></tr><tr><td>val_loss</td><td>0.80381</td></tr><tr><td>val_acc</td><td>0.716</td></tr><tr><td>_runtime</td><td>1463</td></tr><tr><td>_timestamp</td><td>1614881513</td></tr><tr><td>_step</td><td>85</td></tr><tr><td>best_val_loss</td><td>0.80262</td></tr><tr><td>best_epoch</td><td>74</td></tr><tr><td>Test Accuracy</td><td>0.727</td></tr></table>"
            ],
            "text/plain": [
              "<IPython.core.display.HTML object>"
            ]
          },
          "metadata": {
            "tags": []
          }
        },
        {
          "output_type": "display_data",
          "data": {
            "text/html": [
              "<h3>Run history:</h3><br/><style>\n",
              "    table.wandb td:nth-child(1) { padding: 0 10px; text-align: right }\n",
              "    </style><table class=\"wandb\">\n",
              "<tr><td>epoch</td><td>▁▁▁▁▂▂▂▂▂▃▃▃▃▃▃▄▄▄▄▄▅▅▅▅▅▅▆▆▆▆▆▇▇▇▇▇▇███</td></tr><tr><td>loss</td><td>█▅▄▄▄▄▃▃▃▂▂▂▂▂▂▁▁▁▁▁▁▁▁▁▁▁▁▁▁▁▁▁▁▁▁▁▁▁▁▁</td></tr><tr><td>acc</td><td>▁▃▄▅▅▅▆▆▆▆▇▇▇▇▇▇▇███████████████████████</td></tr><tr><td>val_loss</td><td>█▅▅▅▃▄▃▂▂▂▂▂▂▂▂▁▁▁▁▁▁▁▁▁▁▁▁▁▁▁▁▁▁▁▁▁▁▁▁▁</td></tr><tr><td>val_acc</td><td>▁▄▄▄▅▅▆▆▇▇▇▇▇▇██████████████████████████</td></tr><tr><td>_runtime</td><td>▁▁▁▁▂▂▂▂▂▃▃▃▃▃▄▄▄▄▄▄▅▅▅▅▅▅▆▆▆▆▆▇▇▇▇▇▇███</td></tr><tr><td>_timestamp</td><td>▁▁▁▁▂▂▂▂▂▃▃▃▃▃▄▄▄▄▄▄▅▅▅▅▅▅▆▆▆▆▆▇▇▇▇▇▇███</td></tr><tr><td>_step</td><td>▁▁▁▁▂▂▂▂▂▃▃▃▃▃▃▄▄▄▄▄▅▅▅▅▅▅▆▆▆▆▆▇▇▇▇▇▇███</td></tr><tr><td>Test Accuracy</td><td>▁</td></tr></table><br/>"
            ],
            "text/plain": [
              "<IPython.core.display.HTML object>"
            ]
          },
          "metadata": {
            "tags": []
          }
        },
        {
          "output_type": "display_data",
          "data": {
            "text/html": [
              "Synced 5 W&B file(s), 1 media file(s), 0 artifact file(s) and 1 other file(s)"
            ],
            "text/plain": [
              "<IPython.core.display.HTML object>"
            ]
          },
          "metadata": {
            "tags": []
          }
        },
        {
          "output_type": "display_data",
          "data": {
            "text/html": [
              "\n",
              "                    <br/>Synced <strong style=\"color:#cdcd00\">sage-butterfly-24</strong>: <a href=\"https://wandb.ai/ayush-thakur/nfnet/runs/37xd85y8\" target=\"_blank\">https://wandb.ai/ayush-thakur/nfnet/runs/37xd85y8</a><br/>\n",
              "                "
            ],
            "text/plain": [
              "<IPython.core.display.HTML object>"
            ]
          },
          "metadata": {
            "tags": []
          }
        }
      ]
    },
    {
      "cell_type": "markdown",
      "metadata": {
        "id": "ZHtM_YdNewpt"
      },
      "source": [
        "![img](https://i.imgur.com/x5zYNUY.png)"
      ]
    }
  ]
}