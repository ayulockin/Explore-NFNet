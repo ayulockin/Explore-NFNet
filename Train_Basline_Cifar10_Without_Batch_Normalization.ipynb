{
  "nbformat": 4,
  "nbformat_minor": 0,
  "metadata": {
    "colab": {
      "name": "Train Basline Cifar10 - Without Batch Normalization",
      "provenance": [],
      "collapsed_sections": [],
      "toc_visible": true,
      "authorship_tag": "ABX9TyMdISAP5QEf3x811iXuftch",
      "include_colab_link": true
    },
    "kernelspec": {
      "name": "python3",
      "display_name": "Python 3"
    },
    "accelerator": "GPU",
    "widgets": {
      "application/vnd.jupyter.widget-state+json": {
        "88039e5279644c86bc70cbffb36b2874": {
          "model_module": "@jupyter-widgets/controls",
          "model_name": "HBoxModel",
          "state": {
            "_view_name": "HBoxView",
            "_dom_classes": [],
            "_model_name": "HBoxModel",
            "_view_module": "@jupyter-widgets/controls",
            "_model_module_version": "1.5.0",
            "_view_count": null,
            "_view_module_version": "1.5.0",
            "box_style": "",
            "layout": "IPY_MODEL_722f7487ffd34aa499ec379bf7951e1f",
            "_model_module": "@jupyter-widgets/controls",
            "children": [
              "IPY_MODEL_a4a71fd512a3436bbe347b3423899f9a",
              "IPY_MODEL_156b80b2de3b4d29a80a515b78f907e7"
            ]
          }
        },
        "722f7487ffd34aa499ec379bf7951e1f": {
          "model_module": "@jupyter-widgets/base",
          "model_name": "LayoutModel",
          "state": {
            "_view_name": "LayoutView",
            "grid_template_rows": null,
            "right": null,
            "justify_content": null,
            "_view_module": "@jupyter-widgets/base",
            "overflow": null,
            "_model_module_version": "1.2.0",
            "_view_count": null,
            "flex_flow": null,
            "width": null,
            "min_width": null,
            "border": null,
            "align_items": null,
            "bottom": null,
            "_model_module": "@jupyter-widgets/base",
            "top": null,
            "grid_column": null,
            "overflow_y": null,
            "overflow_x": null,
            "grid_auto_flow": null,
            "grid_area": null,
            "grid_template_columns": null,
            "flex": null,
            "_model_name": "LayoutModel",
            "justify_items": null,
            "grid_row": null,
            "max_height": null,
            "align_content": null,
            "visibility": null,
            "align_self": null,
            "height": null,
            "min_height": null,
            "padding": null,
            "grid_auto_rows": null,
            "grid_gap": null,
            "max_width": null,
            "order": null,
            "_view_module_version": "1.2.0",
            "grid_template_areas": null,
            "object_position": null,
            "object_fit": null,
            "grid_auto_columns": null,
            "margin": null,
            "display": null,
            "left": null
          }
        },
        "a4a71fd512a3436bbe347b3423899f9a": {
          "model_module": "@jupyter-widgets/controls",
          "model_name": "FloatProgressModel",
          "state": {
            "_view_name": "ProgressView",
            "style": "IPY_MODEL_408d42c08df64fa68033cec756ef6442",
            "_dom_classes": [],
            "description": "Dl Completed...: 100%",
            "_model_name": "FloatProgressModel",
            "bar_style": "success",
            "max": 1,
            "_view_module": "@jupyter-widgets/controls",
            "_model_module_version": "1.5.0",
            "value": 1,
            "_view_count": null,
            "_view_module_version": "1.5.0",
            "orientation": "horizontal",
            "min": 0,
            "description_tooltip": null,
            "_model_module": "@jupyter-widgets/controls",
            "layout": "IPY_MODEL_6ccbe659a6a0405cb2b856c092f7a380"
          }
        },
        "156b80b2de3b4d29a80a515b78f907e7": {
          "model_module": "@jupyter-widgets/controls",
          "model_name": "HTMLModel",
          "state": {
            "_view_name": "HTMLView",
            "style": "IPY_MODEL_55e396e065a84dc4b785f00f1ac97071",
            "_dom_classes": [],
            "description": "",
            "_model_name": "HTMLModel",
            "placeholder": "​",
            "_view_module": "@jupyter-widgets/controls",
            "_model_module_version": "1.5.0",
            "value": " 1/1 [00:05&lt;00:00,  5.94s/ url]",
            "_view_count": null,
            "_view_module_version": "1.5.0",
            "description_tooltip": null,
            "_model_module": "@jupyter-widgets/controls",
            "layout": "IPY_MODEL_c5a1b763c97849aea475c2394263b224"
          }
        },
        "408d42c08df64fa68033cec756ef6442": {
          "model_module": "@jupyter-widgets/controls",
          "model_name": "ProgressStyleModel",
          "state": {
            "_view_name": "StyleView",
            "_model_name": "ProgressStyleModel",
            "description_width": "initial",
            "_view_module": "@jupyter-widgets/base",
            "_model_module_version": "1.5.0",
            "_view_count": null,
            "_view_module_version": "1.2.0",
            "bar_color": null,
            "_model_module": "@jupyter-widgets/controls"
          }
        },
        "6ccbe659a6a0405cb2b856c092f7a380": {
          "model_module": "@jupyter-widgets/base",
          "model_name": "LayoutModel",
          "state": {
            "_view_name": "LayoutView",
            "grid_template_rows": null,
            "right": null,
            "justify_content": null,
            "_view_module": "@jupyter-widgets/base",
            "overflow": null,
            "_model_module_version": "1.2.0",
            "_view_count": null,
            "flex_flow": null,
            "width": null,
            "min_width": null,
            "border": null,
            "align_items": null,
            "bottom": null,
            "_model_module": "@jupyter-widgets/base",
            "top": null,
            "grid_column": null,
            "overflow_y": null,
            "overflow_x": null,
            "grid_auto_flow": null,
            "grid_area": null,
            "grid_template_columns": null,
            "flex": null,
            "_model_name": "LayoutModel",
            "justify_items": null,
            "grid_row": null,
            "max_height": null,
            "align_content": null,
            "visibility": null,
            "align_self": null,
            "height": null,
            "min_height": null,
            "padding": null,
            "grid_auto_rows": null,
            "grid_gap": null,
            "max_width": null,
            "order": null,
            "_view_module_version": "1.2.0",
            "grid_template_areas": null,
            "object_position": null,
            "object_fit": null,
            "grid_auto_columns": null,
            "margin": null,
            "display": null,
            "left": null
          }
        },
        "55e396e065a84dc4b785f00f1ac97071": {
          "model_module": "@jupyter-widgets/controls",
          "model_name": "DescriptionStyleModel",
          "state": {
            "_view_name": "StyleView",
            "_model_name": "DescriptionStyleModel",
            "description_width": "",
            "_view_module": "@jupyter-widgets/base",
            "_model_module_version": "1.5.0",
            "_view_count": null,
            "_view_module_version": "1.2.0",
            "_model_module": "@jupyter-widgets/controls"
          }
        },
        "c5a1b763c97849aea475c2394263b224": {
          "model_module": "@jupyter-widgets/base",
          "model_name": "LayoutModel",
          "state": {
            "_view_name": "LayoutView",
            "grid_template_rows": null,
            "right": null,
            "justify_content": null,
            "_view_module": "@jupyter-widgets/base",
            "overflow": null,
            "_model_module_version": "1.2.0",
            "_view_count": null,
            "flex_flow": null,
            "width": null,
            "min_width": null,
            "border": null,
            "align_items": null,
            "bottom": null,
            "_model_module": "@jupyter-widgets/base",
            "top": null,
            "grid_column": null,
            "overflow_y": null,
            "overflow_x": null,
            "grid_auto_flow": null,
            "grid_area": null,
            "grid_template_columns": null,
            "flex": null,
            "_model_name": "LayoutModel",
            "justify_items": null,
            "grid_row": null,
            "max_height": null,
            "align_content": null,
            "visibility": null,
            "align_self": null,
            "height": null,
            "min_height": null,
            "padding": null,
            "grid_auto_rows": null,
            "grid_gap": null,
            "max_width": null,
            "order": null,
            "_view_module_version": "1.2.0",
            "grid_template_areas": null,
            "object_position": null,
            "object_fit": null,
            "grid_auto_columns": null,
            "margin": null,
            "display": null,
            "left": null
          }
        },
        "14f331f5c661441e9462d854e3f3b59e": {
          "model_module": "@jupyter-widgets/controls",
          "model_name": "HBoxModel",
          "state": {
            "_view_name": "HBoxView",
            "_dom_classes": [],
            "_model_name": "HBoxModel",
            "_view_module": "@jupyter-widgets/controls",
            "_model_module_version": "1.5.0",
            "_view_count": null,
            "_view_module_version": "1.5.0",
            "box_style": "",
            "layout": "IPY_MODEL_e406d373d3b54fdb9bfc07b56f56a007",
            "_model_module": "@jupyter-widgets/controls",
            "children": [
              "IPY_MODEL_0466eaebcba84734a2dbfa0ab9618fec",
              "IPY_MODEL_b780b1edd3b14a099208242d7587b4c8"
            ]
          }
        },
        "e406d373d3b54fdb9bfc07b56f56a007": {
          "model_module": "@jupyter-widgets/base",
          "model_name": "LayoutModel",
          "state": {
            "_view_name": "LayoutView",
            "grid_template_rows": null,
            "right": null,
            "justify_content": null,
            "_view_module": "@jupyter-widgets/base",
            "overflow": null,
            "_model_module_version": "1.2.0",
            "_view_count": null,
            "flex_flow": null,
            "width": null,
            "min_width": null,
            "border": null,
            "align_items": null,
            "bottom": null,
            "_model_module": "@jupyter-widgets/base",
            "top": null,
            "grid_column": null,
            "overflow_y": null,
            "overflow_x": null,
            "grid_auto_flow": null,
            "grid_area": null,
            "grid_template_columns": null,
            "flex": null,
            "_model_name": "LayoutModel",
            "justify_items": null,
            "grid_row": null,
            "max_height": null,
            "align_content": null,
            "visibility": null,
            "align_self": null,
            "height": null,
            "min_height": null,
            "padding": null,
            "grid_auto_rows": null,
            "grid_gap": null,
            "max_width": null,
            "order": null,
            "_view_module_version": "1.2.0",
            "grid_template_areas": null,
            "object_position": null,
            "object_fit": null,
            "grid_auto_columns": null,
            "margin": null,
            "display": null,
            "left": null
          }
        },
        "0466eaebcba84734a2dbfa0ab9618fec": {
          "model_module": "@jupyter-widgets/controls",
          "model_name": "FloatProgressModel",
          "state": {
            "_view_name": "ProgressView",
            "style": "IPY_MODEL_bb6752289b2d4e1d88f811af8351cab5",
            "_dom_classes": [],
            "description": "Dl Size...: 100%",
            "_model_name": "FloatProgressModel",
            "bar_style": "success",
            "max": 1,
            "_view_module": "@jupyter-widgets/controls",
            "_model_module_version": "1.5.0",
            "value": 1,
            "_view_count": null,
            "_view_module_version": "1.5.0",
            "orientation": "horizontal",
            "min": 0,
            "description_tooltip": null,
            "_model_module": "@jupyter-widgets/controls",
            "layout": "IPY_MODEL_01c3386bee7045b2bfec1a81cab13646"
          }
        },
        "b780b1edd3b14a099208242d7587b4c8": {
          "model_module": "@jupyter-widgets/controls",
          "model_name": "HTMLModel",
          "state": {
            "_view_name": "HTMLView",
            "style": "IPY_MODEL_1b603fd1bbfb491486570de61f4edb61",
            "_dom_classes": [],
            "description": "",
            "_model_name": "HTMLModel",
            "placeholder": "​",
            "_view_module": "@jupyter-widgets/controls",
            "_model_module_version": "1.5.0",
            "value": " 162/162 [00:05&lt;00:00, 27.47 MiB/s]",
            "_view_count": null,
            "_view_module_version": "1.5.0",
            "description_tooltip": null,
            "_model_module": "@jupyter-widgets/controls",
            "layout": "IPY_MODEL_9e23c3b70fd049c9a8a612c7444d0271"
          }
        },
        "bb6752289b2d4e1d88f811af8351cab5": {
          "model_module": "@jupyter-widgets/controls",
          "model_name": "ProgressStyleModel",
          "state": {
            "_view_name": "StyleView",
            "_model_name": "ProgressStyleModel",
            "description_width": "initial",
            "_view_module": "@jupyter-widgets/base",
            "_model_module_version": "1.5.0",
            "_view_count": null,
            "_view_module_version": "1.2.0",
            "bar_color": null,
            "_model_module": "@jupyter-widgets/controls"
          }
        },
        "01c3386bee7045b2bfec1a81cab13646": {
          "model_module": "@jupyter-widgets/base",
          "model_name": "LayoutModel",
          "state": {
            "_view_name": "LayoutView",
            "grid_template_rows": null,
            "right": null,
            "justify_content": null,
            "_view_module": "@jupyter-widgets/base",
            "overflow": null,
            "_model_module_version": "1.2.0",
            "_view_count": null,
            "flex_flow": null,
            "width": null,
            "min_width": null,
            "border": null,
            "align_items": null,
            "bottom": null,
            "_model_module": "@jupyter-widgets/base",
            "top": null,
            "grid_column": null,
            "overflow_y": null,
            "overflow_x": null,
            "grid_auto_flow": null,
            "grid_area": null,
            "grid_template_columns": null,
            "flex": null,
            "_model_name": "LayoutModel",
            "justify_items": null,
            "grid_row": null,
            "max_height": null,
            "align_content": null,
            "visibility": null,
            "align_self": null,
            "height": null,
            "min_height": null,
            "padding": null,
            "grid_auto_rows": null,
            "grid_gap": null,
            "max_width": null,
            "order": null,
            "_view_module_version": "1.2.0",
            "grid_template_areas": null,
            "object_position": null,
            "object_fit": null,
            "grid_auto_columns": null,
            "margin": null,
            "display": null,
            "left": null
          }
        },
        "1b603fd1bbfb491486570de61f4edb61": {
          "model_module": "@jupyter-widgets/controls",
          "model_name": "DescriptionStyleModel",
          "state": {
            "_view_name": "StyleView",
            "_model_name": "DescriptionStyleModel",
            "description_width": "",
            "_view_module": "@jupyter-widgets/base",
            "_model_module_version": "1.5.0",
            "_view_count": null,
            "_view_module_version": "1.2.0",
            "_model_module": "@jupyter-widgets/controls"
          }
        },
        "9e23c3b70fd049c9a8a612c7444d0271": {
          "model_module": "@jupyter-widgets/base",
          "model_name": "LayoutModel",
          "state": {
            "_view_name": "LayoutView",
            "grid_template_rows": null,
            "right": null,
            "justify_content": null,
            "_view_module": "@jupyter-widgets/base",
            "overflow": null,
            "_model_module_version": "1.2.0",
            "_view_count": null,
            "flex_flow": null,
            "width": null,
            "min_width": null,
            "border": null,
            "align_items": null,
            "bottom": null,
            "_model_module": "@jupyter-widgets/base",
            "top": null,
            "grid_column": null,
            "overflow_y": null,
            "overflow_x": null,
            "grid_auto_flow": null,
            "grid_area": null,
            "grid_template_columns": null,
            "flex": null,
            "_model_name": "LayoutModel",
            "justify_items": null,
            "grid_row": null,
            "max_height": null,
            "align_content": null,
            "visibility": null,
            "align_self": null,
            "height": null,
            "min_height": null,
            "padding": null,
            "grid_auto_rows": null,
            "grid_gap": null,
            "max_width": null,
            "order": null,
            "_view_module_version": "1.2.0",
            "grid_template_areas": null,
            "object_position": null,
            "object_fit": null,
            "grid_auto_columns": null,
            "margin": null,
            "display": null,
            "left": null
          }
        },
        "79ebae780b254435b2309b15e341b2c6": {
          "model_module": "@jupyter-widgets/controls",
          "model_name": "HBoxModel",
          "state": {
            "_view_name": "HBoxView",
            "_dom_classes": [],
            "_model_name": "HBoxModel",
            "_view_module": "@jupyter-widgets/controls",
            "_model_module_version": "1.5.0",
            "_view_count": null,
            "_view_module_version": "1.5.0",
            "box_style": "",
            "layout": "IPY_MODEL_68703a7cede44773b21ee23f5e58797e",
            "_model_module": "@jupyter-widgets/controls",
            "children": [
              "IPY_MODEL_01461afb999e471693471f228cfbbb98",
              "IPY_MODEL_ae62789bc97f412e94bda3977a3cf41c"
            ]
          }
        },
        "68703a7cede44773b21ee23f5e58797e": {
          "model_module": "@jupyter-widgets/base",
          "model_name": "LayoutModel",
          "state": {
            "_view_name": "LayoutView",
            "grid_template_rows": null,
            "right": null,
            "justify_content": null,
            "_view_module": "@jupyter-widgets/base",
            "overflow": null,
            "_model_module_version": "1.2.0",
            "_view_count": null,
            "flex_flow": null,
            "width": null,
            "min_width": null,
            "border": null,
            "align_items": null,
            "bottom": null,
            "_model_module": "@jupyter-widgets/base",
            "top": null,
            "grid_column": null,
            "overflow_y": null,
            "overflow_x": null,
            "grid_auto_flow": null,
            "grid_area": null,
            "grid_template_columns": null,
            "flex": null,
            "_model_name": "LayoutModel",
            "justify_items": null,
            "grid_row": null,
            "max_height": null,
            "align_content": null,
            "visibility": null,
            "align_self": null,
            "height": null,
            "min_height": null,
            "padding": null,
            "grid_auto_rows": null,
            "grid_gap": null,
            "max_width": null,
            "order": null,
            "_view_module_version": "1.2.0",
            "grid_template_areas": null,
            "object_position": null,
            "object_fit": null,
            "grid_auto_columns": null,
            "margin": null,
            "display": null,
            "left": null
          }
        },
        "01461afb999e471693471f228cfbbb98": {
          "model_module": "@jupyter-widgets/controls",
          "model_name": "FloatProgressModel",
          "state": {
            "_view_name": "ProgressView",
            "style": "IPY_MODEL_203eb2fc8d374d5881044bd88e95adb6",
            "_dom_classes": [],
            "description": "Extraction completed...: 100%",
            "_model_name": "FloatProgressModel",
            "bar_style": "success",
            "max": 1,
            "_view_module": "@jupyter-widgets/controls",
            "_model_module_version": "1.5.0",
            "value": 1,
            "_view_count": null,
            "_view_module_version": "1.5.0",
            "orientation": "horizontal",
            "min": 0,
            "description_tooltip": null,
            "_model_module": "@jupyter-widgets/controls",
            "layout": "IPY_MODEL_45b327d001a94b93af5a332d84002d70"
          }
        },
        "ae62789bc97f412e94bda3977a3cf41c": {
          "model_module": "@jupyter-widgets/controls",
          "model_name": "HTMLModel",
          "state": {
            "_view_name": "HTMLView",
            "style": "IPY_MODEL_a86818748514461aaa6350366ce38561",
            "_dom_classes": [],
            "description": "",
            "_model_name": "HTMLModel",
            "placeholder": "​",
            "_view_module": "@jupyter-widgets/controls",
            "_model_module_version": "1.5.0",
            "value": " 1/1 [00:05&lt;00:00,  5.85s/ file]",
            "_view_count": null,
            "_view_module_version": "1.5.0",
            "description_tooltip": null,
            "_model_module": "@jupyter-widgets/controls",
            "layout": "IPY_MODEL_ce4518482c71452c967f9483b26b202a"
          }
        },
        "203eb2fc8d374d5881044bd88e95adb6": {
          "model_module": "@jupyter-widgets/controls",
          "model_name": "ProgressStyleModel",
          "state": {
            "_view_name": "StyleView",
            "_model_name": "ProgressStyleModel",
            "description_width": "initial",
            "_view_module": "@jupyter-widgets/base",
            "_model_module_version": "1.5.0",
            "_view_count": null,
            "_view_module_version": "1.2.0",
            "bar_color": null,
            "_model_module": "@jupyter-widgets/controls"
          }
        },
        "45b327d001a94b93af5a332d84002d70": {
          "model_module": "@jupyter-widgets/base",
          "model_name": "LayoutModel",
          "state": {
            "_view_name": "LayoutView",
            "grid_template_rows": null,
            "right": null,
            "justify_content": null,
            "_view_module": "@jupyter-widgets/base",
            "overflow": null,
            "_model_module_version": "1.2.0",
            "_view_count": null,
            "flex_flow": null,
            "width": null,
            "min_width": null,
            "border": null,
            "align_items": null,
            "bottom": null,
            "_model_module": "@jupyter-widgets/base",
            "top": null,
            "grid_column": null,
            "overflow_y": null,
            "overflow_x": null,
            "grid_auto_flow": null,
            "grid_area": null,
            "grid_template_columns": null,
            "flex": null,
            "_model_name": "LayoutModel",
            "justify_items": null,
            "grid_row": null,
            "max_height": null,
            "align_content": null,
            "visibility": null,
            "align_self": null,
            "height": null,
            "min_height": null,
            "padding": null,
            "grid_auto_rows": null,
            "grid_gap": null,
            "max_width": null,
            "order": null,
            "_view_module_version": "1.2.0",
            "grid_template_areas": null,
            "object_position": null,
            "object_fit": null,
            "grid_auto_columns": null,
            "margin": null,
            "display": null,
            "left": null
          }
        },
        "a86818748514461aaa6350366ce38561": {
          "model_module": "@jupyter-widgets/controls",
          "model_name": "DescriptionStyleModel",
          "state": {
            "_view_name": "StyleView",
            "_model_name": "DescriptionStyleModel",
            "description_width": "",
            "_view_module": "@jupyter-widgets/base",
            "_model_module_version": "1.5.0",
            "_view_count": null,
            "_view_module_version": "1.2.0",
            "_model_module": "@jupyter-widgets/controls"
          }
        },
        "ce4518482c71452c967f9483b26b202a": {
          "model_module": "@jupyter-widgets/base",
          "model_name": "LayoutModel",
          "state": {
            "_view_name": "LayoutView",
            "grid_template_rows": null,
            "right": null,
            "justify_content": null,
            "_view_module": "@jupyter-widgets/base",
            "overflow": null,
            "_model_module_version": "1.2.0",
            "_view_count": null,
            "flex_flow": null,
            "width": null,
            "min_width": null,
            "border": null,
            "align_items": null,
            "bottom": null,
            "_model_module": "@jupyter-widgets/base",
            "top": null,
            "grid_column": null,
            "overflow_y": null,
            "overflow_x": null,
            "grid_auto_flow": null,
            "grid_area": null,
            "grid_template_columns": null,
            "flex": null,
            "_model_name": "LayoutModel",
            "justify_items": null,
            "grid_row": null,
            "max_height": null,
            "align_content": null,
            "visibility": null,
            "align_self": null,
            "height": null,
            "min_height": null,
            "padding": null,
            "grid_auto_rows": null,
            "grid_gap": null,
            "max_width": null,
            "order": null,
            "_view_module_version": "1.2.0",
            "grid_template_areas": null,
            "object_position": null,
            "object_fit": null,
            "grid_auto_columns": null,
            "margin": null,
            "display": null,
            "left": null
          }
        },
        "c5b5ad0e03fa4bb190ac689421c8c973": {
          "model_module": "@jupyter-widgets/controls",
          "model_name": "HBoxModel",
          "state": {
            "_view_name": "HBoxView",
            "_dom_classes": [],
            "_model_name": "HBoxModel",
            "_view_module": "@jupyter-widgets/controls",
            "_model_module_version": "1.5.0",
            "_view_count": null,
            "_view_module_version": "1.5.0",
            "box_style": "",
            "layout": "IPY_MODEL_c1ba8286e95b4f08a1e83cdacc94f541",
            "_model_module": "@jupyter-widgets/controls",
            "children": [
              "IPY_MODEL_d33dc4fef4f240e691528cad71db5ad8",
              "IPY_MODEL_fdc8b458ae694a0f9d672e03e90468a8"
            ]
          }
        },
        "c1ba8286e95b4f08a1e83cdacc94f541": {
          "model_module": "@jupyter-widgets/base",
          "model_name": "LayoutModel",
          "state": {
            "_view_name": "LayoutView",
            "grid_template_rows": null,
            "right": null,
            "justify_content": null,
            "_view_module": "@jupyter-widgets/base",
            "overflow": null,
            "_model_module_version": "1.2.0",
            "_view_count": null,
            "flex_flow": null,
            "width": null,
            "min_width": null,
            "border": null,
            "align_items": null,
            "bottom": null,
            "_model_module": "@jupyter-widgets/base",
            "top": null,
            "grid_column": null,
            "overflow_y": null,
            "overflow_x": null,
            "grid_auto_flow": null,
            "grid_area": null,
            "grid_template_columns": null,
            "flex": null,
            "_model_name": "LayoutModel",
            "justify_items": null,
            "grid_row": null,
            "max_height": null,
            "align_content": null,
            "visibility": null,
            "align_self": null,
            "height": null,
            "min_height": null,
            "padding": null,
            "grid_auto_rows": null,
            "grid_gap": null,
            "max_width": null,
            "order": null,
            "_view_module_version": "1.2.0",
            "grid_template_areas": null,
            "object_position": null,
            "object_fit": null,
            "grid_auto_columns": null,
            "margin": null,
            "display": null,
            "left": null
          }
        },
        "d33dc4fef4f240e691528cad71db5ad8": {
          "model_module": "@jupyter-widgets/controls",
          "model_name": "FloatProgressModel",
          "state": {
            "_view_name": "ProgressView",
            "style": "IPY_MODEL_b0dd1df801ab481b8e20f7ed75dc7828",
            "_dom_classes": [],
            "description": "",
            "_model_name": "FloatProgressModel",
            "bar_style": "info",
            "max": 1,
            "_view_module": "@jupyter-widgets/controls",
            "_model_module_version": "1.5.0",
            "value": 1,
            "_view_count": null,
            "_view_module_version": "1.5.0",
            "orientation": "horizontal",
            "min": 0,
            "description_tooltip": null,
            "_model_module": "@jupyter-widgets/controls",
            "layout": "IPY_MODEL_e9f64a68155048f7b2fa456b0557b415"
          }
        },
        "fdc8b458ae694a0f9d672e03e90468a8": {
          "model_module": "@jupyter-widgets/controls",
          "model_name": "HTMLModel",
          "state": {
            "_view_name": "HTMLView",
            "style": "IPY_MODEL_aa5576c7580442ddac117d66c41ecef1",
            "_dom_classes": [],
            "description": "",
            "_model_name": "HTMLModel",
            "placeholder": "​",
            "_view_module": "@jupyter-widgets/controls",
            "_model_module_version": "1.5.0",
            "value": " 50000/0 [00:27&lt;00:00, 1841.58 examples/s]",
            "_view_count": null,
            "_view_module_version": "1.5.0",
            "description_tooltip": null,
            "_model_module": "@jupyter-widgets/controls",
            "layout": "IPY_MODEL_63b7fc4f3298498791da7a4498d53d95"
          }
        },
        "b0dd1df801ab481b8e20f7ed75dc7828": {
          "model_module": "@jupyter-widgets/controls",
          "model_name": "ProgressStyleModel",
          "state": {
            "_view_name": "StyleView",
            "_model_name": "ProgressStyleModel",
            "description_width": "initial",
            "_view_module": "@jupyter-widgets/base",
            "_model_module_version": "1.5.0",
            "_view_count": null,
            "_view_module_version": "1.2.0",
            "bar_color": null,
            "_model_module": "@jupyter-widgets/controls"
          }
        },
        "e9f64a68155048f7b2fa456b0557b415": {
          "model_module": "@jupyter-widgets/base",
          "model_name": "LayoutModel",
          "state": {
            "_view_name": "LayoutView",
            "grid_template_rows": null,
            "right": null,
            "justify_content": null,
            "_view_module": "@jupyter-widgets/base",
            "overflow": null,
            "_model_module_version": "1.2.0",
            "_view_count": null,
            "flex_flow": null,
            "width": null,
            "min_width": null,
            "border": null,
            "align_items": null,
            "bottom": null,
            "_model_module": "@jupyter-widgets/base",
            "top": null,
            "grid_column": null,
            "overflow_y": null,
            "overflow_x": null,
            "grid_auto_flow": null,
            "grid_area": null,
            "grid_template_columns": null,
            "flex": null,
            "_model_name": "LayoutModel",
            "justify_items": null,
            "grid_row": null,
            "max_height": null,
            "align_content": null,
            "visibility": null,
            "align_self": null,
            "height": null,
            "min_height": null,
            "padding": null,
            "grid_auto_rows": null,
            "grid_gap": null,
            "max_width": null,
            "order": null,
            "_view_module_version": "1.2.0",
            "grid_template_areas": null,
            "object_position": null,
            "object_fit": null,
            "grid_auto_columns": null,
            "margin": null,
            "display": null,
            "left": null
          }
        },
        "aa5576c7580442ddac117d66c41ecef1": {
          "model_module": "@jupyter-widgets/controls",
          "model_name": "DescriptionStyleModel",
          "state": {
            "_view_name": "StyleView",
            "_model_name": "DescriptionStyleModel",
            "description_width": "",
            "_view_module": "@jupyter-widgets/base",
            "_model_module_version": "1.5.0",
            "_view_count": null,
            "_view_module_version": "1.2.0",
            "_model_module": "@jupyter-widgets/controls"
          }
        },
        "63b7fc4f3298498791da7a4498d53d95": {
          "model_module": "@jupyter-widgets/base",
          "model_name": "LayoutModel",
          "state": {
            "_view_name": "LayoutView",
            "grid_template_rows": null,
            "right": null,
            "justify_content": null,
            "_view_module": "@jupyter-widgets/base",
            "overflow": null,
            "_model_module_version": "1.2.0",
            "_view_count": null,
            "flex_flow": null,
            "width": null,
            "min_width": null,
            "border": null,
            "align_items": null,
            "bottom": null,
            "_model_module": "@jupyter-widgets/base",
            "top": null,
            "grid_column": null,
            "overflow_y": null,
            "overflow_x": null,
            "grid_auto_flow": null,
            "grid_area": null,
            "grid_template_columns": null,
            "flex": null,
            "_model_name": "LayoutModel",
            "justify_items": null,
            "grid_row": null,
            "max_height": null,
            "align_content": null,
            "visibility": null,
            "align_self": null,
            "height": null,
            "min_height": null,
            "padding": null,
            "grid_auto_rows": null,
            "grid_gap": null,
            "max_width": null,
            "order": null,
            "_view_module_version": "1.2.0",
            "grid_template_areas": null,
            "object_position": null,
            "object_fit": null,
            "grid_auto_columns": null,
            "margin": null,
            "display": null,
            "left": null
          }
        },
        "ea3db5f7e6474154a465db8a82b59f86": {
          "model_module": "@jupyter-widgets/controls",
          "model_name": "HBoxModel",
          "state": {
            "_view_name": "HBoxView",
            "_dom_classes": [],
            "_model_name": "HBoxModel",
            "_view_module": "@jupyter-widgets/controls",
            "_model_module_version": "1.5.0",
            "_view_count": null,
            "_view_module_version": "1.5.0",
            "box_style": "",
            "layout": "IPY_MODEL_e7967fe8dd7445c5b397a2ae1854fff3",
            "_model_module": "@jupyter-widgets/controls",
            "children": [
              "IPY_MODEL_e0c793d4587c44d09a29c8adc9330907",
              "IPY_MODEL_6f1483e621d14dbe8969af97591fe425"
            ]
          }
        },
        "e7967fe8dd7445c5b397a2ae1854fff3": {
          "model_module": "@jupyter-widgets/base",
          "model_name": "LayoutModel",
          "state": {
            "_view_name": "LayoutView",
            "grid_template_rows": null,
            "right": null,
            "justify_content": null,
            "_view_module": "@jupyter-widgets/base",
            "overflow": null,
            "_model_module_version": "1.2.0",
            "_view_count": null,
            "flex_flow": null,
            "width": null,
            "min_width": null,
            "border": null,
            "align_items": null,
            "bottom": null,
            "_model_module": "@jupyter-widgets/base",
            "top": null,
            "grid_column": null,
            "overflow_y": null,
            "overflow_x": null,
            "grid_auto_flow": null,
            "grid_area": null,
            "grid_template_columns": null,
            "flex": null,
            "_model_name": "LayoutModel",
            "justify_items": null,
            "grid_row": null,
            "max_height": null,
            "align_content": null,
            "visibility": null,
            "align_self": null,
            "height": null,
            "min_height": null,
            "padding": null,
            "grid_auto_rows": null,
            "grid_gap": null,
            "max_width": null,
            "order": null,
            "_view_module_version": "1.2.0",
            "grid_template_areas": null,
            "object_position": null,
            "object_fit": null,
            "grid_auto_columns": null,
            "margin": null,
            "display": null,
            "left": null
          }
        },
        "e0c793d4587c44d09a29c8adc9330907": {
          "model_module": "@jupyter-widgets/controls",
          "model_name": "FloatProgressModel",
          "state": {
            "_view_name": "ProgressView",
            "style": "IPY_MODEL_1a8608fd3be3433e83dc10e669401f13",
            "_dom_classes": [],
            "description": " 83%",
            "_model_name": "FloatProgressModel",
            "bar_style": "danger",
            "max": 50000,
            "_view_module": "@jupyter-widgets/controls",
            "_model_module_version": "1.5.0",
            "value": 41705,
            "_view_count": null,
            "_view_module_version": "1.5.0",
            "orientation": "horizontal",
            "min": 0,
            "description_tooltip": null,
            "_model_module": "@jupyter-widgets/controls",
            "layout": "IPY_MODEL_a804fdb6890549248c87ec6114333674"
          }
        },
        "6f1483e621d14dbe8969af97591fe425": {
          "model_module": "@jupyter-widgets/controls",
          "model_name": "HTMLModel",
          "state": {
            "_view_name": "HTMLView",
            "style": "IPY_MODEL_29df0b4cd9f54df4951647e8cdeac735",
            "_dom_classes": [],
            "description": "",
            "_model_name": "HTMLModel",
            "placeholder": "​",
            "_view_module": "@jupyter-widgets/controls",
            "_model_module_version": "1.5.0",
            "value": " 41705/50000 [00:00&lt;00:00, 62691.35 examples/s]",
            "_view_count": null,
            "_view_module_version": "1.5.0",
            "description_tooltip": null,
            "_model_module": "@jupyter-widgets/controls",
            "layout": "IPY_MODEL_49ccd633e0e34cd1ac8102001da02b6d"
          }
        },
        "1a8608fd3be3433e83dc10e669401f13": {
          "model_module": "@jupyter-widgets/controls",
          "model_name": "ProgressStyleModel",
          "state": {
            "_view_name": "StyleView",
            "_model_name": "ProgressStyleModel",
            "description_width": "initial",
            "_view_module": "@jupyter-widgets/base",
            "_model_module_version": "1.5.0",
            "_view_count": null,
            "_view_module_version": "1.2.0",
            "bar_color": null,
            "_model_module": "@jupyter-widgets/controls"
          }
        },
        "a804fdb6890549248c87ec6114333674": {
          "model_module": "@jupyter-widgets/base",
          "model_name": "LayoutModel",
          "state": {
            "_view_name": "LayoutView",
            "grid_template_rows": null,
            "right": null,
            "justify_content": null,
            "_view_module": "@jupyter-widgets/base",
            "overflow": null,
            "_model_module_version": "1.2.0",
            "_view_count": null,
            "flex_flow": null,
            "width": null,
            "min_width": null,
            "border": null,
            "align_items": null,
            "bottom": null,
            "_model_module": "@jupyter-widgets/base",
            "top": null,
            "grid_column": null,
            "overflow_y": null,
            "overflow_x": null,
            "grid_auto_flow": null,
            "grid_area": null,
            "grid_template_columns": null,
            "flex": null,
            "_model_name": "LayoutModel",
            "justify_items": null,
            "grid_row": null,
            "max_height": null,
            "align_content": null,
            "visibility": null,
            "align_self": null,
            "height": null,
            "min_height": null,
            "padding": null,
            "grid_auto_rows": null,
            "grid_gap": null,
            "max_width": null,
            "order": null,
            "_view_module_version": "1.2.0",
            "grid_template_areas": null,
            "object_position": null,
            "object_fit": null,
            "grid_auto_columns": null,
            "margin": null,
            "display": null,
            "left": null
          }
        },
        "29df0b4cd9f54df4951647e8cdeac735": {
          "model_module": "@jupyter-widgets/controls",
          "model_name": "DescriptionStyleModel",
          "state": {
            "_view_name": "StyleView",
            "_model_name": "DescriptionStyleModel",
            "description_width": "",
            "_view_module": "@jupyter-widgets/base",
            "_model_module_version": "1.5.0",
            "_view_count": null,
            "_view_module_version": "1.2.0",
            "_model_module": "@jupyter-widgets/controls"
          }
        },
        "49ccd633e0e34cd1ac8102001da02b6d": {
          "model_module": "@jupyter-widgets/base",
          "model_name": "LayoutModel",
          "state": {
            "_view_name": "LayoutView",
            "grid_template_rows": null,
            "right": null,
            "justify_content": null,
            "_view_module": "@jupyter-widgets/base",
            "overflow": null,
            "_model_module_version": "1.2.0",
            "_view_count": null,
            "flex_flow": null,
            "width": null,
            "min_width": null,
            "border": null,
            "align_items": null,
            "bottom": null,
            "_model_module": "@jupyter-widgets/base",
            "top": null,
            "grid_column": null,
            "overflow_y": null,
            "overflow_x": null,
            "grid_auto_flow": null,
            "grid_area": null,
            "grid_template_columns": null,
            "flex": null,
            "_model_name": "LayoutModel",
            "justify_items": null,
            "grid_row": null,
            "max_height": null,
            "align_content": null,
            "visibility": null,
            "align_self": null,
            "height": null,
            "min_height": null,
            "padding": null,
            "grid_auto_rows": null,
            "grid_gap": null,
            "max_width": null,
            "order": null,
            "_view_module_version": "1.2.0",
            "grid_template_areas": null,
            "object_position": null,
            "object_fit": null,
            "grid_auto_columns": null,
            "margin": null,
            "display": null,
            "left": null
          }
        },
        "918f8038a86c400f84a18e137478248a": {
          "model_module": "@jupyter-widgets/controls",
          "model_name": "HBoxModel",
          "state": {
            "_view_name": "HBoxView",
            "_dom_classes": [],
            "_model_name": "HBoxModel",
            "_view_module": "@jupyter-widgets/controls",
            "_model_module_version": "1.5.0",
            "_view_count": null,
            "_view_module_version": "1.5.0",
            "box_style": "",
            "layout": "IPY_MODEL_4b9a42d4b7a04a0a8d9ab8a05ba9f23d",
            "_model_module": "@jupyter-widgets/controls",
            "children": [
              "IPY_MODEL_39480550bfd0444197a5e3283a087cf1",
              "IPY_MODEL_56d274f7826f46459a5b58568f55b8e9"
            ]
          }
        },
        "4b9a42d4b7a04a0a8d9ab8a05ba9f23d": {
          "model_module": "@jupyter-widgets/base",
          "model_name": "LayoutModel",
          "state": {
            "_view_name": "LayoutView",
            "grid_template_rows": null,
            "right": null,
            "justify_content": null,
            "_view_module": "@jupyter-widgets/base",
            "overflow": null,
            "_model_module_version": "1.2.0",
            "_view_count": null,
            "flex_flow": null,
            "width": null,
            "min_width": null,
            "border": null,
            "align_items": null,
            "bottom": null,
            "_model_module": "@jupyter-widgets/base",
            "top": null,
            "grid_column": null,
            "overflow_y": null,
            "overflow_x": null,
            "grid_auto_flow": null,
            "grid_area": null,
            "grid_template_columns": null,
            "flex": null,
            "_model_name": "LayoutModel",
            "justify_items": null,
            "grid_row": null,
            "max_height": null,
            "align_content": null,
            "visibility": null,
            "align_self": null,
            "height": null,
            "min_height": null,
            "padding": null,
            "grid_auto_rows": null,
            "grid_gap": null,
            "max_width": null,
            "order": null,
            "_view_module_version": "1.2.0",
            "grid_template_areas": null,
            "object_position": null,
            "object_fit": null,
            "grid_auto_columns": null,
            "margin": null,
            "display": null,
            "left": null
          }
        },
        "39480550bfd0444197a5e3283a087cf1": {
          "model_module": "@jupyter-widgets/controls",
          "model_name": "FloatProgressModel",
          "state": {
            "_view_name": "ProgressView",
            "style": "IPY_MODEL_1ac85064c1ca4f979c7db2238663f47e",
            "_dom_classes": [],
            "description": "",
            "_model_name": "FloatProgressModel",
            "bar_style": "info",
            "max": 1,
            "_view_module": "@jupyter-widgets/controls",
            "_model_module_version": "1.5.0",
            "value": 1,
            "_view_count": null,
            "_view_module_version": "1.5.0",
            "orientation": "horizontal",
            "min": 0,
            "description_tooltip": null,
            "_model_module": "@jupyter-widgets/controls",
            "layout": "IPY_MODEL_23f590a06f744cf8b4e4987110183250"
          }
        },
        "56d274f7826f46459a5b58568f55b8e9": {
          "model_module": "@jupyter-widgets/controls",
          "model_name": "HTMLModel",
          "state": {
            "_view_name": "HTMLView",
            "style": "IPY_MODEL_a3d9303fd06145ffa12b835f7b702a53",
            "_dom_classes": [],
            "description": "",
            "_model_name": "HTMLModel",
            "placeholder": "​",
            "_view_module": "@jupyter-widgets/controls",
            "_model_module_version": "1.5.0",
            "value": " 10000/0 [00:05&lt;00:00, 1755.12 examples/s]",
            "_view_count": null,
            "_view_module_version": "1.5.0",
            "description_tooltip": null,
            "_model_module": "@jupyter-widgets/controls",
            "layout": "IPY_MODEL_7f16e46bc7ae404b91c643dcd4020415"
          }
        },
        "1ac85064c1ca4f979c7db2238663f47e": {
          "model_module": "@jupyter-widgets/controls",
          "model_name": "ProgressStyleModel",
          "state": {
            "_view_name": "StyleView",
            "_model_name": "ProgressStyleModel",
            "description_width": "initial",
            "_view_module": "@jupyter-widgets/base",
            "_model_module_version": "1.5.0",
            "_view_count": null,
            "_view_module_version": "1.2.0",
            "bar_color": null,
            "_model_module": "@jupyter-widgets/controls"
          }
        },
        "23f590a06f744cf8b4e4987110183250": {
          "model_module": "@jupyter-widgets/base",
          "model_name": "LayoutModel",
          "state": {
            "_view_name": "LayoutView",
            "grid_template_rows": null,
            "right": null,
            "justify_content": null,
            "_view_module": "@jupyter-widgets/base",
            "overflow": null,
            "_model_module_version": "1.2.0",
            "_view_count": null,
            "flex_flow": null,
            "width": null,
            "min_width": null,
            "border": null,
            "align_items": null,
            "bottom": null,
            "_model_module": "@jupyter-widgets/base",
            "top": null,
            "grid_column": null,
            "overflow_y": null,
            "overflow_x": null,
            "grid_auto_flow": null,
            "grid_area": null,
            "grid_template_columns": null,
            "flex": null,
            "_model_name": "LayoutModel",
            "justify_items": null,
            "grid_row": null,
            "max_height": null,
            "align_content": null,
            "visibility": null,
            "align_self": null,
            "height": null,
            "min_height": null,
            "padding": null,
            "grid_auto_rows": null,
            "grid_gap": null,
            "max_width": null,
            "order": null,
            "_view_module_version": "1.2.0",
            "grid_template_areas": null,
            "object_position": null,
            "object_fit": null,
            "grid_auto_columns": null,
            "margin": null,
            "display": null,
            "left": null
          }
        },
        "a3d9303fd06145ffa12b835f7b702a53": {
          "model_module": "@jupyter-widgets/controls",
          "model_name": "DescriptionStyleModel",
          "state": {
            "_view_name": "StyleView",
            "_model_name": "DescriptionStyleModel",
            "description_width": "",
            "_view_module": "@jupyter-widgets/base",
            "_model_module_version": "1.5.0",
            "_view_count": null,
            "_view_module_version": "1.2.0",
            "_model_module": "@jupyter-widgets/controls"
          }
        },
        "7f16e46bc7ae404b91c643dcd4020415": {
          "model_module": "@jupyter-widgets/base",
          "model_name": "LayoutModel",
          "state": {
            "_view_name": "LayoutView",
            "grid_template_rows": null,
            "right": null,
            "justify_content": null,
            "_view_module": "@jupyter-widgets/base",
            "overflow": null,
            "_model_module_version": "1.2.0",
            "_view_count": null,
            "flex_flow": null,
            "width": null,
            "min_width": null,
            "border": null,
            "align_items": null,
            "bottom": null,
            "_model_module": "@jupyter-widgets/base",
            "top": null,
            "grid_column": null,
            "overflow_y": null,
            "overflow_x": null,
            "grid_auto_flow": null,
            "grid_area": null,
            "grid_template_columns": null,
            "flex": null,
            "_model_name": "LayoutModel",
            "justify_items": null,
            "grid_row": null,
            "max_height": null,
            "align_content": null,
            "visibility": null,
            "align_self": null,
            "height": null,
            "min_height": null,
            "padding": null,
            "grid_auto_rows": null,
            "grid_gap": null,
            "max_width": null,
            "order": null,
            "_view_module_version": "1.2.0",
            "grid_template_areas": null,
            "object_position": null,
            "object_fit": null,
            "grid_auto_columns": null,
            "margin": null,
            "display": null,
            "left": null
          }
        },
        "fb662539b22249dc9d4c9a9092baa7bf": {
          "model_module": "@jupyter-widgets/controls",
          "model_name": "HBoxModel",
          "state": {
            "_view_name": "HBoxView",
            "_dom_classes": [],
            "_model_name": "HBoxModel",
            "_view_module": "@jupyter-widgets/controls",
            "_model_module_version": "1.5.0",
            "_view_count": null,
            "_view_module_version": "1.5.0",
            "box_style": "",
            "layout": "IPY_MODEL_e6c1567dbca24d69bacc4c3ae9e2a99c",
            "_model_module": "@jupyter-widgets/controls",
            "children": [
              "IPY_MODEL_2150658cb643476598a75cb781a81e75",
              "IPY_MODEL_deb3c18f56cf4f36b783711bedd1cef6"
            ]
          }
        },
        "e6c1567dbca24d69bacc4c3ae9e2a99c": {
          "model_module": "@jupyter-widgets/base",
          "model_name": "LayoutModel",
          "state": {
            "_view_name": "LayoutView",
            "grid_template_rows": null,
            "right": null,
            "justify_content": null,
            "_view_module": "@jupyter-widgets/base",
            "overflow": null,
            "_model_module_version": "1.2.0",
            "_view_count": null,
            "flex_flow": null,
            "width": null,
            "min_width": null,
            "border": null,
            "align_items": null,
            "bottom": null,
            "_model_module": "@jupyter-widgets/base",
            "top": null,
            "grid_column": null,
            "overflow_y": null,
            "overflow_x": null,
            "grid_auto_flow": null,
            "grid_area": null,
            "grid_template_columns": null,
            "flex": null,
            "_model_name": "LayoutModel",
            "justify_items": null,
            "grid_row": null,
            "max_height": null,
            "align_content": null,
            "visibility": null,
            "align_self": null,
            "height": null,
            "min_height": null,
            "padding": null,
            "grid_auto_rows": null,
            "grid_gap": null,
            "max_width": null,
            "order": null,
            "_view_module_version": "1.2.0",
            "grid_template_areas": null,
            "object_position": null,
            "object_fit": null,
            "grid_auto_columns": null,
            "margin": null,
            "display": null,
            "left": null
          }
        },
        "2150658cb643476598a75cb781a81e75": {
          "model_module": "@jupyter-widgets/controls",
          "model_name": "FloatProgressModel",
          "state": {
            "_view_name": "ProgressView",
            "style": "IPY_MODEL_ffe5c2c3c7bd487c9127e267013859a1",
            "_dom_classes": [],
            "description": " 89%",
            "_model_name": "FloatProgressModel",
            "bar_style": "danger",
            "max": 10000,
            "_view_module": "@jupyter-widgets/controls",
            "_model_module_version": "1.5.0",
            "value": 8856,
            "_view_count": null,
            "_view_module_version": "1.5.0",
            "orientation": "horizontal",
            "min": 0,
            "description_tooltip": null,
            "_model_module": "@jupyter-widgets/controls",
            "layout": "IPY_MODEL_e8004f14f4934119824e526057109515"
          }
        },
        "deb3c18f56cf4f36b783711bedd1cef6": {
          "model_module": "@jupyter-widgets/controls",
          "model_name": "HTMLModel",
          "state": {
            "_view_name": "HTMLView",
            "style": "IPY_MODEL_dbcde609ee8f44c6a0f366b1b7c83141",
            "_dom_classes": [],
            "description": "",
            "_model_name": "HTMLModel",
            "placeholder": "​",
            "_view_module": "@jupyter-widgets/controls",
            "_model_module_version": "1.5.0",
            "value": " 8856/10000 [00:00&lt;00:00, 88557.13 examples/s]",
            "_view_count": null,
            "_view_module_version": "1.5.0",
            "description_tooltip": null,
            "_model_module": "@jupyter-widgets/controls",
            "layout": "IPY_MODEL_606c0a0512d5498b9ba6e5eee27f99f6"
          }
        },
        "ffe5c2c3c7bd487c9127e267013859a1": {
          "model_module": "@jupyter-widgets/controls",
          "model_name": "ProgressStyleModel",
          "state": {
            "_view_name": "StyleView",
            "_model_name": "ProgressStyleModel",
            "description_width": "initial",
            "_view_module": "@jupyter-widgets/base",
            "_model_module_version": "1.5.0",
            "_view_count": null,
            "_view_module_version": "1.2.0",
            "bar_color": null,
            "_model_module": "@jupyter-widgets/controls"
          }
        },
        "e8004f14f4934119824e526057109515": {
          "model_module": "@jupyter-widgets/base",
          "model_name": "LayoutModel",
          "state": {
            "_view_name": "LayoutView",
            "grid_template_rows": null,
            "right": null,
            "justify_content": null,
            "_view_module": "@jupyter-widgets/base",
            "overflow": null,
            "_model_module_version": "1.2.0",
            "_view_count": null,
            "flex_flow": null,
            "width": null,
            "min_width": null,
            "border": null,
            "align_items": null,
            "bottom": null,
            "_model_module": "@jupyter-widgets/base",
            "top": null,
            "grid_column": null,
            "overflow_y": null,
            "overflow_x": null,
            "grid_auto_flow": null,
            "grid_area": null,
            "grid_template_columns": null,
            "flex": null,
            "_model_name": "LayoutModel",
            "justify_items": null,
            "grid_row": null,
            "max_height": null,
            "align_content": null,
            "visibility": null,
            "align_self": null,
            "height": null,
            "min_height": null,
            "padding": null,
            "grid_auto_rows": null,
            "grid_gap": null,
            "max_width": null,
            "order": null,
            "_view_module_version": "1.2.0",
            "grid_template_areas": null,
            "object_position": null,
            "object_fit": null,
            "grid_auto_columns": null,
            "margin": null,
            "display": null,
            "left": null
          }
        },
        "dbcde609ee8f44c6a0f366b1b7c83141": {
          "model_module": "@jupyter-widgets/controls",
          "model_name": "DescriptionStyleModel",
          "state": {
            "_view_name": "StyleView",
            "_model_name": "DescriptionStyleModel",
            "description_width": "",
            "_view_module": "@jupyter-widgets/base",
            "_model_module_version": "1.5.0",
            "_view_count": null,
            "_view_module_version": "1.2.0",
            "_model_module": "@jupyter-widgets/controls"
          }
        },
        "606c0a0512d5498b9ba6e5eee27f99f6": {
          "model_module": "@jupyter-widgets/base",
          "model_name": "LayoutModel",
          "state": {
            "_view_name": "LayoutView",
            "grid_template_rows": null,
            "right": null,
            "justify_content": null,
            "_view_module": "@jupyter-widgets/base",
            "overflow": null,
            "_model_module_version": "1.2.0",
            "_view_count": null,
            "flex_flow": null,
            "width": null,
            "min_width": null,
            "border": null,
            "align_items": null,
            "bottom": null,
            "_model_module": "@jupyter-widgets/base",
            "top": null,
            "grid_column": null,
            "overflow_y": null,
            "overflow_x": null,
            "grid_auto_flow": null,
            "grid_area": null,
            "grid_template_columns": null,
            "flex": null,
            "_model_name": "LayoutModel",
            "justify_items": null,
            "grid_row": null,
            "max_height": null,
            "align_content": null,
            "visibility": null,
            "align_self": null,
            "height": null,
            "min_height": null,
            "padding": null,
            "grid_auto_rows": null,
            "grid_gap": null,
            "max_width": null,
            "order": null,
            "_view_module_version": "1.2.0",
            "grid_template_areas": null,
            "object_position": null,
            "object_fit": null,
            "grid_auto_columns": null,
            "margin": null,
            "display": null,
            "left": null
          }
        },
        "9932ccc7cd8840f79edbc24842c6fafb": {
          "model_module": "@jupyter-widgets/controls",
          "model_name": "VBoxModel",
          "state": {
            "_view_name": "VBoxView",
            "_dom_classes": [],
            "_model_name": "VBoxModel",
            "_view_module": "@jupyter-widgets/controls",
            "_model_module_version": "1.5.0",
            "_view_count": null,
            "_view_module_version": "1.5.0",
            "box_style": "",
            "layout": "IPY_MODEL_feaf7852e22c47fa8a9d4cf7f2ac6861",
            "_model_module": "@jupyter-widgets/controls",
            "children": [
              "IPY_MODEL_f89b35afca3e4cd08f2ffdaa7e7395dd",
              "IPY_MODEL_57fe0c134a5a4f65a4439f623edf9d27"
            ]
          }
        },
        "feaf7852e22c47fa8a9d4cf7f2ac6861": {
          "model_module": "@jupyter-widgets/base",
          "model_name": "LayoutModel",
          "state": {
            "_view_name": "LayoutView",
            "grid_template_rows": null,
            "right": null,
            "justify_content": null,
            "_view_module": "@jupyter-widgets/base",
            "overflow": null,
            "_model_module_version": "1.2.0",
            "_view_count": null,
            "flex_flow": null,
            "width": null,
            "min_width": null,
            "border": null,
            "align_items": null,
            "bottom": null,
            "_model_module": "@jupyter-widgets/base",
            "top": null,
            "grid_column": null,
            "overflow_y": null,
            "overflow_x": null,
            "grid_auto_flow": null,
            "grid_area": null,
            "grid_template_columns": null,
            "flex": null,
            "_model_name": "LayoutModel",
            "justify_items": null,
            "grid_row": null,
            "max_height": null,
            "align_content": null,
            "visibility": null,
            "align_self": null,
            "height": null,
            "min_height": null,
            "padding": null,
            "grid_auto_rows": null,
            "grid_gap": null,
            "max_width": null,
            "order": null,
            "_view_module_version": "1.2.0",
            "grid_template_areas": null,
            "object_position": null,
            "object_fit": null,
            "grid_auto_columns": null,
            "margin": null,
            "display": null,
            "left": null
          }
        },
        "f89b35afca3e4cd08f2ffdaa7e7395dd": {
          "model_module": "@jupyter-widgets/controls",
          "model_name": "LabelModel",
          "state": {
            "_view_name": "LabelView",
            "style": "IPY_MODEL_04e142686b9344f78f1d4e496c202abf",
            "_dom_classes": [],
            "description": "",
            "_model_name": "LabelModel",
            "placeholder": "​",
            "_view_module": "@jupyter-widgets/controls",
            "_model_module_version": "1.5.0",
            "value": " 4.50MB of 4.50MB uploaded (0.00MB deduped)\r",
            "_view_count": null,
            "_view_module_version": "1.5.0",
            "description_tooltip": null,
            "_model_module": "@jupyter-widgets/controls",
            "layout": "IPY_MODEL_8ece82dd8e22444aa8f392ba813d322d"
          }
        },
        "57fe0c134a5a4f65a4439f623edf9d27": {
          "model_module": "@jupyter-widgets/controls",
          "model_name": "FloatProgressModel",
          "state": {
            "_view_name": "ProgressView",
            "style": "IPY_MODEL_b9952968b1b44effa9a6bf52dd2fc102",
            "_dom_classes": [],
            "description": "",
            "_model_name": "FloatProgressModel",
            "bar_style": "",
            "max": 1,
            "_view_module": "@jupyter-widgets/controls",
            "_model_module_version": "1.5.0",
            "value": 1,
            "_view_count": null,
            "_view_module_version": "1.5.0",
            "orientation": "horizontal",
            "min": 0,
            "description_tooltip": null,
            "_model_module": "@jupyter-widgets/controls",
            "layout": "IPY_MODEL_98b75de665a3497484534a41dc04aeb9"
          }
        },
        "04e142686b9344f78f1d4e496c202abf": {
          "model_module": "@jupyter-widgets/controls",
          "model_name": "DescriptionStyleModel",
          "state": {
            "_view_name": "StyleView",
            "_model_name": "DescriptionStyleModel",
            "description_width": "",
            "_view_module": "@jupyter-widgets/base",
            "_model_module_version": "1.5.0",
            "_view_count": null,
            "_view_module_version": "1.2.0",
            "_model_module": "@jupyter-widgets/controls"
          }
        },
        "8ece82dd8e22444aa8f392ba813d322d": {
          "model_module": "@jupyter-widgets/base",
          "model_name": "LayoutModel",
          "state": {
            "_view_name": "LayoutView",
            "grid_template_rows": null,
            "right": null,
            "justify_content": null,
            "_view_module": "@jupyter-widgets/base",
            "overflow": null,
            "_model_module_version": "1.2.0",
            "_view_count": null,
            "flex_flow": null,
            "width": null,
            "min_width": null,
            "border": null,
            "align_items": null,
            "bottom": null,
            "_model_module": "@jupyter-widgets/base",
            "top": null,
            "grid_column": null,
            "overflow_y": null,
            "overflow_x": null,
            "grid_auto_flow": null,
            "grid_area": null,
            "grid_template_columns": null,
            "flex": null,
            "_model_name": "LayoutModel",
            "justify_items": null,
            "grid_row": null,
            "max_height": null,
            "align_content": null,
            "visibility": null,
            "align_self": null,
            "height": null,
            "min_height": null,
            "padding": null,
            "grid_auto_rows": null,
            "grid_gap": null,
            "max_width": null,
            "order": null,
            "_view_module_version": "1.2.0",
            "grid_template_areas": null,
            "object_position": null,
            "object_fit": null,
            "grid_auto_columns": null,
            "margin": null,
            "display": null,
            "left": null
          }
        },
        "b9952968b1b44effa9a6bf52dd2fc102": {
          "model_module": "@jupyter-widgets/controls",
          "model_name": "ProgressStyleModel",
          "state": {
            "_view_name": "StyleView",
            "_model_name": "ProgressStyleModel",
            "description_width": "",
            "_view_module": "@jupyter-widgets/base",
            "_model_module_version": "1.5.0",
            "_view_count": null,
            "_view_module_version": "1.2.0",
            "bar_color": null,
            "_model_module": "@jupyter-widgets/controls"
          }
        },
        "98b75de665a3497484534a41dc04aeb9": {
          "model_module": "@jupyter-widgets/base",
          "model_name": "LayoutModel",
          "state": {
            "_view_name": "LayoutView",
            "grid_template_rows": null,
            "right": null,
            "justify_content": null,
            "_view_module": "@jupyter-widgets/base",
            "overflow": null,
            "_model_module_version": "1.2.0",
            "_view_count": null,
            "flex_flow": null,
            "width": null,
            "min_width": null,
            "border": null,
            "align_items": null,
            "bottom": null,
            "_model_module": "@jupyter-widgets/base",
            "top": null,
            "grid_column": null,
            "overflow_y": null,
            "overflow_x": null,
            "grid_auto_flow": null,
            "grid_area": null,
            "grid_template_columns": null,
            "flex": null,
            "_model_name": "LayoutModel",
            "justify_items": null,
            "grid_row": null,
            "max_height": null,
            "align_content": null,
            "visibility": null,
            "align_self": null,
            "height": null,
            "min_height": null,
            "padding": null,
            "grid_auto_rows": null,
            "grid_gap": null,
            "max_width": null,
            "order": null,
            "_view_module_version": "1.2.0",
            "grid_template_areas": null,
            "object_position": null,
            "object_fit": null,
            "grid_auto_columns": null,
            "margin": null,
            "display": null,
            "left": null
          }
        }
      }
    }
  },
  "cells": [
    {
      "cell_type": "markdown",
      "metadata": {
        "id": "view-in-github",
        "colab_type": "text"
      },
      "source": [
        "<a href=\"https://colab.research.google.com/github/ayulockin/Explore-NFNet/blob/main/Train_Basline_Cifar10_Without_Batch_Normalization.ipynb\" target=\"_parent\"><img src=\"https://colab.research.google.com/assets/colab-badge.svg\" alt=\"Open In Colab\"/></a>"
      ]
    },
    {
      "cell_type": "markdown",
      "metadata": {
        "id": "Z8i6DNHr94le"
      },
      "source": [
        "# 🧰 Setups, Installations and Imports"
      ]
    },
    {
      "cell_type": "code",
      "metadata": {
        "id": "gEoLE6VB9oWm"
      },
      "source": [
        "%%capture\r\n",
        "!pip install wandb --upgrade\r\n",
        "!pip install albumentations"
      ],
      "execution_count": null,
      "outputs": []
    },
    {
      "cell_type": "code",
      "metadata": {
        "colab": {
          "base_uri": "https://localhost:8080/"
        },
        "id": "xl9NB7qu-RGa",
        "outputId": "ba73de3a-fbee-4003-d76a-a8e1d10b431f"
      },
      "source": [
        "!git clone https://github.com/ayulockin/Explore-NFNet"
      ],
      "execution_count": null,
      "outputs": [
        {
          "output_type": "stream",
          "text": [
            "Cloning into 'Explore-NFNet'...\n",
            "remote: Enumerating objects: 57, done.\u001b[K\n",
            "remote: Counting objects: 100% (57/57), done.\u001b[K\n",
            "remote: Compressing objects: 100% (51/51), done.\u001b[K\n",
            "remote: Total 57 (delta 21), reused 16 (delta 4), pack-reused 0\u001b[K\n",
            "Unpacking objects: 100% (57/57), done.\n"
          ],
          "name": "stdout"
        }
      ]
    },
    {
      "cell_type": "code",
      "metadata": {
        "colab": {
          "base_uri": "https://localhost:8080/"
        },
        "id": "3L-K1KWP--ew",
        "outputId": "a95bde36-9d43-4ea4-ae6e-ba443dbd93fc"
      },
      "source": [
        "import tensorflow as tf\r\n",
        "print(tf.__version__)\r\n",
        "\r\n",
        "import tensorflow_datasets as tfds\r\n",
        "\r\n",
        "import sys\r\n",
        "sys.path.append(\"Explore-NFNet\")\r\n",
        "import os\r\n",
        "import cv2\r\n",
        "import numpy as np\r\n",
        "from functools import partial\r\n",
        "import matplotlib.pyplot as plt\r\n",
        "\r\n",
        "# Imports from the cloned repository\r\n",
        "from models.resnet import resnet_v1 \r\n",
        "from models.mini_vgg import get_mini_vgg\r\n",
        "\r\n",
        "# Augmentation related imports\r\n",
        "import albumentations as A\r\n",
        "\r\n",
        "# Seed everything for reproducibility\r\n",
        "def seed_everything():\r\n",
        "    # Set the random seeds\r\n",
        "    os.environ['TF_CUDNN_DETERMINISTIC'] = '1' \r\n",
        "    np.random.seed(hash(\"improves reproducibility\") % 2**32 - 1)\r\n",
        "    tf.random.set_seed(hash(\"by removing stochasticity\") % 2**32 - 1)\r\n",
        "\r\n",
        "seed_everything()\r\n",
        "\r\n",
        "# Avoid TensorFlow to allocate all the GPU at once. \r\n",
        "# Ref: https://www.tensorflow.org/guide/gpu\r\n",
        "gpus = tf.config.experimental.list_physical_devices('GPU')\r\n",
        "if gpus:\r\n",
        "  try:\r\n",
        "    # Currently, memory growth needs to be the same across GPUs\r\n",
        "    for gpu in gpus:\r\n",
        "      tf.config.experimental.set_memory_growth(gpu, True)\r\n",
        "    logical_gpus = tf.config.experimental.list_logical_devices('GPU')\r\n",
        "    print(len(gpus), \"Physical GPUs,\", len(logical_gpus), \"Logical GPUs\")\r\n",
        "  except RuntimeError as e:\r\n",
        "    # Memory growth must be set before GPUs have been initialized\r\n",
        "    print(e)"
      ],
      "execution_count": null,
      "outputs": [
        {
          "output_type": "stream",
          "text": [
            "2.4.1\n",
            "1 Physical GPUs, 1 Logical GPUs\n"
          ],
          "name": "stdout"
        }
      ]
    },
    {
      "cell_type": "code",
      "metadata": {
        "colab": {
          "base_uri": "https://localhost:8080/",
          "height": 72
        },
        "id": "f4l3n2nUCTXZ",
        "outputId": "165b99f8-f892-4e2f-f939-f224ba46075a"
      },
      "source": [
        "import wandb\r\n",
        "from wandb.keras import WandbCallback\r\n",
        "\r\n",
        "wandb.login()"
      ],
      "execution_count": null,
      "outputs": [
        {
          "output_type": "display_data",
          "data": {
            "application/javascript": [
              "\n",
              "        window._wandbApiKey = new Promise((resolve, reject) => {\n",
              "            function loadScript(url) {\n",
              "            return new Promise(function(resolve, reject) {\n",
              "                let newScript = document.createElement(\"script\");\n",
              "                newScript.onerror = reject;\n",
              "                newScript.onload = resolve;\n",
              "                document.body.appendChild(newScript);\n",
              "                newScript.src = url;\n",
              "            });\n",
              "            }\n",
              "            loadScript(\"https://cdn.jsdelivr.net/npm/postmate/build/postmate.min.js\").then(() => {\n",
              "            const iframe = document.createElement('iframe')\n",
              "            iframe.style.cssText = \"width:0;height:0;border:none\"\n",
              "            document.body.appendChild(iframe)\n",
              "            const handshake = new Postmate({\n",
              "                container: iframe,\n",
              "                url: 'https://wandb.ai/authorize'\n",
              "            });\n",
              "            const timeout = setTimeout(() => reject(\"Couldn't auto authenticate\"), 5000)\n",
              "            handshake.then(function(child) {\n",
              "                child.on('authorize', data => {\n",
              "                    clearTimeout(timeout)\n",
              "                    resolve(data)\n",
              "                });\n",
              "            });\n",
              "            })\n",
              "        });\n",
              "    "
            ],
            "text/plain": [
              "<IPython.core.display.Javascript object>"
            ]
          },
          "metadata": {
            "tags": []
          }
        },
        {
          "output_type": "stream",
          "text": [
            "\u001b[34m\u001b[1mwandb\u001b[0m: Appending key for api.wandb.ai to your netrc file: /root/.netrc\n"
          ],
          "name": "stderr"
        },
        {
          "output_type": "execute_result",
          "data": {
            "text/plain": [
              "True"
            ]
          },
          "metadata": {
            "tags": []
          },
          "execution_count": 4
        }
      ]
    },
    {
      "cell_type": "code",
      "metadata": {
        "colab": {
          "base_uri": "https://localhost:8080/"
        },
        "id": "pznR5VjyIcXa",
        "outputId": "2cf34a48-32b7-48eb-abc6-3b4f84a371a8"
      },
      "source": [
        "DATASET_NAME = 'cifar10'\r\n",
        "IMG_HEIGHT = 32\r\n",
        "IMG_WIDTH = 32\r\n",
        "NUM_CLASSES = 10\r\n",
        "SHUFFLE_BUFFER = 1024\r\n",
        "BATCH_SIZE = 1024\r\n",
        "EPOCHS = 100\r\n",
        "\r\n",
        "AUTOTUNE = tf.data.experimental.AUTOTUNE\r\n",
        "\r\n",
        "print(f'Global batch size is: {BATCH_SIZE}')"
      ],
      "execution_count": null,
      "outputs": [
        {
          "output_type": "stream",
          "text": [
            "Global batch size is: 1024\n"
          ],
          "name": "stdout"
        }
      ]
    },
    {
      "cell_type": "markdown",
      "metadata": {
        "id": "O0hNZfPXDK6s"
      },
      "source": [
        "# ⛄ Download and Prepare Dataset"
      ]
    },
    {
      "cell_type": "code",
      "metadata": {
        "id": "PSxPal9ECQEO",
        "colab": {
          "base_uri": "https://localhost:8080/",
          "height": 384,
          "referenced_widgets": [
            "88039e5279644c86bc70cbffb36b2874",
            "722f7487ffd34aa499ec379bf7951e1f",
            "a4a71fd512a3436bbe347b3423899f9a",
            "156b80b2de3b4d29a80a515b78f907e7",
            "408d42c08df64fa68033cec756ef6442",
            "6ccbe659a6a0405cb2b856c092f7a380",
            "55e396e065a84dc4b785f00f1ac97071",
            "c5a1b763c97849aea475c2394263b224",
            "14f331f5c661441e9462d854e3f3b59e",
            "e406d373d3b54fdb9bfc07b56f56a007",
            "0466eaebcba84734a2dbfa0ab9618fec",
            "b780b1edd3b14a099208242d7587b4c8",
            "bb6752289b2d4e1d88f811af8351cab5",
            "01c3386bee7045b2bfec1a81cab13646",
            "1b603fd1bbfb491486570de61f4edb61",
            "9e23c3b70fd049c9a8a612c7444d0271",
            "79ebae780b254435b2309b15e341b2c6",
            "68703a7cede44773b21ee23f5e58797e",
            "01461afb999e471693471f228cfbbb98",
            "ae62789bc97f412e94bda3977a3cf41c",
            "203eb2fc8d374d5881044bd88e95adb6",
            "45b327d001a94b93af5a332d84002d70",
            "a86818748514461aaa6350366ce38561",
            "ce4518482c71452c967f9483b26b202a",
            "c5b5ad0e03fa4bb190ac689421c8c973",
            "c1ba8286e95b4f08a1e83cdacc94f541",
            "d33dc4fef4f240e691528cad71db5ad8",
            "fdc8b458ae694a0f9d672e03e90468a8",
            "b0dd1df801ab481b8e20f7ed75dc7828",
            "e9f64a68155048f7b2fa456b0557b415",
            "aa5576c7580442ddac117d66c41ecef1",
            "63b7fc4f3298498791da7a4498d53d95",
            "ea3db5f7e6474154a465db8a82b59f86",
            "e7967fe8dd7445c5b397a2ae1854fff3",
            "e0c793d4587c44d09a29c8adc9330907",
            "6f1483e621d14dbe8969af97591fe425",
            "1a8608fd3be3433e83dc10e669401f13",
            "a804fdb6890549248c87ec6114333674",
            "29df0b4cd9f54df4951647e8cdeac735",
            "49ccd633e0e34cd1ac8102001da02b6d",
            "918f8038a86c400f84a18e137478248a",
            "4b9a42d4b7a04a0a8d9ab8a05ba9f23d",
            "39480550bfd0444197a5e3283a087cf1",
            "56d274f7826f46459a5b58568f55b8e9",
            "1ac85064c1ca4f979c7db2238663f47e",
            "23f590a06f744cf8b4e4987110183250",
            "a3d9303fd06145ffa12b835f7b702a53",
            "7f16e46bc7ae404b91c643dcd4020415",
            "fb662539b22249dc9d4c9a9092baa7bf",
            "e6c1567dbca24d69bacc4c3ae9e2a99c",
            "2150658cb643476598a75cb781a81e75",
            "deb3c18f56cf4f36b783711bedd1cef6",
            "ffe5c2c3c7bd487c9127e267013859a1",
            "e8004f14f4934119824e526057109515",
            "dbcde609ee8f44c6a0f366b1b7c83141",
            "606c0a0512d5498b9ba6e5eee27f99f6"
          ]
        },
        "outputId": "ed1b1ef4-1b07-462f-80fd-b91249818c64"
      },
      "source": [
        "(train_ds, val_ds, test_ds), info = tfds.load(name=DATASET_NAME, \r\n",
        "                          split=[\"train[:85%]\", \"train[85%:]\", \"test\"], \r\n",
        "                          with_info=True,\r\n",
        "                          as_supervised=True)"
      ],
      "execution_count": null,
      "outputs": [
        {
          "output_type": "stream",
          "text": [
            "\u001b[1mDownloading and preparing dataset cifar10/3.0.2 (download: 162.17 MiB, generated: 132.40 MiB, total: 294.58 MiB) to /root/tensorflow_datasets/cifar10/3.0.2...\u001b[0m\n"
          ],
          "name": "stdout"
        },
        {
          "output_type": "display_data",
          "data": {
            "application/vnd.jupyter.widget-view+json": {
              "model_id": "88039e5279644c86bc70cbffb36b2874",
              "version_minor": 0,
              "version_major": 2
            },
            "text/plain": [
              "HBox(children=(FloatProgress(value=1.0, bar_style='info', description='Dl Completed...', max=1.0, style=Progre…"
            ]
          },
          "metadata": {
            "tags": []
          }
        },
        {
          "output_type": "display_data",
          "data": {
            "application/vnd.jupyter.widget-view+json": {
              "model_id": "14f331f5c661441e9462d854e3f3b59e",
              "version_minor": 0,
              "version_major": 2
            },
            "text/plain": [
              "HBox(children=(FloatProgress(value=1.0, bar_style='info', description='Dl Size...', max=1.0, style=ProgressSty…"
            ]
          },
          "metadata": {
            "tags": []
          }
        },
        {
          "output_type": "display_data",
          "data": {
            "application/vnd.jupyter.widget-view+json": {
              "model_id": "79ebae780b254435b2309b15e341b2c6",
              "version_minor": 0,
              "version_major": 2
            },
            "text/plain": [
              "HBox(children=(FloatProgress(value=1.0, bar_style='info', description='Extraction completed...', max=1.0, styl…"
            ]
          },
          "metadata": {
            "tags": []
          }
        },
        {
          "output_type": "stream",
          "text": [
            "\n",
            "\n",
            "\n",
            "\n",
            "\n",
            "\n"
          ],
          "name": "stdout"
        },
        {
          "output_type": "display_data",
          "data": {
            "application/vnd.jupyter.widget-view+json": {
              "model_id": "c5b5ad0e03fa4bb190ac689421c8c973",
              "version_minor": 0,
              "version_major": 2
            },
            "text/plain": [
              "HBox(children=(FloatProgress(value=1.0, bar_style='info', max=1.0), HTML(value='')))"
            ]
          },
          "metadata": {
            "tags": []
          }
        },
        {
          "output_type": "stream",
          "text": [
            "\rShuffling and writing examples to /root/tensorflow_datasets/cifar10/3.0.2.incompleteGPSW7H/cifar10-train.tfrecord\n"
          ],
          "name": "stdout"
        },
        {
          "output_type": "display_data",
          "data": {
            "application/vnd.jupyter.widget-view+json": {
              "model_id": "ea3db5f7e6474154a465db8a82b59f86",
              "version_minor": 0,
              "version_major": 2
            },
            "text/plain": [
              "HBox(children=(FloatProgress(value=0.0, max=50000.0), HTML(value='')))"
            ]
          },
          "metadata": {
            "tags": []
          }
        },
        {
          "output_type": "stream",
          "text": [
            "\r"
          ],
          "name": "stdout"
        },
        {
          "output_type": "display_data",
          "data": {
            "application/vnd.jupyter.widget-view+json": {
              "model_id": "918f8038a86c400f84a18e137478248a",
              "version_minor": 0,
              "version_major": 2
            },
            "text/plain": [
              "HBox(children=(FloatProgress(value=1.0, bar_style='info', max=1.0), HTML(value='')))"
            ]
          },
          "metadata": {
            "tags": []
          }
        },
        {
          "output_type": "stream",
          "text": [
            "\rShuffling and writing examples to /root/tensorflow_datasets/cifar10/3.0.2.incompleteGPSW7H/cifar10-test.tfrecord\n"
          ],
          "name": "stdout"
        },
        {
          "output_type": "display_data",
          "data": {
            "application/vnd.jupyter.widget-view+json": {
              "model_id": "fb662539b22249dc9d4c9a9092baa7bf",
              "version_minor": 0,
              "version_major": 2
            },
            "text/plain": [
              "HBox(children=(FloatProgress(value=0.0, max=10000.0), HTML(value='')))"
            ]
          },
          "metadata": {
            "tags": []
          }
        },
        {
          "output_type": "stream",
          "text": [
            "\u001b[1mDataset cifar10 downloaded and prepared to /root/tensorflow_datasets/cifar10/3.0.2. Subsequent calls will reuse this data.\u001b[0m\n",
            "\r"
          ],
          "name": "stdout"
        }
      ]
    },
    {
      "cell_type": "code",
      "metadata": {
        "id": "-9-yRafkGWIk"
      },
      "source": [
        "@tf.function\r\n",
        "def preprocess(image, label):\r\n",
        "    # preprocess image\r\n",
        "    image = tf.cast(image, tf.float32)\r\n",
        "    image = image/255.0\r\n",
        "\r\n",
        "    return image, label\r\n",
        "\r\n",
        "# Define the augmentation policies. Note that they are applied sequentially with some probability p.\r\n",
        "transforms = A.Compose([\r\n",
        "                A.HorizontalFlip(p=0.7),\r\n",
        "                A.Rotate(limit=30, p=0.7)\r\n",
        "        ])\r\n",
        "\r\n",
        "# Apply augmentation policies.\r\n",
        "def aug_fn(image):\r\n",
        "    data = {\"image\":image}\r\n",
        "    aug_data = transforms(**data)\r\n",
        "    aug_img = aug_data[\"image\"]\r\n",
        "\r\n",
        "    return aug_img\r\n",
        "\r\n",
        "@tf.function\r\n",
        "def apply_augmentation(image, label):\r\n",
        "    aug_img = tf.numpy_function(func=aug_fn, inp=[image], Tout=tf.float32)\r\n",
        "    aug_img.set_shape((IMG_HEIGHT, IMG_WIDTH, 3))\r\n",
        "    \r\n",
        "    return aug_img, label\r\n",
        "\r\n",
        "train_ds = (\r\n",
        "    train_ds\r\n",
        "    .shuffle(SHUFFLE_BUFFER)\r\n",
        "    .map(preprocess, num_parallel_calls=AUTOTUNE)\r\n",
        "    .map(apply_augmentation, num_parallel_calls=AUTOTUNE)\r\n",
        "    .batch(BATCH_SIZE)\r\n",
        "    .prefetch(AUTOTUNE)\r\n",
        ")\r\n",
        "\r\n",
        "val_ds = (\r\n",
        "    val_ds\r\n",
        "    .map(preprocess, num_parallel_calls=AUTOTUNE)\r\n",
        "    .batch(BATCH_SIZE)\r\n",
        "    .prefetch(AUTOTUNE)\r\n",
        ")\r\n",
        "\r\n",
        "test_ds = (\r\n",
        "    test_ds\r\n",
        "    .map(preprocess, num_parallel_calls=AUTOTUNE)\r\n",
        "    .batch(BATCH_SIZE)\r\n",
        "    .prefetch(AUTOTUNE)\r\n",
        ")"
      ],
      "execution_count": null,
      "outputs": []
    },
    {
      "cell_type": "code",
      "metadata": {
        "colab": {
          "base_uri": "https://localhost:8080/",
          "height": 610
        },
        "id": "uzWkS_AZGbdW",
        "outputId": "760750dd-8f75-4db3-a269-2e7ac4919842"
      },
      "source": [
        "def show_batch(image_batch, label_batch):\r\n",
        "  plt.figure(figsize=(10,10))\r\n",
        "  for n in range(25):\r\n",
        "      ax = plt.subplot(5,5,n+1)\r\n",
        "      plt.imshow(image_batch[n])\r\n",
        "      # plt.title(f'{np.argmax(label_batch[n].numpy())}')\r\n",
        "      plt.title(f'{label_batch[n].numpy()}')\r\n",
        "      plt.axis('off')\r\n",
        "  \r\n",
        "image_batch, label_batch = next(iter(train_ds))\r\n",
        "show_batch(image_batch, label_batch)\r\n",
        "\r\n",
        "print(image_batch.shape, label_batch.shape)"
      ],
      "execution_count": null,
      "outputs": [
        {
          "output_type": "stream",
          "text": [
            "(1024, 32, 32, 3) (1024,)\n"
          ],
          "name": "stdout"
        },
        {
          "output_type": "display_data",
          "data": {
            "image/png": "[encoded data removed]",
            "text/plain": [
              "<Figure size 720x720 with 25 Axes>"
            ]
          },
          "metadata": {
            "tags": [],
            "needs_background": "light"
          }
        }
      ]
    },
    {
      "cell_type": "markdown",
      "metadata": {
        "id": "wcDd118WJpmf"
      },
      "source": [
        "# 🐤 Model"
      ]
    },
    {
      "cell_type": "code",
      "metadata": {
        "id": "jmaYHGFYJMQU",
        "colab": {
          "base_uri": "https://localhost:8080/"
        },
        "outputId": "11dfe865-3cfc-4ea6-c755-15defef2867f"
      },
      "source": [
        "def GetModel(use_bn):\r\n",
        "  return resnet_v1((IMG_HEIGHT, IMG_WIDTH, 3), 20, num_classes=NUM_CLASSES, use_bn=use_bn) ## Returns a ResNet20 model.\r\n",
        "\r\n",
        "tf.keras.backend.clear_session()\r\n",
        "test_model = GetModel(use_bn=False) # batch normalization is not used.\r\n",
        "test_model.summary()\r\n",
        "print(f\"Total learnable parameters: {test_model.count_params()/1e6} M\")"
      ],
      "execution_count": null,
      "outputs": [
        {
          "output_type": "stream",
          "text": [
            "Model: \"model\"\n",
            "__________________________________________________________________________________________________\n",
            "Layer (type)                    Output Shape         Param #     Connected to                     \n",
            "==================================================================================================\n",
            "input_1 (InputLayer)            [(None, 32, 32, 3)]  0                                            \n",
            "__________________________________________________________________________________________________\n",
            "conv2d (Conv2D)                 (None, 32, 32, 16)   448         input_1[0][0]                    \n",
            "__________________________________________________________________________________________________\n",
            "batch_normalization (BatchNorma (None, 32, 32, 16)   64          conv2d[0][0]                     \n",
            "__________________________________________________________________________________________________\n",
            "activation (Activation)         (None, 32, 32, 16)   0           batch_normalization[0][0]        \n",
            "__________________________________________________________________________________________________\n",
            "conv2d_1 (Conv2D)               (None, 32, 32, 16)   2320        activation[0][0]                 \n",
            "__________________________________________________________________________________________________\n",
            "activation_1 (Activation)       (None, 32, 32, 16)   0           conv2d_1[0][0]                   \n",
            "__________________________________________________________________________________________________\n",
            "conv2d_2 (Conv2D)               (None, 32, 32, 16)   2320        activation_1[0][0]               \n",
            "__________________________________________________________________________________________________\n",
            "add (Add)                       (None, 32, 32, 16)   0           activation[0][0]                 \n",
            "                                                                 conv2d_2[0][0]                   \n",
            "__________________________________________________________________________________________________\n",
            "activation_2 (Activation)       (None, 32, 32, 16)   0           add[0][0]                        \n",
            "__________________________________________________________________________________________________\n",
            "conv2d_3 (Conv2D)               (None, 32, 32, 16)   2320        activation_2[0][0]               \n",
            "__________________________________________________________________________________________________\n",
            "activation_3 (Activation)       (None, 32, 32, 16)   0           conv2d_3[0][0]                   \n",
            "__________________________________________________________________________________________________\n",
            "conv2d_4 (Conv2D)               (None, 32, 32, 16)   2320        activation_3[0][0]               \n",
            "__________________________________________________________________________________________________\n",
            "add_1 (Add)                     (None, 32, 32, 16)   0           activation_2[0][0]               \n",
            "                                                                 conv2d_4[0][0]                   \n",
            "__________________________________________________________________________________________________\n",
            "activation_4 (Activation)       (None, 32, 32, 16)   0           add_1[0][0]                      \n",
            "__________________________________________________________________________________________________\n",
            "conv2d_5 (Conv2D)               (None, 32, 32, 16)   2320        activation_4[0][0]               \n",
            "__________________________________________________________________________________________________\n",
            "activation_5 (Activation)       (None, 32, 32, 16)   0           conv2d_5[0][0]                   \n",
            "__________________________________________________________________________________________________\n",
            "conv2d_6 (Conv2D)               (None, 32, 32, 16)   2320        activation_5[0][0]               \n",
            "__________________________________________________________________________________________________\n",
            "add_2 (Add)                     (None, 32, 32, 16)   0           activation_4[0][0]               \n",
            "                                                                 conv2d_6[0][0]                   \n",
            "__________________________________________________________________________________________________\n",
            "activation_6 (Activation)       (None, 32, 32, 16)   0           add_2[0][0]                      \n",
            "__________________________________________________________________________________________________\n",
            "conv2d_7 (Conv2D)               (None, 16, 16, 32)   4640        activation_6[0][0]               \n",
            "__________________________________________________________________________________________________\n",
            "activation_7 (Activation)       (None, 16, 16, 32)   0           conv2d_7[0][0]                   \n",
            "__________________________________________________________________________________________________\n",
            "conv2d_9 (Conv2D)               (None, 16, 16, 32)   544         activation_6[0][0]               \n",
            "__________________________________________________________________________________________________\n",
            "conv2d_8 (Conv2D)               (None, 16, 16, 32)   9248        activation_7[0][0]               \n",
            "__________________________________________________________________________________________________\n",
            "add_3 (Add)                     (None, 16, 16, 32)   0           conv2d_9[0][0]                   \n",
            "                                                                 conv2d_8[0][0]                   \n",
            "__________________________________________________________________________________________________\n",
            "activation_8 (Activation)       (None, 16, 16, 32)   0           add_3[0][0]                      \n",
            "__________________________________________________________________________________________________\n",
            "conv2d_10 (Conv2D)              (None, 16, 16, 32)   9248        activation_8[0][0]               \n",
            "__________________________________________________________________________________________________\n",
            "activation_9 (Activation)       (None, 16, 16, 32)   0           conv2d_10[0][0]                  \n",
            "__________________________________________________________________________________________________\n",
            "conv2d_11 (Conv2D)              (None, 16, 16, 32)   9248        activation_9[0][0]               \n",
            "__________________________________________________________________________________________________\n",
            "add_4 (Add)                     (None, 16, 16, 32)   0           activation_8[0][0]               \n",
            "                                                                 conv2d_11[0][0]                  \n",
            "__________________________________________________________________________________________________\n",
            "activation_10 (Activation)      (None, 16, 16, 32)   0           add_4[0][0]                      \n",
            "__________________________________________________________________________________________________\n",
            "conv2d_12 (Conv2D)              (None, 16, 16, 32)   9248        activation_10[0][0]              \n",
            "__________________________________________________________________________________________________\n",
            "activation_11 (Activation)      (None, 16, 16, 32)   0           conv2d_12[0][0]                  \n",
            "__________________________________________________________________________________________________\n",
            "conv2d_13 (Conv2D)              (None, 16, 16, 32)   9248        activation_11[0][0]              \n",
            "__________________________________________________________________________________________________\n",
            "add_5 (Add)                     (None, 16, 16, 32)   0           activation_10[0][0]              \n",
            "                                                                 conv2d_13[0][0]                  \n",
            "__________________________________________________________________________________________________\n",
            "activation_12 (Activation)      (None, 16, 16, 32)   0           add_5[0][0]                      \n",
            "__________________________________________________________________________________________________\n",
            "conv2d_14 (Conv2D)              (None, 8, 8, 64)     18496       activation_12[0][0]              \n",
            "__________________________________________________________________________________________________\n",
            "activation_13 (Activation)      (None, 8, 8, 64)     0           conv2d_14[0][0]                  \n",
            "__________________________________________________________________________________________________\n",
            "conv2d_16 (Conv2D)              (None, 8, 8, 64)     2112        activation_12[0][0]              \n",
            "__________________________________________________________________________________________________\n",
            "conv2d_15 (Conv2D)              (None, 8, 8, 64)     36928       activation_13[0][0]              \n",
            "__________________________________________________________________________________________________\n",
            "add_6 (Add)                     (None, 8, 8, 64)     0           conv2d_16[0][0]                  \n",
            "                                                                 conv2d_15[0][0]                  \n",
            "__________________________________________________________________________________________________\n",
            "activation_14 (Activation)      (None, 8, 8, 64)     0           add_6[0][0]                      \n",
            "__________________________________________________________________________________________________\n",
            "conv2d_17 (Conv2D)              (None, 8, 8, 64)     36928       activation_14[0][0]              \n",
            "__________________________________________________________________________________________________\n",
            "activation_15 (Activation)      (None, 8, 8, 64)     0           conv2d_17[0][0]                  \n",
            "__________________________________________________________________________________________________\n",
            "conv2d_18 (Conv2D)              (None, 8, 8, 64)     36928       activation_15[0][0]              \n",
            "__________________________________________________________________________________________________\n",
            "add_7 (Add)                     (None, 8, 8, 64)     0           activation_14[0][0]              \n",
            "                                                                 conv2d_18[0][0]                  \n",
            "__________________________________________________________________________________________________\n",
            "activation_16 (Activation)      (None, 8, 8, 64)     0           add_7[0][0]                      \n",
            "__________________________________________________________________________________________________\n",
            "conv2d_19 (Conv2D)              (None, 8, 8, 64)     36928       activation_16[0][0]              \n",
            "__________________________________________________________________________________________________\n",
            "activation_17 (Activation)      (None, 8, 8, 64)     0           conv2d_19[0][0]                  \n",
            "__________________________________________________________________________________________________\n",
            "conv2d_20 (Conv2D)              (None, 8, 8, 64)     36928       activation_17[0][0]              \n",
            "__________________________________________________________________________________________________\n",
            "add_8 (Add)                     (None, 8, 8, 64)     0           activation_16[0][0]              \n",
            "                                                                 conv2d_20[0][0]                  \n",
            "__________________________________________________________________________________________________\n",
            "activation_18 (Activation)      (None, 8, 8, 64)     0           add_8[0][0]                      \n",
            "__________________________________________________________________________________________________\n",
            "average_pooling2d (AveragePooli (None, 1, 1, 64)     0           activation_18[0][0]              \n",
            "__________________________________________________________________________________________________\n",
            "flatten (Flatten)               (None, 64)           0           average_pooling2d[0][0]          \n",
            "__________________________________________________________________________________________________\n",
            "dense (Dense)                   (None, 10)           650         flatten[0][0]                    \n",
            "==================================================================================================\n",
            "Total params: 271,754\n",
            "Trainable params: 271,722\n",
            "Non-trainable params: 32\n",
            "__________________________________________________________________________________________________\n",
            "Total learnable parameters: 0.271754 M\n"
          ],
          "name": "stdout"
        }
      ]
    },
    {
      "cell_type": "markdown",
      "metadata": {
        "id": "uNy-hWunM_k0"
      },
      "source": [
        "# 📲 Callbacks"
      ]
    },
    {
      "cell_type": "code",
      "metadata": {
        "id": "DUnXLPW5NBUs"
      },
      "source": [
        "earlystopper = tf.keras.callbacks.EarlyStopping(\r\n",
        "    monitor='val_loss', patience=10, verbose=0, mode='auto',\r\n",
        "    restore_best_weights=True\r\n",
        ")\r\n",
        "\r\n",
        "reducelronplateau = tf.keras.callbacks.ReduceLROnPlateau(\r\n",
        "    monitor=\"val_loss\", factor=0.5,\r\n",
        "    patience=3, verbose=1\r\n",
        ")"
      ],
      "execution_count": null,
      "outputs": []
    },
    {
      "cell_type": "markdown",
      "metadata": {
        "id": "nfKxHzU1M9Bx"
      },
      "source": [
        "# 🚋 Train with W&B"
      ]
    },
    {
      "cell_type": "code",
      "metadata": {
        "colab": {
          "base_uri": "https://localhost:8080/",
          "height": 1000,
          "referenced_widgets": [
            "9932ccc7cd8840f79edbc24842c6fafb",
            "feaf7852e22c47fa8a9d4cf7f2ac6861",
            "f89b35afca3e4cd08f2ffdaa7e7395dd",
            "57fe0c134a5a4f65a4439f623edf9d27",
            "04e142686b9344f78f1d4e496c202abf",
            "8ece82dd8e22444aa8f392ba813d322d",
            "b9952968b1b44effa9a6bf52dd2fc102",
            "98b75de665a3497484534a41dc04aeb9"
          ]
        },
        "id": "VyhPXxd9MvLL",
        "outputId": "06515835-24c9-4412-a1bf-cb2205ed80f5"
      },
      "source": [
        "tf.keras.backend.clear_session()\r\n",
        "# Intialize model\r\n",
        "model = GetModel(use_bn=False)\r\n",
        "model.compile('adam', 'sparse_categorical_crossentropy', metrics=['acc'])\r\n",
        "\r\n",
        "# Intialize W&B run\r\n",
        "run = wandb.init(entity='ayush-thakur', project='nfnet', job_type='train-baseline')\r\n",
        "\r\n",
        "# Train model\r\n",
        "model.fit(train_ds,\r\n",
        "          epochs=EPOCHS,\r\n",
        "          validation_data=val_ds,\r\n",
        "          callbacks=[WandbCallback(),\r\n",
        "                     reducelronplateau,\r\n",
        "                     earlystopper])  \r\n",
        "\r\n",
        "# Evaluate model on test set\r\n",
        "loss, acc = model.evaluate(test_ds)\r\n",
        "wandb.log({'Test Accuracy': round(acc, 3)})\r\n",
        "\r\n",
        "# Close W&B run\r\n",
        "run.finish()"
      ],
      "execution_count": null,
      "outputs": [
        {
          "output_type": "stream",
          "text": [
            "\u001b[34m\u001b[1mwandb\u001b[0m: Currently logged in as: \u001b[33mayush-thakur\u001b[0m (use `wandb login --relogin` to force relogin)\n"
          ],
          "name": "stderr"
        },
        {
          "output_type": "display_data",
          "data": {
            "text/html": [
              "\n",
              "                Tracking run with wandb version 0.10.21<br/>\n",
              "                Syncing run <strong style=\"color:#cdcd00\">trim-pyramid-100</strong> to <a href=\"https://wandb.ai\" target=\"_blank\">Weights & Biases</a> <a href=\"https://docs.wandb.com/integrations/jupyter.html\" target=\"_blank\">(Documentation)</a>.<br/>\n",
              "                Project page: <a href=\"https://wandb.ai/ayush-thakur/nfnet\" target=\"_blank\">https://wandb.ai/ayush-thakur/nfnet</a><br/>\n",
              "                Run page: <a href=\"https://wandb.ai/ayush-thakur/nfnet/runs/1mxsrpun\" target=\"_blank\">https://wandb.ai/ayush-thakur/nfnet/runs/1mxsrpun</a><br/>\n",
              "                Run data is saved locally in <code>/content/wandb/run-20210308_214925-1mxsrpun</code><br/><br/>\n",
              "            "
            ],
            "text/plain": [
              "<IPython.core.display.HTML object>"
            ]
          },
          "metadata": {
            "tags": []
          }
        },
        {
          "output_type": "stream",
          "text": [
            "Epoch 1/100\n",
            " 6/42 [===>..........................] - ETA: 8s - loss: 22.2664 - acc: 0.1031WARNING:tensorflow:Callback method `on_train_batch_end` is slow compared to the batch time (batch time: 0.0924s vs `on_train_batch_end` time: 0.1344s). Check your callbacks.\n"
          ],
          "name": "stdout"
        },
        {
          "output_type": "stream",
          "text": [
            "WARNING:tensorflow:Callback method `on_train_batch_end` is slow compared to the batch time (batch time: 0.0924s vs `on_train_batch_end` time: 0.1344s). Check your callbacks.\n"
          ],
          "name": "stderr"
        },
        {
          "output_type": "stream",
          "text": [
            "42/42 [==============================] - 52s 412ms/step - loss: 8.6927 - acc: 0.1071 - val_loss: 2.4588 - val_acc: 0.1147\n",
            "Epoch 2/100\n",
            "42/42 [==============================] - 11s 267ms/step - loss: 2.4150 - acc: 0.1411 - val_loss: 2.4689 - val_acc: 0.1449\n",
            "Epoch 3/100\n",
            "42/42 [==============================] - 11s 267ms/step - loss: 2.2070 - acc: 0.2302 - val_loss: 2.2264 - val_acc: 0.2491\n",
            "Epoch 4/100\n",
            "42/42 [==============================] - 11s 268ms/step - loss: 2.0280 - acc: 0.2943 - val_loss: 2.0983 - val_acc: 0.2839\n",
            "Epoch 5/100\n",
            "42/42 [==============================] - 11s 263ms/step - loss: 1.9055 - acc: 0.3542 - val_loss: 1.9573 - val_acc: 0.3389\n",
            "Epoch 6/100\n",
            "42/42 [==============================] - 11s 267ms/step - loss: 1.8516 - acc: 0.3694 - val_loss: 1.8218 - val_acc: 0.3973\n",
            "Epoch 7/100\n",
            "42/42 [==============================] - 11s 260ms/step - loss: 1.7732 - acc: 0.4080 - val_loss: 1.7956 - val_acc: 0.3923\n",
            "Epoch 8/100\n",
            "42/42 [==============================] - 11s 264ms/step - loss: 1.7294 - acc: 0.4237 - val_loss: 1.6984 - val_acc: 0.4448\n",
            "Epoch 9/100\n",
            "42/42 [==============================] - 11s 267ms/step - loss: 1.6906 - acc: 0.4390 - val_loss: 1.6101 - val_acc: 0.4747\n",
            "Epoch 10/100\n",
            "42/42 [==============================] - 11s 266ms/step - loss: 1.6237 - acc: 0.4646 - val_loss: 1.5582 - val_acc: 0.4925\n",
            "Epoch 11/100\n",
            "42/42 [==============================] - 11s 266ms/step - loss: 1.6153 - acc: 0.4652 - val_loss: 1.5541 - val_acc: 0.4895\n",
            "Epoch 12/100\n",
            "42/42 [==============================] - 11s 266ms/step - loss: 1.5802 - acc: 0.4820 - val_loss: 1.5792 - val_acc: 0.4791\n",
            "Epoch 13/100\n",
            "42/42 [==============================] - 11s 262ms/step - loss: 1.5916 - acc: 0.4814 - val_loss: 1.5078 - val_acc: 0.5059\n",
            "Epoch 14/100\n",
            "42/42 [==============================] - 11s 265ms/step - loss: 1.5345 - acc: 0.5002 - val_loss: 1.4455 - val_acc: 0.5353\n",
            "Epoch 15/100\n",
            "42/42 [==============================] - 11s 262ms/step - loss: 1.5009 - acc: 0.5086 - val_loss: 1.4573 - val_acc: 0.5340\n",
            "Epoch 16/100\n",
            "42/42 [==============================] - 11s 264ms/step - loss: 1.4981 - acc: 0.5105 - val_loss: 1.4273 - val_acc: 0.5463\n",
            "Epoch 17/100\n",
            "42/42 [==============================] - 11s 265ms/step - loss: 1.4682 - acc: 0.5260 - val_loss: 1.4467 - val_acc: 0.5323\n",
            "Epoch 18/100\n",
            "42/42 [==============================] - 11s 261ms/step - loss: 1.4502 - acc: 0.5293 - val_loss: 1.3756 - val_acc: 0.5611\n",
            "Epoch 19/100\n",
            "42/42 [==============================] - 11s 262ms/step - loss: 1.4242 - acc: 0.5421 - val_loss: 1.3480 - val_acc: 0.5676\n",
            "Epoch 20/100\n",
            "42/42 [==============================] - 11s 262ms/step - loss: 1.3885 - acc: 0.5548 - val_loss: 1.4224 - val_acc: 0.5496\n",
            "Epoch 21/100\n",
            "42/42 [==============================] - 11s 261ms/step - loss: 1.3823 - acc: 0.5571 - val_loss: 1.3934 - val_acc: 0.5585\n",
            "Epoch 22/100\n",
            "42/42 [==============================] - 11s 261ms/step - loss: 1.3635 - acc: 0.5662 - val_loss: 1.3141 - val_acc: 0.5808\n",
            "Epoch 23/100\n",
            "42/42 [==============================] - 11s 267ms/step - loss: 1.3544 - acc: 0.5658 - val_loss: 1.3485 - val_acc: 0.5725\n",
            "Epoch 24/100\n",
            "42/42 [==============================] - 11s 262ms/step - loss: 1.3321 - acc: 0.5786 - val_loss: 1.3145 - val_acc: 0.5785\n",
            "Epoch 25/100\n",
            "42/42 [==============================] - 11s 263ms/step - loss: 1.3009 - acc: 0.5911 - val_loss: 1.3065 - val_acc: 0.5815\n",
            "Epoch 26/100\n",
            "42/42 [==============================] - 11s 263ms/step - loss: 1.3005 - acc: 0.5901 - val_loss: 1.2536 - val_acc: 0.6071\n",
            "Epoch 27/100\n",
            "42/42 [==============================] - 11s 263ms/step - loss: 1.2816 - acc: 0.5977 - val_loss: 1.2476 - val_acc: 0.6105\n",
            "Epoch 28/100\n",
            "42/42 [==============================] - 11s 264ms/step - loss: 1.2764 - acc: 0.5982 - val_loss: 1.2854 - val_acc: 0.6007\n",
            "Epoch 29/100\n",
            "42/42 [==============================] - 11s 263ms/step - loss: 1.2577 - acc: 0.6083 - val_loss: 1.2101 - val_acc: 0.6232\n",
            "Epoch 30/100\n",
            "42/42 [==============================] - 11s 262ms/step - loss: 1.2476 - acc: 0.6100 - val_loss: 1.2113 - val_acc: 0.6208\n",
            "Epoch 31/100\n",
            "42/42 [==============================] - 11s 262ms/step - loss: 1.2294 - acc: 0.6181 - val_loss: 1.1563 - val_acc: 0.6455\n",
            "Epoch 32/100\n",
            "42/42 [==============================] - 11s 261ms/step - loss: 1.1912 - acc: 0.6332 - val_loss: 1.2039 - val_acc: 0.6279\n",
            "Epoch 33/100\n",
            "42/42 [==============================] - 11s 262ms/step - loss: 1.1811 - acc: 0.6334 - val_loss: 1.1618 - val_acc: 0.6449\n",
            "Epoch 34/100\n",
            "42/42 [==============================] - 11s 261ms/step - loss: 1.1624 - acc: 0.6390 - val_loss: 1.1702 - val_acc: 0.6491\n",
            "\n",
            "Epoch 00034: ReduceLROnPlateau reducing learning rate to 0.0005000000237487257.\n",
            "Epoch 35/100\n",
            "42/42 [==============================] - 11s 262ms/step - loss: 1.1431 - acc: 0.6482 - val_loss: 1.0810 - val_acc: 0.6716\n",
            "Epoch 36/100\n",
            "42/42 [==============================] - 11s 263ms/step - loss: 1.1223 - acc: 0.6586 - val_loss: 1.1093 - val_acc: 0.6609\n",
            "Epoch 37/100\n",
            "42/42 [==============================] - 11s 264ms/step - loss: 1.1048 - acc: 0.6618 - val_loss: 1.0779 - val_acc: 0.6731\n",
            "Epoch 38/100\n",
            "42/42 [==============================] - 11s 262ms/step - loss: 1.0988 - acc: 0.6637 - val_loss: 1.0727 - val_acc: 0.6735\n",
            "Epoch 39/100\n",
            "42/42 [==============================] - 11s 263ms/step - loss: 1.0980 - acc: 0.6633 - val_loss: 1.0592 - val_acc: 0.6753\n",
            "Epoch 40/100\n",
            "42/42 [==============================] - 11s 263ms/step - loss: 1.0895 - acc: 0.6676 - val_loss: 1.0537 - val_acc: 0.6812\n",
            "Epoch 41/100\n",
            "42/42 [==============================] - 11s 263ms/step - loss: 1.0800 - acc: 0.6685 - val_loss: 1.1090 - val_acc: 0.6612\n",
            "Epoch 42/100\n",
            "42/42 [==============================] - 11s 262ms/step - loss: 1.0820 - acc: 0.6707 - val_loss: 1.0517 - val_acc: 0.6833\n",
            "Epoch 43/100\n",
            "42/42 [==============================] - 11s 264ms/step - loss: 1.0743 - acc: 0.6728 - val_loss: 1.0481 - val_acc: 0.6816\n",
            "Epoch 44/100\n",
            "42/42 [==============================] - 11s 262ms/step - loss: 1.0563 - acc: 0.6805 - val_loss: 1.0540 - val_acc: 0.6821\n",
            "Epoch 45/100\n",
            "42/42 [==============================] - 11s 262ms/step - loss: 1.0515 - acc: 0.6829 - val_loss: 1.0487 - val_acc: 0.6812\n",
            "Epoch 46/100\n",
            "42/42 [==============================] - 11s 261ms/step - loss: 1.0460 - acc: 0.6847 - val_loss: 1.0234 - val_acc: 0.6945\n",
            "Epoch 47/100\n",
            "42/42 [==============================] - 11s 262ms/step - loss: 1.0417 - acc: 0.6856 - val_loss: 1.0509 - val_acc: 0.6852\n",
            "Epoch 48/100\n",
            "42/42 [==============================] - 11s 260ms/step - loss: 1.0412 - acc: 0.6846 - val_loss: 1.0794 - val_acc: 0.6723\n",
            "Epoch 49/100\n",
            "42/42 [==============================] - 11s 262ms/step - loss: 1.0447 - acc: 0.6833 - val_loss: 1.0419 - val_acc: 0.6872\n",
            "\n",
            "Epoch 00049: ReduceLROnPlateau reducing learning rate to 0.0002500000118743628.\n",
            "Epoch 50/100\n",
            "42/42 [==============================] - 11s 261ms/step - loss: 1.0089 - acc: 0.6981 - val_loss: 1.0125 - val_acc: 0.6956\n",
            "Epoch 51/100\n",
            "42/42 [==============================] - 11s 263ms/step - loss: 0.9955 - acc: 0.7012 - val_loss: 1.0404 - val_acc: 0.6941\n",
            "Epoch 52/100\n",
            "42/42 [==============================] - 11s 263ms/step - loss: 0.9966 - acc: 0.7037 - val_loss: 1.0189 - val_acc: 0.6999\n",
            "Epoch 53/100\n",
            "42/42 [==============================] - 11s 263ms/step - loss: 0.9949 - acc: 0.7026 - val_loss: 1.0075 - val_acc: 0.7027\n",
            "Epoch 54/100\n",
            "42/42 [==============================] - 11s 263ms/step - loss: 0.9971 - acc: 0.6995 - val_loss: 1.0179 - val_acc: 0.6961\n",
            "Epoch 55/100\n",
            "42/42 [==============================] - 11s 262ms/step - loss: 0.9804 - acc: 0.7027 - val_loss: 0.9985 - val_acc: 0.7032\n",
            "Epoch 56/100\n",
            "42/42 [==============================] - 11s 263ms/step - loss: 0.9793 - acc: 0.7066 - val_loss: 0.9838 - val_acc: 0.7027\n",
            "Epoch 57/100\n",
            "42/42 [==============================] - 11s 263ms/step - loss: 0.9760 - acc: 0.7063 - val_loss: 0.9773 - val_acc: 0.7084\n",
            "Epoch 58/100\n",
            "42/42 [==============================] - 11s 262ms/step - loss: 0.9812 - acc: 0.7053 - val_loss: 1.0125 - val_acc: 0.7017\n",
            "Epoch 59/100\n",
            "42/42 [==============================] - 11s 262ms/step - loss: 0.9746 - acc: 0.7088 - val_loss: 0.9610 - val_acc: 0.7160\n",
            "Epoch 60/100\n",
            "42/42 [==============================] - 11s 262ms/step - loss: 0.9650 - acc: 0.7115 - val_loss: 0.9976 - val_acc: 0.7067\n",
            "Epoch 61/100\n",
            "42/42 [==============================] - 11s 263ms/step - loss: 0.9548 - acc: 0.7140 - val_loss: 0.9755 - val_acc: 0.7112\n",
            "Epoch 62/100\n",
            "42/42 [==============================] - 11s 263ms/step - loss: 0.9605 - acc: 0.7128 - val_loss: 0.9663 - val_acc: 0.7147\n",
            "\n",
            "Epoch 00062: ReduceLROnPlateau reducing learning rate to 0.0001250000059371814.\n",
            "Epoch 63/100\n",
            "42/42 [==============================] - 11s 262ms/step - loss: 0.9480 - acc: 0.7169 - val_loss: 0.9724 - val_acc: 0.7144\n",
            "Epoch 64/100\n",
            "42/42 [==============================] - 11s 263ms/step - loss: 0.9537 - acc: 0.7156 - val_loss: 0.9566 - val_acc: 0.7175\n",
            "Epoch 65/100\n",
            "42/42 [==============================] - 11s 264ms/step - loss: 0.9435 - acc: 0.7220 - val_loss: 0.9543 - val_acc: 0.7179\n",
            "Epoch 66/100\n",
            "42/42 [==============================] - 11s 263ms/step - loss: 0.9379 - acc: 0.7237 - val_loss: 0.9482 - val_acc: 0.7207\n",
            "Epoch 67/100\n",
            "42/42 [==============================] - 11s 262ms/step - loss: 0.9364 - acc: 0.7232 - val_loss: 0.9668 - val_acc: 0.7113\n",
            "Epoch 68/100\n",
            "42/42 [==============================] - 11s 262ms/step - loss: 0.9377 - acc: 0.7241 - val_loss: 0.9626 - val_acc: 0.7135\n",
            "Epoch 69/100\n",
            "42/42 [==============================] - 11s 263ms/step - loss: 0.9352 - acc: 0.7216 - val_loss: 0.9556 - val_acc: 0.7164\n",
            "\n",
            "Epoch 00069: ReduceLROnPlateau reducing learning rate to 6.25000029685907e-05.\n",
            "Epoch 70/100\n",
            "42/42 [==============================] - 11s 261ms/step - loss: 0.9289 - acc: 0.7248 - val_loss: 0.9637 - val_acc: 0.7181\n",
            "Epoch 71/100\n",
            "42/42 [==============================] - 11s 262ms/step - loss: 0.9301 - acc: 0.7245 - val_loss: 0.9611 - val_acc: 0.7180\n",
            "Epoch 72/100\n",
            "42/42 [==============================] - 11s 262ms/step - loss: 0.9211 - acc: 0.7280 - val_loss: 0.9601 - val_acc: 0.7192\n",
            "\n",
            "Epoch 00072: ReduceLROnPlateau reducing learning rate to 3.125000148429535e-05.\n",
            "Epoch 73/100\n",
            "42/42 [==============================] - 11s 263ms/step - loss: 0.9253 - acc: 0.7258 - val_loss: 0.9506 - val_acc: 0.7199\n",
            "Epoch 74/100\n",
            "42/42 [==============================] - 11s 263ms/step - loss: 0.9226 - acc: 0.7286 - val_loss: 0.9459 - val_acc: 0.7220\n",
            "Epoch 75/100\n",
            "42/42 [==============================] - 11s 262ms/step - loss: 0.9162 - acc: 0.7291 - val_loss: 0.9508 - val_acc: 0.7199\n",
            "Epoch 76/100\n",
            "42/42 [==============================] - 11s 263ms/step - loss: 0.9112 - acc: 0.7330 - val_loss: 0.9496 - val_acc: 0.7208\n",
            "Epoch 77/100\n",
            "42/42 [==============================] - 11s 262ms/step - loss: 0.9143 - acc: 0.7276 - val_loss: 0.9545 - val_acc: 0.7203\n",
            "\n",
            "Epoch 00077: ReduceLROnPlateau reducing learning rate to 1.5625000742147677e-05.\n",
            "Epoch 78/100\n",
            "42/42 [==============================] - 11s 263ms/step - loss: 0.9182 - acc: 0.7263 - val_loss: 0.9432 - val_acc: 0.7225\n",
            "Epoch 79/100\n",
            "42/42 [==============================] - 11s 262ms/step - loss: 0.9164 - acc: 0.7325 - val_loss: 0.9452 - val_acc: 0.7201\n",
            "Epoch 80/100\n",
            "42/42 [==============================] - 11s 263ms/step - loss: 0.9156 - acc: 0.7289 - val_loss: 0.9441 - val_acc: 0.7204\n",
            "Epoch 81/100\n",
            "42/42 [==============================] - 11s 264ms/step - loss: 0.9060 - acc: 0.7328 - val_loss: 0.9433 - val_acc: 0.7212\n",
            "\n",
            "Epoch 00081: ReduceLROnPlateau reducing learning rate to 7.812500371073838e-06.\n",
            "Epoch 82/100\n",
            "42/42 [==============================] - 11s 263ms/step - loss: 0.9126 - acc: 0.7297 - val_loss: 0.9447 - val_acc: 0.7211\n",
            "Epoch 83/100\n",
            "42/42 [==============================] - 11s 263ms/step - loss: 0.9101 - acc: 0.7282 - val_loss: 0.9444 - val_acc: 0.7220\n",
            "Epoch 84/100\n",
            "42/42 [==============================] - 11s 262ms/step - loss: 0.9099 - acc: 0.7333 - val_loss: 0.9423 - val_acc: 0.7193\n",
            "Epoch 85/100\n",
            "42/42 [==============================] - 11s 263ms/step - loss: 0.9074 - acc: 0.7324 - val_loss: 0.9434 - val_acc: 0.7201\n",
            "Epoch 86/100\n",
            "42/42 [==============================] - 11s 263ms/step - loss: 0.9033 - acc: 0.7325 - val_loss: 0.9427 - val_acc: 0.7223\n",
            "Epoch 87/100\n",
            "42/42 [==============================] - 11s 264ms/step - loss: 0.9130 - acc: 0.7312 - val_loss: 0.9428 - val_acc: 0.7200\n",
            "\n",
            "Epoch 00087: ReduceLROnPlateau reducing learning rate to 3.906250185536919e-06.\n",
            "Epoch 88/100\n",
            "42/42 [==============================] - 11s 261ms/step - loss: 0.9155 - acc: 0.7332 - val_loss: 0.9411 - val_acc: 0.7204\n",
            "Epoch 89/100\n",
            "42/42 [==============================] - 11s 263ms/step - loss: 0.9089 - acc: 0.7341 - val_loss: 0.9423 - val_acc: 0.7213\n",
            "Epoch 90/100\n",
            "42/42 [==============================] - 11s 262ms/step - loss: 0.9070 - acc: 0.7288 - val_loss: 0.9421 - val_acc: 0.7213\n",
            "Epoch 91/100\n",
            "42/42 [==============================] - 11s 262ms/step - loss: 0.9055 - acc: 0.7330 - val_loss: 0.9421 - val_acc: 0.7208\n",
            "\n",
            "Epoch 00091: ReduceLROnPlateau reducing learning rate to 1.9531250927684596e-06.\n",
            "Epoch 92/100\n",
            "42/42 [==============================] - 11s 262ms/step - loss: 0.9099 - acc: 0.7335 - val_loss: 0.9427 - val_acc: 0.7207\n",
            "Epoch 93/100\n",
            "42/42 [==============================] - 11s 262ms/step - loss: 0.9021 - acc: 0.7336 - val_loss: 0.9421 - val_acc: 0.7207\n",
            "Epoch 94/100\n",
            "42/42 [==============================] - 11s 261ms/step - loss: 0.9130 - acc: 0.7284 - val_loss: 0.9424 - val_acc: 0.7203\n",
            "\n",
            "Epoch 00094: ReduceLROnPlateau reducing learning rate to 9.765625463842298e-07.\n",
            "Epoch 95/100\n",
            "42/42 [==============================] - 11s 261ms/step - loss: 0.9055 - acc: 0.7318 - val_loss: 0.9433 - val_acc: 0.7199\n",
            "Epoch 96/100\n",
            "42/42 [==============================] - 11s 263ms/step - loss: 0.9093 - acc: 0.7318 - val_loss: 0.9434 - val_acc: 0.7205\n",
            "Epoch 97/100\n",
            "42/42 [==============================] - 11s 264ms/step - loss: 0.9102 - acc: 0.7338 - val_loss: 0.9425 - val_acc: 0.7205\n",
            "\n",
            "Epoch 00097: ReduceLROnPlateau reducing learning rate to 4.882812731921149e-07.\n",
            "Epoch 98/100\n",
            "42/42 [==============================] - 11s 263ms/step - loss: 0.9090 - acc: 0.7302 - val_loss: 0.9432 - val_acc: 0.7205\n",
            "10/10 [==============================] - 2s 196ms/step - loss: 0.9568 - acc: 0.7224\n"
          ],
          "name": "stdout"
        },
        {
          "output_type": "display_data",
          "data": {
            "text/html": [
              "<br/>Waiting for W&B process to finish, PID 252<br/>Program ended successfully."
            ],
            "text/plain": [
              "<IPython.core.display.HTML object>"
            ]
          },
          "metadata": {
            "tags": []
          }
        },
        {
          "output_type": "display_data",
          "data": {
            "application/vnd.jupyter.widget-view+json": {
              "model_id": "9932ccc7cd8840f79edbc24842c6fafb",
              "version_minor": 0,
              "version_major": 2
            },
            "text/plain": [
              "VBox(children=(Label(value=' 3.86MB of 3.86MB uploaded (0.00MB deduped)\\r'), FloatProgress(value=1.0, max=1.0)…"
            ]
          },
          "metadata": {
            "tags": []
          }
        },
        {
          "output_type": "display_data",
          "data": {
            "text/html": [
              "Find user logs for this run at: <code>/content/wandb/run-20210308_214925-1mxsrpun/logs/debug.log</code>"
            ],
            "text/plain": [
              "<IPython.core.display.HTML object>"
            ]
          },
          "metadata": {
            "tags": []
          }
        },
        {
          "output_type": "display_data",
          "data": {
            "text/html": [
              "Find internal logs for this run at: <code>/content/wandb/run-20210308_214925-1mxsrpun/logs/debug-internal.log</code>"
            ],
            "text/plain": [
              "<IPython.core.display.HTML object>"
            ]
          },
          "metadata": {
            "tags": []
          }
        },
        {
          "output_type": "display_data",
          "data": {
            "text/html": [
              "<h3>Run summary:</h3><br/><style>\n",
              "    table.wandb td:nth-child(1) { padding: 0 10px; text-align: right }\n",
              "    </style><table class=\"wandb\">\n",
              "<tr><td>epoch</td><td>97</td></tr><tr><td>loss</td><td>0.90004</td></tr><tr><td>acc</td><td>0.73405</td></tr><tr><td>val_loss</td><td>0.94316</td></tr><tr><td>val_acc</td><td>0.72053</td></tr><tr><td>_runtime</td><td>1157</td></tr><tr><td>_timestamp</td><td>1615241322</td></tr><tr><td>_step</td><td>98</td></tr><tr><td>best_val_loss</td><td>0.94113</td></tr><tr><td>best_epoch</td><td>87</td></tr><tr><td>Test Accuracy</td><td>0.722</td></tr></table>"
            ],
            "text/plain": [
              "<IPython.core.display.HTML object>"
            ]
          },
          "metadata": {
            "tags": []
          }
        },
        {
          "output_type": "display_data",
          "data": {
            "text/html": [
              "<h3>Run history:</h3><br/><style>\n",
              "    table.wandb td:nth-child(1) { padding: 0 10px; text-align: right }\n",
              "    </style><table class=\"wandb\">\n",
              "<tr><td>epoch</td><td>▁▁▁▂▂▂▂▂▂▃▃▃▃▃▃▄▄▄▄▄▅▅▅▅▅▅▆▆▆▆▆▇▇▇▇▇▇███</td></tr><tr><td>loss</td><td>█▄▃▃▂▂▂▂▂▂▂▂▂▂▁▁▁▁▁▁▁▁▁▁▁▁▁▁▁▁▁▁▁▁▁▁▁▁▁▁</td></tr><tr><td>acc</td><td>▁▃▄▅▅▅▅▆▆▆▆▆▇▇▇▇▇▇▇▇████████████████████</td></tr><tr><td>val_loss</td><td>█▇▆▄▄▄▃▃▃▃▃▃▂▂▂▂▂▁▁▂▁▁▁▁▁▁▁▁▁▁▁▁▁▁▁▁▁▁▁▁</td></tr><tr><td>val_acc</td><td>▁▃▄▅▅▆▆▆▆▆▆▇▇▇▇▇███▇████████████████████</td></tr><tr><td>_runtime</td><td>▁▁▁▂▂▂▂▂▂▃▃▃▃▃▄▄▄▄▄▄▅▅▅▅▅▅▆▆▆▆▆▇▇▇▇▇▇███</td></tr><tr><td>_timestamp</td><td>▁▁▁▂▂▂▂▂▂▃▃▃▃▃▄▄▄▄▄▄▅▅▅▅▅▅▆▆▆▆▆▇▇▇▇▇▇███</td></tr><tr><td>_step</td><td>▁▁▁▁▂▂▂▂▂▃▃▃▃▃▃▄▄▄▄▄▅▅▅▅▅▅▆▆▆▆▆▇▇▇▇▇▇███</td></tr><tr><td>Test Accuracy</td><td>▁</td></tr></table><br/>"
            ],
            "text/plain": [
              "<IPython.core.display.HTML object>"
            ]
          },
          "metadata": {
            "tags": []
          }
        },
        {
          "output_type": "display_data",
          "data": {
            "text/html": [
              "Synced 5 W&B file(s), 1 media file(s), 2 artifact file(s) and 2 other file(s)"
            ],
            "text/plain": [
              "<IPython.core.display.HTML object>"
            ]
          },
          "metadata": {
            "tags": []
          }
        },
        {
          "output_type": "display_data",
          "data": {
            "text/html": [
              "\n",
              "                    <br/>Synced <strong style=\"color:#cdcd00\">trim-pyramid-100</strong>: <a href=\"https://wandb.ai/ayush-thakur/nfnet/runs/1mxsrpun\" target=\"_blank\">https://wandb.ai/ayush-thakur/nfnet/runs/1mxsrpun</a><br/>\n",
              "                "
            ],
            "text/plain": [
              "<IPython.core.display.HTML object>"
            ]
          },
          "metadata": {
            "tags": []
          }
        }
      ]
    }
  ]
}