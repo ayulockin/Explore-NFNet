{
  "nbformat": 4,
  "nbformat_minor": 0,
  "metadata": {
    "colab": {
      "name": "Train Basline Cifar10",
      "provenance": [],
      "collapsed_sections": [],
      "authorship_tag": "ABX9TyOnoZXZWN4M1bl7VyYgk73H",
      "include_colab_link": true
    },
    "kernelspec": {
      "name": "python3",
      "display_name": "Python 3"
    },
    "accelerator": "GPU",
    "widgets": {
      "application/vnd.jupyter.widget-state+json": {
        "619dd9d1024b4fd09007c9721e74fb20": {
          "model_module": "@jupyter-widgets/controls",
          "model_name": "HBoxModel",
          "state": {
            "_view_name": "HBoxView",
            "_dom_classes": [],
            "_model_name": "HBoxModel",
            "_view_module": "@jupyter-widgets/controls",
            "_model_module_version": "1.5.0",
            "_view_count": null,
            "_view_module_version": "1.5.0",
            "box_style": "",
            "layout": "IPY_MODEL_e387f8bca518459d80f1fbfe58307668",
            "_model_module": "@jupyter-widgets/controls",
            "children": [
              "IPY_MODEL_61d2eb0bdae148f796c0d76c41618c7e",
              "IPY_MODEL_12904733f4b540e1b35b7e72b36570ee"
            ]
          }
        },
        "e387f8bca518459d80f1fbfe58307668": {
          "model_module": "@jupyter-widgets/base",
          "model_name": "LayoutModel",
          "state": {
            "_view_name": "LayoutView",
            "grid_template_rows": null,
            "right": null,
            "justify_content": null,
            "_view_module": "@jupyter-widgets/base",
            "overflow": null,
            "_model_module_version": "1.2.0",
            "_view_count": null,
            "flex_flow": null,
            "width": null,
            "min_width": null,
            "border": null,
            "align_items": null,
            "bottom": null,
            "_model_module": "@jupyter-widgets/base",
            "top": null,
            "grid_column": null,
            "overflow_y": null,
            "overflow_x": null,
            "grid_auto_flow": null,
            "grid_area": null,
            "grid_template_columns": null,
            "flex": null,
            "_model_name": "LayoutModel",
            "justify_items": null,
            "grid_row": null,
            "max_height": null,
            "align_content": null,
            "visibility": null,
            "align_self": null,
            "height": null,
            "min_height": null,
            "padding": null,
            "grid_auto_rows": null,
            "grid_gap": null,
            "max_width": null,
            "order": null,
            "_view_module_version": "1.2.0",
            "grid_template_areas": null,
            "object_position": null,
            "object_fit": null,
            "grid_auto_columns": null,
            "margin": null,
            "display": null,
            "left": null
          }
        },
        "61d2eb0bdae148f796c0d76c41618c7e": {
          "model_module": "@jupyter-widgets/controls",
          "model_name": "FloatProgressModel",
          "state": {
            "_view_name": "ProgressView",
            "style": "IPY_MODEL_8ee67367d5dc4c3fb1836c462c4dccf2",
            "_dom_classes": [],
            "description": "Dl Completed...: 100%",
            "_model_name": "FloatProgressModel",
            "bar_style": "success",
            "max": 1,
            "_view_module": "@jupyter-widgets/controls",
            "_model_module_version": "1.5.0",
            "value": 1,
            "_view_count": null,
            "_view_module_version": "1.5.0",
            "orientation": "horizontal",
            "min": 0,
            "description_tooltip": null,
            "_model_module": "@jupyter-widgets/controls",
            "layout": "IPY_MODEL_1cfe3deca20745aeaed35c963f797c7d"
          }
        },
        "12904733f4b540e1b35b7e72b36570ee": {
          "model_module": "@jupyter-widgets/controls",
          "model_name": "HTMLModel",
          "state": {
            "_view_name": "HTMLView",
            "style": "IPY_MODEL_4dfafaf3dd8b43e68f1895e7cddaacad",
            "_dom_classes": [],
            "description": "",
            "_model_name": "HTMLModel",
            "placeholder": "​",
            "_view_module": "@jupyter-widgets/controls",
            "_model_module_version": "1.5.0",
            "value": " 1/1 [00:04&lt;00:00,  4.51s/ url]",
            "_view_count": null,
            "_view_module_version": "1.5.0",
            "description_tooltip": null,
            "_model_module": "@jupyter-widgets/controls",
            "layout": "IPY_MODEL_d2e9415bef4f4bb3900e4a35989d0051"
          }
        },
        "8ee67367d5dc4c3fb1836c462c4dccf2": {
          "model_module": "@jupyter-widgets/controls",
          "model_name": "ProgressStyleModel",
          "state": {
            "_view_name": "StyleView",
            "_model_name": "ProgressStyleModel",
            "description_width": "initial",
            "_view_module": "@jupyter-widgets/base",
            "_model_module_version": "1.5.0",
            "_view_count": null,
            "_view_module_version": "1.2.0",
            "bar_color": null,
            "_model_module": "@jupyter-widgets/controls"
          }
        },
        "1cfe3deca20745aeaed35c963f797c7d": {
          "model_module": "@jupyter-widgets/base",
          "model_name": "LayoutModel",
          "state": {
            "_view_name": "LayoutView",
            "grid_template_rows": null,
            "right": null,
            "justify_content": null,
            "_view_module": "@jupyter-widgets/base",
            "overflow": null,
            "_model_module_version": "1.2.0",
            "_view_count": null,
            "flex_flow": null,
            "width": null,
            "min_width": null,
            "border": null,
            "align_items": null,
            "bottom": null,
            "_model_module": "@jupyter-widgets/base",
            "top": null,
            "grid_column": null,
            "overflow_y": null,
            "overflow_x": null,
            "grid_auto_flow": null,
            "grid_area": null,
            "grid_template_columns": null,
            "flex": null,
            "_model_name": "LayoutModel",
            "justify_items": null,
            "grid_row": null,
            "max_height": null,
            "align_content": null,
            "visibility": null,
            "align_self": null,
            "height": null,
            "min_height": null,
            "padding": null,
            "grid_auto_rows": null,
            "grid_gap": null,
            "max_width": null,
            "order": null,
            "_view_module_version": "1.2.0",
            "grid_template_areas": null,
            "object_position": null,
            "object_fit": null,
            "grid_auto_columns": null,
            "margin": null,
            "display": null,
            "left": null
          }
        },
        "4dfafaf3dd8b43e68f1895e7cddaacad": {
          "model_module": "@jupyter-widgets/controls",
          "model_name": "DescriptionStyleModel",
          "state": {
            "_view_name": "StyleView",
            "_model_name": "DescriptionStyleModel",
            "description_width": "",
            "_view_module": "@jupyter-widgets/base",
            "_model_module_version": "1.5.0",
            "_view_count": null,
            "_view_module_version": "1.2.0",
            "_model_module": "@jupyter-widgets/controls"
          }
        },
        "d2e9415bef4f4bb3900e4a35989d0051": {
          "model_module": "@jupyter-widgets/base",
          "model_name": "LayoutModel",
          "state": {
            "_view_name": "LayoutView",
            "grid_template_rows": null,
            "right": null,
            "justify_content": null,
            "_view_module": "@jupyter-widgets/base",
            "overflow": null,
            "_model_module_version": "1.2.0",
            "_view_count": null,
            "flex_flow": null,
            "width": null,
            "min_width": null,
            "border": null,
            "align_items": null,
            "bottom": null,
            "_model_module": "@jupyter-widgets/base",
            "top": null,
            "grid_column": null,
            "overflow_y": null,
            "overflow_x": null,
            "grid_auto_flow": null,
            "grid_area": null,
            "grid_template_columns": null,
            "flex": null,
            "_model_name": "LayoutModel",
            "justify_items": null,
            "grid_row": null,
            "max_height": null,
            "align_content": null,
            "visibility": null,
            "align_self": null,
            "height": null,
            "min_height": null,
            "padding": null,
            "grid_auto_rows": null,
            "grid_gap": null,
            "max_width": null,
            "order": null,
            "_view_module_version": "1.2.0",
            "grid_template_areas": null,
            "object_position": null,
            "object_fit": null,
            "grid_auto_columns": null,
            "margin": null,
            "display": null,
            "left": null
          }
        },
        "5892268b98534ecf966cc31a78cc6ffb": {
          "model_module": "@jupyter-widgets/controls",
          "model_name": "HBoxModel",
          "state": {
            "_view_name": "HBoxView",
            "_dom_classes": [],
            "_model_name": "HBoxModel",
            "_view_module": "@jupyter-widgets/controls",
            "_model_module_version": "1.5.0",
            "_view_count": null,
            "_view_module_version": "1.5.0",
            "box_style": "",
            "layout": "IPY_MODEL_0e2016435fd74b1bb4b6e4862d3ce7a0",
            "_model_module": "@jupyter-widgets/controls",
            "children": [
              "IPY_MODEL_2c8c85cea1614ae4aa5e6967f917d405",
              "IPY_MODEL_b2cdece8d702493c9ab24713354f7c44"
            ]
          }
        },
        "0e2016435fd74b1bb4b6e4862d3ce7a0": {
          "model_module": "@jupyter-widgets/base",
          "model_name": "LayoutModel",
          "state": {
            "_view_name": "LayoutView",
            "grid_template_rows": null,
            "right": null,
            "justify_content": null,
            "_view_module": "@jupyter-widgets/base",
            "overflow": null,
            "_model_module_version": "1.2.0",
            "_view_count": null,
            "flex_flow": null,
            "width": null,
            "min_width": null,
            "border": null,
            "align_items": null,
            "bottom": null,
            "_model_module": "@jupyter-widgets/base",
            "top": null,
            "grid_column": null,
            "overflow_y": null,
            "overflow_x": null,
            "grid_auto_flow": null,
            "grid_area": null,
            "grid_template_columns": null,
            "flex": null,
            "_model_name": "LayoutModel",
            "justify_items": null,
            "grid_row": null,
            "max_height": null,
            "align_content": null,
            "visibility": null,
            "align_self": null,
            "height": null,
            "min_height": null,
            "padding": null,
            "grid_auto_rows": null,
            "grid_gap": null,
            "max_width": null,
            "order": null,
            "_view_module_version": "1.2.0",
            "grid_template_areas": null,
            "object_position": null,
            "object_fit": null,
            "grid_auto_columns": null,
            "margin": null,
            "display": null,
            "left": null
          }
        },
        "2c8c85cea1614ae4aa5e6967f917d405": {
          "model_module": "@jupyter-widgets/controls",
          "model_name": "FloatProgressModel",
          "state": {
            "_view_name": "ProgressView",
            "style": "IPY_MODEL_620a5efa019c437bb8565b4e662f8422",
            "_dom_classes": [],
            "description": "Dl Size...: 100%",
            "_model_name": "FloatProgressModel",
            "bar_style": "success",
            "max": 1,
            "_view_module": "@jupyter-widgets/controls",
            "_model_module_version": "1.5.0",
            "value": 1,
            "_view_count": null,
            "_view_module_version": "1.5.0",
            "orientation": "horizontal",
            "min": 0,
            "description_tooltip": null,
            "_model_module": "@jupyter-widgets/controls",
            "layout": "IPY_MODEL_e1ed79a6d1fa4dafaf4c56f2cb92a5cb"
          }
        },
        "b2cdece8d702493c9ab24713354f7c44": {
          "model_module": "@jupyter-widgets/controls",
          "model_name": "HTMLModel",
          "state": {
            "_view_name": "HTMLView",
            "style": "IPY_MODEL_0d03fb96880b484c8e6d69e9aed20470",
            "_dom_classes": [],
            "description": "",
            "_model_name": "HTMLModel",
            "placeholder": "​",
            "_view_module": "@jupyter-widgets/controls",
            "_model_module_version": "1.5.0",
            "value": " 162/162 [00:04&lt;00:00, 36.17 MiB/s]",
            "_view_count": null,
            "_view_module_version": "1.5.0",
            "description_tooltip": null,
            "_model_module": "@jupyter-widgets/controls",
            "layout": "IPY_MODEL_f172632c214a4c15a8ad5e2334fbc471"
          }
        },
        "620a5efa019c437bb8565b4e662f8422": {
          "model_module": "@jupyter-widgets/controls",
          "model_name": "ProgressStyleModel",
          "state": {
            "_view_name": "StyleView",
            "_model_name": "ProgressStyleModel",
            "description_width": "initial",
            "_view_module": "@jupyter-widgets/base",
            "_model_module_version": "1.5.0",
            "_view_count": null,
            "_view_module_version": "1.2.0",
            "bar_color": null,
            "_model_module": "@jupyter-widgets/controls"
          }
        },
        "e1ed79a6d1fa4dafaf4c56f2cb92a5cb": {
          "model_module": "@jupyter-widgets/base",
          "model_name": "LayoutModel",
          "state": {
            "_view_name": "LayoutView",
            "grid_template_rows": null,
            "right": null,
            "justify_content": null,
            "_view_module": "@jupyter-widgets/base",
            "overflow": null,
            "_model_module_version": "1.2.0",
            "_view_count": null,
            "flex_flow": null,
            "width": null,
            "min_width": null,
            "border": null,
            "align_items": null,
            "bottom": null,
            "_model_module": "@jupyter-widgets/base",
            "top": null,
            "grid_column": null,
            "overflow_y": null,
            "overflow_x": null,
            "grid_auto_flow": null,
            "grid_area": null,
            "grid_template_columns": null,
            "flex": null,
            "_model_name": "LayoutModel",
            "justify_items": null,
            "grid_row": null,
            "max_height": null,
            "align_content": null,
            "visibility": null,
            "align_self": null,
            "height": null,
            "min_height": null,
            "padding": null,
            "grid_auto_rows": null,
            "grid_gap": null,
            "max_width": null,
            "order": null,
            "_view_module_version": "1.2.0",
            "grid_template_areas": null,
            "object_position": null,
            "object_fit": null,
            "grid_auto_columns": null,
            "margin": null,
            "display": null,
            "left": null
          }
        },
        "0d03fb96880b484c8e6d69e9aed20470": {
          "model_module": "@jupyter-widgets/controls",
          "model_name": "DescriptionStyleModel",
          "state": {
            "_view_name": "StyleView",
            "_model_name": "DescriptionStyleModel",
            "description_width": "",
            "_view_module": "@jupyter-widgets/base",
            "_model_module_version": "1.5.0",
            "_view_count": null,
            "_view_module_version": "1.2.0",
            "_model_module": "@jupyter-widgets/controls"
          }
        },
        "f172632c214a4c15a8ad5e2334fbc471": {
          "model_module": "@jupyter-widgets/base",
          "model_name": "LayoutModel",
          "state": {
            "_view_name": "LayoutView",
            "grid_template_rows": null,
            "right": null,
            "justify_content": null,
            "_view_module": "@jupyter-widgets/base",
            "overflow": null,
            "_model_module_version": "1.2.0",
            "_view_count": null,
            "flex_flow": null,
            "width": null,
            "min_width": null,
            "border": null,
            "align_items": null,
            "bottom": null,
            "_model_module": "@jupyter-widgets/base",
            "top": null,
            "grid_column": null,
            "overflow_y": null,
            "overflow_x": null,
            "grid_auto_flow": null,
            "grid_area": null,
            "grid_template_columns": null,
            "flex": null,
            "_model_name": "LayoutModel",
            "justify_items": null,
            "grid_row": null,
            "max_height": null,
            "align_content": null,
            "visibility": null,
            "align_self": null,
            "height": null,
            "min_height": null,
            "padding": null,
            "grid_auto_rows": null,
            "grid_gap": null,
            "max_width": null,
            "order": null,
            "_view_module_version": "1.2.0",
            "grid_template_areas": null,
            "object_position": null,
            "object_fit": null,
            "grid_auto_columns": null,
            "margin": null,
            "display": null,
            "left": null
          }
        },
        "cb3cf3ed0b23471ab9c2063a707019ac": {
          "model_module": "@jupyter-widgets/controls",
          "model_name": "HBoxModel",
          "state": {
            "_view_name": "HBoxView",
            "_dom_classes": [],
            "_model_name": "HBoxModel",
            "_view_module": "@jupyter-widgets/controls",
            "_model_module_version": "1.5.0",
            "_view_count": null,
            "_view_module_version": "1.5.0",
            "box_style": "",
            "layout": "IPY_MODEL_7c9da025148e4898bf0725168a4b2079",
            "_model_module": "@jupyter-widgets/controls",
            "children": [
              "IPY_MODEL_77216141755d4373bcec993bd92048f2",
              "IPY_MODEL_1ddbca871c2843a287a71c10ef747f09"
            ]
          }
        },
        "7c9da025148e4898bf0725168a4b2079": {
          "model_module": "@jupyter-widgets/base",
          "model_name": "LayoutModel",
          "state": {
            "_view_name": "LayoutView",
            "grid_template_rows": null,
            "right": null,
            "justify_content": null,
            "_view_module": "@jupyter-widgets/base",
            "overflow": null,
            "_model_module_version": "1.2.0",
            "_view_count": null,
            "flex_flow": null,
            "width": null,
            "min_width": null,
            "border": null,
            "align_items": null,
            "bottom": null,
            "_model_module": "@jupyter-widgets/base",
            "top": null,
            "grid_column": null,
            "overflow_y": null,
            "overflow_x": null,
            "grid_auto_flow": null,
            "grid_area": null,
            "grid_template_columns": null,
            "flex": null,
            "_model_name": "LayoutModel",
            "justify_items": null,
            "grid_row": null,
            "max_height": null,
            "align_content": null,
            "visibility": null,
            "align_self": null,
            "height": null,
            "min_height": null,
            "padding": null,
            "grid_auto_rows": null,
            "grid_gap": null,
            "max_width": null,
            "order": null,
            "_view_module_version": "1.2.0",
            "grid_template_areas": null,
            "object_position": null,
            "object_fit": null,
            "grid_auto_columns": null,
            "margin": null,
            "display": null,
            "left": null
          }
        },
        "77216141755d4373bcec993bd92048f2": {
          "model_module": "@jupyter-widgets/controls",
          "model_name": "FloatProgressModel",
          "state": {
            "_view_name": "ProgressView",
            "style": "IPY_MODEL_bae08f5d612148f9bd3e52db93514c14",
            "_dom_classes": [],
            "description": "Extraction completed...: 100%",
            "_model_name": "FloatProgressModel",
            "bar_style": "success",
            "max": 1,
            "_view_module": "@jupyter-widgets/controls",
            "_model_module_version": "1.5.0",
            "value": 1,
            "_view_count": null,
            "_view_module_version": "1.5.0",
            "orientation": "horizontal",
            "min": 0,
            "description_tooltip": null,
            "_model_module": "@jupyter-widgets/controls",
            "layout": "IPY_MODEL_de4dc52d155b47bab144d5db5e5b39fa"
          }
        },
        "1ddbca871c2843a287a71c10ef747f09": {
          "model_module": "@jupyter-widgets/controls",
          "model_name": "HTMLModel",
          "state": {
            "_view_name": "HTMLView",
            "style": "IPY_MODEL_e89f1d3e69084337a09a678f0ec09942",
            "_dom_classes": [],
            "description": "",
            "_model_name": "HTMLModel",
            "placeholder": "​",
            "_view_module": "@jupyter-widgets/controls",
            "_model_module_version": "1.5.0",
            "value": " 1/1 [00:04&lt;00:00,  4.44s/ file]",
            "_view_count": null,
            "_view_module_version": "1.5.0",
            "description_tooltip": null,
            "_model_module": "@jupyter-widgets/controls",
            "layout": "IPY_MODEL_4989d5b532934cb78275f048ac992c64"
          }
        },
        "bae08f5d612148f9bd3e52db93514c14": {
          "model_module": "@jupyter-widgets/controls",
          "model_name": "ProgressStyleModel",
          "state": {
            "_view_name": "StyleView",
            "_model_name": "ProgressStyleModel",
            "description_width": "initial",
            "_view_module": "@jupyter-widgets/base",
            "_model_module_version": "1.5.0",
            "_view_count": null,
            "_view_module_version": "1.2.0",
            "bar_color": null,
            "_model_module": "@jupyter-widgets/controls"
          }
        },
        "de4dc52d155b47bab144d5db5e5b39fa": {
          "model_module": "@jupyter-widgets/base",
          "model_name": "LayoutModel",
          "state": {
            "_view_name": "LayoutView",
            "grid_template_rows": null,
            "right": null,
            "justify_content": null,
            "_view_module": "@jupyter-widgets/base",
            "overflow": null,
            "_model_module_version": "1.2.0",
            "_view_count": null,
            "flex_flow": null,
            "width": null,
            "min_width": null,
            "border": null,
            "align_items": null,
            "bottom": null,
            "_model_module": "@jupyter-widgets/base",
            "top": null,
            "grid_column": null,
            "overflow_y": null,
            "overflow_x": null,
            "grid_auto_flow": null,
            "grid_area": null,
            "grid_template_columns": null,
            "flex": null,
            "_model_name": "LayoutModel",
            "justify_items": null,
            "grid_row": null,
            "max_height": null,
            "align_content": null,
            "visibility": null,
            "align_self": null,
            "height": null,
            "min_height": null,
            "padding": null,
            "grid_auto_rows": null,
            "grid_gap": null,
            "max_width": null,
            "order": null,
            "_view_module_version": "1.2.0",
            "grid_template_areas": null,
            "object_position": null,
            "object_fit": null,
            "grid_auto_columns": null,
            "margin": null,
            "display": null,
            "left": null
          }
        },
        "e89f1d3e69084337a09a678f0ec09942": {
          "model_module": "@jupyter-widgets/controls",
          "model_name": "DescriptionStyleModel",
          "state": {
            "_view_name": "StyleView",
            "_model_name": "DescriptionStyleModel",
            "description_width": "",
            "_view_module": "@jupyter-widgets/base",
            "_model_module_version": "1.5.0",
            "_view_count": null,
            "_view_module_version": "1.2.0",
            "_model_module": "@jupyter-widgets/controls"
          }
        },
        "4989d5b532934cb78275f048ac992c64": {
          "model_module": "@jupyter-widgets/base",
          "model_name": "LayoutModel",
          "state": {
            "_view_name": "LayoutView",
            "grid_template_rows": null,
            "right": null,
            "justify_content": null,
            "_view_module": "@jupyter-widgets/base",
            "overflow": null,
            "_model_module_version": "1.2.0",
            "_view_count": null,
            "flex_flow": null,
            "width": null,
            "min_width": null,
            "border": null,
            "align_items": null,
            "bottom": null,
            "_model_module": "@jupyter-widgets/base",
            "top": null,
            "grid_column": null,
            "overflow_y": null,
            "overflow_x": null,
            "grid_auto_flow": null,
            "grid_area": null,
            "grid_template_columns": null,
            "flex": null,
            "_model_name": "LayoutModel",
            "justify_items": null,
            "grid_row": null,
            "max_height": null,
            "align_content": null,
            "visibility": null,
            "align_self": null,
            "height": null,
            "min_height": null,
            "padding": null,
            "grid_auto_rows": null,
            "grid_gap": null,
            "max_width": null,
            "order": null,
            "_view_module_version": "1.2.0",
            "grid_template_areas": null,
            "object_position": null,
            "object_fit": null,
            "grid_auto_columns": null,
            "margin": null,
            "display": null,
            "left": null
          }
        },
        "25093b7ff40449329f87f09abe85cd8c": {
          "model_module": "@jupyter-widgets/controls",
          "model_name": "HBoxModel",
          "state": {
            "_view_name": "HBoxView",
            "_dom_classes": [],
            "_model_name": "HBoxModel",
            "_view_module": "@jupyter-widgets/controls",
            "_model_module_version": "1.5.0",
            "_view_count": null,
            "_view_module_version": "1.5.0",
            "box_style": "",
            "layout": "IPY_MODEL_1f58a6a7a5d7476882db9812df66fb04",
            "_model_module": "@jupyter-widgets/controls",
            "children": [
              "IPY_MODEL_19aa0196b0b440649d643264c40ee76d",
              "IPY_MODEL_2e88babc9fe84e6ea66ad151fced0194"
            ]
          }
        },
        "1f58a6a7a5d7476882db9812df66fb04": {
          "model_module": "@jupyter-widgets/base",
          "model_name": "LayoutModel",
          "state": {
            "_view_name": "LayoutView",
            "grid_template_rows": null,
            "right": null,
            "justify_content": null,
            "_view_module": "@jupyter-widgets/base",
            "overflow": null,
            "_model_module_version": "1.2.0",
            "_view_count": null,
            "flex_flow": null,
            "width": null,
            "min_width": null,
            "border": null,
            "align_items": null,
            "bottom": null,
            "_model_module": "@jupyter-widgets/base",
            "top": null,
            "grid_column": null,
            "overflow_y": null,
            "overflow_x": null,
            "grid_auto_flow": null,
            "grid_area": null,
            "grid_template_columns": null,
            "flex": null,
            "_model_name": "LayoutModel",
            "justify_items": null,
            "grid_row": null,
            "max_height": null,
            "align_content": null,
            "visibility": null,
            "align_self": null,
            "height": null,
            "min_height": null,
            "padding": null,
            "grid_auto_rows": null,
            "grid_gap": null,
            "max_width": null,
            "order": null,
            "_view_module_version": "1.2.0",
            "grid_template_areas": null,
            "object_position": null,
            "object_fit": null,
            "grid_auto_columns": null,
            "margin": null,
            "display": null,
            "left": null
          }
        },
        "19aa0196b0b440649d643264c40ee76d": {
          "model_module": "@jupyter-widgets/controls",
          "model_name": "FloatProgressModel",
          "state": {
            "_view_name": "ProgressView",
            "style": "IPY_MODEL_1fd25d2fdc5d4a9d95a3010f4ee191c9",
            "_dom_classes": [],
            "description": "",
            "_model_name": "FloatProgressModel",
            "bar_style": "info",
            "max": 1,
            "_view_module": "@jupyter-widgets/controls",
            "_model_module_version": "1.5.0",
            "value": 1,
            "_view_count": null,
            "_view_module_version": "1.5.0",
            "orientation": "horizontal",
            "min": 0,
            "description_tooltip": null,
            "_model_module": "@jupyter-widgets/controls",
            "layout": "IPY_MODEL_decc6b58da9740868e2bd64a596e2ba6"
          }
        },
        "2e88babc9fe84e6ea66ad151fced0194": {
          "model_module": "@jupyter-widgets/controls",
          "model_name": "HTMLModel",
          "state": {
            "_view_name": "HTMLView",
            "style": "IPY_MODEL_942ae23c4b6a4a4e9a5e371bf4d3cfc6",
            "_dom_classes": [],
            "description": "",
            "_model_name": "HTMLModel",
            "placeholder": "​",
            "_view_module": "@jupyter-widgets/controls",
            "_model_module_version": "1.5.0",
            "value": " 50000/0 [00:26&lt;00:00, 1852.66 examples/s]",
            "_view_count": null,
            "_view_module_version": "1.5.0",
            "description_tooltip": null,
            "_model_module": "@jupyter-widgets/controls",
            "layout": "IPY_MODEL_92304e2e8fe34099b0d8a92fc9d4777d"
          }
        },
        "1fd25d2fdc5d4a9d95a3010f4ee191c9": {
          "model_module": "@jupyter-widgets/controls",
          "model_name": "ProgressStyleModel",
          "state": {
            "_view_name": "StyleView",
            "_model_name": "ProgressStyleModel",
            "description_width": "initial",
            "_view_module": "@jupyter-widgets/base",
            "_model_module_version": "1.5.0",
            "_view_count": null,
            "_view_module_version": "1.2.0",
            "bar_color": null,
            "_model_module": "@jupyter-widgets/controls"
          }
        },
        "decc6b58da9740868e2bd64a596e2ba6": {
          "model_module": "@jupyter-widgets/base",
          "model_name": "LayoutModel",
          "state": {
            "_view_name": "LayoutView",
            "grid_template_rows": null,
            "right": null,
            "justify_content": null,
            "_view_module": "@jupyter-widgets/base",
            "overflow": null,
            "_model_module_version": "1.2.0",
            "_view_count": null,
            "flex_flow": null,
            "width": null,
            "min_width": null,
            "border": null,
            "align_items": null,
            "bottom": null,
            "_model_module": "@jupyter-widgets/base",
            "top": null,
            "grid_column": null,
            "overflow_y": null,
            "overflow_x": null,
            "grid_auto_flow": null,
            "grid_area": null,
            "grid_template_columns": null,
            "flex": null,
            "_model_name": "LayoutModel",
            "justify_items": null,
            "grid_row": null,
            "max_height": null,
            "align_content": null,
            "visibility": null,
            "align_self": null,
            "height": null,
            "min_height": null,
            "padding": null,
            "grid_auto_rows": null,
            "grid_gap": null,
            "max_width": null,
            "order": null,
            "_view_module_version": "1.2.0",
            "grid_template_areas": null,
            "object_position": null,
            "object_fit": null,
            "grid_auto_columns": null,
            "margin": null,
            "display": null,
            "left": null
          }
        },
        "942ae23c4b6a4a4e9a5e371bf4d3cfc6": {
          "model_module": "@jupyter-widgets/controls",
          "model_name": "DescriptionStyleModel",
          "state": {
            "_view_name": "StyleView",
            "_model_name": "DescriptionStyleModel",
            "description_width": "",
            "_view_module": "@jupyter-widgets/base",
            "_model_module_version": "1.5.0",
            "_view_count": null,
            "_view_module_version": "1.2.0",
            "_model_module": "@jupyter-widgets/controls"
          }
        },
        "92304e2e8fe34099b0d8a92fc9d4777d": {
          "model_module": "@jupyter-widgets/base",
          "model_name": "LayoutModel",
          "state": {
            "_view_name": "LayoutView",
            "grid_template_rows": null,
            "right": null,
            "justify_content": null,
            "_view_module": "@jupyter-widgets/base",
            "overflow": null,
            "_model_module_version": "1.2.0",
            "_view_count": null,
            "flex_flow": null,
            "width": null,
            "min_width": null,
            "border": null,
            "align_items": null,
            "bottom": null,
            "_model_module": "@jupyter-widgets/base",
            "top": null,
            "grid_column": null,
            "overflow_y": null,
            "overflow_x": null,
            "grid_auto_flow": null,
            "grid_area": null,
            "grid_template_columns": null,
            "flex": null,
            "_model_name": "LayoutModel",
            "justify_items": null,
            "grid_row": null,
            "max_height": null,
            "align_content": null,
            "visibility": null,
            "align_self": null,
            "height": null,
            "min_height": null,
            "padding": null,
            "grid_auto_rows": null,
            "grid_gap": null,
            "max_width": null,
            "order": null,
            "_view_module_version": "1.2.0",
            "grid_template_areas": null,
            "object_position": null,
            "object_fit": null,
            "grid_auto_columns": null,
            "margin": null,
            "display": null,
            "left": null
          }
        },
        "4b9d0f42d095445aa9aee28972f53bd8": {
          "model_module": "@jupyter-widgets/controls",
          "model_name": "HBoxModel",
          "state": {
            "_view_name": "HBoxView",
            "_dom_classes": [],
            "_model_name": "HBoxModel",
            "_view_module": "@jupyter-widgets/controls",
            "_model_module_version": "1.5.0",
            "_view_count": null,
            "_view_module_version": "1.5.0",
            "box_style": "",
            "layout": "IPY_MODEL_9489c2f8774c4303a7b7b467bb92ce59",
            "_model_module": "@jupyter-widgets/controls",
            "children": [
              "IPY_MODEL_ef490343b4c94f5791d6b76cfe8294fa",
              "IPY_MODEL_3c069a0a352149c69eb91747b2c79a3b"
            ]
          }
        },
        "9489c2f8774c4303a7b7b467bb92ce59": {
          "model_module": "@jupyter-widgets/base",
          "model_name": "LayoutModel",
          "state": {
            "_view_name": "LayoutView",
            "grid_template_rows": null,
            "right": null,
            "justify_content": null,
            "_view_module": "@jupyter-widgets/base",
            "overflow": null,
            "_model_module_version": "1.2.0",
            "_view_count": null,
            "flex_flow": null,
            "width": null,
            "min_width": null,
            "border": null,
            "align_items": null,
            "bottom": null,
            "_model_module": "@jupyter-widgets/base",
            "top": null,
            "grid_column": null,
            "overflow_y": null,
            "overflow_x": null,
            "grid_auto_flow": null,
            "grid_area": null,
            "grid_template_columns": null,
            "flex": null,
            "_model_name": "LayoutModel",
            "justify_items": null,
            "grid_row": null,
            "max_height": null,
            "align_content": null,
            "visibility": null,
            "align_self": null,
            "height": null,
            "min_height": null,
            "padding": null,
            "grid_auto_rows": null,
            "grid_gap": null,
            "max_width": null,
            "order": null,
            "_view_module_version": "1.2.0",
            "grid_template_areas": null,
            "object_position": null,
            "object_fit": null,
            "grid_auto_columns": null,
            "margin": null,
            "display": null,
            "left": null
          }
        },
        "ef490343b4c94f5791d6b76cfe8294fa": {
          "model_module": "@jupyter-widgets/controls",
          "model_name": "FloatProgressModel",
          "state": {
            "_view_name": "ProgressView",
            "style": "IPY_MODEL_5a361328bde24407812d15fdc8ce65fb",
            "_dom_classes": [],
            "description": " 89%",
            "_model_name": "FloatProgressModel",
            "bar_style": "danger",
            "max": 50000,
            "_view_module": "@jupyter-widgets/controls",
            "_model_module_version": "1.5.0",
            "value": 44319,
            "_view_count": null,
            "_view_module_version": "1.5.0",
            "orientation": "horizontal",
            "min": 0,
            "description_tooltip": null,
            "_model_module": "@jupyter-widgets/controls",
            "layout": "IPY_MODEL_d2f50fb3bc524ad089fd1f5f41d1686f"
          }
        },
        "3c069a0a352149c69eb91747b2c79a3b": {
          "model_module": "@jupyter-widgets/controls",
          "model_name": "HTMLModel",
          "state": {
            "_view_name": "HTMLView",
            "style": "IPY_MODEL_fcb927d3e76f4bada78c9e6e86860ba8",
            "_dom_classes": [],
            "description": "",
            "_model_name": "HTMLModel",
            "placeholder": "​",
            "_view_module": "@jupyter-widgets/controls",
            "_model_module_version": "1.5.0",
            "value": " 44319/50000 [00:00&lt;00:00, 77192.72 examples/s]",
            "_view_count": null,
            "_view_module_version": "1.5.0",
            "description_tooltip": null,
            "_model_module": "@jupyter-widgets/controls",
            "layout": "IPY_MODEL_e3637ee550d8431ba0a912c029f206d6"
          }
        },
        "5a361328bde24407812d15fdc8ce65fb": {
          "model_module": "@jupyter-widgets/controls",
          "model_name": "ProgressStyleModel",
          "state": {
            "_view_name": "StyleView",
            "_model_name": "ProgressStyleModel",
            "description_width": "initial",
            "_view_module": "@jupyter-widgets/base",
            "_model_module_version": "1.5.0",
            "_view_count": null,
            "_view_module_version": "1.2.0",
            "bar_color": null,
            "_model_module": "@jupyter-widgets/controls"
          }
        },
        "d2f50fb3bc524ad089fd1f5f41d1686f": {
          "model_module": "@jupyter-widgets/base",
          "model_name": "LayoutModel",
          "state": {
            "_view_name": "LayoutView",
            "grid_template_rows": null,
            "right": null,
            "justify_content": null,
            "_view_module": "@jupyter-widgets/base",
            "overflow": null,
            "_model_module_version": "1.2.0",
            "_view_count": null,
            "flex_flow": null,
            "width": null,
            "min_width": null,
            "border": null,
            "align_items": null,
            "bottom": null,
            "_model_module": "@jupyter-widgets/base",
            "top": null,
            "grid_column": null,
            "overflow_y": null,
            "overflow_x": null,
            "grid_auto_flow": null,
            "grid_area": null,
            "grid_template_columns": null,
            "flex": null,
            "_model_name": "LayoutModel",
            "justify_items": null,
            "grid_row": null,
            "max_height": null,
            "align_content": null,
            "visibility": null,
            "align_self": null,
            "height": null,
            "min_height": null,
            "padding": null,
            "grid_auto_rows": null,
            "grid_gap": null,
            "max_width": null,
            "order": null,
            "_view_module_version": "1.2.0",
            "grid_template_areas": null,
            "object_position": null,
            "object_fit": null,
            "grid_auto_columns": null,
            "margin": null,
            "display": null,
            "left": null
          }
        },
        "fcb927d3e76f4bada78c9e6e86860ba8": {
          "model_module": "@jupyter-widgets/controls",
          "model_name": "DescriptionStyleModel",
          "state": {
            "_view_name": "StyleView",
            "_model_name": "DescriptionStyleModel",
            "description_width": "",
            "_view_module": "@jupyter-widgets/base",
            "_model_module_version": "1.5.0",
            "_view_count": null,
            "_view_module_version": "1.2.0",
            "_model_module": "@jupyter-widgets/controls"
          }
        },
        "e3637ee550d8431ba0a912c029f206d6": {
          "model_module": "@jupyter-widgets/base",
          "model_name": "LayoutModel",
          "state": {
            "_view_name": "LayoutView",
            "grid_template_rows": null,
            "right": null,
            "justify_content": null,
            "_view_module": "@jupyter-widgets/base",
            "overflow": null,
            "_model_module_version": "1.2.0",
            "_view_count": null,
            "flex_flow": null,
            "width": null,
            "min_width": null,
            "border": null,
            "align_items": null,
            "bottom": null,
            "_model_module": "@jupyter-widgets/base",
            "top": null,
            "grid_column": null,
            "overflow_y": null,
            "overflow_x": null,
            "grid_auto_flow": null,
            "grid_area": null,
            "grid_template_columns": null,
            "flex": null,
            "_model_name": "LayoutModel",
            "justify_items": null,
            "grid_row": null,
            "max_height": null,
            "align_content": null,
            "visibility": null,
            "align_self": null,
            "height": null,
            "min_height": null,
            "padding": null,
            "grid_auto_rows": null,
            "grid_gap": null,
            "max_width": null,
            "order": null,
            "_view_module_version": "1.2.0",
            "grid_template_areas": null,
            "object_position": null,
            "object_fit": null,
            "grid_auto_columns": null,
            "margin": null,
            "display": null,
            "left": null
          }
        },
        "529d9c4390ac4969895c00aa252b406e": {
          "model_module": "@jupyter-widgets/controls",
          "model_name": "HBoxModel",
          "state": {
            "_view_name": "HBoxView",
            "_dom_classes": [],
            "_model_name": "HBoxModel",
            "_view_module": "@jupyter-widgets/controls",
            "_model_module_version": "1.5.0",
            "_view_count": null,
            "_view_module_version": "1.5.0",
            "box_style": "",
            "layout": "IPY_MODEL_3e2d945ff9794e248b086258246dfb83",
            "_model_module": "@jupyter-widgets/controls",
            "children": [
              "IPY_MODEL_0508ffa73b5a439e8f1adcedee6814a0",
              "IPY_MODEL_4cca057f3759410a9c740b6e8acf239a"
            ]
          }
        },
        "3e2d945ff9794e248b086258246dfb83": {
          "model_module": "@jupyter-widgets/base",
          "model_name": "LayoutModel",
          "state": {
            "_view_name": "LayoutView",
            "grid_template_rows": null,
            "right": null,
            "justify_content": null,
            "_view_module": "@jupyter-widgets/base",
            "overflow": null,
            "_model_module_version": "1.2.0",
            "_view_count": null,
            "flex_flow": null,
            "width": null,
            "min_width": null,
            "border": null,
            "align_items": null,
            "bottom": null,
            "_model_module": "@jupyter-widgets/base",
            "top": null,
            "grid_column": null,
            "overflow_y": null,
            "overflow_x": null,
            "grid_auto_flow": null,
            "grid_area": null,
            "grid_template_columns": null,
            "flex": null,
            "_model_name": "LayoutModel",
            "justify_items": null,
            "grid_row": null,
            "max_height": null,
            "align_content": null,
            "visibility": null,
            "align_self": null,
            "height": null,
            "min_height": null,
            "padding": null,
            "grid_auto_rows": null,
            "grid_gap": null,
            "max_width": null,
            "order": null,
            "_view_module_version": "1.2.0",
            "grid_template_areas": null,
            "object_position": null,
            "object_fit": null,
            "grid_auto_columns": null,
            "margin": null,
            "display": null,
            "left": null
          }
        },
        "0508ffa73b5a439e8f1adcedee6814a0": {
          "model_module": "@jupyter-widgets/controls",
          "model_name": "FloatProgressModel",
          "state": {
            "_view_name": "ProgressView",
            "style": "IPY_MODEL_c347d103cb744e5c830aadbe094ccf93",
            "_dom_classes": [],
            "description": "",
            "_model_name": "FloatProgressModel",
            "bar_style": "info",
            "max": 1,
            "_view_module": "@jupyter-widgets/controls",
            "_model_module_version": "1.5.0",
            "value": 1,
            "_view_count": null,
            "_view_module_version": "1.5.0",
            "orientation": "horizontal",
            "min": 0,
            "description_tooltip": null,
            "_model_module": "@jupyter-widgets/controls",
            "layout": "IPY_MODEL_075f2caa30584de487489042779e955c"
          }
        },
        "4cca057f3759410a9c740b6e8acf239a": {
          "model_module": "@jupyter-widgets/controls",
          "model_name": "HTMLModel",
          "state": {
            "_view_name": "HTMLView",
            "style": "IPY_MODEL_b4dc5c7cc8454cfa8bb3d16f3409f223",
            "_dom_classes": [],
            "description": "",
            "_model_name": "HTMLModel",
            "placeholder": "​",
            "_view_module": "@jupyter-widgets/controls",
            "_model_module_version": "1.5.0",
            "value": " 10000/0 [00:05&lt;00:00, 1872.58 examples/s]",
            "_view_count": null,
            "_view_module_version": "1.5.0",
            "description_tooltip": null,
            "_model_module": "@jupyter-widgets/controls",
            "layout": "IPY_MODEL_cfbb5f68249446ebaccd2f21f5c05c6a"
          }
        },
        "c347d103cb744e5c830aadbe094ccf93": {
          "model_module": "@jupyter-widgets/controls",
          "model_name": "ProgressStyleModel",
          "state": {
            "_view_name": "StyleView",
            "_model_name": "ProgressStyleModel",
            "description_width": "initial",
            "_view_module": "@jupyter-widgets/base",
            "_model_module_version": "1.5.0",
            "_view_count": null,
            "_view_module_version": "1.2.0",
            "bar_color": null,
            "_model_module": "@jupyter-widgets/controls"
          }
        },
        "075f2caa30584de487489042779e955c": {
          "model_module": "@jupyter-widgets/base",
          "model_name": "LayoutModel",
          "state": {
            "_view_name": "LayoutView",
            "grid_template_rows": null,
            "right": null,
            "justify_content": null,
            "_view_module": "@jupyter-widgets/base",
            "overflow": null,
            "_model_module_version": "1.2.0",
            "_view_count": null,
            "flex_flow": null,
            "width": null,
            "min_width": null,
            "border": null,
            "align_items": null,
            "bottom": null,
            "_model_module": "@jupyter-widgets/base",
            "top": null,
            "grid_column": null,
            "overflow_y": null,
            "overflow_x": null,
            "grid_auto_flow": null,
            "grid_area": null,
            "grid_template_columns": null,
            "flex": null,
            "_model_name": "LayoutModel",
            "justify_items": null,
            "grid_row": null,
            "max_height": null,
            "align_content": null,
            "visibility": null,
            "align_self": null,
            "height": null,
            "min_height": null,
            "padding": null,
            "grid_auto_rows": null,
            "grid_gap": null,
            "max_width": null,
            "order": null,
            "_view_module_version": "1.2.0",
            "grid_template_areas": null,
            "object_position": null,
            "object_fit": null,
            "grid_auto_columns": null,
            "margin": null,
            "display": null,
            "left": null
          }
        },
        "b4dc5c7cc8454cfa8bb3d16f3409f223": {
          "model_module": "@jupyter-widgets/controls",
          "model_name": "DescriptionStyleModel",
          "state": {
            "_view_name": "StyleView",
            "_model_name": "DescriptionStyleModel",
            "description_width": "",
            "_view_module": "@jupyter-widgets/base",
            "_model_module_version": "1.5.0",
            "_view_count": null,
            "_view_module_version": "1.2.0",
            "_model_module": "@jupyter-widgets/controls"
          }
        },
        "cfbb5f68249446ebaccd2f21f5c05c6a": {
          "model_module": "@jupyter-widgets/base",
          "model_name": "LayoutModel",
          "state": {
            "_view_name": "LayoutView",
            "grid_template_rows": null,
            "right": null,
            "justify_content": null,
            "_view_module": "@jupyter-widgets/base",
            "overflow": null,
            "_model_module_version": "1.2.0",
            "_view_count": null,
            "flex_flow": null,
            "width": null,
            "min_width": null,
            "border": null,
            "align_items": null,
            "bottom": null,
            "_model_module": "@jupyter-widgets/base",
            "top": null,
            "grid_column": null,
            "overflow_y": null,
            "overflow_x": null,
            "grid_auto_flow": null,
            "grid_area": null,
            "grid_template_columns": null,
            "flex": null,
            "_model_name": "LayoutModel",
            "justify_items": null,
            "grid_row": null,
            "max_height": null,
            "align_content": null,
            "visibility": null,
            "align_self": null,
            "height": null,
            "min_height": null,
            "padding": null,
            "grid_auto_rows": null,
            "grid_gap": null,
            "max_width": null,
            "order": null,
            "_view_module_version": "1.2.0",
            "grid_template_areas": null,
            "object_position": null,
            "object_fit": null,
            "grid_auto_columns": null,
            "margin": null,
            "display": null,
            "left": null
          }
        },
        "54916578e2e54149b2d0cc04b14f4059": {
          "model_module": "@jupyter-widgets/controls",
          "model_name": "HBoxModel",
          "state": {
            "_view_name": "HBoxView",
            "_dom_classes": [],
            "_model_name": "HBoxModel",
            "_view_module": "@jupyter-widgets/controls",
            "_model_module_version": "1.5.0",
            "_view_count": null,
            "_view_module_version": "1.5.0",
            "box_style": "",
            "layout": "IPY_MODEL_0aba24372c2747b89b471cc3b80d752e",
            "_model_module": "@jupyter-widgets/controls",
            "children": [
              "IPY_MODEL_78753e6592a94e1e8c716ce995012f58",
              "IPY_MODEL_11ae6eb4971b457bb5968372274586dd"
            ]
          }
        },
        "0aba24372c2747b89b471cc3b80d752e": {
          "model_module": "@jupyter-widgets/base",
          "model_name": "LayoutModel",
          "state": {
            "_view_name": "LayoutView",
            "grid_template_rows": null,
            "right": null,
            "justify_content": null,
            "_view_module": "@jupyter-widgets/base",
            "overflow": null,
            "_model_module_version": "1.2.0",
            "_view_count": null,
            "flex_flow": null,
            "width": null,
            "min_width": null,
            "border": null,
            "align_items": null,
            "bottom": null,
            "_model_module": "@jupyter-widgets/base",
            "top": null,
            "grid_column": null,
            "overflow_y": null,
            "overflow_x": null,
            "grid_auto_flow": null,
            "grid_area": null,
            "grid_template_columns": null,
            "flex": null,
            "_model_name": "LayoutModel",
            "justify_items": null,
            "grid_row": null,
            "max_height": null,
            "align_content": null,
            "visibility": null,
            "align_self": null,
            "height": null,
            "min_height": null,
            "padding": null,
            "grid_auto_rows": null,
            "grid_gap": null,
            "max_width": null,
            "order": null,
            "_view_module_version": "1.2.0",
            "grid_template_areas": null,
            "object_position": null,
            "object_fit": null,
            "grid_auto_columns": null,
            "margin": null,
            "display": null,
            "left": null
          }
        },
        "78753e6592a94e1e8c716ce995012f58": {
          "model_module": "@jupyter-widgets/controls",
          "model_name": "FloatProgressModel",
          "state": {
            "_view_name": "ProgressView",
            "style": "IPY_MODEL_6c22eacbd0854d149d9ab543db512af0",
            "_dom_classes": [],
            "description": " 50%",
            "_model_name": "FloatProgressModel",
            "bar_style": "danger",
            "max": 10000,
            "_view_module": "@jupyter-widgets/controls",
            "_model_module_version": "1.5.0",
            "value": 5037,
            "_view_count": null,
            "_view_module_version": "1.5.0",
            "orientation": "horizontal",
            "min": 0,
            "description_tooltip": null,
            "_model_module": "@jupyter-widgets/controls",
            "layout": "IPY_MODEL_c828fbfa3fa14e34a3b24d9b4919a250"
          }
        },
        "11ae6eb4971b457bb5968372274586dd": {
          "model_module": "@jupyter-widgets/controls",
          "model_name": "HTMLModel",
          "state": {
            "_view_name": "HTMLView",
            "style": "IPY_MODEL_cb3edb6cd86d4cd1837f1fa9a14cf32b",
            "_dom_classes": [],
            "description": "",
            "_model_name": "HTMLModel",
            "placeholder": "​",
            "_view_module": "@jupyter-widgets/controls",
            "_model_module_version": "1.5.0",
            "value": " 5037/10000 [00:00&lt;00:00, 50368.73 examples/s]",
            "_view_count": null,
            "_view_module_version": "1.5.0",
            "description_tooltip": null,
            "_model_module": "@jupyter-widgets/controls",
            "layout": "IPY_MODEL_c60491af7efc45f38b309d8bfe715c40"
          }
        },
        "6c22eacbd0854d149d9ab543db512af0": {
          "model_module": "@jupyter-widgets/controls",
          "model_name": "ProgressStyleModel",
          "state": {
            "_view_name": "StyleView",
            "_model_name": "ProgressStyleModel",
            "description_width": "initial",
            "_view_module": "@jupyter-widgets/base",
            "_model_module_version": "1.5.0",
            "_view_count": null,
            "_view_module_version": "1.2.0",
            "bar_color": null,
            "_model_module": "@jupyter-widgets/controls"
          }
        },
        "c828fbfa3fa14e34a3b24d9b4919a250": {
          "model_module": "@jupyter-widgets/base",
          "model_name": "LayoutModel",
          "state": {
            "_view_name": "LayoutView",
            "grid_template_rows": null,
            "right": null,
            "justify_content": null,
            "_view_module": "@jupyter-widgets/base",
            "overflow": null,
            "_model_module_version": "1.2.0",
            "_view_count": null,
            "flex_flow": null,
            "width": null,
            "min_width": null,
            "border": null,
            "align_items": null,
            "bottom": null,
            "_model_module": "@jupyter-widgets/base",
            "top": null,
            "grid_column": null,
            "overflow_y": null,
            "overflow_x": null,
            "grid_auto_flow": null,
            "grid_area": null,
            "grid_template_columns": null,
            "flex": null,
            "_model_name": "LayoutModel",
            "justify_items": null,
            "grid_row": null,
            "max_height": null,
            "align_content": null,
            "visibility": null,
            "align_self": null,
            "height": null,
            "min_height": null,
            "padding": null,
            "grid_auto_rows": null,
            "grid_gap": null,
            "max_width": null,
            "order": null,
            "_view_module_version": "1.2.0",
            "grid_template_areas": null,
            "object_position": null,
            "object_fit": null,
            "grid_auto_columns": null,
            "margin": null,
            "display": null,
            "left": null
          }
        },
        "cb3edb6cd86d4cd1837f1fa9a14cf32b": {
          "model_module": "@jupyter-widgets/controls",
          "model_name": "DescriptionStyleModel",
          "state": {
            "_view_name": "StyleView",
            "_model_name": "DescriptionStyleModel",
            "description_width": "",
            "_view_module": "@jupyter-widgets/base",
            "_model_module_version": "1.5.0",
            "_view_count": null,
            "_view_module_version": "1.2.0",
            "_model_module": "@jupyter-widgets/controls"
          }
        },
        "c60491af7efc45f38b309d8bfe715c40": {
          "model_module": "@jupyter-widgets/base",
          "model_name": "LayoutModel",
          "state": {
            "_view_name": "LayoutView",
            "grid_template_rows": null,
            "right": null,
            "justify_content": null,
            "_view_module": "@jupyter-widgets/base",
            "overflow": null,
            "_model_module_version": "1.2.0",
            "_view_count": null,
            "flex_flow": null,
            "width": null,
            "min_width": null,
            "border": null,
            "align_items": null,
            "bottom": null,
            "_model_module": "@jupyter-widgets/base",
            "top": null,
            "grid_column": null,
            "overflow_y": null,
            "overflow_x": null,
            "grid_auto_flow": null,
            "grid_area": null,
            "grid_template_columns": null,
            "flex": null,
            "_model_name": "LayoutModel",
            "justify_items": null,
            "grid_row": null,
            "max_height": null,
            "align_content": null,
            "visibility": null,
            "align_self": null,
            "height": null,
            "min_height": null,
            "padding": null,
            "grid_auto_rows": null,
            "grid_gap": null,
            "max_width": null,
            "order": null,
            "_view_module_version": "1.2.0",
            "grid_template_areas": null,
            "object_position": null,
            "object_fit": null,
            "grid_auto_columns": null,
            "margin": null,
            "display": null,
            "left": null
          }
        },
        "6e6e43857a7d44f4a2c3bc94a8d43bf5": {
          "model_module": "@jupyter-widgets/controls",
          "model_name": "VBoxModel",
          "state": {
            "_view_name": "VBoxView",
            "_dom_classes": [],
            "_model_name": "VBoxModel",
            "_view_module": "@jupyter-widgets/controls",
            "_model_module_version": "1.5.0",
            "_view_count": null,
            "_view_module_version": "1.5.0",
            "box_style": "",
            "layout": "IPY_MODEL_0a6432f51bdb44978757af4fbd4e5724",
            "_model_module": "@jupyter-widgets/controls",
            "children": [
              "IPY_MODEL_1001070d73ae4f34b4775e79e93aada7",
              "IPY_MODEL_4db36335e3924b909670fddf639d5cfb"
            ]
          }
        },
        "0a6432f51bdb44978757af4fbd4e5724": {
          "model_module": "@jupyter-widgets/base",
          "model_name": "LayoutModel",
          "state": {
            "_view_name": "LayoutView",
            "grid_template_rows": null,
            "right": null,
            "justify_content": null,
            "_view_module": "@jupyter-widgets/base",
            "overflow": null,
            "_model_module_version": "1.2.0",
            "_view_count": null,
            "flex_flow": null,
            "width": null,
            "min_width": null,
            "border": null,
            "align_items": null,
            "bottom": null,
            "_model_module": "@jupyter-widgets/base",
            "top": null,
            "grid_column": null,
            "overflow_y": null,
            "overflow_x": null,
            "grid_auto_flow": null,
            "grid_area": null,
            "grid_template_columns": null,
            "flex": null,
            "_model_name": "LayoutModel",
            "justify_items": null,
            "grid_row": null,
            "max_height": null,
            "align_content": null,
            "visibility": null,
            "align_self": null,
            "height": null,
            "min_height": null,
            "padding": null,
            "grid_auto_rows": null,
            "grid_gap": null,
            "max_width": null,
            "order": null,
            "_view_module_version": "1.2.0",
            "grid_template_areas": null,
            "object_position": null,
            "object_fit": null,
            "grid_auto_columns": null,
            "margin": null,
            "display": null,
            "left": null
          }
        },
        "1001070d73ae4f34b4775e79e93aada7": {
          "model_module": "@jupyter-widgets/controls",
          "model_name": "LabelModel",
          "state": {
            "_view_name": "LabelView",
            "style": "IPY_MODEL_f6ef1641be9a4177a51252297d0d7031",
            "_dom_classes": [],
            "description": "",
            "_model_name": "LabelModel",
            "placeholder": "​",
            "_view_module": "@jupyter-widgets/controls",
            "_model_module_version": "1.5.0",
            "value": " 5.57MB of 5.57MB uploaded (0.00MB deduped)\r",
            "_view_count": null,
            "_view_module_version": "1.5.0",
            "description_tooltip": null,
            "_model_module": "@jupyter-widgets/controls",
            "layout": "IPY_MODEL_9a24afc163a74fa6957be122d5305cc9"
          }
        },
        "4db36335e3924b909670fddf639d5cfb": {
          "model_module": "@jupyter-widgets/controls",
          "model_name": "FloatProgressModel",
          "state": {
            "_view_name": "ProgressView",
            "style": "IPY_MODEL_cf5dcc2cb4c2464b800457147be8c9a7",
            "_dom_classes": [],
            "description": "",
            "_model_name": "FloatProgressModel",
            "bar_style": "",
            "max": 1,
            "_view_module": "@jupyter-widgets/controls",
            "_model_module_version": "1.5.0",
            "value": 1,
            "_view_count": null,
            "_view_module_version": "1.5.0",
            "orientation": "horizontal",
            "min": 0,
            "description_tooltip": null,
            "_model_module": "@jupyter-widgets/controls",
            "layout": "IPY_MODEL_4c48c74929df4d30906a3a407cba3051"
          }
        },
        "f6ef1641be9a4177a51252297d0d7031": {
          "model_module": "@jupyter-widgets/controls",
          "model_name": "DescriptionStyleModel",
          "state": {
            "_view_name": "StyleView",
            "_model_name": "DescriptionStyleModel",
            "description_width": "",
            "_view_module": "@jupyter-widgets/base",
            "_model_module_version": "1.5.0",
            "_view_count": null,
            "_view_module_version": "1.2.0",
            "_model_module": "@jupyter-widgets/controls"
          }
        },
        "9a24afc163a74fa6957be122d5305cc9": {
          "model_module": "@jupyter-widgets/base",
          "model_name": "LayoutModel",
          "state": {
            "_view_name": "LayoutView",
            "grid_template_rows": null,
            "right": null,
            "justify_content": null,
            "_view_module": "@jupyter-widgets/base",
            "overflow": null,
            "_model_module_version": "1.2.0",
            "_view_count": null,
            "flex_flow": null,
            "width": null,
            "min_width": null,
            "border": null,
            "align_items": null,
            "bottom": null,
            "_model_module": "@jupyter-widgets/base",
            "top": null,
            "grid_column": null,
            "overflow_y": null,
            "overflow_x": null,
            "grid_auto_flow": null,
            "grid_area": null,
            "grid_template_columns": null,
            "flex": null,
            "_model_name": "LayoutModel",
            "justify_items": null,
            "grid_row": null,
            "max_height": null,
            "align_content": null,
            "visibility": null,
            "align_self": null,
            "height": null,
            "min_height": null,
            "padding": null,
            "grid_auto_rows": null,
            "grid_gap": null,
            "max_width": null,
            "order": null,
            "_view_module_version": "1.2.0",
            "grid_template_areas": null,
            "object_position": null,
            "object_fit": null,
            "grid_auto_columns": null,
            "margin": null,
            "display": null,
            "left": null
          }
        },
        "cf5dcc2cb4c2464b800457147be8c9a7": {
          "model_module": "@jupyter-widgets/controls",
          "model_name": "ProgressStyleModel",
          "state": {
            "_view_name": "StyleView",
            "_model_name": "ProgressStyleModel",
            "description_width": "",
            "_view_module": "@jupyter-widgets/base",
            "_model_module_version": "1.5.0",
            "_view_count": null,
            "_view_module_version": "1.2.0",
            "bar_color": null,
            "_model_module": "@jupyter-widgets/controls"
          }
        },
        "4c48c74929df4d30906a3a407cba3051": {
          "model_module": "@jupyter-widgets/base",
          "model_name": "LayoutModel",
          "state": {
            "_view_name": "LayoutView",
            "grid_template_rows": null,
            "right": null,
            "justify_content": null,
            "_view_module": "@jupyter-widgets/base",
            "overflow": null,
            "_model_module_version": "1.2.0",
            "_view_count": null,
            "flex_flow": null,
            "width": null,
            "min_width": null,
            "border": null,
            "align_items": null,
            "bottom": null,
            "_model_module": "@jupyter-widgets/base",
            "top": null,
            "grid_column": null,
            "overflow_y": null,
            "overflow_x": null,
            "grid_auto_flow": null,
            "grid_area": null,
            "grid_template_columns": null,
            "flex": null,
            "_model_name": "LayoutModel",
            "justify_items": null,
            "grid_row": null,
            "max_height": null,
            "align_content": null,
            "visibility": null,
            "align_self": null,
            "height": null,
            "min_height": null,
            "padding": null,
            "grid_auto_rows": null,
            "grid_gap": null,
            "max_width": null,
            "order": null,
            "_view_module_version": "1.2.0",
            "grid_template_areas": null,
            "object_position": null,
            "object_fit": null,
            "grid_auto_columns": null,
            "margin": null,
            "display": null,
            "left": null
          }
        }
      }
    }
  },
  "cells": [
    {
      "cell_type": "markdown",
      "metadata": {
        "id": "view-in-github",
        "colab_type": "text"
      },
      "source": [
        "<a href=\"https://colab.research.google.com/github/ayulockin/Explore-NFNet/blob/main/Train_Basline_Cifar10.ipynb\" target=\"_parent\"><img src=\"https://colab.research.google.com/assets/colab-badge.svg\" alt=\"Open In Colab\"/></a>"
      ]
    },
    {
      "cell_type": "markdown",
      "metadata": {
        "id": "wQDcOtuJ9WYq"
      },
      "source": [
        "* This is the baseline notebook to setup training a ResNet20 model on Cifar10 dataset. \r\n",
        "* Horizontal Flip and Rotation is used as augmentation policy. Albumentation package is used to do the same."
      ]
    },
    {
      "cell_type": "markdown",
      "metadata": {
        "id": "Z8i6DNHr94le"
      },
      "source": [
        "# 🧰 Setups, Installations and Imports"
      ]
    },
    {
      "cell_type": "code",
      "metadata": {
        "id": "gEoLE6VB9oWm"
      },
      "source": [
        "%%capture\r\n",
        "!pip install wandb --upgrade\r\n",
        "!pip install albumentations"
      ],
      "execution_count": 1,
      "outputs": []
    },
    {
      "cell_type": "code",
      "metadata": {
        "colab": {
          "base_uri": "https://localhost:8080/"
        },
        "id": "xl9NB7qu-RGa",
        "outputId": "06ad8cc9-0026-4d1b-be76-6f31d845d3a3"
      },
      "source": [
        "!git clone https://github.com/ayulockin/Explore-NFNet"
      ],
      "execution_count": 2,
      "outputs": [
        {
          "output_type": "stream",
          "text": [
            "Cloning into 'Explore-NFNet'...\n",
            "remote: Enumerating objects: 19, done.\u001b[K\n",
            "remote: Counting objects: 100% (19/19), done.\u001b[K\n",
            "remote: Compressing objects: 100% (14/14), done.\u001b[K\n",
            "remote: Total 19 (delta 5), reused 12 (delta 3), pack-reused 0\u001b[K\n",
            "Unpacking objects: 100% (19/19), done.\n"
          ],
          "name": "stdout"
        }
      ]
    },
    {
      "cell_type": "code",
      "metadata": {
        "colab": {
          "base_uri": "https://localhost:8080/"
        },
        "id": "3L-K1KWP--ew",
        "outputId": "55428b55-1ac7-4d1e-f6c8-6ba724cbb6a2"
      },
      "source": [
        "import tensorflow as tf\r\n",
        "print(tf.__version__)\r\n",
        "\r\n",
        "import tensorflow_datasets as tfds\r\n",
        "\r\n",
        "import sys\r\n",
        "sys.path.append(\"Explore-NFNet\")\r\n",
        "import os\r\n",
        "import cv2\r\n",
        "import numpy as np\r\n",
        "from functools import partial\r\n",
        "import matplotlib.pyplot as plt\r\n",
        "\r\n",
        "# Imports from the cloned repository\r\n",
        "from models.resnet import resnet_v1 \r\n",
        "from models.mini_vgg import get_mini_vgg\r\n",
        "\r\n",
        "# Augmentation related imports\r\n",
        "import albumentations as A\r\n",
        "\r\n",
        "# Seed everything for reproducibility\r\n",
        "def seed_everything():\r\n",
        "    # Set the random seeds\r\n",
        "    os.environ['TF_CUDNN_DETERMINISTIC'] = '1' \r\n",
        "    np.random.seed(hash(\"improves reproducibility\") % 2**32 - 1)\r\n",
        "    tf.random.set_seed(hash(\"by removing stochasticity\") % 2**32 - 1)\r\n",
        "\r\n",
        "seed_everything()\r\n",
        "\r\n",
        "# Avoid TensorFlow to allocate all the GPU at once. \r\n",
        "# Ref: https://www.tensorflow.org/guide/gpu\r\n",
        "gpus = tf.config.experimental.list_physical_devices('GPU')\r\n",
        "if gpus:\r\n",
        "  try:\r\n",
        "    # Currently, memory growth needs to be the same across GPUs\r\n",
        "    for gpu in gpus:\r\n",
        "      tf.config.experimental.set_memory_growth(gpu, True)\r\n",
        "    logical_gpus = tf.config.experimental.list_logical_devices('GPU')\r\n",
        "    print(len(gpus), \"Physical GPUs,\", len(logical_gpus), \"Logical GPUs\")\r\n",
        "  except RuntimeError as e:\r\n",
        "    # Memory growth must be set before GPUs have been initialized\r\n",
        "    print(e)"
      ],
      "execution_count": 3,
      "outputs": [
        {
          "output_type": "stream",
          "text": [
            "2.4.1\n",
            "1 Physical GPUs, 1 Logical GPUs\n"
          ],
          "name": "stdout"
        }
      ]
    },
    {
      "cell_type": "code",
      "metadata": {
        "colab": {
          "base_uri": "https://localhost:8080/",
          "height": 71
        },
        "id": "f4l3n2nUCTXZ",
        "outputId": "932a6251-7af1-42cf-92f4-5842f9f3226e"
      },
      "source": [
        "import wandb\r\n",
        "from wandb.keras import WandbCallback\r\n",
        "\r\n",
        "wandb.login()"
      ],
      "execution_count": 4,
      "outputs": [
        {
          "output_type": "display_data",
          "data": {
            "application/javascript": [
              "\n",
              "        window._wandbApiKey = new Promise((resolve, reject) => {\n",
              "            function loadScript(url) {\n",
              "            return new Promise(function(resolve, reject) {\n",
              "                let newScript = document.createElement(\"script\");\n",
              "                newScript.onerror = reject;\n",
              "                newScript.onload = resolve;\n",
              "                document.body.appendChild(newScript);\n",
              "                newScript.src = url;\n",
              "            });\n",
              "            }\n",
              "            loadScript(\"https://cdn.jsdelivr.net/npm/postmate/build/postmate.min.js\").then(() => {\n",
              "            const iframe = document.createElement('iframe')\n",
              "            iframe.style.cssText = \"width:0;height:0;border:none\"\n",
              "            document.body.appendChild(iframe)\n",
              "            const handshake = new Postmate({\n",
              "                container: iframe,\n",
              "                url: 'https://wandb.ai/authorize'\n",
              "            });\n",
              "            const timeout = setTimeout(() => reject(\"Couldn't auto authenticate\"), 5000)\n",
              "            handshake.then(function(child) {\n",
              "                child.on('authorize', data => {\n",
              "                    clearTimeout(timeout)\n",
              "                    resolve(data)\n",
              "                });\n",
              "            });\n",
              "            })\n",
              "        });\n",
              "    "
            ],
            "text/plain": [
              "<IPython.core.display.Javascript object>"
            ]
          },
          "metadata": {
            "tags": []
          }
        },
        {
          "output_type": "stream",
          "text": [
            "\u001b[34m\u001b[1mwandb\u001b[0m: Appending key for api.wandb.ai to your netrc file: /root/.netrc\n"
          ],
          "name": "stderr"
        },
        {
          "output_type": "execute_result",
          "data": {
            "text/plain": [
              "True"
            ]
          },
          "metadata": {
            "tags": []
          },
          "execution_count": 4
        }
      ]
    },
    {
      "cell_type": "code",
      "metadata": {
        "colab": {
          "base_uri": "https://localhost:8080/"
        },
        "id": "pznR5VjyIcXa",
        "outputId": "ba927517-18b3-47a4-ec4b-61e65ebddbd4"
      },
      "source": [
        "DATASET_NAME = 'cifar10'\r\n",
        "IMG_HEIGHT = 32\r\n",
        "IMG_WIDTH = 32\r\n",
        "NUM_CLASSES = 10\r\n",
        "SHUFFLE_BUFFER = 1024\r\n",
        "BATCH_SIZE = 256\r\n",
        "EPOCHS = 100\r\n",
        "\r\n",
        "AUTOTUNE = tf.data.experimental.AUTOTUNE\r\n",
        "\r\n",
        "print(f'Global batch size is: {BATCH_SIZE}')"
      ],
      "execution_count": 5,
      "outputs": [
        {
          "output_type": "stream",
          "text": [
            "Global batch size is: 256\n"
          ],
          "name": "stdout"
        }
      ]
    },
    {
      "cell_type": "markdown",
      "metadata": {
        "id": "O0hNZfPXDK6s"
      },
      "source": [
        "# ⛄ Download and Prepare Dataset"
      ]
    },
    {
      "cell_type": "code",
      "metadata": {
        "id": "PSxPal9ECQEO",
        "colab": {
          "base_uri": "https://localhost:8080/",
          "height": 361,
          "referenced_widgets": [
            "619dd9d1024b4fd09007c9721e74fb20",
            "e387f8bca518459d80f1fbfe58307668",
            "61d2eb0bdae148f796c0d76c41618c7e",
            "12904733f4b540e1b35b7e72b36570ee",
            "8ee67367d5dc4c3fb1836c462c4dccf2",
            "1cfe3deca20745aeaed35c963f797c7d",
            "4dfafaf3dd8b43e68f1895e7cddaacad",
            "d2e9415bef4f4bb3900e4a35989d0051",
            "5892268b98534ecf966cc31a78cc6ffb",
            "0e2016435fd74b1bb4b6e4862d3ce7a0",
            "2c8c85cea1614ae4aa5e6967f917d405",
            "b2cdece8d702493c9ab24713354f7c44",
            "620a5efa019c437bb8565b4e662f8422",
            "e1ed79a6d1fa4dafaf4c56f2cb92a5cb",
            "0d03fb96880b484c8e6d69e9aed20470",
            "f172632c214a4c15a8ad5e2334fbc471",
            "cb3cf3ed0b23471ab9c2063a707019ac",
            "7c9da025148e4898bf0725168a4b2079",
            "77216141755d4373bcec993bd92048f2",
            "1ddbca871c2843a287a71c10ef747f09",
            "bae08f5d612148f9bd3e52db93514c14",
            "de4dc52d155b47bab144d5db5e5b39fa",
            "e89f1d3e69084337a09a678f0ec09942",
            "4989d5b532934cb78275f048ac992c64",
            "25093b7ff40449329f87f09abe85cd8c",
            "1f58a6a7a5d7476882db9812df66fb04",
            "19aa0196b0b440649d643264c40ee76d",
            "2e88babc9fe84e6ea66ad151fced0194",
            "1fd25d2fdc5d4a9d95a3010f4ee191c9",
            "decc6b58da9740868e2bd64a596e2ba6",
            "942ae23c4b6a4a4e9a5e371bf4d3cfc6",
            "92304e2e8fe34099b0d8a92fc9d4777d",
            "4b9d0f42d095445aa9aee28972f53bd8",
            "9489c2f8774c4303a7b7b467bb92ce59",
            "ef490343b4c94f5791d6b76cfe8294fa",
            "3c069a0a352149c69eb91747b2c79a3b",
            "5a361328bde24407812d15fdc8ce65fb",
            "d2f50fb3bc524ad089fd1f5f41d1686f",
            "fcb927d3e76f4bada78c9e6e86860ba8",
            "e3637ee550d8431ba0a912c029f206d6",
            "529d9c4390ac4969895c00aa252b406e",
            "3e2d945ff9794e248b086258246dfb83",
            "0508ffa73b5a439e8f1adcedee6814a0",
            "4cca057f3759410a9c740b6e8acf239a",
            "c347d103cb744e5c830aadbe094ccf93",
            "075f2caa30584de487489042779e955c",
            "b4dc5c7cc8454cfa8bb3d16f3409f223",
            "cfbb5f68249446ebaccd2f21f5c05c6a",
            "54916578e2e54149b2d0cc04b14f4059",
            "0aba24372c2747b89b471cc3b80d752e",
            "78753e6592a94e1e8c716ce995012f58",
            "11ae6eb4971b457bb5968372274586dd",
            "6c22eacbd0854d149d9ab543db512af0",
            "c828fbfa3fa14e34a3b24d9b4919a250",
            "cb3edb6cd86d4cd1837f1fa9a14cf32b",
            "c60491af7efc45f38b309d8bfe715c40"
          ]
        },
        "outputId": "d89c31c1-2748-47f7-df53-60b2b3a7ba26"
      },
      "source": [
        "(train_ds, val_ds, test_ds), info = tfds.load(name=DATASET_NAME, \r\n",
        "                          split=[\"train[:85%]\", \"train[85%:]\", \"test\"], \r\n",
        "                          with_info=True,\r\n",
        "                          as_supervised=True)"
      ],
      "execution_count": 6,
      "outputs": [
        {
          "output_type": "stream",
          "text": [
            "\u001b[1mDownloading and preparing dataset cifar10/3.0.2 (download: 162.17 MiB, generated: 132.40 MiB, total: 294.58 MiB) to /root/tensorflow_datasets/cifar10/3.0.2...\u001b[0m\n"
          ],
          "name": "stdout"
        },
        {
          "output_type": "display_data",
          "data": {
            "application/vnd.jupyter.widget-view+json": {
              "model_id": "619dd9d1024b4fd09007c9721e74fb20",
              "version_minor": 0,
              "version_major": 2
            },
            "text/plain": [
              "HBox(children=(FloatProgress(value=1.0, bar_style='info', description='Dl Completed...', max=1.0, style=Progre…"
            ]
          },
          "metadata": {
            "tags": []
          }
        },
        {
          "output_type": "display_data",
          "data": {
            "application/vnd.jupyter.widget-view+json": {
              "model_id": "5892268b98534ecf966cc31a78cc6ffb",
              "version_minor": 0,
              "version_major": 2
            },
            "text/plain": [
              "HBox(children=(FloatProgress(value=1.0, bar_style='info', description='Dl Size...', max=1.0, style=ProgressSty…"
            ]
          },
          "metadata": {
            "tags": []
          }
        },
        {
          "output_type": "display_data",
          "data": {
            "application/vnd.jupyter.widget-view+json": {
              "model_id": "cb3cf3ed0b23471ab9c2063a707019ac",
              "version_minor": 0,
              "version_major": 2
            },
            "text/plain": [
              "HBox(children=(FloatProgress(value=1.0, bar_style='info', description='Extraction completed...', max=1.0, styl…"
            ]
          },
          "metadata": {
            "tags": []
          }
        },
        {
          "output_type": "stream",
          "text": [
            "\n",
            "\n",
            "\n",
            "\n",
            "\n",
            "\n"
          ],
          "name": "stdout"
        },
        {
          "output_type": "display_data",
          "data": {
            "application/vnd.jupyter.widget-view+json": {
              "model_id": "25093b7ff40449329f87f09abe85cd8c",
              "version_minor": 0,
              "version_major": 2
            },
            "text/plain": [
              "HBox(children=(FloatProgress(value=1.0, bar_style='info', max=1.0), HTML(value='')))"
            ]
          },
          "metadata": {
            "tags": []
          }
        },
        {
          "output_type": "stream",
          "text": [
            "\rShuffling and writing examples to /root/tensorflow_datasets/cifar10/3.0.2.incomplete1OA9IY/cifar10-train.tfrecord\n"
          ],
          "name": "stdout"
        },
        {
          "output_type": "display_data",
          "data": {
            "application/vnd.jupyter.widget-view+json": {
              "model_id": "4b9d0f42d095445aa9aee28972f53bd8",
              "version_minor": 0,
              "version_major": 2
            },
            "text/plain": [
              "HBox(children=(FloatProgress(value=0.0, max=50000.0), HTML(value='')))"
            ]
          },
          "metadata": {
            "tags": []
          }
        },
        {
          "output_type": "stream",
          "text": [
            "\r"
          ],
          "name": "stdout"
        },
        {
          "output_type": "display_data",
          "data": {
            "application/vnd.jupyter.widget-view+json": {
              "model_id": "529d9c4390ac4969895c00aa252b406e",
              "version_minor": 0,
              "version_major": 2
            },
            "text/plain": [
              "HBox(children=(FloatProgress(value=1.0, bar_style='info', max=1.0), HTML(value='')))"
            ]
          },
          "metadata": {
            "tags": []
          }
        },
        {
          "output_type": "stream",
          "text": [
            "\rShuffling and writing examples to /root/tensorflow_datasets/cifar10/3.0.2.incomplete1OA9IY/cifar10-test.tfrecord\n"
          ],
          "name": "stdout"
        },
        {
          "output_type": "display_data",
          "data": {
            "application/vnd.jupyter.widget-view+json": {
              "model_id": "54916578e2e54149b2d0cc04b14f4059",
              "version_minor": 0,
              "version_major": 2
            },
            "text/plain": [
              "HBox(children=(FloatProgress(value=0.0, max=10000.0), HTML(value='')))"
            ]
          },
          "metadata": {
            "tags": []
          }
        },
        {
          "output_type": "stream",
          "text": [
            "\u001b[1mDataset cifar10 downloaded and prepared to /root/tensorflow_datasets/cifar10/3.0.2. Subsequent calls will reuse this data.\u001b[0m\n",
            "\r"
          ],
          "name": "stdout"
        }
      ]
    },
    {
      "cell_type": "code",
      "metadata": {
        "id": "-9-yRafkGWIk"
      },
      "source": [
        "@tf.function\r\n",
        "def preprocess(image, label):\r\n",
        "    # preprocess image\r\n",
        "    image = tf.cast(image, tf.float32)\r\n",
        "    image = image/255.0\r\n",
        "\r\n",
        "    return image, label\r\n",
        "\r\n",
        "# Define the augmentation policies. Note that they are applied sequentially with some probability p.\r\n",
        "transforms = A.Compose([\r\n",
        "                A.HorizontalFlip(p=0.7),\r\n",
        "                A.Rotate(limit=30, p=0.7)\r\n",
        "        ])\r\n",
        "\r\n",
        "# Apply augmentation policies.\r\n",
        "def aug_fn(image):\r\n",
        "    data = {\"image\":image}\r\n",
        "    aug_data = transforms(**data)\r\n",
        "    aug_img = aug_data[\"image\"]\r\n",
        "\r\n",
        "    return aug_img\r\n",
        "\r\n",
        "@tf.function\r\n",
        "def apply_augmentation(image, label):\r\n",
        "    aug_img = tf.numpy_function(func=aug_fn, inp=[image], Tout=tf.float32)\r\n",
        "    aug_img.set_shape((IMG_HEIGHT, IMG_WIDTH, 3))\r\n",
        "    \r\n",
        "    return aug_img, label\r\n",
        "\r\n",
        "train_ds = (\r\n",
        "    train_ds\r\n",
        "    .shuffle(SHUFFLE_BUFFER)\r\n",
        "    .map(preprocess, num_parallel_calls=AUTOTUNE)\r\n",
        "    .map(apply_augmentation, num_parallel_calls=AUTOTUNE)\r\n",
        "    .batch(BATCH_SIZE)\r\n",
        "    .prefetch(AUTOTUNE)\r\n",
        ")\r\n",
        "\r\n",
        "val_ds = (\r\n",
        "    val_ds\r\n",
        "    .map(preprocess, num_parallel_calls=AUTOTUNE)\r\n",
        "    .batch(BATCH_SIZE)\r\n",
        "    .prefetch(AUTOTUNE)\r\n",
        ")\r\n",
        "\r\n",
        "test_ds = (\r\n",
        "    test_ds\r\n",
        "    .map(preprocess, num_parallel_calls=AUTOTUNE)\r\n",
        "    .batch(BATCH_SIZE)\r\n",
        "    .prefetch(AUTOTUNE)\r\n",
        ")"
      ],
      "execution_count": 7,
      "outputs": []
    },
    {
      "cell_type": "code",
      "metadata": {
        "colab": {
          "base_uri": "https://localhost:8080/",
          "height": 609
        },
        "id": "uzWkS_AZGbdW",
        "outputId": "708fdf32-2cc9-48b2-abdd-79c5b1e87485"
      },
      "source": [
        "def show_batch(image_batch, label_batch):\r\n",
        "  plt.figure(figsize=(10,10))\r\n",
        "  for n in range(25):\r\n",
        "      ax = plt.subplot(5,5,n+1)\r\n",
        "      plt.imshow(image_batch[n])\r\n",
        "      # plt.title(f'{np.argmax(label_batch[n].numpy())}')\r\n",
        "      plt.title(f'{label_batch[n].numpy()}')\r\n",
        "      plt.axis('off')\r\n",
        "  \r\n",
        "image_batch, label_batch = next(iter(train_ds))\r\n",
        "show_batch(image_batch, label_batch)\r\n",
        "\r\n",
        "print(image_batch.shape, label_batch.shape)"
      ],
      "execution_count": 8,
      "outputs": [
        {
          "output_type": "stream",
          "text": [
            "(256, 32, 32, 3) (256,)\n"
          ],
          "name": "stdout"
        },
        {
          "output_type": "display_data",
          "data": {
            "image/png": "[encoded data removed]",
            "text/plain": [
              "<Figure size 720x720 with 25 Axes>"
            ]
          },
          "metadata": {
            "tags": [],
            "needs_background": "light"
          }
        }
      ]
    },
    {
      "cell_type": "markdown",
      "metadata": {
        "id": "wcDd118WJpmf"
      },
      "source": [
        "# 🐤 Model"
      ]
    },
    {
      "cell_type": "code",
      "metadata": {
        "id": "jmaYHGFYJMQU",
        "colab": {
          "base_uri": "https://localhost:8080/"
        },
        "outputId": "7f1f15c5-29fc-4e81-b06d-e4263e325e8c"
      },
      "source": [
        "def GetModel(use_bn):\r\n",
        "  return resnet_v1((IMG_HEIGHT, IMG_WIDTH, 3), 20, num_classes=NUM_CLASSES, use_bn=use_bn) ## Returns a ResNet20 model.\r\n",
        "\r\n",
        "tf.keras.backend.clear_session()\r\n",
        "test_model = GetModel(use_bn=True)\r\n",
        "test_model.summary()\r\n",
        "print(f\"Total learnable parameters: {test_model.count_params()/1e6} M\")"
      ],
      "execution_count": 9,
      "outputs": [
        {
          "output_type": "stream",
          "text": [
            "Model: \"model\"\n",
            "__________________________________________________________________________________________________\n",
            "Layer (type)                    Output Shape         Param #     Connected to                     \n",
            "==================================================================================================\n",
            "input_1 (InputLayer)            [(None, 32, 32, 3)]  0                                            \n",
            "__________________________________________________________________________________________________\n",
            "conv2d (Conv2D)                 (None, 32, 32, 16)   448         input_1[0][0]                    \n",
            "__________________________________________________________________________________________________\n",
            "batch_normalization (BatchNorma (None, 32, 32, 16)   64          conv2d[0][0]                     \n",
            "__________________________________________________________________________________________________\n",
            "activation (Activation)         (None, 32, 32, 16)   0           batch_normalization[0][0]        \n",
            "__________________________________________________________________________________________________\n",
            "conv2d_1 (Conv2D)               (None, 32, 32, 16)   2320        activation[0][0]                 \n",
            "__________________________________________________________________________________________________\n",
            "batch_normalization_1 (BatchNor (None, 32, 32, 16)   64          conv2d_1[0][0]                   \n",
            "__________________________________________________________________________________________________\n",
            "activation_1 (Activation)       (None, 32, 32, 16)   0           batch_normalization_1[0][0]      \n",
            "__________________________________________________________________________________________________\n",
            "conv2d_2 (Conv2D)               (None, 32, 32, 16)   2320        activation_1[0][0]               \n",
            "__________________________________________________________________________________________________\n",
            "batch_normalization_2 (BatchNor (None, 32, 32, 16)   64          conv2d_2[0][0]                   \n",
            "__________________________________________________________________________________________________\n",
            "add (Add)                       (None, 32, 32, 16)   0           activation[0][0]                 \n",
            "                                                                 batch_normalization_2[0][0]      \n",
            "__________________________________________________________________________________________________\n",
            "activation_2 (Activation)       (None, 32, 32, 16)   0           add[0][0]                        \n",
            "__________________________________________________________________________________________________\n",
            "conv2d_3 (Conv2D)               (None, 32, 32, 16)   2320        activation_2[0][0]               \n",
            "__________________________________________________________________________________________________\n",
            "batch_normalization_3 (BatchNor (None, 32, 32, 16)   64          conv2d_3[0][0]                   \n",
            "__________________________________________________________________________________________________\n",
            "activation_3 (Activation)       (None, 32, 32, 16)   0           batch_normalization_3[0][0]      \n",
            "__________________________________________________________________________________________________\n",
            "conv2d_4 (Conv2D)               (None, 32, 32, 16)   2320        activation_3[0][0]               \n",
            "__________________________________________________________________________________________________\n",
            "batch_normalization_4 (BatchNor (None, 32, 32, 16)   64          conv2d_4[0][0]                   \n",
            "__________________________________________________________________________________________________\n",
            "add_1 (Add)                     (None, 32, 32, 16)   0           activation_2[0][0]               \n",
            "                                                                 batch_normalization_4[0][0]      \n",
            "__________________________________________________________________________________________________\n",
            "activation_4 (Activation)       (None, 32, 32, 16)   0           add_1[0][0]                      \n",
            "__________________________________________________________________________________________________\n",
            "conv2d_5 (Conv2D)               (None, 32, 32, 16)   2320        activation_4[0][0]               \n",
            "__________________________________________________________________________________________________\n",
            "batch_normalization_5 (BatchNor (None, 32, 32, 16)   64          conv2d_5[0][0]                   \n",
            "__________________________________________________________________________________________________\n",
            "activation_5 (Activation)       (None, 32, 32, 16)   0           batch_normalization_5[0][0]      \n",
            "__________________________________________________________________________________________________\n",
            "conv2d_6 (Conv2D)               (None, 32, 32, 16)   2320        activation_5[0][0]               \n",
            "__________________________________________________________________________________________________\n",
            "batch_normalization_6 (BatchNor (None, 32, 32, 16)   64          conv2d_6[0][0]                   \n",
            "__________________________________________________________________________________________________\n",
            "add_2 (Add)                     (None, 32, 32, 16)   0           activation_4[0][0]               \n",
            "                                                                 batch_normalization_6[0][0]      \n",
            "__________________________________________________________________________________________________\n",
            "activation_6 (Activation)       (None, 32, 32, 16)   0           add_2[0][0]                      \n",
            "__________________________________________________________________________________________________\n",
            "conv2d_7 (Conv2D)               (None, 16, 16, 32)   4640        activation_6[0][0]               \n",
            "__________________________________________________________________________________________________\n",
            "batch_normalization_7 (BatchNor (None, 16, 16, 32)   128         conv2d_7[0][0]                   \n",
            "__________________________________________________________________________________________________\n",
            "activation_7 (Activation)       (None, 16, 16, 32)   0           batch_normalization_7[0][0]      \n",
            "__________________________________________________________________________________________________\n",
            "conv2d_8 (Conv2D)               (None, 16, 16, 32)   9248        activation_7[0][0]               \n",
            "__________________________________________________________________________________________________\n",
            "conv2d_9 (Conv2D)               (None, 16, 16, 32)   544         activation_6[0][0]               \n",
            "__________________________________________________________________________________________________\n",
            "batch_normalization_8 (BatchNor (None, 16, 16, 32)   128         conv2d_8[0][0]                   \n",
            "__________________________________________________________________________________________________\n",
            "add_3 (Add)                     (None, 16, 16, 32)   0           conv2d_9[0][0]                   \n",
            "                                                                 batch_normalization_8[0][0]      \n",
            "__________________________________________________________________________________________________\n",
            "activation_8 (Activation)       (None, 16, 16, 32)   0           add_3[0][0]                      \n",
            "__________________________________________________________________________________________________\n",
            "conv2d_10 (Conv2D)              (None, 16, 16, 32)   9248        activation_8[0][0]               \n",
            "__________________________________________________________________________________________________\n",
            "batch_normalization_9 (BatchNor (None, 16, 16, 32)   128         conv2d_10[0][0]                  \n",
            "__________________________________________________________________________________________________\n",
            "activation_9 (Activation)       (None, 16, 16, 32)   0           batch_normalization_9[0][0]      \n",
            "__________________________________________________________________________________________________\n",
            "conv2d_11 (Conv2D)              (None, 16, 16, 32)   9248        activation_9[0][0]               \n",
            "__________________________________________________________________________________________________\n",
            "batch_normalization_10 (BatchNo (None, 16, 16, 32)   128         conv2d_11[0][0]                  \n",
            "__________________________________________________________________________________________________\n",
            "add_4 (Add)                     (None, 16, 16, 32)   0           activation_8[0][0]               \n",
            "                                                                 batch_normalization_10[0][0]     \n",
            "__________________________________________________________________________________________________\n",
            "activation_10 (Activation)      (None, 16, 16, 32)   0           add_4[0][0]                      \n",
            "__________________________________________________________________________________________________\n",
            "conv2d_12 (Conv2D)              (None, 16, 16, 32)   9248        activation_10[0][0]              \n",
            "__________________________________________________________________________________________________\n",
            "batch_normalization_11 (BatchNo (None, 16, 16, 32)   128         conv2d_12[0][0]                  \n",
            "__________________________________________________________________________________________________\n",
            "activation_11 (Activation)      (None, 16, 16, 32)   0           batch_normalization_11[0][0]     \n",
            "__________________________________________________________________________________________________\n",
            "conv2d_13 (Conv2D)              (None, 16, 16, 32)   9248        activation_11[0][0]              \n",
            "__________________________________________________________________________________________________\n",
            "batch_normalization_12 (BatchNo (None, 16, 16, 32)   128         conv2d_13[0][0]                  \n",
            "__________________________________________________________________________________________________\n",
            "add_5 (Add)                     (None, 16, 16, 32)   0           activation_10[0][0]              \n",
            "                                                                 batch_normalization_12[0][0]     \n",
            "__________________________________________________________________________________________________\n",
            "activation_12 (Activation)      (None, 16, 16, 32)   0           add_5[0][0]                      \n",
            "__________________________________________________________________________________________________\n",
            "conv2d_14 (Conv2D)              (None, 8, 8, 64)     18496       activation_12[0][0]              \n",
            "__________________________________________________________________________________________________\n",
            "batch_normalization_13 (BatchNo (None, 8, 8, 64)     256         conv2d_14[0][0]                  \n",
            "__________________________________________________________________________________________________\n",
            "activation_13 (Activation)      (None, 8, 8, 64)     0           batch_normalization_13[0][0]     \n",
            "__________________________________________________________________________________________________\n",
            "conv2d_15 (Conv2D)              (None, 8, 8, 64)     36928       activation_13[0][0]              \n",
            "__________________________________________________________________________________________________\n",
            "conv2d_16 (Conv2D)              (None, 8, 8, 64)     2112        activation_12[0][0]              \n",
            "__________________________________________________________________________________________________\n",
            "batch_normalization_14 (BatchNo (None, 8, 8, 64)     256         conv2d_15[0][0]                  \n",
            "__________________________________________________________________________________________________\n",
            "add_6 (Add)                     (None, 8, 8, 64)     0           conv2d_16[0][0]                  \n",
            "                                                                 batch_normalization_14[0][0]     \n",
            "__________________________________________________________________________________________________\n",
            "activation_14 (Activation)      (None, 8, 8, 64)     0           add_6[0][0]                      \n",
            "__________________________________________________________________________________________________\n",
            "conv2d_17 (Conv2D)              (None, 8, 8, 64)     36928       activation_14[0][0]              \n",
            "__________________________________________________________________________________________________\n",
            "batch_normalization_15 (BatchNo (None, 8, 8, 64)     256         conv2d_17[0][0]                  \n",
            "__________________________________________________________________________________________________\n",
            "activation_15 (Activation)      (None, 8, 8, 64)     0           batch_normalization_15[0][0]     \n",
            "__________________________________________________________________________________________________\n",
            "conv2d_18 (Conv2D)              (None, 8, 8, 64)     36928       activation_15[0][0]              \n",
            "__________________________________________________________________________________________________\n",
            "batch_normalization_16 (BatchNo (None, 8, 8, 64)     256         conv2d_18[0][0]                  \n",
            "__________________________________________________________________________________________________\n",
            "add_7 (Add)                     (None, 8, 8, 64)     0           activation_14[0][0]              \n",
            "                                                                 batch_normalization_16[0][0]     \n",
            "__________________________________________________________________________________________________\n",
            "activation_16 (Activation)      (None, 8, 8, 64)     0           add_7[0][0]                      \n",
            "__________________________________________________________________________________________________\n",
            "conv2d_19 (Conv2D)              (None, 8, 8, 64)     36928       activation_16[0][0]              \n",
            "__________________________________________________________________________________________________\n",
            "batch_normalization_17 (BatchNo (None, 8, 8, 64)     256         conv2d_19[0][0]                  \n",
            "__________________________________________________________________________________________________\n",
            "activation_17 (Activation)      (None, 8, 8, 64)     0           batch_normalization_17[0][0]     \n",
            "__________________________________________________________________________________________________\n",
            "conv2d_20 (Conv2D)              (None, 8, 8, 64)     36928       activation_17[0][0]              \n",
            "__________________________________________________________________________________________________\n",
            "batch_normalization_18 (BatchNo (None, 8, 8, 64)     256         conv2d_20[0][0]                  \n",
            "__________________________________________________________________________________________________\n",
            "add_8 (Add)                     (None, 8, 8, 64)     0           activation_16[0][0]              \n",
            "                                                                 batch_normalization_18[0][0]     \n",
            "__________________________________________________________________________________________________\n",
            "activation_18 (Activation)      (None, 8, 8, 64)     0           add_8[0][0]                      \n",
            "__________________________________________________________________________________________________\n",
            "average_pooling2d (AveragePooli (None, 1, 1, 64)     0           activation_18[0][0]              \n",
            "__________________________________________________________________________________________________\n",
            "flatten (Flatten)               (None, 64)           0           average_pooling2d[0][0]          \n",
            "__________________________________________________________________________________________________\n",
            "dense (Dense)                   (None, 10)           650         flatten[0][0]                    \n",
            "==================================================================================================\n",
            "Total params: 274,442\n",
            "Trainable params: 273,066\n",
            "Non-trainable params: 1,376\n",
            "__________________________________________________________________________________________________\n",
            "Total learnable parameters: 0.274442 M\n"
          ],
          "name": "stdout"
        }
      ]
    },
    {
      "cell_type": "markdown",
      "metadata": {
        "id": "uNy-hWunM_k0"
      },
      "source": [
        "# 📲 Callbacks"
      ]
    },
    {
      "cell_type": "code",
      "metadata": {
        "id": "DUnXLPW5NBUs"
      },
      "source": [
        "earlystopper = tf.keras.callbacks.EarlyStopping(\r\n",
        "    monitor='val_loss', patience=10, verbose=0, mode='auto',\r\n",
        "    restore_best_weights=True\r\n",
        ")\r\n",
        "\r\n",
        "reducelronplateau = tf.keras.callbacks.ReduceLROnPlateau(\r\n",
        "    monitor=\"val_loss\", factor=0.5,\r\n",
        "    patience=3, verbose=1\r\n",
        ")"
      ],
      "execution_count": 10,
      "outputs": []
    },
    {
      "cell_type": "markdown",
      "metadata": {
        "id": "nfKxHzU1M9Bx"
      },
      "source": [
        "# 🚋 Train with W&B"
      ]
    },
    {
      "cell_type": "code",
      "metadata": {
        "colab": {
          "base_uri": "https://localhost:8080/",
          "height": 1000,
          "referenced_widgets": [
            "6e6e43857a7d44f4a2c3bc94a8d43bf5",
            "0a6432f51bdb44978757af4fbd4e5724",
            "1001070d73ae4f34b4775e79e93aada7",
            "4db36335e3924b909670fddf639d5cfb",
            "f6ef1641be9a4177a51252297d0d7031",
            "9a24afc163a74fa6957be122d5305cc9",
            "cf5dcc2cb4c2464b800457147be8c9a7",
            "4c48c74929df4d30906a3a407cba3051"
          ]
        },
        "id": "VyhPXxd9MvLL",
        "outputId": "56ad195c-8c69-4cef-e726-6173b364ce11"
      },
      "source": [
        "tf.keras.backend.clear_session()\r\n",
        "# Intialize model\r\n",
        "model = GetModel(use_bn=True)\r\n",
        "model.compile('adam', 'sparse_categorical_crossentropy', metrics=['acc'])\r\n",
        "\r\n",
        "# Intialize W&B run\r\n",
        "run = wandb.init(entity='ayush-thakur', project='nfnet', job_type='train-baseline')\r\n",
        "\r\n",
        "# Train model\r\n",
        "model.fit(train_ds,\r\n",
        "          epochs=EPOCHS,\r\n",
        "          validation_data=val_ds,\r\n",
        "          callbacks=[WandbCallback(),\r\n",
        "                     reducelronplateau,\r\n",
        "                     earlystopper])  \r\n",
        "\r\n",
        "# Evaluate model on test set\r\n",
        "loss, acc = model.evaluate(test_ds)\r\n",
        "wandb.log({'Test Accuracy': round(acc, 3)})\r\n",
        "\r\n",
        "# Close W&B run\r\n",
        "run.finish()"
      ],
      "execution_count": 11,
      "outputs": [
        {
          "output_type": "stream",
          "text": [
            "\u001b[34m\u001b[1mwandb\u001b[0m: Currently logged in as: \u001b[33mayush-thakur\u001b[0m (use `wandb login --relogin` to force relogin)\n"
          ],
          "name": "stderr"
        },
        {
          "output_type": "display_data",
          "data": {
            "text/html": [
              "\n",
              "                Tracking run with wandb version 0.10.21<br/>\n",
              "                Syncing run <strong style=\"color:#cdcd00\">warm-night-14</strong> to <a href=\"https://wandb.ai\" target=\"_blank\">Weights & Biases</a> <a href=\"https://docs.wandb.com/integrations/jupyter.html\" target=\"_blank\">(Documentation)</a>.<br/>\n",
              "                Project page: <a href=\"https://wandb.ai/ayush-thakur/nfnet\" target=\"_blank\">https://wandb.ai/ayush-thakur/nfnet</a><br/>\n",
              "                Run page: <a href=\"https://wandb.ai/ayush-thakur/nfnet/runs/2x46e622\" target=\"_blank\">https://wandb.ai/ayush-thakur/nfnet/runs/2x46e622</a><br/>\n",
              "                Run data is saved locally in <code>/content/wandb/run-20210304_110239-2x46e622</code><br/><br/>\n",
              "            "
            ],
            "text/plain": [
              "<IPython.core.display.HTML object>"
            ]
          },
          "metadata": {
            "tags": []
          }
        },
        {
          "output_type": "stream",
          "text": [
            "Epoch 1/100\n",
            "167/167 [==============================] - 54s 121ms/step - loss: 2.3133 - acc: 0.3162 - val_loss: 2.1149 - val_acc: 0.2796\n",
            "Epoch 2/100\n",
            "167/167 [==============================] - 15s 88ms/step - loss: 1.5470 - acc: 0.5026 - val_loss: 1.8892 - val_acc: 0.4148\n",
            "Epoch 3/100\n",
            "167/167 [==============================] - 15s 88ms/step - loss: 1.3954 - acc: 0.5556 - val_loss: 1.6628 - val_acc: 0.4655\n",
            "Epoch 4/100\n",
            "167/167 [==============================] - 15s 87ms/step - loss: 1.3322 - acc: 0.5792 - val_loss: 2.1454 - val_acc: 0.4573\n",
            "Epoch 5/100\n",
            "167/167 [==============================] - 15s 89ms/step - loss: 1.2186 - acc: 0.6189 - val_loss: 1.2650 - val_acc: 0.6081\n",
            "Epoch 6/100\n",
            "167/167 [==============================] - 15s 88ms/step - loss: 1.1492 - acc: 0.6482 - val_loss: 1.6161 - val_acc: 0.5313\n",
            "Epoch 7/100\n",
            "167/167 [==============================] - 15s 88ms/step - loss: 1.1216 - acc: 0.6600 - val_loss: 1.3228 - val_acc: 0.6033\n",
            "Epoch 8/100\n",
            "167/167 [==============================] - 15s 89ms/step - loss: 1.1464 - acc: 0.6524 - val_loss: 1.0175 - val_acc: 0.6932\n",
            "Epoch 9/100\n",
            "167/167 [==============================] - 15s 90ms/step - loss: 0.9752 - acc: 0.7105 - val_loss: 1.2029 - val_acc: 0.6467\n",
            "Epoch 10/100\n",
            "167/167 [==============================] - 15s 89ms/step - loss: 1.0488 - acc: 0.6859 - val_loss: 0.9851 - val_acc: 0.7131\n",
            "Epoch 11/100\n",
            "167/167 [==============================] - 15s 89ms/step - loss: 0.9946 - acc: 0.7064 - val_loss: 1.0163 - val_acc: 0.6999\n",
            "Epoch 12/100\n",
            "167/167 [==============================] - 15s 89ms/step - loss: 0.9138 - acc: 0.7317 - val_loss: 1.0015 - val_acc: 0.7065\n",
            "Epoch 13/100\n",
            "167/167 [==============================] - 15s 90ms/step - loss: 0.8260 - acc: 0.7627 - val_loss: 1.1366 - val_acc: 0.6524\n",
            "\n",
            "Epoch 00013: ReduceLROnPlateau reducing learning rate to 0.0005000000237487257.\n",
            "Epoch 14/100\n",
            "167/167 [==============================] - 15s 89ms/step - loss: 0.7962 - acc: 0.7717 - val_loss: 0.7819 - val_acc: 0.7748\n",
            "Epoch 15/100\n",
            "167/167 [==============================] - 15s 90ms/step - loss: 0.7753 - acc: 0.7811 - val_loss: 0.8293 - val_acc: 0.7575\n",
            "Epoch 16/100\n",
            "167/167 [==============================] - 15s 89ms/step - loss: 0.7961 - acc: 0.7738 - val_loss: 0.8780 - val_acc: 0.7528\n",
            "Epoch 17/100\n",
            "167/167 [==============================] - 15s 89ms/step - loss: 0.7535 - acc: 0.7892 - val_loss: 0.7478 - val_acc: 0.7875\n",
            "Epoch 18/100\n",
            "167/167 [==============================] - 15s 90ms/step - loss: 0.7222 - acc: 0.8012 - val_loss: 0.7501 - val_acc: 0.7879\n",
            "Epoch 19/100\n",
            "167/167 [==============================] - 15s 89ms/step - loss: 0.7097 - acc: 0.8027 - val_loss: 0.8213 - val_acc: 0.7636\n",
            "Epoch 20/100\n",
            "167/167 [==============================] - 15s 89ms/step - loss: 0.7123 - acc: 0.8004 - val_loss: 0.7444 - val_acc: 0.7903\n",
            "Epoch 21/100\n",
            "167/167 [==============================] - 15s 89ms/step - loss: 0.6883 - acc: 0.8108 - val_loss: 0.8250 - val_acc: 0.7588\n",
            "Epoch 22/100\n",
            "167/167 [==============================] - 15s 89ms/step - loss: 0.6601 - acc: 0.8154 - val_loss: 0.7620 - val_acc: 0.7797\n",
            "Epoch 23/100\n",
            "167/167 [==============================] - 15s 89ms/step - loss: 0.6385 - acc: 0.8285 - val_loss: 0.8275 - val_acc: 0.7596\n",
            "\n",
            "Epoch 00023: ReduceLROnPlateau reducing learning rate to 0.0002500000118743628.\n",
            "Epoch 24/100\n",
            "167/167 [==============================] - 15s 90ms/step - loss: 0.6270 - acc: 0.8289 - val_loss: 0.6884 - val_acc: 0.8068\n",
            "Epoch 25/100\n",
            "167/167 [==============================] - 15s 89ms/step - loss: 0.6165 - acc: 0.8366 - val_loss: 0.6836 - val_acc: 0.8084\n",
            "Epoch 26/100\n",
            "167/167 [==============================] - 15s 90ms/step - loss: 0.6214 - acc: 0.8324 - val_loss: 0.6522 - val_acc: 0.8196\n",
            "Epoch 27/100\n",
            "167/167 [==============================] - 15s 90ms/step - loss: 0.5899 - acc: 0.8434 - val_loss: 0.6729 - val_acc: 0.8148\n",
            "Epoch 28/100\n",
            "167/167 [==============================] - 15s 90ms/step - loss: 0.5876 - acc: 0.8440 - val_loss: 0.6817 - val_acc: 0.8131\n",
            "Epoch 29/100\n",
            "167/167 [==============================] - 15s 89ms/step - loss: 0.5730 - acc: 0.8454 - val_loss: 0.6639 - val_acc: 0.8187\n",
            "\n",
            "Epoch 00029: ReduceLROnPlateau reducing learning rate to 0.0001250000059371814.\n",
            "Epoch 30/100\n",
            "167/167 [==============================] - 15s 89ms/step - loss: 0.5468 - acc: 0.8597 - val_loss: 0.6320 - val_acc: 0.8265\n",
            "Epoch 31/100\n",
            "167/167 [==============================] - 15s 90ms/step - loss: 0.5415 - acc: 0.8576 - val_loss: 0.6340 - val_acc: 0.8255\n",
            "Epoch 32/100\n",
            "167/167 [==============================] - 15s 88ms/step - loss: 0.5470 - acc: 0.8559 - val_loss: 0.6407 - val_acc: 0.8264\n",
            "Epoch 33/100\n",
            "167/167 [==============================] - 15s 90ms/step - loss: 0.5334 - acc: 0.8619 - val_loss: 0.6484 - val_acc: 0.8225\n",
            "\n",
            "Epoch 00033: ReduceLROnPlateau reducing learning rate to 6.25000029685907e-05.\n",
            "Epoch 34/100\n",
            "167/167 [==============================] - 15s 89ms/step - loss: 0.5300 - acc: 0.8634 - val_loss: 0.6219 - val_acc: 0.8307\n",
            "Epoch 35/100\n",
            "167/167 [==============================] - 15s 89ms/step - loss: 0.5286 - acc: 0.8650 - val_loss: 0.6198 - val_acc: 0.8328\n",
            "Epoch 36/100\n",
            "167/167 [==============================] - 15s 90ms/step - loss: 0.5244 - acc: 0.8664 - val_loss: 0.6175 - val_acc: 0.8343\n",
            "Epoch 37/100\n",
            "167/167 [==============================] - 15s 89ms/step - loss: 0.5209 - acc: 0.8643 - val_loss: 0.6268 - val_acc: 0.8317\n",
            "Epoch 38/100\n",
            "167/167 [==============================] - 15s 90ms/step - loss: 0.5313 - acc: 0.8643 - val_loss: 0.6163 - val_acc: 0.8324\n",
            "Epoch 39/100\n",
            "167/167 [==============================] - 15s 90ms/step - loss: 0.5092 - acc: 0.8695 - val_loss: 0.6256 - val_acc: 0.8308\n",
            "Epoch 40/100\n",
            "167/167 [==============================] - 15s 90ms/step - loss: 0.5121 - acc: 0.8699 - val_loss: 0.6199 - val_acc: 0.8301\n",
            "Epoch 41/100\n",
            "167/167 [==============================] - 15s 91ms/step - loss: 0.5140 - acc: 0.8665 - val_loss: 0.6186 - val_acc: 0.8315\n",
            "\n",
            "Epoch 00041: ReduceLROnPlateau reducing learning rate to 3.125000148429535e-05.\n",
            "Epoch 42/100\n",
            "167/167 [==============================] - 15s 89ms/step - loss: 0.5095 - acc: 0.8703 - val_loss: 0.6118 - val_acc: 0.8336\n",
            "Epoch 43/100\n",
            "167/167 [==============================] - 15s 90ms/step - loss: 0.5047 - acc: 0.8734 - val_loss: 0.6132 - val_acc: 0.8351\n",
            "Epoch 44/100\n",
            "167/167 [==============================] - 15s 89ms/step - loss: 0.5045 - acc: 0.8702 - val_loss: 0.6148 - val_acc: 0.8329\n",
            "Epoch 45/100\n",
            "167/167 [==============================] - 15s 90ms/step - loss: 0.5088 - acc: 0.8679 - val_loss: 0.6111 - val_acc: 0.8341\n",
            "Epoch 46/100\n",
            "167/167 [==============================] - 15s 90ms/step - loss: 0.5036 - acc: 0.8727 - val_loss: 0.6107 - val_acc: 0.8339\n",
            "Epoch 47/100\n",
            "167/167 [==============================] - 15s 89ms/step - loss: 0.4969 - acc: 0.8742 - val_loss: 0.6100 - val_acc: 0.8348\n",
            "Epoch 48/100\n",
            "167/167 [==============================] - 15s 90ms/step - loss: 0.4963 - acc: 0.8748 - val_loss: 0.6108 - val_acc: 0.8363\n",
            "Epoch 49/100\n",
            "167/167 [==============================] - 15s 90ms/step - loss: 0.4988 - acc: 0.8719 - val_loss: 0.6112 - val_acc: 0.8345\n",
            "Epoch 50/100\n",
            "167/167 [==============================] - 15s 90ms/step - loss: 0.4965 - acc: 0.8732 - val_loss: 0.6101 - val_acc: 0.8329\n",
            "\n",
            "Epoch 00050: ReduceLROnPlateau reducing learning rate to 1.5625000742147677e-05.\n",
            "Epoch 51/100\n",
            "167/167 [==============================] - 15s 90ms/step - loss: 0.4859 - acc: 0.8786 - val_loss: 0.6083 - val_acc: 0.8339\n",
            "Epoch 52/100\n",
            "167/167 [==============================] - 15s 90ms/step - loss: 0.4919 - acc: 0.8779 - val_loss: 0.6141 - val_acc: 0.8335\n",
            "Epoch 53/100\n",
            "167/167 [==============================] - 15s 90ms/step - loss: 0.4908 - acc: 0.8763 - val_loss: 0.6095 - val_acc: 0.8340\n",
            "Epoch 54/100\n",
            "167/167 [==============================] - 15s 89ms/step - loss: 0.4938 - acc: 0.8758 - val_loss: 0.6100 - val_acc: 0.8349\n",
            "\n",
            "Epoch 00054: ReduceLROnPlateau reducing learning rate to 7.812500371073838e-06.\n",
            "Epoch 55/100\n",
            "167/167 [==============================] - 15s 90ms/step - loss: 0.4979 - acc: 0.8722 - val_loss: 0.6100 - val_acc: 0.8345\n",
            "Epoch 56/100\n",
            "167/167 [==============================] - 15s 89ms/step - loss: 0.4920 - acc: 0.8759 - val_loss: 0.6094 - val_acc: 0.8356\n",
            "Epoch 57/100\n",
            "167/167 [==============================] - 15s 90ms/step - loss: 0.4946 - acc: 0.8743 - val_loss: 0.6093 - val_acc: 0.8351\n",
            "\n",
            "Epoch 00057: ReduceLROnPlateau reducing learning rate to 3.906250185536919e-06.\n",
            "Epoch 58/100\n",
            "167/167 [==============================] - 15s 90ms/step - loss: 0.4851 - acc: 0.8781 - val_loss: 0.6099 - val_acc: 0.8345\n",
            "Epoch 59/100\n",
            "167/167 [==============================] - 15s 92ms/step - loss: 0.4896 - acc: 0.8739 - val_loss: 0.6098 - val_acc: 0.8349\n",
            "Epoch 60/100\n",
            "167/167 [==============================] - 15s 89ms/step - loss: 0.4852 - acc: 0.8787 - val_loss: 0.6095 - val_acc: 0.8343\n",
            "\n",
            "Epoch 00060: ReduceLROnPlateau reducing learning rate to 1.9531250927684596e-06.\n",
            "Epoch 61/100\n",
            "167/167 [==============================] - 15s 89ms/step - loss: 0.4877 - acc: 0.8771 - val_loss: 0.6089 - val_acc: 0.8343\n",
            "40/40 [==============================] - 2s 43ms/step - loss: 0.6298 - acc: 0.8331\n"
          ],
          "name": "stdout"
        },
        {
          "output_type": "display_data",
          "data": {
            "text/html": [
              "<br/>Waiting for W&B process to finish, PID 267<br/>Program ended successfully."
            ],
            "text/plain": [
              "<IPython.core.display.HTML object>"
            ]
          },
          "metadata": {
            "tags": []
          }
        },
        {
          "output_type": "display_data",
          "data": {
            "application/vnd.jupyter.widget-view+json": {
              "model_id": "6e6e43857a7d44f4a2c3bc94a8d43bf5",
              "version_minor": 0,
              "version_major": 2
            },
            "text/plain": [
              "VBox(children=(Label(value=' 4.00MB of 4.00MB uploaded (0.00MB deduped)\\r'), FloatProgress(value=1.0, max=1.0)…"
            ]
          },
          "metadata": {
            "tags": []
          }
        },
        {
          "output_type": "display_data",
          "data": {
            "text/html": [
              "Find user logs for this run at: <code>/content/wandb/run-20210304_110239-2x46e622/logs/debug.log</code>"
            ],
            "text/plain": [
              "<IPython.core.display.HTML object>"
            ]
          },
          "metadata": {
            "tags": []
          }
        },
        {
          "output_type": "display_data",
          "data": {
            "text/html": [
              "Find internal logs for this run at: <code>/content/wandb/run-20210304_110239-2x46e622/logs/debug-internal.log</code>"
            ],
            "text/plain": [
              "<IPython.core.display.HTML object>"
            ]
          },
          "metadata": {
            "tags": []
          }
        },
        {
          "output_type": "display_data",
          "data": {
            "text/html": [
              "<h3>Run summary:</h3><br/><style>\n",
              "    table.wandb td:nth-child(1) { padding: 0 10px; text-align: right }\n",
              "    </style><table class=\"wandb\">\n",
              "<tr><td>epoch</td><td>60</td></tr><tr><td>loss</td><td>0.48521</td></tr><tr><td>acc</td><td>0.87849</td></tr><tr><td>val_loss</td><td>0.60885</td></tr><tr><td>val_acc</td><td>0.83427</td></tr><tr><td>_runtime</td><td>966</td></tr><tr><td>_timestamp</td><td>1614856725</td></tr><tr><td>_step</td><td>61</td></tr><tr><td>best_val_loss</td><td>0.60828</td></tr><tr><td>best_epoch</td><td>50</td></tr><tr><td>Test Accuracy</td><td>0.833</td></tr></table>"
            ],
            "text/plain": [
              "<IPython.core.display.HTML object>"
            ]
          },
          "metadata": {
            "tags": []
          }
        },
        {
          "output_type": "display_data",
          "data": {
            "text/html": [
              "<h3>Run history:</h3><br/><style>\n",
              "    table.wandb td:nth-child(1) { padding: 0 10px; text-align: right }\n",
              "    </style><table class=\"wandb\">\n",
              "<tr><td>epoch</td><td>▁▁▁▁▂▂▂▂▂▃▃▃▃▃▃▄▄▄▄▄▅▅▅▅▅▅▆▆▆▆▆▆▇▇▇▇▇███</td></tr><tr><td>loss</td><td>█▆▅▄▄▄▃▃▃▂▂▂▂▂▂▂▂▁▁▁▁▁▁▁▁▁▁▁▁▁▁▁▁▁▁▁▁▁▁▁</td></tr><tr><td>acc</td><td>▁▃▄▅▅▅▆▆▆▇▇▇▇▇▇▇▇███████████████████████</td></tr><tr><td>val_loss</td><td>█▇█▄▄▃▃▃▃▂▂▂▂▂▂▁▁▁▁▁▁▁▁▁▁▁▁▁▁▁▁▁▁▁▁▁▁▁▁▁</td></tr><tr><td>val_acc</td><td>▁▃▃▅▅▆▆▆▆▇▇▇▇▇▇█████████████████████████</td></tr><tr><td>_runtime</td><td>▁▁▁▁▂▂▂▂▂▃▃▃▃▃▃▄▄▄▄▄▅▅▅▅▅▆▆▆▆▆▆▇▇▇▇▇████</td></tr><tr><td>_timestamp</td><td>▁▁▁▁▂▂▂▂▂▃▃▃▃▃▃▄▄▄▄▄▅▅▅▅▅▆▆▆▆▆▆▇▇▇▇▇████</td></tr><tr><td>_step</td><td>▁▁▁▁▂▂▂▂▂▃▃▃▃▃▃▄▄▄▄▄▅▅▅▅▅▅▆▆▆▆▆▇▇▇▇▇▇███</td></tr><tr><td>Test Accuracy</td><td>▁</td></tr></table><br/>"
            ],
            "text/plain": [
              "<IPython.core.display.HTML object>"
            ]
          },
          "metadata": {
            "tags": []
          }
        },
        {
          "output_type": "display_data",
          "data": {
            "text/html": [
              "Synced 5 W&B file(s), 1 media file(s), 2 artifact file(s) and 2 other file(s)"
            ],
            "text/plain": [
              "<IPython.core.display.HTML object>"
            ]
          },
          "metadata": {
            "tags": []
          }
        },
        {
          "output_type": "display_data",
          "data": {
            "text/html": [
              "\n",
              "                    <br/>Synced <strong style=\"color:#cdcd00\">warm-night-14</strong>: <a href=\"https://wandb.ai/ayush-thakur/nfnet/runs/2x46e622\" target=\"_blank\">https://wandb.ai/ayush-thakur/nfnet/runs/2x46e622</a><br/>\n",
              "                "
            ],
            "text/plain": [
              "<IPython.core.display.HTML object>"
            ]
          },
          "metadata": {
            "tags": []
          }
        }
      ]
    },
    {
      "cell_type": "markdown",
      "metadata": {
        "id": "B9VD3kPiAKbH"
      },
      "source": [
        "![](https://i.imgur.com/Lck3KTL.png)"
      ]
    }
  ]
}