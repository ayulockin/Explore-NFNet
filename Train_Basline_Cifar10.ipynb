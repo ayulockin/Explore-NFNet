{
  "nbformat": 4,
  "nbformat_minor": 0,
  "metadata": {
    "colab": {
      "name": "Train Basline Cifar10",
      "provenance": [],
      "collapsed_sections": [],
      "authorship_tag": "ABX9TyPAFfQ7S4mHMetVdMMlkkWY",
      "include_colab_link": true
    },
    "kernelspec": {
      "name": "python3",
      "display_name": "Python 3"
    },
    "accelerator": "GPU",
    "widgets": {
      "application/vnd.jupyter.widget-state+json": {
        "b3e449cc61014004b6bd077d035ce6f3": {
          "model_module": "@jupyter-widgets/controls",
          "model_name": "HBoxModel",
          "state": {
            "_view_name": "HBoxView",
            "_dom_classes": [],
            "_model_name": "HBoxModel",
            "_view_module": "@jupyter-widgets/controls",
            "_model_module_version": "1.5.0",
            "_view_count": null,
            "_view_module_version": "1.5.0",
            "box_style": "",
            "layout": "IPY_MODEL_e5fdf35de5b64c9e987e604d7c118b0e",
            "_model_module": "@jupyter-widgets/controls",
            "children": [
              "IPY_MODEL_ae1e04e12a2b45899fb063a6c0ca89cd",
              "IPY_MODEL_5696c90ccda34a5fa7b4a4e1cd582a74"
            ]
          }
        },
        "e5fdf35de5b64c9e987e604d7c118b0e": {
          "model_module": "@jupyter-widgets/base",
          "model_name": "LayoutModel",
          "state": {
            "_view_name": "LayoutView",
            "grid_template_rows": null,
            "right": null,
            "justify_content": null,
            "_view_module": "@jupyter-widgets/base",
            "overflow": null,
            "_model_module_version": "1.2.0",
            "_view_count": null,
            "flex_flow": null,
            "width": null,
            "min_width": null,
            "border": null,
            "align_items": null,
            "bottom": null,
            "_model_module": "@jupyter-widgets/base",
            "top": null,
            "grid_column": null,
            "overflow_y": null,
            "overflow_x": null,
            "grid_auto_flow": null,
            "grid_area": null,
            "grid_template_columns": null,
            "flex": null,
            "_model_name": "LayoutModel",
            "justify_items": null,
            "grid_row": null,
            "max_height": null,
            "align_content": null,
            "visibility": null,
            "align_self": null,
            "height": null,
            "min_height": null,
            "padding": null,
            "grid_auto_rows": null,
            "grid_gap": null,
            "max_width": null,
            "order": null,
            "_view_module_version": "1.2.0",
            "grid_template_areas": null,
            "object_position": null,
            "object_fit": null,
            "grid_auto_columns": null,
            "margin": null,
            "display": null,
            "left": null
          }
        },
        "ae1e04e12a2b45899fb063a6c0ca89cd": {
          "model_module": "@jupyter-widgets/controls",
          "model_name": "FloatProgressModel",
          "state": {
            "_view_name": "ProgressView",
            "style": "IPY_MODEL_3d11f721c86640e89f37cccfd1ce2fb0",
            "_dom_classes": [],
            "description": "Dl Completed...: 100%",
            "_model_name": "FloatProgressModel",
            "bar_style": "success",
            "max": 1,
            "_view_module": "@jupyter-widgets/controls",
            "_model_module_version": "1.5.0",
            "value": 1,
            "_view_count": null,
            "_view_module_version": "1.5.0",
            "orientation": "horizontal",
            "min": 0,
            "description_tooltip": null,
            "_model_module": "@jupyter-widgets/controls",
            "layout": "IPY_MODEL_b6b66983b0ed4debb8cf6a632174bf8e"
          }
        },
        "5696c90ccda34a5fa7b4a4e1cd582a74": {
          "model_module": "@jupyter-widgets/controls",
          "model_name": "HTMLModel",
          "state": {
            "_view_name": "HTMLView",
            "style": "IPY_MODEL_7ebac74191594a6f8a8996eccdc9f835",
            "_dom_classes": [],
            "description": "",
            "_model_name": "HTMLModel",
            "placeholder": "​",
            "_view_module": "@jupyter-widgets/controls",
            "_model_module_version": "1.5.0",
            "value": " 1/1 [00:04&lt;00:00,  4.80s/ url]",
            "_view_count": null,
            "_view_module_version": "1.5.0",
            "description_tooltip": null,
            "_model_module": "@jupyter-widgets/controls",
            "layout": "IPY_MODEL_6f478f48fe1145e0a5abe07aca5941c7"
          }
        },
        "3d11f721c86640e89f37cccfd1ce2fb0": {
          "model_module": "@jupyter-widgets/controls",
          "model_name": "ProgressStyleModel",
          "state": {
            "_view_name": "StyleView",
            "_model_name": "ProgressStyleModel",
            "description_width": "initial",
            "_view_module": "@jupyter-widgets/base",
            "_model_module_version": "1.5.0",
            "_view_count": null,
            "_view_module_version": "1.2.0",
            "bar_color": null,
            "_model_module": "@jupyter-widgets/controls"
          }
        },
        "b6b66983b0ed4debb8cf6a632174bf8e": {
          "model_module": "@jupyter-widgets/base",
          "model_name": "LayoutModel",
          "state": {
            "_view_name": "LayoutView",
            "grid_template_rows": null,
            "right": null,
            "justify_content": null,
            "_view_module": "@jupyter-widgets/base",
            "overflow": null,
            "_model_module_version": "1.2.0",
            "_view_count": null,
            "flex_flow": null,
            "width": null,
            "min_width": null,
            "border": null,
            "align_items": null,
            "bottom": null,
            "_model_module": "@jupyter-widgets/base",
            "top": null,
            "grid_column": null,
            "overflow_y": null,
            "overflow_x": null,
            "grid_auto_flow": null,
            "grid_area": null,
            "grid_template_columns": null,
            "flex": null,
            "_model_name": "LayoutModel",
            "justify_items": null,
            "grid_row": null,
            "max_height": null,
            "align_content": null,
            "visibility": null,
            "align_self": null,
            "height": null,
            "min_height": null,
            "padding": null,
            "grid_auto_rows": null,
            "grid_gap": null,
            "max_width": null,
            "order": null,
            "_view_module_version": "1.2.0",
            "grid_template_areas": null,
            "object_position": null,
            "object_fit": null,
            "grid_auto_columns": null,
            "margin": null,
            "display": null,
            "left": null
          }
        },
        "7ebac74191594a6f8a8996eccdc9f835": {
          "model_module": "@jupyter-widgets/controls",
          "model_name": "DescriptionStyleModel",
          "state": {
            "_view_name": "StyleView",
            "_model_name": "DescriptionStyleModel",
            "description_width": "",
            "_view_module": "@jupyter-widgets/base",
            "_model_module_version": "1.5.0",
            "_view_count": null,
            "_view_module_version": "1.2.0",
            "_model_module": "@jupyter-widgets/controls"
          }
        },
        "6f478f48fe1145e0a5abe07aca5941c7": {
          "model_module": "@jupyter-widgets/base",
          "model_name": "LayoutModel",
          "state": {
            "_view_name": "LayoutView",
            "grid_template_rows": null,
            "right": null,
            "justify_content": null,
            "_view_module": "@jupyter-widgets/base",
            "overflow": null,
            "_model_module_version": "1.2.0",
            "_view_count": null,
            "flex_flow": null,
            "width": null,
            "min_width": null,
            "border": null,
            "align_items": null,
            "bottom": null,
            "_model_module": "@jupyter-widgets/base",
            "top": null,
            "grid_column": null,
            "overflow_y": null,
            "overflow_x": null,
            "grid_auto_flow": null,
            "grid_area": null,
            "grid_template_columns": null,
            "flex": null,
            "_model_name": "LayoutModel",
            "justify_items": null,
            "grid_row": null,
            "max_height": null,
            "align_content": null,
            "visibility": null,
            "align_self": null,
            "height": null,
            "min_height": null,
            "padding": null,
            "grid_auto_rows": null,
            "grid_gap": null,
            "max_width": null,
            "order": null,
            "_view_module_version": "1.2.0",
            "grid_template_areas": null,
            "object_position": null,
            "object_fit": null,
            "grid_auto_columns": null,
            "margin": null,
            "display": null,
            "left": null
          }
        },
        "11c58434324848c4b11c1378eb3dcab0": {
          "model_module": "@jupyter-widgets/controls",
          "model_name": "HBoxModel",
          "state": {
            "_view_name": "HBoxView",
            "_dom_classes": [],
            "_model_name": "HBoxModel",
            "_view_module": "@jupyter-widgets/controls",
            "_model_module_version": "1.5.0",
            "_view_count": null,
            "_view_module_version": "1.5.0",
            "box_style": "",
            "layout": "IPY_MODEL_b9dab9e798b84194bb0693f594136caf",
            "_model_module": "@jupyter-widgets/controls",
            "children": [
              "IPY_MODEL_d5cbf393c945437aaaa943c35f8f7bd8",
              "IPY_MODEL_dde8fd4f869e45179b87c9684f9fad2e"
            ]
          }
        },
        "b9dab9e798b84194bb0693f594136caf": {
          "model_module": "@jupyter-widgets/base",
          "model_name": "LayoutModel",
          "state": {
            "_view_name": "LayoutView",
            "grid_template_rows": null,
            "right": null,
            "justify_content": null,
            "_view_module": "@jupyter-widgets/base",
            "overflow": null,
            "_model_module_version": "1.2.0",
            "_view_count": null,
            "flex_flow": null,
            "width": null,
            "min_width": null,
            "border": null,
            "align_items": null,
            "bottom": null,
            "_model_module": "@jupyter-widgets/base",
            "top": null,
            "grid_column": null,
            "overflow_y": null,
            "overflow_x": null,
            "grid_auto_flow": null,
            "grid_area": null,
            "grid_template_columns": null,
            "flex": null,
            "_model_name": "LayoutModel",
            "justify_items": null,
            "grid_row": null,
            "max_height": null,
            "align_content": null,
            "visibility": null,
            "align_self": null,
            "height": null,
            "min_height": null,
            "padding": null,
            "grid_auto_rows": null,
            "grid_gap": null,
            "max_width": null,
            "order": null,
            "_view_module_version": "1.2.0",
            "grid_template_areas": null,
            "object_position": null,
            "object_fit": null,
            "grid_auto_columns": null,
            "margin": null,
            "display": null,
            "left": null
          }
        },
        "d5cbf393c945437aaaa943c35f8f7bd8": {
          "model_module": "@jupyter-widgets/controls",
          "model_name": "FloatProgressModel",
          "state": {
            "_view_name": "ProgressView",
            "style": "IPY_MODEL_aba4c4665d014067a0a78c1de00f47a5",
            "_dom_classes": [],
            "description": "Dl Size...: 100%",
            "_model_name": "FloatProgressModel",
            "bar_style": "success",
            "max": 1,
            "_view_module": "@jupyter-widgets/controls",
            "_model_module_version": "1.5.0",
            "value": 1,
            "_view_count": null,
            "_view_module_version": "1.5.0",
            "orientation": "horizontal",
            "min": 0,
            "description_tooltip": null,
            "_model_module": "@jupyter-widgets/controls",
            "layout": "IPY_MODEL_c1d8a48ca3b34a2296bd6700d132fb7a"
          }
        },
        "dde8fd4f869e45179b87c9684f9fad2e": {
          "model_module": "@jupyter-widgets/controls",
          "model_name": "HTMLModel",
          "state": {
            "_view_name": "HTMLView",
            "style": "IPY_MODEL_7e504e13a72b4a3bb06737da17b9fd30",
            "_dom_classes": [],
            "description": "",
            "_model_name": "HTMLModel",
            "placeholder": "​",
            "_view_module": "@jupyter-widgets/controls",
            "_model_module_version": "1.5.0",
            "value": " 162/162 [00:04&lt;00:00, 33.97 MiB/s]",
            "_view_count": null,
            "_view_module_version": "1.5.0",
            "description_tooltip": null,
            "_model_module": "@jupyter-widgets/controls",
            "layout": "IPY_MODEL_6a7a47f125fe41b6979cbee837405196"
          }
        },
        "aba4c4665d014067a0a78c1de00f47a5": {
          "model_module": "@jupyter-widgets/controls",
          "model_name": "ProgressStyleModel",
          "state": {
            "_view_name": "StyleView",
            "_model_name": "ProgressStyleModel",
            "description_width": "initial",
            "_view_module": "@jupyter-widgets/base",
            "_model_module_version": "1.5.0",
            "_view_count": null,
            "_view_module_version": "1.2.0",
            "bar_color": null,
            "_model_module": "@jupyter-widgets/controls"
          }
        },
        "c1d8a48ca3b34a2296bd6700d132fb7a": {
          "model_module": "@jupyter-widgets/base",
          "model_name": "LayoutModel",
          "state": {
            "_view_name": "LayoutView",
            "grid_template_rows": null,
            "right": null,
            "justify_content": null,
            "_view_module": "@jupyter-widgets/base",
            "overflow": null,
            "_model_module_version": "1.2.0",
            "_view_count": null,
            "flex_flow": null,
            "width": null,
            "min_width": null,
            "border": null,
            "align_items": null,
            "bottom": null,
            "_model_module": "@jupyter-widgets/base",
            "top": null,
            "grid_column": null,
            "overflow_y": null,
            "overflow_x": null,
            "grid_auto_flow": null,
            "grid_area": null,
            "grid_template_columns": null,
            "flex": null,
            "_model_name": "LayoutModel",
            "justify_items": null,
            "grid_row": null,
            "max_height": null,
            "align_content": null,
            "visibility": null,
            "align_self": null,
            "height": null,
            "min_height": null,
            "padding": null,
            "grid_auto_rows": null,
            "grid_gap": null,
            "max_width": null,
            "order": null,
            "_view_module_version": "1.2.0",
            "grid_template_areas": null,
            "object_position": null,
            "object_fit": null,
            "grid_auto_columns": null,
            "margin": null,
            "display": null,
            "left": null
          }
        },
        "7e504e13a72b4a3bb06737da17b9fd30": {
          "model_module": "@jupyter-widgets/controls",
          "model_name": "DescriptionStyleModel",
          "state": {
            "_view_name": "StyleView",
            "_model_name": "DescriptionStyleModel",
            "description_width": "",
            "_view_module": "@jupyter-widgets/base",
            "_model_module_version": "1.5.0",
            "_view_count": null,
            "_view_module_version": "1.2.0",
            "_model_module": "@jupyter-widgets/controls"
          }
        },
        "6a7a47f125fe41b6979cbee837405196": {
          "model_module": "@jupyter-widgets/base",
          "model_name": "LayoutModel",
          "state": {
            "_view_name": "LayoutView",
            "grid_template_rows": null,
            "right": null,
            "justify_content": null,
            "_view_module": "@jupyter-widgets/base",
            "overflow": null,
            "_model_module_version": "1.2.0",
            "_view_count": null,
            "flex_flow": null,
            "width": null,
            "min_width": null,
            "border": null,
            "align_items": null,
            "bottom": null,
            "_model_module": "@jupyter-widgets/base",
            "top": null,
            "grid_column": null,
            "overflow_y": null,
            "overflow_x": null,
            "grid_auto_flow": null,
            "grid_area": null,
            "grid_template_columns": null,
            "flex": null,
            "_model_name": "LayoutModel",
            "justify_items": null,
            "grid_row": null,
            "max_height": null,
            "align_content": null,
            "visibility": null,
            "align_self": null,
            "height": null,
            "min_height": null,
            "padding": null,
            "grid_auto_rows": null,
            "grid_gap": null,
            "max_width": null,
            "order": null,
            "_view_module_version": "1.2.0",
            "grid_template_areas": null,
            "object_position": null,
            "object_fit": null,
            "grid_auto_columns": null,
            "margin": null,
            "display": null,
            "left": null
          }
        },
        "dbbdc173245b4a88b83297ca199114ab": {
          "model_module": "@jupyter-widgets/controls",
          "model_name": "HBoxModel",
          "state": {
            "_view_name": "HBoxView",
            "_dom_classes": [],
            "_model_name": "HBoxModel",
            "_view_module": "@jupyter-widgets/controls",
            "_model_module_version": "1.5.0",
            "_view_count": null,
            "_view_module_version": "1.5.0",
            "box_style": "",
            "layout": "IPY_MODEL_c8104952791e4d5b9b25d076c52e0daa",
            "_model_module": "@jupyter-widgets/controls",
            "children": [
              "IPY_MODEL_00d38e72b54c4a3ca90259873c151728",
              "IPY_MODEL_39cd57785f35436a986f924845015608"
            ]
          }
        },
        "c8104952791e4d5b9b25d076c52e0daa": {
          "model_module": "@jupyter-widgets/base",
          "model_name": "LayoutModel",
          "state": {
            "_view_name": "LayoutView",
            "grid_template_rows": null,
            "right": null,
            "justify_content": null,
            "_view_module": "@jupyter-widgets/base",
            "overflow": null,
            "_model_module_version": "1.2.0",
            "_view_count": null,
            "flex_flow": null,
            "width": null,
            "min_width": null,
            "border": null,
            "align_items": null,
            "bottom": null,
            "_model_module": "@jupyter-widgets/base",
            "top": null,
            "grid_column": null,
            "overflow_y": null,
            "overflow_x": null,
            "grid_auto_flow": null,
            "grid_area": null,
            "grid_template_columns": null,
            "flex": null,
            "_model_name": "LayoutModel",
            "justify_items": null,
            "grid_row": null,
            "max_height": null,
            "align_content": null,
            "visibility": null,
            "align_self": null,
            "height": null,
            "min_height": null,
            "padding": null,
            "grid_auto_rows": null,
            "grid_gap": null,
            "max_width": null,
            "order": null,
            "_view_module_version": "1.2.0",
            "grid_template_areas": null,
            "object_position": null,
            "object_fit": null,
            "grid_auto_columns": null,
            "margin": null,
            "display": null,
            "left": null
          }
        },
        "00d38e72b54c4a3ca90259873c151728": {
          "model_module": "@jupyter-widgets/controls",
          "model_name": "FloatProgressModel",
          "state": {
            "_view_name": "ProgressView",
            "style": "IPY_MODEL_d976df8eebc142d8841d2a93e2d2e92e",
            "_dom_classes": [],
            "description": "Extraction completed...: 100%",
            "_model_name": "FloatProgressModel",
            "bar_style": "success",
            "max": 1,
            "_view_module": "@jupyter-widgets/controls",
            "_model_module_version": "1.5.0",
            "value": 1,
            "_view_count": null,
            "_view_module_version": "1.5.0",
            "orientation": "horizontal",
            "min": 0,
            "description_tooltip": null,
            "_model_module": "@jupyter-widgets/controls",
            "layout": "IPY_MODEL_1edb3644058541788686f67bdcfa08c6"
          }
        },
        "39cd57785f35436a986f924845015608": {
          "model_module": "@jupyter-widgets/controls",
          "model_name": "HTMLModel",
          "state": {
            "_view_name": "HTMLView",
            "style": "IPY_MODEL_cf92d4ff2a7046c986b49bc2fe08cbef",
            "_dom_classes": [],
            "description": "",
            "_model_name": "HTMLModel",
            "placeholder": "​",
            "_view_module": "@jupyter-widgets/controls",
            "_model_module_version": "1.5.0",
            "value": " 1/1 [00:04&lt;00:00,  4.73s/ file]",
            "_view_count": null,
            "_view_module_version": "1.5.0",
            "description_tooltip": null,
            "_model_module": "@jupyter-widgets/controls",
            "layout": "IPY_MODEL_64f9555ecf754a8b93c09eb10d5daad0"
          }
        },
        "d976df8eebc142d8841d2a93e2d2e92e": {
          "model_module": "@jupyter-widgets/controls",
          "model_name": "ProgressStyleModel",
          "state": {
            "_view_name": "StyleView",
            "_model_name": "ProgressStyleModel",
            "description_width": "initial",
            "_view_module": "@jupyter-widgets/base",
            "_model_module_version": "1.5.0",
            "_view_count": null,
            "_view_module_version": "1.2.0",
            "bar_color": null,
            "_model_module": "@jupyter-widgets/controls"
          }
        },
        "1edb3644058541788686f67bdcfa08c6": {
          "model_module": "@jupyter-widgets/base",
          "model_name": "LayoutModel",
          "state": {
            "_view_name": "LayoutView",
            "grid_template_rows": null,
            "right": null,
            "justify_content": null,
            "_view_module": "@jupyter-widgets/base",
            "overflow": null,
            "_model_module_version": "1.2.0",
            "_view_count": null,
            "flex_flow": null,
            "width": null,
            "min_width": null,
            "border": null,
            "align_items": null,
            "bottom": null,
            "_model_module": "@jupyter-widgets/base",
            "top": null,
            "grid_column": null,
            "overflow_y": null,
            "overflow_x": null,
            "grid_auto_flow": null,
            "grid_area": null,
            "grid_template_columns": null,
            "flex": null,
            "_model_name": "LayoutModel",
            "justify_items": null,
            "grid_row": null,
            "max_height": null,
            "align_content": null,
            "visibility": null,
            "align_self": null,
            "height": null,
            "min_height": null,
            "padding": null,
            "grid_auto_rows": null,
            "grid_gap": null,
            "max_width": null,
            "order": null,
            "_view_module_version": "1.2.0",
            "grid_template_areas": null,
            "object_position": null,
            "object_fit": null,
            "grid_auto_columns": null,
            "margin": null,
            "display": null,
            "left": null
          }
        },
        "cf92d4ff2a7046c986b49bc2fe08cbef": {
          "model_module": "@jupyter-widgets/controls",
          "model_name": "DescriptionStyleModel",
          "state": {
            "_view_name": "StyleView",
            "_model_name": "DescriptionStyleModel",
            "description_width": "",
            "_view_module": "@jupyter-widgets/base",
            "_model_module_version": "1.5.0",
            "_view_count": null,
            "_view_module_version": "1.2.0",
            "_model_module": "@jupyter-widgets/controls"
          }
        },
        "64f9555ecf754a8b93c09eb10d5daad0": {
          "model_module": "@jupyter-widgets/base",
          "model_name": "LayoutModel",
          "state": {
            "_view_name": "LayoutView",
            "grid_template_rows": null,
            "right": null,
            "justify_content": null,
            "_view_module": "@jupyter-widgets/base",
            "overflow": null,
            "_model_module_version": "1.2.0",
            "_view_count": null,
            "flex_flow": null,
            "width": null,
            "min_width": null,
            "border": null,
            "align_items": null,
            "bottom": null,
            "_model_module": "@jupyter-widgets/base",
            "top": null,
            "grid_column": null,
            "overflow_y": null,
            "overflow_x": null,
            "grid_auto_flow": null,
            "grid_area": null,
            "grid_template_columns": null,
            "flex": null,
            "_model_name": "LayoutModel",
            "justify_items": null,
            "grid_row": null,
            "max_height": null,
            "align_content": null,
            "visibility": null,
            "align_self": null,
            "height": null,
            "min_height": null,
            "padding": null,
            "grid_auto_rows": null,
            "grid_gap": null,
            "max_width": null,
            "order": null,
            "_view_module_version": "1.2.0",
            "grid_template_areas": null,
            "object_position": null,
            "object_fit": null,
            "grid_auto_columns": null,
            "margin": null,
            "display": null,
            "left": null
          }
        },
        "466f863bd2cb43368294e68de817ca1c": {
          "model_module": "@jupyter-widgets/controls",
          "model_name": "HBoxModel",
          "state": {
            "_view_name": "HBoxView",
            "_dom_classes": [],
            "_model_name": "HBoxModel",
            "_view_module": "@jupyter-widgets/controls",
            "_model_module_version": "1.5.0",
            "_view_count": null,
            "_view_module_version": "1.5.0",
            "box_style": "",
            "layout": "IPY_MODEL_bcc276a72aaf425eb55faafdb828f42b",
            "_model_module": "@jupyter-widgets/controls",
            "children": [
              "IPY_MODEL_18c84e34994a4917b0f9b43d18b08fed",
              "IPY_MODEL_0955ef80f1c546f08173c044ca0de4ab"
            ]
          }
        },
        "bcc276a72aaf425eb55faafdb828f42b": {
          "model_module": "@jupyter-widgets/base",
          "model_name": "LayoutModel",
          "state": {
            "_view_name": "LayoutView",
            "grid_template_rows": null,
            "right": null,
            "justify_content": null,
            "_view_module": "@jupyter-widgets/base",
            "overflow": null,
            "_model_module_version": "1.2.0",
            "_view_count": null,
            "flex_flow": null,
            "width": null,
            "min_width": null,
            "border": null,
            "align_items": null,
            "bottom": null,
            "_model_module": "@jupyter-widgets/base",
            "top": null,
            "grid_column": null,
            "overflow_y": null,
            "overflow_x": null,
            "grid_auto_flow": null,
            "grid_area": null,
            "grid_template_columns": null,
            "flex": null,
            "_model_name": "LayoutModel",
            "justify_items": null,
            "grid_row": null,
            "max_height": null,
            "align_content": null,
            "visibility": null,
            "align_self": null,
            "height": null,
            "min_height": null,
            "padding": null,
            "grid_auto_rows": null,
            "grid_gap": null,
            "max_width": null,
            "order": null,
            "_view_module_version": "1.2.0",
            "grid_template_areas": null,
            "object_position": null,
            "object_fit": null,
            "grid_auto_columns": null,
            "margin": null,
            "display": null,
            "left": null
          }
        },
        "18c84e34994a4917b0f9b43d18b08fed": {
          "model_module": "@jupyter-widgets/controls",
          "model_name": "FloatProgressModel",
          "state": {
            "_view_name": "ProgressView",
            "style": "IPY_MODEL_d58d1e2fdcc047b7ac3af33a806b19c5",
            "_dom_classes": [],
            "description": "",
            "_model_name": "FloatProgressModel",
            "bar_style": "info",
            "max": 1,
            "_view_module": "@jupyter-widgets/controls",
            "_model_module_version": "1.5.0",
            "value": 1,
            "_view_count": null,
            "_view_module_version": "1.5.0",
            "orientation": "horizontal",
            "min": 0,
            "description_tooltip": null,
            "_model_module": "@jupyter-widgets/controls",
            "layout": "IPY_MODEL_7c4db3af590f42e99c4148af1063e5b0"
          }
        },
        "0955ef80f1c546f08173c044ca0de4ab": {
          "model_module": "@jupyter-widgets/controls",
          "model_name": "HTMLModel",
          "state": {
            "_view_name": "HTMLView",
            "style": "IPY_MODEL_8d5c8481a9d44c959e6fef261a2a3c39",
            "_dom_classes": [],
            "description": "",
            "_model_name": "HTMLModel",
            "placeholder": "​",
            "_view_module": "@jupyter-widgets/controls",
            "_model_module_version": "1.5.0",
            "value": " 50000/0 [00:27&lt;00:00, 1723.84 examples/s]",
            "_view_count": null,
            "_view_module_version": "1.5.0",
            "description_tooltip": null,
            "_model_module": "@jupyter-widgets/controls",
            "layout": "IPY_MODEL_13d038eb9c664972b21509119ce452b9"
          }
        },
        "d58d1e2fdcc047b7ac3af33a806b19c5": {
          "model_module": "@jupyter-widgets/controls",
          "model_name": "ProgressStyleModel",
          "state": {
            "_view_name": "StyleView",
            "_model_name": "ProgressStyleModel",
            "description_width": "initial",
            "_view_module": "@jupyter-widgets/base",
            "_model_module_version": "1.5.0",
            "_view_count": null,
            "_view_module_version": "1.2.0",
            "bar_color": null,
            "_model_module": "@jupyter-widgets/controls"
          }
        },
        "7c4db3af590f42e99c4148af1063e5b0": {
          "model_module": "@jupyter-widgets/base",
          "model_name": "LayoutModel",
          "state": {
            "_view_name": "LayoutView",
            "grid_template_rows": null,
            "right": null,
            "justify_content": null,
            "_view_module": "@jupyter-widgets/base",
            "overflow": null,
            "_model_module_version": "1.2.0",
            "_view_count": null,
            "flex_flow": null,
            "width": null,
            "min_width": null,
            "border": null,
            "align_items": null,
            "bottom": null,
            "_model_module": "@jupyter-widgets/base",
            "top": null,
            "grid_column": null,
            "overflow_y": null,
            "overflow_x": null,
            "grid_auto_flow": null,
            "grid_area": null,
            "grid_template_columns": null,
            "flex": null,
            "_model_name": "LayoutModel",
            "justify_items": null,
            "grid_row": null,
            "max_height": null,
            "align_content": null,
            "visibility": null,
            "align_self": null,
            "height": null,
            "min_height": null,
            "padding": null,
            "grid_auto_rows": null,
            "grid_gap": null,
            "max_width": null,
            "order": null,
            "_view_module_version": "1.2.0",
            "grid_template_areas": null,
            "object_position": null,
            "object_fit": null,
            "grid_auto_columns": null,
            "margin": null,
            "display": null,
            "left": null
          }
        },
        "8d5c8481a9d44c959e6fef261a2a3c39": {
          "model_module": "@jupyter-widgets/controls",
          "model_name": "DescriptionStyleModel",
          "state": {
            "_view_name": "StyleView",
            "_model_name": "DescriptionStyleModel",
            "description_width": "",
            "_view_module": "@jupyter-widgets/base",
            "_model_module_version": "1.5.0",
            "_view_count": null,
            "_view_module_version": "1.2.0",
            "_model_module": "@jupyter-widgets/controls"
          }
        },
        "13d038eb9c664972b21509119ce452b9": {
          "model_module": "@jupyter-widgets/base",
          "model_name": "LayoutModel",
          "state": {
            "_view_name": "LayoutView",
            "grid_template_rows": null,
            "right": null,
            "justify_content": null,
            "_view_module": "@jupyter-widgets/base",
            "overflow": null,
            "_model_module_version": "1.2.0",
            "_view_count": null,
            "flex_flow": null,
            "width": null,
            "min_width": null,
            "border": null,
            "align_items": null,
            "bottom": null,
            "_model_module": "@jupyter-widgets/base",
            "top": null,
            "grid_column": null,
            "overflow_y": null,
            "overflow_x": null,
            "grid_auto_flow": null,
            "grid_area": null,
            "grid_template_columns": null,
            "flex": null,
            "_model_name": "LayoutModel",
            "justify_items": null,
            "grid_row": null,
            "max_height": null,
            "align_content": null,
            "visibility": null,
            "align_self": null,
            "height": null,
            "min_height": null,
            "padding": null,
            "grid_auto_rows": null,
            "grid_gap": null,
            "max_width": null,
            "order": null,
            "_view_module_version": "1.2.0",
            "grid_template_areas": null,
            "object_position": null,
            "object_fit": null,
            "grid_auto_columns": null,
            "margin": null,
            "display": null,
            "left": null
          }
        },
        "11e75f86cc04409b93747a7ee635fe3f": {
          "model_module": "@jupyter-widgets/controls",
          "model_name": "HBoxModel",
          "state": {
            "_view_name": "HBoxView",
            "_dom_classes": [],
            "_model_name": "HBoxModel",
            "_view_module": "@jupyter-widgets/controls",
            "_model_module_version": "1.5.0",
            "_view_count": null,
            "_view_module_version": "1.5.0",
            "box_style": "",
            "layout": "IPY_MODEL_2c33c8e778794d3fa5a65816f60cdc45",
            "_model_module": "@jupyter-widgets/controls",
            "children": [
              "IPY_MODEL_286dae35bf2e4b078e7aa02e24a2891f",
              "IPY_MODEL_ed376ce4af954e6c9e4ab65dd40a4389"
            ]
          }
        },
        "2c33c8e778794d3fa5a65816f60cdc45": {
          "model_module": "@jupyter-widgets/base",
          "model_name": "LayoutModel",
          "state": {
            "_view_name": "LayoutView",
            "grid_template_rows": null,
            "right": null,
            "justify_content": null,
            "_view_module": "@jupyter-widgets/base",
            "overflow": null,
            "_model_module_version": "1.2.0",
            "_view_count": null,
            "flex_flow": null,
            "width": null,
            "min_width": null,
            "border": null,
            "align_items": null,
            "bottom": null,
            "_model_module": "@jupyter-widgets/base",
            "top": null,
            "grid_column": null,
            "overflow_y": null,
            "overflow_x": null,
            "grid_auto_flow": null,
            "grid_area": null,
            "grid_template_columns": null,
            "flex": null,
            "_model_name": "LayoutModel",
            "justify_items": null,
            "grid_row": null,
            "max_height": null,
            "align_content": null,
            "visibility": null,
            "align_self": null,
            "height": null,
            "min_height": null,
            "padding": null,
            "grid_auto_rows": null,
            "grid_gap": null,
            "max_width": null,
            "order": null,
            "_view_module_version": "1.2.0",
            "grid_template_areas": null,
            "object_position": null,
            "object_fit": null,
            "grid_auto_columns": null,
            "margin": null,
            "display": null,
            "left": null
          }
        },
        "286dae35bf2e4b078e7aa02e24a2891f": {
          "model_module": "@jupyter-widgets/controls",
          "model_name": "FloatProgressModel",
          "state": {
            "_view_name": "ProgressView",
            "style": "IPY_MODEL_8e953d3eb07a4a33a4cffabf5ea338f5",
            "_dom_classes": [],
            "description": " 93%",
            "_model_name": "FloatProgressModel",
            "bar_style": "danger",
            "max": 50000,
            "_view_module": "@jupyter-widgets/controls",
            "_model_module_version": "1.5.0",
            "value": 46626,
            "_view_count": null,
            "_view_module_version": "1.5.0",
            "orientation": "horizontal",
            "min": 0,
            "description_tooltip": null,
            "_model_module": "@jupyter-widgets/controls",
            "layout": "IPY_MODEL_05d506e4c9d34880abc3aeace66243d5"
          }
        },
        "ed376ce4af954e6c9e4ab65dd40a4389": {
          "model_module": "@jupyter-widgets/controls",
          "model_name": "HTMLModel",
          "state": {
            "_view_name": "HTMLView",
            "style": "IPY_MODEL_8785546613d840fd98bd9b7cef8da66e",
            "_dom_classes": [],
            "description": "",
            "_model_name": "HTMLModel",
            "placeholder": "​",
            "_view_module": "@jupyter-widgets/controls",
            "_model_module_version": "1.5.0",
            "value": " 46626/50000 [00:00&lt;00:00, 58540.23 examples/s]",
            "_view_count": null,
            "_view_module_version": "1.5.0",
            "description_tooltip": null,
            "_model_module": "@jupyter-widgets/controls",
            "layout": "IPY_MODEL_45c0f5ae30764deb8a3ef3a90311d1d3"
          }
        },
        "8e953d3eb07a4a33a4cffabf5ea338f5": {
          "model_module": "@jupyter-widgets/controls",
          "model_name": "ProgressStyleModel",
          "state": {
            "_view_name": "StyleView",
            "_model_name": "ProgressStyleModel",
            "description_width": "initial",
            "_view_module": "@jupyter-widgets/base",
            "_model_module_version": "1.5.0",
            "_view_count": null,
            "_view_module_version": "1.2.0",
            "bar_color": null,
            "_model_module": "@jupyter-widgets/controls"
          }
        },
        "05d506e4c9d34880abc3aeace66243d5": {
          "model_module": "@jupyter-widgets/base",
          "model_name": "LayoutModel",
          "state": {
            "_view_name": "LayoutView",
            "grid_template_rows": null,
            "right": null,
            "justify_content": null,
            "_view_module": "@jupyter-widgets/base",
            "overflow": null,
            "_model_module_version": "1.2.0",
            "_view_count": null,
            "flex_flow": null,
            "width": null,
            "min_width": null,
            "border": null,
            "align_items": null,
            "bottom": null,
            "_model_module": "@jupyter-widgets/base",
            "top": null,
            "grid_column": null,
            "overflow_y": null,
            "overflow_x": null,
            "grid_auto_flow": null,
            "grid_area": null,
            "grid_template_columns": null,
            "flex": null,
            "_model_name": "LayoutModel",
            "justify_items": null,
            "grid_row": null,
            "max_height": null,
            "align_content": null,
            "visibility": null,
            "align_self": null,
            "height": null,
            "min_height": null,
            "padding": null,
            "grid_auto_rows": null,
            "grid_gap": null,
            "max_width": null,
            "order": null,
            "_view_module_version": "1.2.0",
            "grid_template_areas": null,
            "object_position": null,
            "object_fit": null,
            "grid_auto_columns": null,
            "margin": null,
            "display": null,
            "left": null
          }
        },
        "8785546613d840fd98bd9b7cef8da66e": {
          "model_module": "@jupyter-widgets/controls",
          "model_name": "DescriptionStyleModel",
          "state": {
            "_view_name": "StyleView",
            "_model_name": "DescriptionStyleModel",
            "description_width": "",
            "_view_module": "@jupyter-widgets/base",
            "_model_module_version": "1.5.0",
            "_view_count": null,
            "_view_module_version": "1.2.0",
            "_model_module": "@jupyter-widgets/controls"
          }
        },
        "45c0f5ae30764deb8a3ef3a90311d1d3": {
          "model_module": "@jupyter-widgets/base",
          "model_name": "LayoutModel",
          "state": {
            "_view_name": "LayoutView",
            "grid_template_rows": null,
            "right": null,
            "justify_content": null,
            "_view_module": "@jupyter-widgets/base",
            "overflow": null,
            "_model_module_version": "1.2.0",
            "_view_count": null,
            "flex_flow": null,
            "width": null,
            "min_width": null,
            "border": null,
            "align_items": null,
            "bottom": null,
            "_model_module": "@jupyter-widgets/base",
            "top": null,
            "grid_column": null,
            "overflow_y": null,
            "overflow_x": null,
            "grid_auto_flow": null,
            "grid_area": null,
            "grid_template_columns": null,
            "flex": null,
            "_model_name": "LayoutModel",
            "justify_items": null,
            "grid_row": null,
            "max_height": null,
            "align_content": null,
            "visibility": null,
            "align_self": null,
            "height": null,
            "min_height": null,
            "padding": null,
            "grid_auto_rows": null,
            "grid_gap": null,
            "max_width": null,
            "order": null,
            "_view_module_version": "1.2.0",
            "grid_template_areas": null,
            "object_position": null,
            "object_fit": null,
            "grid_auto_columns": null,
            "margin": null,
            "display": null,
            "left": null
          }
        },
        "8f6b7efd5ed54a5eb15ce210c5432183": {
          "model_module": "@jupyter-widgets/controls",
          "model_name": "HBoxModel",
          "state": {
            "_view_name": "HBoxView",
            "_dom_classes": [],
            "_model_name": "HBoxModel",
            "_view_module": "@jupyter-widgets/controls",
            "_model_module_version": "1.5.0",
            "_view_count": null,
            "_view_module_version": "1.5.0",
            "box_style": "",
            "layout": "IPY_MODEL_7c5a2ffaede349808f37d3c7cf6d3946",
            "_model_module": "@jupyter-widgets/controls",
            "children": [
              "IPY_MODEL_5439fc30cbd74d789bb9459099558fac",
              "IPY_MODEL_7323cab26e97470cba5380f963466736"
            ]
          }
        },
        "7c5a2ffaede349808f37d3c7cf6d3946": {
          "model_module": "@jupyter-widgets/base",
          "model_name": "LayoutModel",
          "state": {
            "_view_name": "LayoutView",
            "grid_template_rows": null,
            "right": null,
            "justify_content": null,
            "_view_module": "@jupyter-widgets/base",
            "overflow": null,
            "_model_module_version": "1.2.0",
            "_view_count": null,
            "flex_flow": null,
            "width": null,
            "min_width": null,
            "border": null,
            "align_items": null,
            "bottom": null,
            "_model_module": "@jupyter-widgets/base",
            "top": null,
            "grid_column": null,
            "overflow_y": null,
            "overflow_x": null,
            "grid_auto_flow": null,
            "grid_area": null,
            "grid_template_columns": null,
            "flex": null,
            "_model_name": "LayoutModel",
            "justify_items": null,
            "grid_row": null,
            "max_height": null,
            "align_content": null,
            "visibility": null,
            "align_self": null,
            "height": null,
            "min_height": null,
            "padding": null,
            "grid_auto_rows": null,
            "grid_gap": null,
            "max_width": null,
            "order": null,
            "_view_module_version": "1.2.0",
            "grid_template_areas": null,
            "object_position": null,
            "object_fit": null,
            "grid_auto_columns": null,
            "margin": null,
            "display": null,
            "left": null
          }
        },
        "5439fc30cbd74d789bb9459099558fac": {
          "model_module": "@jupyter-widgets/controls",
          "model_name": "FloatProgressModel",
          "state": {
            "_view_name": "ProgressView",
            "style": "IPY_MODEL_59cd6a24233446c89cd8801348a033b5",
            "_dom_classes": [],
            "description": "",
            "_model_name": "FloatProgressModel",
            "bar_style": "info",
            "max": 1,
            "_view_module": "@jupyter-widgets/controls",
            "_model_module_version": "1.5.0",
            "value": 1,
            "_view_count": null,
            "_view_module_version": "1.5.0",
            "orientation": "horizontal",
            "min": 0,
            "description_tooltip": null,
            "_model_module": "@jupyter-widgets/controls",
            "layout": "IPY_MODEL_2bbb4e6c65434de8a467d56e9209ef72"
          }
        },
        "7323cab26e97470cba5380f963466736": {
          "model_module": "@jupyter-widgets/controls",
          "model_name": "HTMLModel",
          "state": {
            "_view_name": "HTMLView",
            "style": "IPY_MODEL_ca97dece5a6d48199ad6c9f978e4eb53",
            "_dom_classes": [],
            "description": "",
            "_model_name": "HTMLModel",
            "placeholder": "​",
            "_view_module": "@jupyter-widgets/controls",
            "_model_module_version": "1.5.0",
            "value": " 10000/0 [00:05&lt;00:00, 1782.51 examples/s]",
            "_view_count": null,
            "_view_module_version": "1.5.0",
            "description_tooltip": null,
            "_model_module": "@jupyter-widgets/controls",
            "layout": "IPY_MODEL_691ed626c12e4a9bb54f4e2c56c07624"
          }
        },
        "59cd6a24233446c89cd8801348a033b5": {
          "model_module": "@jupyter-widgets/controls",
          "model_name": "ProgressStyleModel",
          "state": {
            "_view_name": "StyleView",
            "_model_name": "ProgressStyleModel",
            "description_width": "initial",
            "_view_module": "@jupyter-widgets/base",
            "_model_module_version": "1.5.0",
            "_view_count": null,
            "_view_module_version": "1.2.0",
            "bar_color": null,
            "_model_module": "@jupyter-widgets/controls"
          }
        },
        "2bbb4e6c65434de8a467d56e9209ef72": {
          "model_module": "@jupyter-widgets/base",
          "model_name": "LayoutModel",
          "state": {
            "_view_name": "LayoutView",
            "grid_template_rows": null,
            "right": null,
            "justify_content": null,
            "_view_module": "@jupyter-widgets/base",
            "overflow": null,
            "_model_module_version": "1.2.0",
            "_view_count": null,
            "flex_flow": null,
            "width": null,
            "min_width": null,
            "border": null,
            "align_items": null,
            "bottom": null,
            "_model_module": "@jupyter-widgets/base",
            "top": null,
            "grid_column": null,
            "overflow_y": null,
            "overflow_x": null,
            "grid_auto_flow": null,
            "grid_area": null,
            "grid_template_columns": null,
            "flex": null,
            "_model_name": "LayoutModel",
            "justify_items": null,
            "grid_row": null,
            "max_height": null,
            "align_content": null,
            "visibility": null,
            "align_self": null,
            "height": null,
            "min_height": null,
            "padding": null,
            "grid_auto_rows": null,
            "grid_gap": null,
            "max_width": null,
            "order": null,
            "_view_module_version": "1.2.0",
            "grid_template_areas": null,
            "object_position": null,
            "object_fit": null,
            "grid_auto_columns": null,
            "margin": null,
            "display": null,
            "left": null
          }
        },
        "ca97dece5a6d48199ad6c9f978e4eb53": {
          "model_module": "@jupyter-widgets/controls",
          "model_name": "DescriptionStyleModel",
          "state": {
            "_view_name": "StyleView",
            "_model_name": "DescriptionStyleModel",
            "description_width": "",
            "_view_module": "@jupyter-widgets/base",
            "_model_module_version": "1.5.0",
            "_view_count": null,
            "_view_module_version": "1.2.0",
            "_model_module": "@jupyter-widgets/controls"
          }
        },
        "691ed626c12e4a9bb54f4e2c56c07624": {
          "model_module": "@jupyter-widgets/base",
          "model_name": "LayoutModel",
          "state": {
            "_view_name": "LayoutView",
            "grid_template_rows": null,
            "right": null,
            "justify_content": null,
            "_view_module": "@jupyter-widgets/base",
            "overflow": null,
            "_model_module_version": "1.2.0",
            "_view_count": null,
            "flex_flow": null,
            "width": null,
            "min_width": null,
            "border": null,
            "align_items": null,
            "bottom": null,
            "_model_module": "@jupyter-widgets/base",
            "top": null,
            "grid_column": null,
            "overflow_y": null,
            "overflow_x": null,
            "grid_auto_flow": null,
            "grid_area": null,
            "grid_template_columns": null,
            "flex": null,
            "_model_name": "LayoutModel",
            "justify_items": null,
            "grid_row": null,
            "max_height": null,
            "align_content": null,
            "visibility": null,
            "align_self": null,
            "height": null,
            "min_height": null,
            "padding": null,
            "grid_auto_rows": null,
            "grid_gap": null,
            "max_width": null,
            "order": null,
            "_view_module_version": "1.2.0",
            "grid_template_areas": null,
            "object_position": null,
            "object_fit": null,
            "grid_auto_columns": null,
            "margin": null,
            "display": null,
            "left": null
          }
        },
        "4ab06abdb49a4a988f722e7881120fdb": {
          "model_module": "@jupyter-widgets/controls",
          "model_name": "HBoxModel",
          "state": {
            "_view_name": "HBoxView",
            "_dom_classes": [],
            "_model_name": "HBoxModel",
            "_view_module": "@jupyter-widgets/controls",
            "_model_module_version": "1.5.0",
            "_view_count": null,
            "_view_module_version": "1.5.0",
            "box_style": "",
            "layout": "IPY_MODEL_905644d3ef21474e8678abcbd8907a26",
            "_model_module": "@jupyter-widgets/controls",
            "children": [
              "IPY_MODEL_7fd09c3a543d4810b7cc3dbf648a265f",
              "IPY_MODEL_fe5971a9efb64ebb8434ed59c329be60"
            ]
          }
        },
        "905644d3ef21474e8678abcbd8907a26": {
          "model_module": "@jupyter-widgets/base",
          "model_name": "LayoutModel",
          "state": {
            "_view_name": "LayoutView",
            "grid_template_rows": null,
            "right": null,
            "justify_content": null,
            "_view_module": "@jupyter-widgets/base",
            "overflow": null,
            "_model_module_version": "1.2.0",
            "_view_count": null,
            "flex_flow": null,
            "width": null,
            "min_width": null,
            "border": null,
            "align_items": null,
            "bottom": null,
            "_model_module": "@jupyter-widgets/base",
            "top": null,
            "grid_column": null,
            "overflow_y": null,
            "overflow_x": null,
            "grid_auto_flow": null,
            "grid_area": null,
            "grid_template_columns": null,
            "flex": null,
            "_model_name": "LayoutModel",
            "justify_items": null,
            "grid_row": null,
            "max_height": null,
            "align_content": null,
            "visibility": null,
            "align_self": null,
            "height": null,
            "min_height": null,
            "padding": null,
            "grid_auto_rows": null,
            "grid_gap": null,
            "max_width": null,
            "order": null,
            "_view_module_version": "1.2.0",
            "grid_template_areas": null,
            "object_position": null,
            "object_fit": null,
            "grid_auto_columns": null,
            "margin": null,
            "display": null,
            "left": null
          }
        },
        "7fd09c3a543d4810b7cc3dbf648a265f": {
          "model_module": "@jupyter-widgets/controls",
          "model_name": "FloatProgressModel",
          "state": {
            "_view_name": "ProgressView",
            "style": "IPY_MODEL_21fb3edd471f466ebd74fcacbdcbb942",
            "_dom_classes": [],
            "description": "  0%",
            "_model_name": "FloatProgressModel",
            "bar_style": "danger",
            "max": 10000,
            "_view_module": "@jupyter-widgets/controls",
            "_model_module_version": "1.5.0",
            "value": 0,
            "_view_count": null,
            "_view_module_version": "1.5.0",
            "orientation": "horizontal",
            "min": 0,
            "description_tooltip": null,
            "_model_module": "@jupyter-widgets/controls",
            "layout": "IPY_MODEL_57aacdd2836f4cbd8519d328997095c2"
          }
        },
        "fe5971a9efb64ebb8434ed59c329be60": {
          "model_module": "@jupyter-widgets/controls",
          "model_name": "HTMLModel",
          "state": {
            "_view_name": "HTMLView",
            "style": "IPY_MODEL_2727d8506dcc4746955ba13229177517",
            "_dom_classes": [],
            "description": "",
            "_model_name": "HTMLModel",
            "placeholder": "​",
            "_view_module": "@jupyter-widgets/controls",
            "_model_module_version": "1.5.0",
            "value": " 0/10000 [00:00&lt;?, ? examples/s]",
            "_view_count": null,
            "_view_module_version": "1.5.0",
            "description_tooltip": null,
            "_model_module": "@jupyter-widgets/controls",
            "layout": "IPY_MODEL_3578d1a345bc4404a89c401118fa2fd8"
          }
        },
        "21fb3edd471f466ebd74fcacbdcbb942": {
          "model_module": "@jupyter-widgets/controls",
          "model_name": "ProgressStyleModel",
          "state": {
            "_view_name": "StyleView",
            "_model_name": "ProgressStyleModel",
            "description_width": "initial",
            "_view_module": "@jupyter-widgets/base",
            "_model_module_version": "1.5.0",
            "_view_count": null,
            "_view_module_version": "1.2.0",
            "bar_color": null,
            "_model_module": "@jupyter-widgets/controls"
          }
        },
        "57aacdd2836f4cbd8519d328997095c2": {
          "model_module": "@jupyter-widgets/base",
          "model_name": "LayoutModel",
          "state": {
            "_view_name": "LayoutView",
            "grid_template_rows": null,
            "right": null,
            "justify_content": null,
            "_view_module": "@jupyter-widgets/base",
            "overflow": null,
            "_model_module_version": "1.2.0",
            "_view_count": null,
            "flex_flow": null,
            "width": null,
            "min_width": null,
            "border": null,
            "align_items": null,
            "bottom": null,
            "_model_module": "@jupyter-widgets/base",
            "top": null,
            "grid_column": null,
            "overflow_y": null,
            "overflow_x": null,
            "grid_auto_flow": null,
            "grid_area": null,
            "grid_template_columns": null,
            "flex": null,
            "_model_name": "LayoutModel",
            "justify_items": null,
            "grid_row": null,
            "max_height": null,
            "align_content": null,
            "visibility": null,
            "align_self": null,
            "height": null,
            "min_height": null,
            "padding": null,
            "grid_auto_rows": null,
            "grid_gap": null,
            "max_width": null,
            "order": null,
            "_view_module_version": "1.2.0",
            "grid_template_areas": null,
            "object_position": null,
            "object_fit": null,
            "grid_auto_columns": null,
            "margin": null,
            "display": null,
            "left": null
          }
        },
        "2727d8506dcc4746955ba13229177517": {
          "model_module": "@jupyter-widgets/controls",
          "model_name": "DescriptionStyleModel",
          "state": {
            "_view_name": "StyleView",
            "_model_name": "DescriptionStyleModel",
            "description_width": "",
            "_view_module": "@jupyter-widgets/base",
            "_model_module_version": "1.5.0",
            "_view_count": null,
            "_view_module_version": "1.2.0",
            "_model_module": "@jupyter-widgets/controls"
          }
        },
        "3578d1a345bc4404a89c401118fa2fd8": {
          "model_module": "@jupyter-widgets/base",
          "model_name": "LayoutModel",
          "state": {
            "_view_name": "LayoutView",
            "grid_template_rows": null,
            "right": null,
            "justify_content": null,
            "_view_module": "@jupyter-widgets/base",
            "overflow": null,
            "_model_module_version": "1.2.0",
            "_view_count": null,
            "flex_flow": null,
            "width": null,
            "min_width": null,
            "border": null,
            "align_items": null,
            "bottom": null,
            "_model_module": "@jupyter-widgets/base",
            "top": null,
            "grid_column": null,
            "overflow_y": null,
            "overflow_x": null,
            "grid_auto_flow": null,
            "grid_area": null,
            "grid_template_columns": null,
            "flex": null,
            "_model_name": "LayoutModel",
            "justify_items": null,
            "grid_row": null,
            "max_height": null,
            "align_content": null,
            "visibility": null,
            "align_self": null,
            "height": null,
            "min_height": null,
            "padding": null,
            "grid_auto_rows": null,
            "grid_gap": null,
            "max_width": null,
            "order": null,
            "_view_module_version": "1.2.0",
            "grid_template_areas": null,
            "object_position": null,
            "object_fit": null,
            "grid_auto_columns": null,
            "margin": null,
            "display": null,
            "left": null
          }
        },
        "fce35186a4744bf5aa215eed821ad508": {
          "model_module": "@jupyter-widgets/controls",
          "model_name": "VBoxModel",
          "state": {
            "_view_name": "VBoxView",
            "_dom_classes": [],
            "_model_name": "VBoxModel",
            "_view_module": "@jupyter-widgets/controls",
            "_model_module_version": "1.5.0",
            "_view_count": null,
            "_view_module_version": "1.5.0",
            "box_style": "",
            "layout": "IPY_MODEL_a0c55f74d4694f9d9139ce958c9c3178",
            "_model_module": "@jupyter-widgets/controls",
            "children": [
              "IPY_MODEL_1f5a0e7441d14269b72eda7bb9c3fd0b",
              "IPY_MODEL_0e34c5065d9242e08e9eb47e4028eacb"
            ]
          }
        },
        "a0c55f74d4694f9d9139ce958c9c3178": {
          "model_module": "@jupyter-widgets/base",
          "model_name": "LayoutModel",
          "state": {
            "_view_name": "LayoutView",
            "grid_template_rows": null,
            "right": null,
            "justify_content": null,
            "_view_module": "@jupyter-widgets/base",
            "overflow": null,
            "_model_module_version": "1.2.0",
            "_view_count": null,
            "flex_flow": null,
            "width": null,
            "min_width": null,
            "border": null,
            "align_items": null,
            "bottom": null,
            "_model_module": "@jupyter-widgets/base",
            "top": null,
            "grid_column": null,
            "overflow_y": null,
            "overflow_x": null,
            "grid_auto_flow": null,
            "grid_area": null,
            "grid_template_columns": null,
            "flex": null,
            "_model_name": "LayoutModel",
            "justify_items": null,
            "grid_row": null,
            "max_height": null,
            "align_content": null,
            "visibility": null,
            "align_self": null,
            "height": null,
            "min_height": null,
            "padding": null,
            "grid_auto_rows": null,
            "grid_gap": null,
            "max_width": null,
            "order": null,
            "_view_module_version": "1.2.0",
            "grid_template_areas": null,
            "object_position": null,
            "object_fit": null,
            "grid_auto_columns": null,
            "margin": null,
            "display": null,
            "left": null
          }
        },
        "1f5a0e7441d14269b72eda7bb9c3fd0b": {
          "model_module": "@jupyter-widgets/controls",
          "model_name": "LabelModel",
          "state": {
            "_view_name": "LabelView",
            "style": "IPY_MODEL_876fd97d5ed64ba9b760f58589023669",
            "_dom_classes": [],
            "description": "",
            "_model_name": "LabelModel",
            "placeholder": "​",
            "_view_module": "@jupyter-widgets/controls",
            "_model_module_version": "1.5.0",
            "value": " 3.98MB of 3.98MB uploaded (0.00MB deduped)\r",
            "_view_count": null,
            "_view_module_version": "1.5.0",
            "description_tooltip": null,
            "_model_module": "@jupyter-widgets/controls",
            "layout": "IPY_MODEL_226963248c6c49b983de0340abcc94f1"
          }
        },
        "0e34c5065d9242e08e9eb47e4028eacb": {
          "model_module": "@jupyter-widgets/controls",
          "model_name": "FloatProgressModel",
          "state": {
            "_view_name": "ProgressView",
            "style": "IPY_MODEL_21806385c2164baa8ee66a90b8594518",
            "_dom_classes": [],
            "description": "",
            "_model_name": "FloatProgressModel",
            "bar_style": "",
            "max": 1,
            "_view_module": "@jupyter-widgets/controls",
            "_model_module_version": "1.5.0",
            "value": 1,
            "_view_count": null,
            "_view_module_version": "1.5.0",
            "orientation": "horizontal",
            "min": 0,
            "description_tooltip": null,
            "_model_module": "@jupyter-widgets/controls",
            "layout": "IPY_MODEL_34a59ab73c0b41b69acc96272bc4cc74"
          }
        },
        "876fd97d5ed64ba9b760f58589023669": {
          "model_module": "@jupyter-widgets/controls",
          "model_name": "DescriptionStyleModel",
          "state": {
            "_view_name": "StyleView",
            "_model_name": "DescriptionStyleModel",
            "description_width": "",
            "_view_module": "@jupyter-widgets/base",
            "_model_module_version": "1.5.0",
            "_view_count": null,
            "_view_module_version": "1.2.0",
            "_model_module": "@jupyter-widgets/controls"
          }
        },
        "226963248c6c49b983de0340abcc94f1": {
          "model_module": "@jupyter-widgets/base",
          "model_name": "LayoutModel",
          "state": {
            "_view_name": "LayoutView",
            "grid_template_rows": null,
            "right": null,
            "justify_content": null,
            "_view_module": "@jupyter-widgets/base",
            "overflow": null,
            "_model_module_version": "1.2.0",
            "_view_count": null,
            "flex_flow": null,
            "width": null,
            "min_width": null,
            "border": null,
            "align_items": null,
            "bottom": null,
            "_model_module": "@jupyter-widgets/base",
            "top": null,
            "grid_column": null,
            "overflow_y": null,
            "overflow_x": null,
            "grid_auto_flow": null,
            "grid_area": null,
            "grid_template_columns": null,
            "flex": null,
            "_model_name": "LayoutModel",
            "justify_items": null,
            "grid_row": null,
            "max_height": null,
            "align_content": null,
            "visibility": null,
            "align_self": null,
            "height": null,
            "min_height": null,
            "padding": null,
            "grid_auto_rows": null,
            "grid_gap": null,
            "max_width": null,
            "order": null,
            "_view_module_version": "1.2.0",
            "grid_template_areas": null,
            "object_position": null,
            "object_fit": null,
            "grid_auto_columns": null,
            "margin": null,
            "display": null,
            "left": null
          }
        },
        "21806385c2164baa8ee66a90b8594518": {
          "model_module": "@jupyter-widgets/controls",
          "model_name": "ProgressStyleModel",
          "state": {
            "_view_name": "StyleView",
            "_model_name": "ProgressStyleModel",
            "description_width": "",
            "_view_module": "@jupyter-widgets/base",
            "_model_module_version": "1.5.0",
            "_view_count": null,
            "_view_module_version": "1.2.0",
            "bar_color": null,
            "_model_module": "@jupyter-widgets/controls"
          }
        },
        "34a59ab73c0b41b69acc96272bc4cc74": {
          "model_module": "@jupyter-widgets/base",
          "model_name": "LayoutModel",
          "state": {
            "_view_name": "LayoutView",
            "grid_template_rows": null,
            "right": null,
            "justify_content": null,
            "_view_module": "@jupyter-widgets/base",
            "overflow": null,
            "_model_module_version": "1.2.0",
            "_view_count": null,
            "flex_flow": null,
            "width": null,
            "min_width": null,
            "border": null,
            "align_items": null,
            "bottom": null,
            "_model_module": "@jupyter-widgets/base",
            "top": null,
            "grid_column": null,
            "overflow_y": null,
            "overflow_x": null,
            "grid_auto_flow": null,
            "grid_area": null,
            "grid_template_columns": null,
            "flex": null,
            "_model_name": "LayoutModel",
            "justify_items": null,
            "grid_row": null,
            "max_height": null,
            "align_content": null,
            "visibility": null,
            "align_self": null,
            "height": null,
            "min_height": null,
            "padding": null,
            "grid_auto_rows": null,
            "grid_gap": null,
            "max_width": null,
            "order": null,
            "_view_module_version": "1.2.0",
            "grid_template_areas": null,
            "object_position": null,
            "object_fit": null,
            "grid_auto_columns": null,
            "margin": null,
            "display": null,
            "left": null
          }
        }
      }
    }
  },
  "cells": [
    {
      "cell_type": "markdown",
      "metadata": {
        "id": "view-in-github",
        "colab_type": "text"
      },
      "source": [
        "<a href=\"https://colab.research.google.com/github/ayulockin/Explore-NFNet/blob/main/Train_Basline_Cifar10.ipynb\" target=\"_parent\"><img src=\"https://colab.research.google.com/assets/colab-badge.svg\" alt=\"Open In Colab\"/></a>"
      ]
    },
    {
      "cell_type": "markdown",
      "metadata": {
        "id": "wQDcOtuJ9WYq"
      },
      "source": [
        "* This is the baseline notebook to setup training a ResNet20 model on Cifar10 dataset. \r\n",
        "* Horizontal Flip and Rotation is used as augmentation policy. Albumentation package is used to do the same."
      ]
    },
    {
      "cell_type": "markdown",
      "metadata": {
        "id": "Z8i6DNHr94le"
      },
      "source": [
        "# 🧰 Setups, Installations and Imports"
      ]
    },
    {
      "cell_type": "code",
      "metadata": {
        "id": "gEoLE6VB9oWm"
      },
      "source": [
        "%%capture\r\n",
        "!pip install wandb --upgrade\r\n",
        "!pip install albumentations"
      ],
      "execution_count": null,
      "outputs": []
    },
    {
      "cell_type": "code",
      "metadata": {
        "colab": {
          "base_uri": "https://localhost:8080/"
        },
        "id": "xl9NB7qu-RGa",
        "outputId": "1c2c5834-277d-4996-be7e-863ce0606ae0"
      },
      "source": [
        "!git clone https://github.com/ayulockin/Explore-NFNet"
      ],
      "execution_count": null,
      "outputs": [
        {
          "output_type": "stream",
          "text": [
            "Cloning into 'Explore-NFNet'...\n",
            "remote: Enumerating objects: 57, done.\u001b[K\n",
            "remote: Counting objects: 100% (57/57), done.\u001b[K\n",
            "remote: Compressing objects: 100% (51/51), done.\u001b[K\n",
            "remote: Total 57 (delta 21), reused 16 (delta 4), pack-reused 0\u001b[K\n",
            "Unpacking objects: 100% (57/57), done.\n"
          ],
          "name": "stdout"
        }
      ]
    },
    {
      "cell_type": "code",
      "metadata": {
        "colab": {
          "base_uri": "https://localhost:8080/"
        },
        "id": "3L-K1KWP--ew",
        "outputId": "06d1cea5-09c0-4e51-923e-0ba088eb0986"
      },
      "source": [
        "import tensorflow as tf\r\n",
        "print(tf.__version__)\r\n",
        "\r\n",
        "import tensorflow_datasets as tfds\r\n",
        "\r\n",
        "import sys\r\n",
        "sys.path.append(\"Explore-NFNet\")\r\n",
        "import os\r\n",
        "import cv2\r\n",
        "import numpy as np\r\n",
        "from functools import partial\r\n",
        "import matplotlib.pyplot as plt\r\n",
        "\r\n",
        "# Imports from the cloned repository\r\n",
        "from models.resnet import resnet_v1 \r\n",
        "from models.mini_vgg import get_mini_vgg\r\n",
        "\r\n",
        "# Augmentation related imports\r\n",
        "import albumentations as A\r\n",
        "\r\n",
        "# Seed everything for reproducibility\r\n",
        "def seed_everything():\r\n",
        "    # Set the random seeds\r\n",
        "    os.environ['TF_CUDNN_DETERMINISTIC'] = '1' \r\n",
        "    np.random.seed(hash(\"improves reproducibility\") % 2**32 - 1)\r\n",
        "    tf.random.set_seed(hash(\"by removing stochasticity\") % 2**32 - 1)\r\n",
        "\r\n",
        "seed_everything()\r\n",
        "\r\n",
        "# Avoid TensorFlow to allocate all the GPU at once. \r\n",
        "# Ref: https://www.tensorflow.org/guide/gpu\r\n",
        "gpus = tf.config.experimental.list_physical_devices('GPU')\r\n",
        "if gpus:\r\n",
        "  try:\r\n",
        "    # Currently, memory growth needs to be the same across GPUs\r\n",
        "    for gpu in gpus:\r\n",
        "      tf.config.experimental.set_memory_growth(gpu, True)\r\n",
        "    logical_gpus = tf.config.experimental.list_logical_devices('GPU')\r\n",
        "    print(len(gpus), \"Physical GPUs,\", len(logical_gpus), \"Logical GPUs\")\r\n",
        "  except RuntimeError as e:\r\n",
        "    # Memory growth must be set before GPUs have been initialized\r\n",
        "    print(e)"
      ],
      "execution_count": null,
      "outputs": [
        {
          "output_type": "stream",
          "text": [
            "2.4.1\n",
            "1 Physical GPUs, 1 Logical GPUs\n"
          ],
          "name": "stdout"
        }
      ]
    },
    {
      "cell_type": "code",
      "metadata": {
        "colab": {
          "base_uri": "https://localhost:8080/",
          "height": 72
        },
        "id": "f4l3n2nUCTXZ",
        "outputId": "70d10a07-832c-4c99-a21e-f27db7a8918e"
      },
      "source": [
        "import wandb\r\n",
        "from wandb.keras import WandbCallback\r\n",
        "\r\n",
        "wandb.login()"
      ],
      "execution_count": null,
      "outputs": [
        {
          "output_type": "display_data",
          "data": {
            "application/javascript": [
              "\n",
              "        window._wandbApiKey = new Promise((resolve, reject) => {\n",
              "            function loadScript(url) {\n",
              "            return new Promise(function(resolve, reject) {\n",
              "                let newScript = document.createElement(\"script\");\n",
              "                newScript.onerror = reject;\n",
              "                newScript.onload = resolve;\n",
              "                document.body.appendChild(newScript);\n",
              "                newScript.src = url;\n",
              "            });\n",
              "            }\n",
              "            loadScript(\"https://cdn.jsdelivr.net/npm/postmate/build/postmate.min.js\").then(() => {\n",
              "            const iframe = document.createElement('iframe')\n",
              "            iframe.style.cssText = \"width:0;height:0;border:none\"\n",
              "            document.body.appendChild(iframe)\n",
              "            const handshake = new Postmate({\n",
              "                container: iframe,\n",
              "                url: 'https://wandb.ai/authorize'\n",
              "            });\n",
              "            const timeout = setTimeout(() => reject(\"Couldn't auto authenticate\"), 5000)\n",
              "            handshake.then(function(child) {\n",
              "                child.on('authorize', data => {\n",
              "                    clearTimeout(timeout)\n",
              "                    resolve(data)\n",
              "                });\n",
              "            });\n",
              "            })\n",
              "        });\n",
              "    "
            ],
            "text/plain": [
              "<IPython.core.display.Javascript object>"
            ]
          },
          "metadata": {
            "tags": []
          }
        },
        {
          "output_type": "stream",
          "text": [
            "\u001b[34m\u001b[1mwandb\u001b[0m: Appending key for api.wandb.ai to your netrc file: /root/.netrc\n"
          ],
          "name": "stderr"
        },
        {
          "output_type": "execute_result",
          "data": {
            "text/plain": [
              "True"
            ]
          },
          "metadata": {
            "tags": []
          },
          "execution_count": 4
        }
      ]
    },
    {
      "cell_type": "code",
      "metadata": {
        "colab": {
          "base_uri": "https://localhost:8080/"
        },
        "id": "pznR5VjyIcXa",
        "outputId": "bba73c90-ac86-4738-f071-00b941ad4f2e"
      },
      "source": [
        "DATASET_NAME = 'cifar10'\r\n",
        "IMG_HEIGHT = 32\r\n",
        "IMG_WIDTH = 32\r\n",
        "NUM_CLASSES = 10\r\n",
        "SHUFFLE_BUFFER = 1024\r\n",
        "BATCH_SIZE = 1024\r\n",
        "EPOCHS = 100\r\n",
        "\r\n",
        "AUTOTUNE = tf.data.experimental.AUTOTUNE\r\n",
        "\r\n",
        "print(f'Global batch size is: {BATCH_SIZE}')"
      ],
      "execution_count": null,
      "outputs": [
        {
          "output_type": "stream",
          "text": [
            "Global batch size is: 1024\n"
          ],
          "name": "stdout"
        }
      ]
    },
    {
      "cell_type": "markdown",
      "metadata": {
        "id": "O0hNZfPXDK6s"
      },
      "source": [
        "# ⛄ Download and Prepare Dataset"
      ]
    },
    {
      "cell_type": "code",
      "metadata": {
        "id": "PSxPal9ECQEO",
        "colab": {
          "base_uri": "https://localhost:8080/",
          "height": 384,
          "referenced_widgets": [
            "b3e449cc61014004b6bd077d035ce6f3",
            "e5fdf35de5b64c9e987e604d7c118b0e",
            "ae1e04e12a2b45899fb063a6c0ca89cd",
            "5696c90ccda34a5fa7b4a4e1cd582a74",
            "3d11f721c86640e89f37cccfd1ce2fb0",
            "b6b66983b0ed4debb8cf6a632174bf8e",
            "7ebac74191594a6f8a8996eccdc9f835",
            "6f478f48fe1145e0a5abe07aca5941c7",
            "11c58434324848c4b11c1378eb3dcab0",
            "b9dab9e798b84194bb0693f594136caf",
            "d5cbf393c945437aaaa943c35f8f7bd8",
            "dde8fd4f869e45179b87c9684f9fad2e",
            "aba4c4665d014067a0a78c1de00f47a5",
            "c1d8a48ca3b34a2296bd6700d132fb7a",
            "7e504e13a72b4a3bb06737da17b9fd30",
            "6a7a47f125fe41b6979cbee837405196",
            "dbbdc173245b4a88b83297ca199114ab",
            "c8104952791e4d5b9b25d076c52e0daa",
            "00d38e72b54c4a3ca90259873c151728",
            "39cd57785f35436a986f924845015608",
            "d976df8eebc142d8841d2a93e2d2e92e",
            "1edb3644058541788686f67bdcfa08c6",
            "cf92d4ff2a7046c986b49bc2fe08cbef",
            "64f9555ecf754a8b93c09eb10d5daad0",
            "466f863bd2cb43368294e68de817ca1c",
            "bcc276a72aaf425eb55faafdb828f42b",
            "18c84e34994a4917b0f9b43d18b08fed",
            "0955ef80f1c546f08173c044ca0de4ab",
            "d58d1e2fdcc047b7ac3af33a806b19c5",
            "7c4db3af590f42e99c4148af1063e5b0",
            "8d5c8481a9d44c959e6fef261a2a3c39",
            "13d038eb9c664972b21509119ce452b9",
            "11e75f86cc04409b93747a7ee635fe3f",
            "2c33c8e778794d3fa5a65816f60cdc45",
            "286dae35bf2e4b078e7aa02e24a2891f",
            "ed376ce4af954e6c9e4ab65dd40a4389",
            "8e953d3eb07a4a33a4cffabf5ea338f5",
            "05d506e4c9d34880abc3aeace66243d5",
            "8785546613d840fd98bd9b7cef8da66e",
            "45c0f5ae30764deb8a3ef3a90311d1d3",
            "8f6b7efd5ed54a5eb15ce210c5432183",
            "7c5a2ffaede349808f37d3c7cf6d3946",
            "5439fc30cbd74d789bb9459099558fac",
            "7323cab26e97470cba5380f963466736",
            "59cd6a24233446c89cd8801348a033b5",
            "2bbb4e6c65434de8a467d56e9209ef72",
            "ca97dece5a6d48199ad6c9f978e4eb53",
            "691ed626c12e4a9bb54f4e2c56c07624",
            "4ab06abdb49a4a988f722e7881120fdb",
            "905644d3ef21474e8678abcbd8907a26",
            "7fd09c3a543d4810b7cc3dbf648a265f",
            "fe5971a9efb64ebb8434ed59c329be60",
            "21fb3edd471f466ebd74fcacbdcbb942",
            "57aacdd2836f4cbd8519d328997095c2",
            "2727d8506dcc4746955ba13229177517",
            "3578d1a345bc4404a89c401118fa2fd8"
          ]
        },
        "outputId": "07e2cc66-53e7-49c8-d81a-67a4b9bebce6"
      },
      "source": [
        "(train_ds, val_ds, test_ds), info = tfds.load(name=DATASET_NAME, \r\n",
        "                          split=[\"train[:85%]\", \"train[85%:]\", \"test\"], \r\n",
        "                          with_info=True,\r\n",
        "                          as_supervised=True)"
      ],
      "execution_count": null,
      "outputs": [
        {
          "output_type": "stream",
          "text": [
            "\u001b[1mDownloading and preparing dataset cifar10/3.0.2 (download: 162.17 MiB, generated: 132.40 MiB, total: 294.58 MiB) to /root/tensorflow_datasets/cifar10/3.0.2...\u001b[0m\n"
          ],
          "name": "stdout"
        },
        {
          "output_type": "display_data",
          "data": {
            "application/vnd.jupyter.widget-view+json": {
              "model_id": "b3e449cc61014004b6bd077d035ce6f3",
              "version_minor": 0,
              "version_major": 2
            },
            "text/plain": [
              "HBox(children=(FloatProgress(value=1.0, bar_style='info', description='Dl Completed...', max=1.0, style=Progre…"
            ]
          },
          "metadata": {
            "tags": []
          }
        },
        {
          "output_type": "display_data",
          "data": {
            "application/vnd.jupyter.widget-view+json": {
              "model_id": "11c58434324848c4b11c1378eb3dcab0",
              "version_minor": 0,
              "version_major": 2
            },
            "text/plain": [
              "HBox(children=(FloatProgress(value=1.0, bar_style='info', description='Dl Size...', max=1.0, style=ProgressSty…"
            ]
          },
          "metadata": {
            "tags": []
          }
        },
        {
          "output_type": "display_data",
          "data": {
            "application/vnd.jupyter.widget-view+json": {
              "model_id": "dbbdc173245b4a88b83297ca199114ab",
              "version_minor": 0,
              "version_major": 2
            },
            "text/plain": [
              "HBox(children=(FloatProgress(value=1.0, bar_style='info', description='Extraction completed...', max=1.0, styl…"
            ]
          },
          "metadata": {
            "tags": []
          }
        },
        {
          "output_type": "stream",
          "text": [
            "\n",
            "\n",
            "\n",
            "\n",
            "\n",
            "\n"
          ],
          "name": "stdout"
        },
        {
          "output_type": "display_data",
          "data": {
            "application/vnd.jupyter.widget-view+json": {
              "model_id": "466f863bd2cb43368294e68de817ca1c",
              "version_minor": 0,
              "version_major": 2
            },
            "text/plain": [
              "HBox(children=(FloatProgress(value=1.0, bar_style='info', max=1.0), HTML(value='')))"
            ]
          },
          "metadata": {
            "tags": []
          }
        },
        {
          "output_type": "stream",
          "text": [
            "\rShuffling and writing examples to /root/tensorflow_datasets/cifar10/3.0.2.incompleteEG4HAG/cifar10-train.tfrecord\n"
          ],
          "name": "stdout"
        },
        {
          "output_type": "display_data",
          "data": {
            "application/vnd.jupyter.widget-view+json": {
              "model_id": "11e75f86cc04409b93747a7ee635fe3f",
              "version_minor": 0,
              "version_major": 2
            },
            "text/plain": [
              "HBox(children=(FloatProgress(value=0.0, max=50000.0), HTML(value='')))"
            ]
          },
          "metadata": {
            "tags": []
          }
        },
        {
          "output_type": "stream",
          "text": [
            "\r"
          ],
          "name": "stdout"
        },
        {
          "output_type": "display_data",
          "data": {
            "application/vnd.jupyter.widget-view+json": {
              "model_id": "8f6b7efd5ed54a5eb15ce210c5432183",
              "version_minor": 0,
              "version_major": 2
            },
            "text/plain": [
              "HBox(children=(FloatProgress(value=1.0, bar_style='info', max=1.0), HTML(value='')))"
            ]
          },
          "metadata": {
            "tags": []
          }
        },
        {
          "output_type": "stream",
          "text": [
            "\rShuffling and writing examples to /root/tensorflow_datasets/cifar10/3.0.2.incompleteEG4HAG/cifar10-test.tfrecord\n"
          ],
          "name": "stdout"
        },
        {
          "output_type": "display_data",
          "data": {
            "application/vnd.jupyter.widget-view+json": {
              "model_id": "4ab06abdb49a4a988f722e7881120fdb",
              "version_minor": 0,
              "version_major": 2
            },
            "text/plain": [
              "HBox(children=(FloatProgress(value=0.0, max=10000.0), HTML(value='')))"
            ]
          },
          "metadata": {
            "tags": []
          }
        },
        {
          "output_type": "stream",
          "text": [
            "\u001b[1mDataset cifar10 downloaded and prepared to /root/tensorflow_datasets/cifar10/3.0.2. Subsequent calls will reuse this data.\u001b[0m\n",
            "\r"
          ],
          "name": "stdout"
        }
      ]
    },
    {
      "cell_type": "code",
      "metadata": {
        "id": "-9-yRafkGWIk"
      },
      "source": [
        "@tf.function\r\n",
        "def preprocess(image, label):\r\n",
        "    # preprocess image\r\n",
        "    image = tf.cast(image, tf.float32)\r\n",
        "    image = image/255.0\r\n",
        "\r\n",
        "    return image, label\r\n",
        "\r\n",
        "# Define the augmentation policies. Note that they are applied sequentially with some probability p.\r\n",
        "transforms = A.Compose([\r\n",
        "                A.HorizontalFlip(p=0.7),\r\n",
        "                A.Rotate(limit=30, p=0.7)\r\n",
        "        ])\r\n",
        "\r\n",
        "# Apply augmentation policies.\r\n",
        "def aug_fn(image):\r\n",
        "    data = {\"image\":image}\r\n",
        "    aug_data = transforms(**data)\r\n",
        "    aug_img = aug_data[\"image\"]\r\n",
        "\r\n",
        "    return aug_img\r\n",
        "\r\n",
        "@tf.function\r\n",
        "def apply_augmentation(image, label):\r\n",
        "    aug_img = tf.numpy_function(func=aug_fn, inp=[image], Tout=tf.float32)\r\n",
        "    aug_img.set_shape((IMG_HEIGHT, IMG_WIDTH, 3))\r\n",
        "    \r\n",
        "    return aug_img, label\r\n",
        "\r\n",
        "train_ds = (\r\n",
        "    train_ds\r\n",
        "    .shuffle(SHUFFLE_BUFFER)\r\n",
        "    .map(preprocess, num_parallel_calls=AUTOTUNE)\r\n",
        "    .map(apply_augmentation, num_parallel_calls=AUTOTUNE)\r\n",
        "    .batch(BATCH_SIZE)\r\n",
        "    .prefetch(AUTOTUNE)\r\n",
        ")\r\n",
        "\r\n",
        "val_ds = (\r\n",
        "    val_ds\r\n",
        "    .map(preprocess, num_parallel_calls=AUTOTUNE)\r\n",
        "    .batch(BATCH_SIZE)\r\n",
        "    .prefetch(AUTOTUNE)\r\n",
        ")\r\n",
        "\r\n",
        "test_ds = (\r\n",
        "    test_ds\r\n",
        "    .map(preprocess, num_parallel_calls=AUTOTUNE)\r\n",
        "    .batch(BATCH_SIZE)\r\n",
        "    .prefetch(AUTOTUNE)\r\n",
        ")"
      ],
      "execution_count": null,
      "outputs": []
    },
    {
      "cell_type": "code",
      "metadata": {
        "colab": {
          "base_uri": "https://localhost:8080/",
          "height": 610
        },
        "id": "uzWkS_AZGbdW",
        "outputId": "3bf6904c-893e-4819-a193-840a54a62b75"
      },
      "source": [
        "def show_batch(image_batch, label_batch):\r\n",
        "  plt.figure(figsize=(10,10))\r\n",
        "  for n in range(25):\r\n",
        "      ax = plt.subplot(5,5,n+1)\r\n",
        "      plt.imshow(image_batch[n])\r\n",
        "      # plt.title(f'{np.argmax(label_batch[n].numpy())}')\r\n",
        "      plt.title(f'{label_batch[n].numpy()}')\r\n",
        "      plt.axis('off')\r\n",
        "  \r\n",
        "image_batch, label_batch = next(iter(train_ds))\r\n",
        "show_batch(image_batch, label_batch)\r\n",
        "\r\n",
        "print(image_batch.shape, label_batch.shape)"
      ],
      "execution_count": null,
      "outputs": [
        {
          "output_type": "stream",
          "text": [
            "(1024, 32, 32, 3) (1024,)\n"
          ],
          "name": "stdout"
        },
        {
          "output_type": "display_data",
          "data": {
            "image/png": "[encoded data removed]",
            "text/plain": [
              "<Figure size 720x720 with 25 Axes>"
            ]
          },
          "metadata": {
            "tags": [],
            "needs_background": "light"
          }
        }
      ]
    },
    {
      "cell_type": "markdown",
      "metadata": {
        "id": "wcDd118WJpmf"
      },
      "source": [
        "# 🐤 Model"
      ]
    },
    {
      "cell_type": "code",
      "metadata": {
        "id": "jmaYHGFYJMQU",
        "colab": {
          "base_uri": "https://localhost:8080/"
        },
        "outputId": "92961a4e-6b9f-4527-8e46-44bd0b618216"
      },
      "source": [
        "def GetModel(use_bn):\r\n",
        "  return resnet_v1((IMG_HEIGHT, IMG_WIDTH, 3), 20, num_classes=NUM_CLASSES, use_bn=use_bn) ## Returns a ResNet20 model.\r\n",
        "\r\n",
        "tf.keras.backend.clear_session()\r\n",
        "test_model = GetModel(use_bn=True)\r\n",
        "test_model.summary()\r\n",
        "print(f\"Total learnable parameters: {test_model.count_params()/1e6} M\")"
      ],
      "execution_count": null,
      "outputs": [
        {
          "output_type": "stream",
          "text": [
            "Model: \"model\"\n",
            "__________________________________________________________________________________________________\n",
            "Layer (type)                    Output Shape         Param #     Connected to                     \n",
            "==================================================================================================\n",
            "input_1 (InputLayer)            [(None, 32, 32, 3)]  0                                            \n",
            "__________________________________________________________________________________________________\n",
            "conv2d (Conv2D)                 (None, 32, 32, 16)   448         input_1[0][0]                    \n",
            "__________________________________________________________________________________________________\n",
            "batch_normalization (BatchNorma (None, 32, 32, 16)   64          conv2d[0][0]                     \n",
            "__________________________________________________________________________________________________\n",
            "activation (Activation)         (None, 32, 32, 16)   0           batch_normalization[0][0]        \n",
            "__________________________________________________________________________________________________\n",
            "conv2d_1 (Conv2D)               (None, 32, 32, 16)   2320        activation[0][0]                 \n",
            "__________________________________________________________________________________________________\n",
            "batch_normalization_1 (BatchNor (None, 32, 32, 16)   64          conv2d_1[0][0]                   \n",
            "__________________________________________________________________________________________________\n",
            "activation_1 (Activation)       (None, 32, 32, 16)   0           batch_normalization_1[0][0]      \n",
            "__________________________________________________________________________________________________\n",
            "conv2d_2 (Conv2D)               (None, 32, 32, 16)   2320        activation_1[0][0]               \n",
            "__________________________________________________________________________________________________\n",
            "batch_normalization_2 (BatchNor (None, 32, 32, 16)   64          conv2d_2[0][0]                   \n",
            "__________________________________________________________________________________________________\n",
            "add (Add)                       (None, 32, 32, 16)   0           activation[0][0]                 \n",
            "                                                                 batch_normalization_2[0][0]      \n",
            "__________________________________________________________________________________________________\n",
            "activation_2 (Activation)       (None, 32, 32, 16)   0           add[0][0]                        \n",
            "__________________________________________________________________________________________________\n",
            "conv2d_3 (Conv2D)               (None, 32, 32, 16)   2320        activation_2[0][0]               \n",
            "__________________________________________________________________________________________________\n",
            "batch_normalization_3 (BatchNor (None, 32, 32, 16)   64          conv2d_3[0][0]                   \n",
            "__________________________________________________________________________________________________\n",
            "activation_3 (Activation)       (None, 32, 32, 16)   0           batch_normalization_3[0][0]      \n",
            "__________________________________________________________________________________________________\n",
            "conv2d_4 (Conv2D)               (None, 32, 32, 16)   2320        activation_3[0][0]               \n",
            "__________________________________________________________________________________________________\n",
            "batch_normalization_4 (BatchNor (None, 32, 32, 16)   64          conv2d_4[0][0]                   \n",
            "__________________________________________________________________________________________________\n",
            "add_1 (Add)                     (None, 32, 32, 16)   0           activation_2[0][0]               \n",
            "                                                                 batch_normalization_4[0][0]      \n",
            "__________________________________________________________________________________________________\n",
            "activation_4 (Activation)       (None, 32, 32, 16)   0           add_1[0][0]                      \n",
            "__________________________________________________________________________________________________\n",
            "conv2d_5 (Conv2D)               (None, 32, 32, 16)   2320        activation_4[0][0]               \n",
            "__________________________________________________________________________________________________\n",
            "batch_normalization_5 (BatchNor (None, 32, 32, 16)   64          conv2d_5[0][0]                   \n",
            "__________________________________________________________________________________________________\n",
            "activation_5 (Activation)       (None, 32, 32, 16)   0           batch_normalization_5[0][0]      \n",
            "__________________________________________________________________________________________________\n",
            "conv2d_6 (Conv2D)               (None, 32, 32, 16)   2320        activation_5[0][0]               \n",
            "__________________________________________________________________________________________________\n",
            "batch_normalization_6 (BatchNor (None, 32, 32, 16)   64          conv2d_6[0][0]                   \n",
            "__________________________________________________________________________________________________\n",
            "add_2 (Add)                     (None, 32, 32, 16)   0           activation_4[0][0]               \n",
            "                                                                 batch_normalization_6[0][0]      \n",
            "__________________________________________________________________________________________________\n",
            "activation_6 (Activation)       (None, 32, 32, 16)   0           add_2[0][0]                      \n",
            "__________________________________________________________________________________________________\n",
            "conv2d_7 (Conv2D)               (None, 16, 16, 32)   4640        activation_6[0][0]               \n",
            "__________________________________________________________________________________________________\n",
            "batch_normalization_7 (BatchNor (None, 16, 16, 32)   128         conv2d_7[0][0]                   \n",
            "__________________________________________________________________________________________________\n",
            "activation_7 (Activation)       (None, 16, 16, 32)   0           batch_normalization_7[0][0]      \n",
            "__________________________________________________________________________________________________\n",
            "conv2d_8 (Conv2D)               (None, 16, 16, 32)   9248        activation_7[0][0]               \n",
            "__________________________________________________________________________________________________\n",
            "conv2d_9 (Conv2D)               (None, 16, 16, 32)   544         activation_6[0][0]               \n",
            "__________________________________________________________________________________________________\n",
            "batch_normalization_8 (BatchNor (None, 16, 16, 32)   128         conv2d_8[0][0]                   \n",
            "__________________________________________________________________________________________________\n",
            "add_3 (Add)                     (None, 16, 16, 32)   0           conv2d_9[0][0]                   \n",
            "                                                                 batch_normalization_8[0][0]      \n",
            "__________________________________________________________________________________________________\n",
            "activation_8 (Activation)       (None, 16, 16, 32)   0           add_3[0][0]                      \n",
            "__________________________________________________________________________________________________\n",
            "conv2d_10 (Conv2D)              (None, 16, 16, 32)   9248        activation_8[0][0]               \n",
            "__________________________________________________________________________________________________\n",
            "batch_normalization_9 (BatchNor (None, 16, 16, 32)   128         conv2d_10[0][0]                  \n",
            "__________________________________________________________________________________________________\n",
            "activation_9 (Activation)       (None, 16, 16, 32)   0           batch_normalization_9[0][0]      \n",
            "__________________________________________________________________________________________________\n",
            "conv2d_11 (Conv2D)              (None, 16, 16, 32)   9248        activation_9[0][0]               \n",
            "__________________________________________________________________________________________________\n",
            "batch_normalization_10 (BatchNo (None, 16, 16, 32)   128         conv2d_11[0][0]                  \n",
            "__________________________________________________________________________________________________\n",
            "add_4 (Add)                     (None, 16, 16, 32)   0           activation_8[0][0]               \n",
            "                                                                 batch_normalization_10[0][0]     \n",
            "__________________________________________________________________________________________________\n",
            "activation_10 (Activation)      (None, 16, 16, 32)   0           add_4[0][0]                      \n",
            "__________________________________________________________________________________________________\n",
            "conv2d_12 (Conv2D)              (None, 16, 16, 32)   9248        activation_10[0][0]              \n",
            "__________________________________________________________________________________________________\n",
            "batch_normalization_11 (BatchNo (None, 16, 16, 32)   128         conv2d_12[0][0]                  \n",
            "__________________________________________________________________________________________________\n",
            "activation_11 (Activation)      (None, 16, 16, 32)   0           batch_normalization_11[0][0]     \n",
            "__________________________________________________________________________________________________\n",
            "conv2d_13 (Conv2D)              (None, 16, 16, 32)   9248        activation_11[0][0]              \n",
            "__________________________________________________________________________________________________\n",
            "batch_normalization_12 (BatchNo (None, 16, 16, 32)   128         conv2d_13[0][0]                  \n",
            "__________________________________________________________________________________________________\n",
            "add_5 (Add)                     (None, 16, 16, 32)   0           activation_10[0][0]              \n",
            "                                                                 batch_normalization_12[0][0]     \n",
            "__________________________________________________________________________________________________\n",
            "activation_12 (Activation)      (None, 16, 16, 32)   0           add_5[0][0]                      \n",
            "__________________________________________________________________________________________________\n",
            "conv2d_14 (Conv2D)              (None, 8, 8, 64)     18496       activation_12[0][0]              \n",
            "__________________________________________________________________________________________________\n",
            "batch_normalization_13 (BatchNo (None, 8, 8, 64)     256         conv2d_14[0][0]                  \n",
            "__________________________________________________________________________________________________\n",
            "activation_13 (Activation)      (None, 8, 8, 64)     0           batch_normalization_13[0][0]     \n",
            "__________________________________________________________________________________________________\n",
            "conv2d_15 (Conv2D)              (None, 8, 8, 64)     36928       activation_13[0][0]              \n",
            "__________________________________________________________________________________________________\n",
            "conv2d_16 (Conv2D)              (None, 8, 8, 64)     2112        activation_12[0][0]              \n",
            "__________________________________________________________________________________________________\n",
            "batch_normalization_14 (BatchNo (None, 8, 8, 64)     256         conv2d_15[0][0]                  \n",
            "__________________________________________________________________________________________________\n",
            "add_6 (Add)                     (None, 8, 8, 64)     0           conv2d_16[0][0]                  \n",
            "                                                                 batch_normalization_14[0][0]     \n",
            "__________________________________________________________________________________________________\n",
            "activation_14 (Activation)      (None, 8, 8, 64)     0           add_6[0][0]                      \n",
            "__________________________________________________________________________________________________\n",
            "conv2d_17 (Conv2D)              (None, 8, 8, 64)     36928       activation_14[0][0]              \n",
            "__________________________________________________________________________________________________\n",
            "batch_normalization_15 (BatchNo (None, 8, 8, 64)     256         conv2d_17[0][0]                  \n",
            "__________________________________________________________________________________________________\n",
            "activation_15 (Activation)      (None, 8, 8, 64)     0           batch_normalization_15[0][0]     \n",
            "__________________________________________________________________________________________________\n",
            "conv2d_18 (Conv2D)              (None, 8, 8, 64)     36928       activation_15[0][0]              \n",
            "__________________________________________________________________________________________________\n",
            "batch_normalization_16 (BatchNo (None, 8, 8, 64)     256         conv2d_18[0][0]                  \n",
            "__________________________________________________________________________________________________\n",
            "add_7 (Add)                     (None, 8, 8, 64)     0           activation_14[0][0]              \n",
            "                                                                 batch_normalization_16[0][0]     \n",
            "__________________________________________________________________________________________________\n",
            "activation_16 (Activation)      (None, 8, 8, 64)     0           add_7[0][0]                      \n",
            "__________________________________________________________________________________________________\n",
            "conv2d_19 (Conv2D)              (None, 8, 8, 64)     36928       activation_16[0][0]              \n",
            "__________________________________________________________________________________________________\n",
            "batch_normalization_17 (BatchNo (None, 8, 8, 64)     256         conv2d_19[0][0]                  \n",
            "__________________________________________________________________________________________________\n",
            "activation_17 (Activation)      (None, 8, 8, 64)     0           batch_normalization_17[0][0]     \n",
            "__________________________________________________________________________________________________\n",
            "conv2d_20 (Conv2D)              (None, 8, 8, 64)     36928       activation_17[0][0]              \n",
            "__________________________________________________________________________________________________\n",
            "batch_normalization_18 (BatchNo (None, 8, 8, 64)     256         conv2d_20[0][0]                  \n",
            "__________________________________________________________________________________________________\n",
            "add_8 (Add)                     (None, 8, 8, 64)     0           activation_16[0][0]              \n",
            "                                                                 batch_normalization_18[0][0]     \n",
            "__________________________________________________________________________________________________\n",
            "activation_18 (Activation)      (None, 8, 8, 64)     0           add_8[0][0]                      \n",
            "__________________________________________________________________________________________________\n",
            "average_pooling2d (AveragePooli (None, 1, 1, 64)     0           activation_18[0][0]              \n",
            "__________________________________________________________________________________________________\n",
            "flatten (Flatten)               (None, 64)           0           average_pooling2d[0][0]          \n",
            "__________________________________________________________________________________________________\n",
            "dense (Dense)                   (None, 10)           650         flatten[0][0]                    \n",
            "==================================================================================================\n",
            "Total params: 274,442\n",
            "Trainable params: 273,066\n",
            "Non-trainable params: 1,376\n",
            "__________________________________________________________________________________________________\n",
            "Total learnable parameters: 0.274442 M\n"
          ],
          "name": "stdout"
        }
      ]
    },
    {
      "cell_type": "markdown",
      "metadata": {
        "id": "uNy-hWunM_k0"
      },
      "source": [
        "# 📲 Callbacks"
      ]
    },
    {
      "cell_type": "code",
      "metadata": {
        "id": "DUnXLPW5NBUs"
      },
      "source": [
        "earlystopper = tf.keras.callbacks.EarlyStopping(\r\n",
        "    monitor='val_loss', patience=10, verbose=0, mode='auto',\r\n",
        "    restore_best_weights=True\r\n",
        ")\r\n",
        "\r\n",
        "reducelronplateau = tf.keras.callbacks.ReduceLROnPlateau(\r\n",
        "    monitor=\"val_loss\", factor=0.5,\r\n",
        "    patience=3, verbose=1\r\n",
        ")"
      ],
      "execution_count": null,
      "outputs": []
    },
    {
      "cell_type": "markdown",
      "metadata": {
        "id": "nfKxHzU1M9Bx"
      },
      "source": [
        "# 🚋 Train with W&B"
      ]
    },
    {
      "cell_type": "code",
      "metadata": {
        "colab": {
          "base_uri": "https://localhost:8080/",
          "height": 1000,
          "referenced_widgets": [
            "fce35186a4744bf5aa215eed821ad508",
            "a0c55f74d4694f9d9139ce958c9c3178",
            "1f5a0e7441d14269b72eda7bb9c3fd0b",
            "0e34c5065d9242e08e9eb47e4028eacb",
            "876fd97d5ed64ba9b760f58589023669",
            "226963248c6c49b983de0340abcc94f1",
            "21806385c2164baa8ee66a90b8594518",
            "34a59ab73c0b41b69acc96272bc4cc74"
          ]
        },
        "id": "VyhPXxd9MvLL",
        "outputId": "51972d9f-dedf-4e33-addf-8d67faf7d4e0"
      },
      "source": [
        "tf.keras.backend.clear_session()\r\n",
        "# Intialize model\r\n",
        "model = GetModel(use_bn=True)\r\n",
        "model.compile('adam', 'sparse_categorical_crossentropy', metrics=['acc'])\r\n",
        "\r\n",
        "# Intialize W&B run\r\n",
        "run = wandb.init(entity='ayush-thakur', project='nfnet', job_type='train-baseline')\r\n",
        "\r\n",
        "# Train model\r\n",
        "model.fit(train_ds,\r\n",
        "          epochs=EPOCHS,\r\n",
        "          validation_data=val_ds,\r\n",
        "          callbacks=[WandbCallback(),\r\n",
        "                     reducelronplateau,\r\n",
        "                     earlystopper])  \r\n",
        "\r\n",
        "# Evaluate model on test set\r\n",
        "loss, acc = model.evaluate(test_ds)\r\n",
        "wandb.log({'Test Accuracy': round(acc, 3)})\r\n",
        "\r\n",
        "# Close W&B run\r\n",
        "run.finish()"
      ],
      "execution_count": null,
      "outputs": [
        {
          "output_type": "stream",
          "text": [
            "\u001b[34m\u001b[1mwandb\u001b[0m: Currently logged in as: \u001b[33mayush-thakur\u001b[0m (use `wandb login --relogin` to force relogin)\n"
          ],
          "name": "stderr"
        },
        {
          "output_type": "display_data",
          "data": {
            "text/html": [
              "\n",
              "                Tracking run with wandb version 0.10.21<br/>\n",
              "                Syncing run <strong style=\"color:#cdcd00\">rosy-eon-99</strong> to <a href=\"https://wandb.ai\" target=\"_blank\">Weights & Biases</a> <a href=\"https://docs.wandb.com/integrations/jupyter.html\" target=\"_blank\">(Documentation)</a>.<br/>\n",
              "                Project page: <a href=\"https://wandb.ai/ayush-thakur/nfnet\" target=\"_blank\">https://wandb.ai/ayush-thakur/nfnet</a><br/>\n",
              "                Run page: <a href=\"https://wandb.ai/ayush-thakur/nfnet/runs/3dyqit2a\" target=\"_blank\">https://wandb.ai/ayush-thakur/nfnet/runs/3dyqit2a</a><br/>\n",
              "                Run data is saved locally in <code>/content/wandb/run-20210308_212948-3dyqit2a</code><br/><br/>\n",
              "            "
            ],
            "text/plain": [
              "<IPython.core.display.HTML object>"
            ]
          },
          "metadata": {
            "tags": []
          }
        },
        {
          "output_type": "stream",
          "text": [
            "Epoch 1/100\n",
            " 6/42 [===>..........................] - ETA: 9s - loss: 3.3769 - acc: 0.1453 WARNING:tensorflow:Callback method `on_train_batch_end` is slow compared to the batch time (batch time: 0.1053s vs `on_train_batch_end` time: 0.1457s). Check your callbacks.\n"
          ],
          "name": "stdout"
        },
        {
          "output_type": "stream",
          "text": [
            "WARNING:tensorflow:Callback method `on_train_batch_end` is slow compared to the batch time (batch time: 0.1053s vs `on_train_batch_end` time: 0.1457s). Check your callbacks.\n"
          ],
          "name": "stderr"
        },
        {
          "output_type": "stream",
          "text": [
            "42/42 [==============================] - 52s 407ms/step - loss: 2.4727 - acc: 0.2558 - val_loss: 2.8947 - val_acc: 0.1255\n",
            "Epoch 2/100\n",
            "42/42 [==============================] - 12s 287ms/step - loss: 1.6787 - acc: 0.4422 - val_loss: 3.1284 - val_acc: 0.1541\n",
            "Epoch 3/100\n",
            "42/42 [==============================] - 12s 288ms/step - loss: 1.5324 - acc: 0.5001 - val_loss: 3.0788 - val_acc: 0.1961\n",
            "Epoch 4/100\n",
            "42/42 [==============================] - 13s 294ms/step - loss: 1.4334 - acc: 0.5390 - val_loss: 2.6918 - val_acc: 0.2384\n",
            "Epoch 5/100\n",
            "42/42 [==============================] - 13s 296ms/step - loss: 1.3722 - acc: 0.5643 - val_loss: 2.2714 - val_acc: 0.3261\n",
            "Epoch 6/100\n",
            "42/42 [==============================] - 13s 300ms/step - loss: 1.3038 - acc: 0.5894 - val_loss: 2.2604 - val_acc: 0.3197\n",
            "Epoch 7/100\n",
            "42/42 [==============================] - 13s 304ms/step - loss: 1.2393 - acc: 0.6142 - val_loss: 1.6338 - val_acc: 0.4809\n",
            "Epoch 8/100\n",
            "42/42 [==============================] - 13s 308ms/step - loss: 1.1971 - acc: 0.6261 - val_loss: 1.4558 - val_acc: 0.5379\n",
            "Epoch 9/100\n",
            "42/42 [==============================] - 13s 304ms/step - loss: 1.1495 - acc: 0.6454 - val_loss: 1.5129 - val_acc: 0.5237\n",
            "Epoch 10/100\n",
            "42/42 [==============================] - 13s 300ms/step - loss: 1.1073 - acc: 0.6597 - val_loss: 1.6512 - val_acc: 0.5168\n",
            "Epoch 11/100\n",
            "42/42 [==============================] - 13s 298ms/step - loss: 1.0633 - acc: 0.6786 - val_loss: 1.2763 - val_acc: 0.6069\n",
            "Epoch 12/100\n",
            "42/42 [==============================] - 13s 300ms/step - loss: 1.0293 - acc: 0.6885 - val_loss: 1.1226 - val_acc: 0.6559\n",
            "Epoch 13/100\n",
            "42/42 [==============================] - 13s 301ms/step - loss: 0.9878 - acc: 0.7005 - val_loss: 1.0964 - val_acc: 0.6608\n",
            "Epoch 14/100\n",
            "42/42 [==============================] - 13s 304ms/step - loss: 0.9680 - acc: 0.7096 - val_loss: 1.2159 - val_acc: 0.6269\n",
            "Epoch 15/100\n",
            "42/42 [==============================] - 13s 303ms/step - loss: 0.9395 - acc: 0.7193 - val_loss: 1.1254 - val_acc: 0.6583\n",
            "Epoch 16/100\n",
            "42/42 [==============================] - 13s 300ms/step - loss: 0.9114 - acc: 0.7285 - val_loss: 1.0247 - val_acc: 0.6891\n",
            "Epoch 17/100\n",
            "42/42 [==============================] - 13s 301ms/step - loss: 0.8845 - acc: 0.7396 - val_loss: 0.9731 - val_acc: 0.6989\n",
            "Epoch 18/100\n",
            "42/42 [==============================] - 13s 302ms/step - loss: 0.8631 - acc: 0.7451 - val_loss: 0.9881 - val_acc: 0.7021\n",
            "Epoch 19/100\n",
            "42/42 [==============================] - 13s 302ms/step - loss: 0.8404 - acc: 0.7556 - val_loss: 0.9795 - val_acc: 0.7109\n",
            "Epoch 20/100\n",
            "42/42 [==============================] - 13s 302ms/step - loss: 0.8249 - acc: 0.7594 - val_loss: 1.1840 - val_acc: 0.6469\n",
            "\n",
            "Epoch 00020: ReduceLROnPlateau reducing learning rate to 0.0005000000237487257.\n",
            "Epoch 21/100\n",
            "42/42 [==============================] - 13s 301ms/step - loss: 0.7831 - acc: 0.7749 - val_loss: 0.9836 - val_acc: 0.7116\n",
            "Epoch 22/100\n",
            "42/42 [==============================] - 13s 301ms/step - loss: 0.7610 - acc: 0.7812 - val_loss: 0.9364 - val_acc: 0.7257\n",
            "Epoch 23/100\n",
            "42/42 [==============================] - 13s 301ms/step - loss: 0.7480 - acc: 0.7857 - val_loss: 0.9289 - val_acc: 0.7253\n",
            "Epoch 24/100\n",
            "42/42 [==============================] - 13s 301ms/step - loss: 0.7308 - acc: 0.7892 - val_loss: 0.8655 - val_acc: 0.7459\n",
            "Epoch 25/100\n",
            "42/42 [==============================] - 13s 301ms/step - loss: 0.7336 - acc: 0.7938 - val_loss: 0.9353 - val_acc: 0.7268\n",
            "Epoch 26/100\n",
            "42/42 [==============================] - 13s 301ms/step - loss: 0.7197 - acc: 0.7988 - val_loss: 0.9114 - val_acc: 0.7343\n",
            "Epoch 27/100\n",
            "42/42 [==============================] - 13s 303ms/step - loss: 0.7077 - acc: 0.8031 - val_loss: 0.9153 - val_acc: 0.7359\n",
            "\n",
            "Epoch 00027: ReduceLROnPlateau reducing learning rate to 0.0002500000118743628.\n",
            "Epoch 28/100\n",
            "42/42 [==============================] - 13s 301ms/step - loss: 0.6901 - acc: 0.8076 - val_loss: 0.8078 - val_acc: 0.7648\n",
            "Epoch 29/100\n",
            "42/42 [==============================] - 13s 300ms/step - loss: 0.6722 - acc: 0.8116 - val_loss: 0.7823 - val_acc: 0.7771\n",
            "Epoch 30/100\n",
            "42/42 [==============================] - 13s 301ms/step - loss: 0.6623 - acc: 0.8166 - val_loss: 0.8082 - val_acc: 0.7660\n",
            "Epoch 31/100\n",
            "42/42 [==============================] - 13s 300ms/step - loss: 0.6630 - acc: 0.8177 - val_loss: 0.8100 - val_acc: 0.7645\n",
            "Epoch 32/100\n",
            "42/42 [==============================] - 13s 301ms/step - loss: 0.6648 - acc: 0.8176 - val_loss: 0.7747 - val_acc: 0.7765\n",
            "Epoch 33/100\n",
            "42/42 [==============================] - 13s 302ms/step - loss: 0.6411 - acc: 0.8249 - val_loss: 0.7953 - val_acc: 0.7727\n",
            "Epoch 34/100\n",
            "42/42 [==============================] - 13s 301ms/step - loss: 0.6482 - acc: 0.8220 - val_loss: 0.7948 - val_acc: 0.7720\n",
            "Epoch 35/100\n",
            "42/42 [==============================] - 13s 302ms/step - loss: 0.6520 - acc: 0.8220 - val_loss: 0.8037 - val_acc: 0.7661\n",
            "\n",
            "Epoch 00035: ReduceLROnPlateau reducing learning rate to 0.0001250000059371814.\n",
            "Epoch 36/100\n",
            "42/42 [==============================] - 13s 301ms/step - loss: 0.6329 - acc: 0.8294 - val_loss: 0.7442 - val_acc: 0.7844\n",
            "Epoch 37/100\n",
            "42/42 [==============================] - 13s 304ms/step - loss: 0.6219 - acc: 0.8353 - val_loss: 0.7431 - val_acc: 0.7840\n",
            "Epoch 38/100\n",
            "42/42 [==============================] - 13s 303ms/step - loss: 0.6189 - acc: 0.8319 - val_loss: 0.7393 - val_acc: 0.7885\n",
            "Epoch 39/100\n",
            "42/42 [==============================] - 13s 303ms/step - loss: 0.6176 - acc: 0.8333 - val_loss: 0.7597 - val_acc: 0.7820\n",
            "Epoch 40/100\n",
            "42/42 [==============================] - 13s 300ms/step - loss: 0.6095 - acc: 0.8346 - val_loss: 0.7410 - val_acc: 0.7897\n",
            "Epoch 41/100\n",
            "42/42 [==============================] - 13s 302ms/step - loss: 0.6180 - acc: 0.8350 - val_loss: 0.7507 - val_acc: 0.7863\n",
            "\n",
            "Epoch 00041: ReduceLROnPlateau reducing learning rate to 6.25000029685907e-05.\n",
            "Epoch 42/100\n",
            "42/42 [==============================] - 13s 301ms/step - loss: 0.6006 - acc: 0.8410 - val_loss: 0.7440 - val_acc: 0.7863\n",
            "Epoch 43/100\n",
            "42/42 [==============================] - 13s 302ms/step - loss: 0.6006 - acc: 0.8410 - val_loss: 0.7373 - val_acc: 0.7908\n",
            "Epoch 44/100\n",
            "42/42 [==============================] - 13s 301ms/step - loss: 0.5971 - acc: 0.8414 - val_loss: 0.7253 - val_acc: 0.7929\n",
            "Epoch 45/100\n",
            "42/42 [==============================] - 13s 302ms/step - loss: 0.5989 - acc: 0.8398 - val_loss: 0.7296 - val_acc: 0.7916\n",
            "Epoch 46/100\n",
            "42/42 [==============================] - 13s 301ms/step - loss: 0.6007 - acc: 0.8403 - val_loss: 0.7282 - val_acc: 0.7948\n",
            "Epoch 47/100\n",
            "42/42 [==============================] - 13s 302ms/step - loss: 0.5976 - acc: 0.8419 - val_loss: 0.7312 - val_acc: 0.7924\n",
            "\n",
            "Epoch 00047: ReduceLROnPlateau reducing learning rate to 3.125000148429535e-05.\n",
            "Epoch 48/100\n",
            "42/42 [==============================] - 13s 302ms/step - loss: 0.5908 - acc: 0.8430 - val_loss: 0.7270 - val_acc: 0.7955\n",
            "Epoch 49/100\n",
            "42/42 [==============================] - 13s 302ms/step - loss: 0.5879 - acc: 0.8433 - val_loss: 0.7322 - val_acc: 0.7933\n",
            "Epoch 50/100\n",
            "42/42 [==============================] - 13s 301ms/step - loss: 0.5925 - acc: 0.8441 - val_loss: 0.7248 - val_acc: 0.7941\n",
            "Epoch 51/100\n",
            "42/42 [==============================] - 13s 301ms/step - loss: 0.5877 - acc: 0.8437 - val_loss: 0.7232 - val_acc: 0.7957\n",
            "Epoch 52/100\n",
            "42/42 [==============================] - 13s 302ms/step - loss: 0.5892 - acc: 0.8418 - val_loss: 0.7226 - val_acc: 0.7960\n",
            "Epoch 53/100\n",
            "42/42 [==============================] - 13s 301ms/step - loss: 0.5895 - acc: 0.8430 - val_loss: 0.7249 - val_acc: 0.7953\n",
            "Epoch 54/100\n",
            "42/42 [==============================] - 13s 301ms/step - loss: 0.5893 - acc: 0.8452 - val_loss: 0.7264 - val_acc: 0.7943\n",
            "Epoch 55/100\n",
            "42/42 [==============================] - 13s 301ms/step - loss: 0.5816 - acc: 0.8447 - val_loss: 0.7204 - val_acc: 0.7940\n",
            "Epoch 56/100\n",
            "42/42 [==============================] - 13s 303ms/step - loss: 0.5847 - acc: 0.8440 - val_loss: 0.7195 - val_acc: 0.7955\n",
            "Epoch 57/100\n",
            "42/42 [==============================] - 13s 300ms/step - loss: 0.5847 - acc: 0.8431 - val_loss: 0.7238 - val_acc: 0.7959\n",
            "Epoch 58/100\n",
            "42/42 [==============================] - 13s 301ms/step - loss: 0.5833 - acc: 0.8466 - val_loss: 0.7228 - val_acc: 0.7955\n",
            "Epoch 59/100\n",
            "42/42 [==============================] - 13s 302ms/step - loss: 0.5861 - acc: 0.8420 - val_loss: 0.7238 - val_acc: 0.7947\n",
            "\n",
            "Epoch 00059: ReduceLROnPlateau reducing learning rate to 1.5625000742147677e-05.\n",
            "Epoch 60/100\n",
            "42/42 [==============================] - 13s 302ms/step - loss: 0.5863 - acc: 0.8452 - val_loss: 0.7178 - val_acc: 0.7953\n",
            "Epoch 61/100\n",
            "42/42 [==============================] - 13s 302ms/step - loss: 0.5774 - acc: 0.8472 - val_loss: 0.7168 - val_acc: 0.7959\n",
            "Epoch 62/100\n",
            "42/42 [==============================] - 13s 301ms/step - loss: 0.5781 - acc: 0.8482 - val_loss: 0.7177 - val_acc: 0.7947\n",
            "Epoch 63/100\n",
            "42/42 [==============================] - 13s 301ms/step - loss: 0.5804 - acc: 0.8470 - val_loss: 0.7177 - val_acc: 0.7956\n",
            "Epoch 64/100\n",
            "42/42 [==============================] - 13s 301ms/step - loss: 0.5814 - acc: 0.8469 - val_loss: 0.7217 - val_acc: 0.7949\n",
            "\n",
            "Epoch 00064: ReduceLROnPlateau reducing learning rate to 7.812500371073838e-06.\n",
            "Epoch 65/100\n",
            "42/42 [==============================] - 13s 302ms/step - loss: 0.5800 - acc: 0.8480 - val_loss: 0.7208 - val_acc: 0.7945\n",
            "Epoch 66/100\n",
            "42/42 [==============================] - 13s 303ms/step - loss: 0.5795 - acc: 0.8475 - val_loss: 0.7195 - val_acc: 0.7949\n",
            "Epoch 67/100\n",
            "42/42 [==============================] - 13s 302ms/step - loss: 0.5790 - acc: 0.8470 - val_loss: 0.7180 - val_acc: 0.7948\n",
            "\n",
            "Epoch 00067: ReduceLROnPlateau reducing learning rate to 3.906250185536919e-06.\n",
            "Epoch 68/100\n",
            "42/42 [==============================] - 13s 302ms/step - loss: 0.5791 - acc: 0.8479 - val_loss: 0.7183 - val_acc: 0.7956\n",
            "Epoch 69/100\n",
            "42/42 [==============================] - 13s 301ms/step - loss: 0.5736 - acc: 0.8497 - val_loss: 0.7179 - val_acc: 0.7956\n",
            "Epoch 70/100\n",
            "42/42 [==============================] - 13s 302ms/step - loss: 0.5760 - acc: 0.8478 - val_loss: 0.7176 - val_acc: 0.7959\n",
            "\n",
            "Epoch 00070: ReduceLROnPlateau reducing learning rate to 1.9531250927684596e-06.\n",
            "Epoch 71/100\n",
            "42/42 [==============================] - 13s 302ms/step - loss: 0.5757 - acc: 0.8505 - val_loss: 0.7173 - val_acc: 0.7967\n",
            "10/10 [==============================] - 2s 170ms/step - loss: 0.7195 - acc: 0.8012\n"
          ],
          "name": "stdout"
        },
        {
          "output_type": "display_data",
          "data": {
            "text/html": [
              "<br/>Waiting for W&B process to finish, PID 277<br/>Program ended successfully."
            ],
            "text/plain": [
              "<IPython.core.display.HTML object>"
            ]
          },
          "metadata": {
            "tags": []
          }
        },
        {
          "output_type": "display_data",
          "data": {
            "application/vnd.jupyter.widget-view+json": {
              "model_id": "fce35186a4744bf5aa215eed821ad508",
              "version_minor": 0,
              "version_major": 2
            },
            "text/plain": [
              "VBox(children=(Label(value=' 3.51MB of 3.51MB uploaded (0.00MB deduped)\\r'), FloatProgress(value=1.0, max=1.0)…"
            ]
          },
          "metadata": {
            "tags": []
          }
        },
        {
          "output_type": "display_data",
          "data": {
            "text/html": [
              "Find user logs for this run at: <code>/content/wandb/run-20210308_212948-3dyqit2a/logs/debug.log</code>"
            ],
            "text/plain": [
              "<IPython.core.display.HTML object>"
            ]
          },
          "metadata": {
            "tags": []
          }
        },
        {
          "output_type": "display_data",
          "data": {
            "text/html": [
              "Find internal logs for this run at: <code>/content/wandb/run-20210308_212948-3dyqit2a/logs/debug-internal.log</code>"
            ],
            "text/plain": [
              "<IPython.core.display.HTML object>"
            ]
          },
          "metadata": {
            "tags": []
          }
        },
        {
          "output_type": "display_data",
          "data": {
            "text/html": [
              "<h3>Run summary:</h3><br/><style>\n",
              "    table.wandb td:nth-child(1) { padding: 0 10px; text-align: right }\n",
              "    </style><table class=\"wandb\">\n",
              "<tr><td>epoch</td><td>70</td></tr><tr><td>loss</td><td>0.5735</td></tr><tr><td>acc</td><td>0.84896</td></tr><tr><td>val_loss</td><td>0.71735</td></tr><tr><td>val_acc</td><td>0.79667</td></tr><tr><td>_runtime</td><td>966</td></tr><tr><td>_timestamp</td><td>1615239954</td></tr><tr><td>_step</td><td>71</td></tr><tr><td>best_val_loss</td><td>0.71676</td></tr><tr><td>best_epoch</td><td>60</td></tr><tr><td>Test Accuracy</td><td>0.801</td></tr></table>"
            ],
            "text/plain": [
              "<IPython.core.display.HTML object>"
            ]
          },
          "metadata": {
            "tags": []
          }
        },
        {
          "output_type": "display_data",
          "data": {
            "text/html": [
              "<h3>Run history:</h3><br/><style>\n",
              "    table.wandb td:nth-child(1) { padding: 0 10px; text-align: right }\n",
              "    </style><table class=\"wandb\">\n",
              "<tr><td>epoch</td><td>▁▁▁▁▂▂▂▂▂▃▃▃▃▃▃▄▄▄▄▄▅▅▅▅▅▅▆▆▆▆▆▇▇▇▇▇▇███</td></tr><tr><td>loss</td><td>█▆▅▄▄▄▃▃▃▂▂▂▂▂▂▂▁▁▁▁▁▁▁▁▁▁▁▁▁▁▁▁▁▁▁▁▁▁▁▁</td></tr><tr><td>acc</td><td>▁▃▄▅▅▅▆▆▆▇▇▇▇▇▇▇████████████████████████</td></tr><tr><td>val_loss</td><td>▇█▇▅▃▃▃▂▂▂▂▂▂▁▂▂▁▁▁▁▁▁▁▁▁▁▁▁▁▁▁▁▁▁▁▁▁▁▁▁</td></tr><tr><td>val_acc</td><td>▁▁▂▃▅▅▆▇▇▇▇▆▇▇▇▇████████████████████████</td></tr><tr><td>_runtime</td><td>▁▁▁▁▂▂▂▂▂▃▃▃▃▃▃▄▄▄▄▄▅▅▅▅▅▅▆▆▆▆▆▇▇▇▇▇▇███</td></tr><tr><td>_timestamp</td><td>▁▁▁▁▂▂▂▂▂▃▃▃▃▃▃▄▄▄▄▄▅▅▅▅▅▅▆▆▆▆▆▇▇▇▇▇▇███</td></tr><tr><td>_step</td><td>▁▁▁▁▂▂▂▂▂▃▃▃▃▃▃▄▄▄▄▄▅▅▅▅▅▅▆▆▆▆▆▇▇▇▇▇▇███</td></tr><tr><td>Test Accuracy</td><td>▁</td></tr></table><br/>"
            ],
            "text/plain": [
              "<IPython.core.display.HTML object>"
            ]
          },
          "metadata": {
            "tags": []
          }
        },
        {
          "output_type": "display_data",
          "data": {
            "text/html": [
              "Synced 5 W&B file(s), 1 media file(s), 0 artifact file(s) and 2 other file(s)"
            ],
            "text/plain": [
              "<IPython.core.display.HTML object>"
            ]
          },
          "metadata": {
            "tags": []
          }
        },
        {
          "output_type": "display_data",
          "data": {
            "text/html": [
              "\n",
              "                    <br/>Synced <strong style=\"color:#cdcd00\">rosy-eon-99</strong>: <a href=\"https://wandb.ai/ayush-thakur/nfnet/runs/3dyqit2a\" target=\"_blank\">https://wandb.ai/ayush-thakur/nfnet/runs/3dyqit2a</a><br/>\n",
              "                "
            ],
            "text/plain": [
              "<IPython.core.display.HTML object>"
            ]
          },
          "metadata": {
            "tags": []
          }
        }
      ]
    }
  ]
}